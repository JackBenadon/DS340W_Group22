{
  "cells": [
    {
      "cell_type": "markdown",
      "metadata": {
        "id": "view-in-github",
        "colab_type": "text"
      },
      "source": [
        "<a href=\"https://colab.research.google.com/github/JackBenadon/DS340W_Group22/blob/main/final_project.ipynb\" target=\"_parent\"><img src=\"https://colab.research.google.com/assets/colab-badge.svg\" alt=\"Open In Colab\"/></a>"
      ]
    },
    {
      "cell_type": "code",
      "source": [
        "from google.colab import drive\n",
        "drive.mount('/content/drive')"
      ],
      "metadata": {
        "colab": {
          "base_uri": "https://localhost:8080/"
        },
        "id": "ZXDzV9-rv3b-",
        "outputId": "f5dc8c3b-c0f6-4987-8958-205b7c62485a"
      },
      "execution_count": 305,
      "outputs": [
        {
          "output_type": "stream",
          "name": "stdout",
          "text": [
            "Drive already mounted at /content/drive; to attempt to forcibly remount, call drive.mount(\"/content/drive\", force_remount=True).\n"
          ]
        }
      ]
    },
    {
      "cell_type": "code",
      "execution_count": 306,
      "metadata": {
        "id": "IovT3H3Ts0qZ"
      },
      "outputs": [],
      "source": [
        "import numpy as np\n",
        "import pandas as pd\n",
        "import xgboost as xgb\n",
        "\n",
        "from sklearn.model_selection import train_test_split, GridSearchCV\n",
        "from sklearn.linear_model import LassoCV, LogisticRegression\n",
        "from sklearn.svm import SVC\n",
        "from sklearn.neighbors import KNeighborsClassifier\n",
        "from sklearn.tree import DecisionTreeClassifier\n",
        "from sklearn.ensemble import RandomForestClassifier\n",
        "from sklearn.naive_bayes import GaussianNB\n",
        "from sklearn.preprocessing import StandardScaler\n",
        "from sklearn.metrics import accuracy_score, precision_score, recall_score, f1_score\n",
        "from imblearn.under_sampling import RandomUnderSampler"
      ]
    },
    {
      "cell_type": "code",
      "execution_count": 307,
      "metadata": {
        "id": "FqceX2oTs0qa",
        "outputId": "e45c1693-f966-4116-c39f-5407ef31bf4e",
        "colab": {
          "base_uri": "https://localhost:8080/",
          "height": 496
        }
      },
      "outputs": [
        {
          "output_type": "execute_result",
          "data": {
            "text/plain": [
              "        SEQN  Gender  Age  Annual-Family-Income  Ratio-Family-Income-Poverty  \\\n",
              "0          2       1   77                     8                         5.00   \n",
              "1          5       1   49                    11                         5.00   \n",
              "2         12       1   37                    11                         4.93   \n",
              "3         13       1   70                     3                         1.07   \n",
              "4         14       1   81                     5                         2.67   \n",
              "...      ...     ...  ...                   ...                          ...   \n",
              "37074  93691       1   25                    10                         1.59   \n",
              "37075  93695       2   76                     4                         1.43   \n",
              "37076  93697       2   80                     7                         2.97   \n",
              "37077  93700       1   35                     1                         0.00   \n",
              "37078  93702       2   24                     7                         3.54   \n",
              "\n",
              "       X60-sec-pulse  Systolic  Diastolic  Weight  Height  ...  \\\n",
              "0                 68        98         56    75.4   174.0  ...   \n",
              "1                 66       122         83    92.5   178.3  ...   \n",
              "2                 64       174         99    99.2   180.0  ...   \n",
              "3                102       130         66    63.6   157.7  ...   \n",
              "4                 72       136         61    75.5   166.2  ...   \n",
              "...              ...       ...        ...     ...     ...  ...   \n",
              "37074             92       112         76    39.2   136.5  ...   \n",
              "37075             78       112         46    59.1   165.8  ...   \n",
              "37076             74       146         58    71.7   152.2  ...   \n",
              "37077             76       106         66    78.2   173.3  ...   \n",
              "37078             80       114         68    58.3   165.0  ...   \n",
              "\n",
              "       Total-Cholesterol   HDL  Glycohemoglobin  Vigorous-work  Moderate-work  \\\n",
              "0                   5.56  1.39              4.7              3              3   \n",
              "1                   7.21  1.08              5.5              1              1   \n",
              "2                   4.03  0.98              5.2              2              1   \n",
              "3                   8.12  1.28              7.6              3              3   \n",
              "4                   4.50  1.04              5.8              1              1   \n",
              "...                  ...   ...              ...            ...            ...   \n",
              "37074               4.14  1.27              5.8              2              2   \n",
              "37075               3.62  1.76              5.6              2              2   \n",
              "37076               6.62  2.90              5.7              2              2   \n",
              "37077               3.72  1.09              5.2              2              2   \n",
              "37078               4.14  1.89              4.6              2              2   \n",
              "\n",
              "       Health-Insurance  Diabetes  Blood-Rel-Diabetes  Blood-Rel-Stroke  \\\n",
              "0                     1         2                   2                 2   \n",
              "1                     1         2                   2                 2   \n",
              "2                     1         2                   1                 1   \n",
              "3                     1         1                   1                 2   \n",
              "4                     1         2                   2                 2   \n",
              "...                 ...       ...                 ...               ...   \n",
              "37074                 1         2                   1                 2   \n",
              "37075                 1         2                   2                 2   \n",
              "37076                 1         2                   2                 2   \n",
              "37077                 1         2                   2                 1   \n",
              "37078                 1         2                   2                 2   \n",
              "\n",
              "       CoronaryHeartDisease  \n",
              "0                         0  \n",
              "1                         0  \n",
              "2                         0  \n",
              "3                         0  \n",
              "4                         0  \n",
              "...                     ...  \n",
              "37074                     0  \n",
              "37075                     0  \n",
              "37076                     0  \n",
              "37077                     0  \n",
              "37078                     0  \n",
              "\n",
              "[37079 rows x 51 columns]"
            ],
            "text/html": [
              "\n",
              "  <div id=\"df-986d027b-8b3b-4fd6-a1b9-f4d9d7d36f9a\" class=\"colab-df-container\">\n",
              "    <div>\n",
              "<style scoped>\n",
              "    .dataframe tbody tr th:only-of-type {\n",
              "        vertical-align: middle;\n",
              "    }\n",
              "\n",
              "    .dataframe tbody tr th {\n",
              "        vertical-align: top;\n",
              "    }\n",
              "\n",
              "    .dataframe thead th {\n",
              "        text-align: right;\n",
              "    }\n",
              "</style>\n",
              "<table border=\"1\" class=\"dataframe\">\n",
              "  <thead>\n",
              "    <tr style=\"text-align: right;\">\n",
              "      <th></th>\n",
              "      <th>SEQN</th>\n",
              "      <th>Gender</th>\n",
              "      <th>Age</th>\n",
              "      <th>Annual-Family-Income</th>\n",
              "      <th>Ratio-Family-Income-Poverty</th>\n",
              "      <th>X60-sec-pulse</th>\n",
              "      <th>Systolic</th>\n",
              "      <th>Diastolic</th>\n",
              "      <th>Weight</th>\n",
              "      <th>Height</th>\n",
              "      <th>...</th>\n",
              "      <th>Total-Cholesterol</th>\n",
              "      <th>HDL</th>\n",
              "      <th>Glycohemoglobin</th>\n",
              "      <th>Vigorous-work</th>\n",
              "      <th>Moderate-work</th>\n",
              "      <th>Health-Insurance</th>\n",
              "      <th>Diabetes</th>\n",
              "      <th>Blood-Rel-Diabetes</th>\n",
              "      <th>Blood-Rel-Stroke</th>\n",
              "      <th>CoronaryHeartDisease</th>\n",
              "    </tr>\n",
              "  </thead>\n",
              "  <tbody>\n",
              "    <tr>\n",
              "      <th>0</th>\n",
              "      <td>2</td>\n",
              "      <td>1</td>\n",
              "      <td>77</td>\n",
              "      <td>8</td>\n",
              "      <td>5.00</td>\n",
              "      <td>68</td>\n",
              "      <td>98</td>\n",
              "      <td>56</td>\n",
              "      <td>75.4</td>\n",
              "      <td>174.0</td>\n",
              "      <td>...</td>\n",
              "      <td>5.56</td>\n",
              "      <td>1.39</td>\n",
              "      <td>4.7</td>\n",
              "      <td>3</td>\n",
              "      <td>3</td>\n",
              "      <td>1</td>\n",
              "      <td>2</td>\n",
              "      <td>2</td>\n",
              "      <td>2</td>\n",
              "      <td>0</td>\n",
              "    </tr>\n",
              "    <tr>\n",
              "      <th>1</th>\n",
              "      <td>5</td>\n",
              "      <td>1</td>\n",
              "      <td>49</td>\n",
              "      <td>11</td>\n",
              "      <td>5.00</td>\n",
              "      <td>66</td>\n",
              "      <td>122</td>\n",
              "      <td>83</td>\n",
              "      <td>92.5</td>\n",
              "      <td>178.3</td>\n",
              "      <td>...</td>\n",
              "      <td>7.21</td>\n",
              "      <td>1.08</td>\n",
              "      <td>5.5</td>\n",
              "      <td>1</td>\n",
              "      <td>1</td>\n",
              "      <td>1</td>\n",
              "      <td>2</td>\n",
              "      <td>2</td>\n",
              "      <td>2</td>\n",
              "      <td>0</td>\n",
              "    </tr>\n",
              "    <tr>\n",
              "      <th>2</th>\n",
              "      <td>12</td>\n",
              "      <td>1</td>\n",
              "      <td>37</td>\n",
              "      <td>11</td>\n",
              "      <td>4.93</td>\n",
              "      <td>64</td>\n",
              "      <td>174</td>\n",
              "      <td>99</td>\n",
              "      <td>99.2</td>\n",
              "      <td>180.0</td>\n",
              "      <td>...</td>\n",
              "      <td>4.03</td>\n",
              "      <td>0.98</td>\n",
              "      <td>5.2</td>\n",
              "      <td>2</td>\n",
              "      <td>1</td>\n",
              "      <td>1</td>\n",
              "      <td>2</td>\n",
              "      <td>1</td>\n",
              "      <td>1</td>\n",
              "      <td>0</td>\n",
              "    </tr>\n",
              "    <tr>\n",
              "      <th>3</th>\n",
              "      <td>13</td>\n",
              "      <td>1</td>\n",
              "      <td>70</td>\n",
              "      <td>3</td>\n",
              "      <td>1.07</td>\n",
              "      <td>102</td>\n",
              "      <td>130</td>\n",
              "      <td>66</td>\n",
              "      <td>63.6</td>\n",
              "      <td>157.7</td>\n",
              "      <td>...</td>\n",
              "      <td>8.12</td>\n",
              "      <td>1.28</td>\n",
              "      <td>7.6</td>\n",
              "      <td>3</td>\n",
              "      <td>3</td>\n",
              "      <td>1</td>\n",
              "      <td>1</td>\n",
              "      <td>1</td>\n",
              "      <td>2</td>\n",
              "      <td>0</td>\n",
              "    </tr>\n",
              "    <tr>\n",
              "      <th>4</th>\n",
              "      <td>14</td>\n",
              "      <td>1</td>\n",
              "      <td>81</td>\n",
              "      <td>5</td>\n",
              "      <td>2.67</td>\n",
              "      <td>72</td>\n",
              "      <td>136</td>\n",
              "      <td>61</td>\n",
              "      <td>75.5</td>\n",
              "      <td>166.2</td>\n",
              "      <td>...</td>\n",
              "      <td>4.50</td>\n",
              "      <td>1.04</td>\n",
              "      <td>5.8</td>\n",
              "      <td>1</td>\n",
              "      <td>1</td>\n",
              "      <td>1</td>\n",
              "      <td>2</td>\n",
              "      <td>2</td>\n",
              "      <td>2</td>\n",
              "      <td>0</td>\n",
              "    </tr>\n",
              "    <tr>\n",
              "      <th>...</th>\n",
              "      <td>...</td>\n",
              "      <td>...</td>\n",
              "      <td>...</td>\n",
              "      <td>...</td>\n",
              "      <td>...</td>\n",
              "      <td>...</td>\n",
              "      <td>...</td>\n",
              "      <td>...</td>\n",
              "      <td>...</td>\n",
              "      <td>...</td>\n",
              "      <td>...</td>\n",
              "      <td>...</td>\n",
              "      <td>...</td>\n",
              "      <td>...</td>\n",
              "      <td>...</td>\n",
              "      <td>...</td>\n",
              "      <td>...</td>\n",
              "      <td>...</td>\n",
              "      <td>...</td>\n",
              "      <td>...</td>\n",
              "      <td>...</td>\n",
              "    </tr>\n",
              "    <tr>\n",
              "      <th>37074</th>\n",
              "      <td>93691</td>\n",
              "      <td>1</td>\n",
              "      <td>25</td>\n",
              "      <td>10</td>\n",
              "      <td>1.59</td>\n",
              "      <td>92</td>\n",
              "      <td>112</td>\n",
              "      <td>76</td>\n",
              "      <td>39.2</td>\n",
              "      <td>136.5</td>\n",
              "      <td>...</td>\n",
              "      <td>4.14</td>\n",
              "      <td>1.27</td>\n",
              "      <td>5.8</td>\n",
              "      <td>2</td>\n",
              "      <td>2</td>\n",
              "      <td>1</td>\n",
              "      <td>2</td>\n",
              "      <td>1</td>\n",
              "      <td>2</td>\n",
              "      <td>0</td>\n",
              "    </tr>\n",
              "    <tr>\n",
              "      <th>37075</th>\n",
              "      <td>93695</td>\n",
              "      <td>2</td>\n",
              "      <td>76</td>\n",
              "      <td>4</td>\n",
              "      <td>1.43</td>\n",
              "      <td>78</td>\n",
              "      <td>112</td>\n",
              "      <td>46</td>\n",
              "      <td>59.1</td>\n",
              "      <td>165.8</td>\n",
              "      <td>...</td>\n",
              "      <td>3.62</td>\n",
              "      <td>1.76</td>\n",
              "      <td>5.6</td>\n",
              "      <td>2</td>\n",
              "      <td>2</td>\n",
              "      <td>1</td>\n",
              "      <td>2</td>\n",
              "      <td>2</td>\n",
              "      <td>2</td>\n",
              "      <td>0</td>\n",
              "    </tr>\n",
              "    <tr>\n",
              "      <th>37076</th>\n",
              "      <td>93697</td>\n",
              "      <td>2</td>\n",
              "      <td>80</td>\n",
              "      <td>7</td>\n",
              "      <td>2.97</td>\n",
              "      <td>74</td>\n",
              "      <td>146</td>\n",
              "      <td>58</td>\n",
              "      <td>71.7</td>\n",
              "      <td>152.2</td>\n",
              "      <td>...</td>\n",
              "      <td>6.62</td>\n",
              "      <td>2.90</td>\n",
              "      <td>5.7</td>\n",
              "      <td>2</td>\n",
              "      <td>2</td>\n",
              "      <td>1</td>\n",
              "      <td>2</td>\n",
              "      <td>2</td>\n",
              "      <td>2</td>\n",
              "      <td>0</td>\n",
              "    </tr>\n",
              "    <tr>\n",
              "      <th>37077</th>\n",
              "      <td>93700</td>\n",
              "      <td>1</td>\n",
              "      <td>35</td>\n",
              "      <td>1</td>\n",
              "      <td>0.00</td>\n",
              "      <td>76</td>\n",
              "      <td>106</td>\n",
              "      <td>66</td>\n",
              "      <td>78.2</td>\n",
              "      <td>173.3</td>\n",
              "      <td>...</td>\n",
              "      <td>3.72</td>\n",
              "      <td>1.09</td>\n",
              "      <td>5.2</td>\n",
              "      <td>2</td>\n",
              "      <td>2</td>\n",
              "      <td>1</td>\n",
              "      <td>2</td>\n",
              "      <td>2</td>\n",
              "      <td>1</td>\n",
              "      <td>0</td>\n",
              "    </tr>\n",
              "    <tr>\n",
              "      <th>37078</th>\n",
              "      <td>93702</td>\n",
              "      <td>2</td>\n",
              "      <td>24</td>\n",
              "      <td>7</td>\n",
              "      <td>3.54</td>\n",
              "      <td>80</td>\n",
              "      <td>114</td>\n",
              "      <td>68</td>\n",
              "      <td>58.3</td>\n",
              "      <td>165.0</td>\n",
              "      <td>...</td>\n",
              "      <td>4.14</td>\n",
              "      <td>1.89</td>\n",
              "      <td>4.6</td>\n",
              "      <td>2</td>\n",
              "      <td>2</td>\n",
              "      <td>1</td>\n",
              "      <td>2</td>\n",
              "      <td>2</td>\n",
              "      <td>2</td>\n",
              "      <td>0</td>\n",
              "    </tr>\n",
              "  </tbody>\n",
              "</table>\n",
              "<p>37079 rows × 51 columns</p>\n",
              "</div>\n",
              "    <div class=\"colab-df-buttons\">\n",
              "\n",
              "  <div class=\"colab-df-container\">\n",
              "    <button class=\"colab-df-convert\" onclick=\"convertToInteractive('df-986d027b-8b3b-4fd6-a1b9-f4d9d7d36f9a')\"\n",
              "            title=\"Convert this dataframe to an interactive table.\"\n",
              "            style=\"display:none;\">\n",
              "\n",
              "  <svg xmlns=\"http://www.w3.org/2000/svg\" height=\"24px\" viewBox=\"0 -960 960 960\">\n",
              "    <path d=\"M120-120v-720h720v720H120Zm60-500h600v-160H180v160Zm220 220h160v-160H400v160Zm0 220h160v-160H400v160ZM180-400h160v-160H180v160Zm440 0h160v-160H620v160ZM180-180h160v-160H180v160Zm440 0h160v-160H620v160Z\"/>\n",
              "  </svg>\n",
              "    </button>\n",
              "\n",
              "  <style>\n",
              "    .colab-df-container {\n",
              "      display:flex;\n",
              "      gap: 12px;\n",
              "    }\n",
              "\n",
              "    .colab-df-convert {\n",
              "      background-color: #E8F0FE;\n",
              "      border: none;\n",
              "      border-radius: 50%;\n",
              "      cursor: pointer;\n",
              "      display: none;\n",
              "      fill: #1967D2;\n",
              "      height: 32px;\n",
              "      padding: 0 0 0 0;\n",
              "      width: 32px;\n",
              "    }\n",
              "\n",
              "    .colab-df-convert:hover {\n",
              "      background-color: #E2EBFA;\n",
              "      box-shadow: 0px 1px 2px rgba(60, 64, 67, 0.3), 0px 1px 3px 1px rgba(60, 64, 67, 0.15);\n",
              "      fill: #174EA6;\n",
              "    }\n",
              "\n",
              "    .colab-df-buttons div {\n",
              "      margin-bottom: 4px;\n",
              "    }\n",
              "\n",
              "    [theme=dark] .colab-df-convert {\n",
              "      background-color: #3B4455;\n",
              "      fill: #D2E3FC;\n",
              "    }\n",
              "\n",
              "    [theme=dark] .colab-df-convert:hover {\n",
              "      background-color: #434B5C;\n",
              "      box-shadow: 0px 1px 3px 1px rgba(0, 0, 0, 0.15);\n",
              "      filter: drop-shadow(0px 1px 2px rgba(0, 0, 0, 0.3));\n",
              "      fill: #FFFFFF;\n",
              "    }\n",
              "  </style>\n",
              "\n",
              "    <script>\n",
              "      const buttonEl =\n",
              "        document.querySelector('#df-986d027b-8b3b-4fd6-a1b9-f4d9d7d36f9a button.colab-df-convert');\n",
              "      buttonEl.style.display =\n",
              "        google.colab.kernel.accessAllowed ? 'block' : 'none';\n",
              "\n",
              "      async function convertToInteractive(key) {\n",
              "        const element = document.querySelector('#df-986d027b-8b3b-4fd6-a1b9-f4d9d7d36f9a');\n",
              "        const dataTable =\n",
              "          await google.colab.kernel.invokeFunction('convertToInteractive',\n",
              "                                                    [key], {});\n",
              "        if (!dataTable) return;\n",
              "\n",
              "        const docLinkHtml = 'Like what you see? Visit the ' +\n",
              "          '<a target=\"_blank\" href=https://colab.research.google.com/notebooks/data_table.ipynb>data table notebook</a>'\n",
              "          + ' to learn more about interactive tables.';\n",
              "        element.innerHTML = '';\n",
              "        dataTable['output_type'] = 'display_data';\n",
              "        await google.colab.output.renderOutput(dataTable, element);\n",
              "        const docLink = document.createElement('div');\n",
              "        docLink.innerHTML = docLinkHtml;\n",
              "        element.appendChild(docLink);\n",
              "      }\n",
              "    </script>\n",
              "  </div>\n",
              "\n",
              "\n",
              "<div id=\"df-261dcb03-bb08-408f-bb09-d555d9337bb6\">\n",
              "  <button class=\"colab-df-quickchart\" onclick=\"quickchart('df-261dcb03-bb08-408f-bb09-d555d9337bb6')\"\n",
              "            title=\"Suggest charts\"\n",
              "            style=\"display:none;\">\n",
              "\n",
              "<svg xmlns=\"http://www.w3.org/2000/svg\" height=\"24px\"viewBox=\"0 0 24 24\"\n",
              "     width=\"24px\">\n",
              "    <g>\n",
              "        <path d=\"M19 3H5c-1.1 0-2 .9-2 2v14c0 1.1.9 2 2 2h14c1.1 0 2-.9 2-2V5c0-1.1-.9-2-2-2zM9 17H7v-7h2v7zm4 0h-2V7h2v10zm4 0h-2v-4h2v4z\"/>\n",
              "    </g>\n",
              "</svg>\n",
              "  </button>\n",
              "\n",
              "<style>\n",
              "  .colab-df-quickchart {\n",
              "      --bg-color: #E8F0FE;\n",
              "      --fill-color: #1967D2;\n",
              "      --hover-bg-color: #E2EBFA;\n",
              "      --hover-fill-color: #174EA6;\n",
              "      --disabled-fill-color: #AAA;\n",
              "      --disabled-bg-color: #DDD;\n",
              "  }\n",
              "\n",
              "  [theme=dark] .colab-df-quickchart {\n",
              "      --bg-color: #3B4455;\n",
              "      --fill-color: #D2E3FC;\n",
              "      --hover-bg-color: #434B5C;\n",
              "      --hover-fill-color: #FFFFFF;\n",
              "      --disabled-bg-color: #3B4455;\n",
              "      --disabled-fill-color: #666;\n",
              "  }\n",
              "\n",
              "  .colab-df-quickchart {\n",
              "    background-color: var(--bg-color);\n",
              "    border: none;\n",
              "    border-radius: 50%;\n",
              "    cursor: pointer;\n",
              "    display: none;\n",
              "    fill: var(--fill-color);\n",
              "    height: 32px;\n",
              "    padding: 0;\n",
              "    width: 32px;\n",
              "  }\n",
              "\n",
              "  .colab-df-quickchart:hover {\n",
              "    background-color: var(--hover-bg-color);\n",
              "    box-shadow: 0 1px 2px rgba(60, 64, 67, 0.3), 0 1px 3px 1px rgba(60, 64, 67, 0.15);\n",
              "    fill: var(--button-hover-fill-color);\n",
              "  }\n",
              "\n",
              "  .colab-df-quickchart-complete:disabled,\n",
              "  .colab-df-quickchart-complete:disabled:hover {\n",
              "    background-color: var(--disabled-bg-color);\n",
              "    fill: var(--disabled-fill-color);\n",
              "    box-shadow: none;\n",
              "  }\n",
              "\n",
              "  .colab-df-spinner {\n",
              "    border: 2px solid var(--fill-color);\n",
              "    border-color: transparent;\n",
              "    border-bottom-color: var(--fill-color);\n",
              "    animation:\n",
              "      spin 1s steps(1) infinite;\n",
              "  }\n",
              "\n",
              "  @keyframes spin {\n",
              "    0% {\n",
              "      border-color: transparent;\n",
              "      border-bottom-color: var(--fill-color);\n",
              "      border-left-color: var(--fill-color);\n",
              "    }\n",
              "    20% {\n",
              "      border-color: transparent;\n",
              "      border-left-color: var(--fill-color);\n",
              "      border-top-color: var(--fill-color);\n",
              "    }\n",
              "    30% {\n",
              "      border-color: transparent;\n",
              "      border-left-color: var(--fill-color);\n",
              "      border-top-color: var(--fill-color);\n",
              "      border-right-color: var(--fill-color);\n",
              "    }\n",
              "    40% {\n",
              "      border-color: transparent;\n",
              "      border-right-color: var(--fill-color);\n",
              "      border-top-color: var(--fill-color);\n",
              "    }\n",
              "    60% {\n",
              "      border-color: transparent;\n",
              "      border-right-color: var(--fill-color);\n",
              "    }\n",
              "    80% {\n",
              "      border-color: transparent;\n",
              "      border-right-color: var(--fill-color);\n",
              "      border-bottom-color: var(--fill-color);\n",
              "    }\n",
              "    90% {\n",
              "      border-color: transparent;\n",
              "      border-bottom-color: var(--fill-color);\n",
              "    }\n",
              "  }\n",
              "</style>\n",
              "\n",
              "  <script>\n",
              "    async function quickchart(key) {\n",
              "      const quickchartButtonEl =\n",
              "        document.querySelector('#' + key + ' button');\n",
              "      quickchartButtonEl.disabled = true;  // To prevent multiple clicks.\n",
              "      quickchartButtonEl.classList.add('colab-df-spinner');\n",
              "      try {\n",
              "        const charts = await google.colab.kernel.invokeFunction(\n",
              "            'suggestCharts', [key], {});\n",
              "      } catch (error) {\n",
              "        console.error('Error during call to suggestCharts:', error);\n",
              "      }\n",
              "      quickchartButtonEl.classList.remove('colab-df-spinner');\n",
              "      quickchartButtonEl.classList.add('colab-df-quickchart-complete');\n",
              "    }\n",
              "    (() => {\n",
              "      let quickchartButtonEl =\n",
              "        document.querySelector('#df-261dcb03-bb08-408f-bb09-d555d9337bb6 button');\n",
              "      quickchartButtonEl.style.display =\n",
              "        google.colab.kernel.accessAllowed ? 'block' : 'none';\n",
              "    })();\n",
              "  </script>\n",
              "</div>\n",
              "    </div>\n",
              "  </div>\n"
            ]
          },
          "metadata": {},
          "execution_count": 307
        }
      ],
      "source": [
        "df = pd.read_csv('CardiacPrediction.csv')\n",
        "df"
      ]
    },
    {
      "cell_type": "markdown",
      "source": [
        "## Exploratory Data Analysis"
      ],
      "metadata": {
        "id": "pzT6cY9EhUWK"
      }
    },
    {
      "cell_type": "code",
      "source": [
        "#Removes unimportant variables as shown in Research Paper 2\n",
        "df.drop(['SEQN','Annual-Family-Income','Height','Ratio-Family-Income-Poverty','X60-sec-pulse',\n",
        "          'Health-Insurance','Lymphocyte','Monocyte','Eosinophils','Total-Cholesterol','Mean-Cell-Vol','Mean-Cell-Hgb-Conc.','Hematocrit','Segmented-Neutrophils'], axis = 1, inplace=True)"
      ],
      "metadata": {
        "id": "riRt39TkapPH"
      },
      "execution_count": 308,
      "outputs": []
    },
    {
      "cell_type": "code",
      "source": [
        "#All Columns in the dataset\n",
        "df.columns"
      ],
      "metadata": {
        "colab": {
          "base_uri": "https://localhost:8080/"
        },
        "id": "WWTtkbP5ayxy",
        "outputId": "839e56dc-65d2-4250-f2d7-20d38ad1d25b"
      },
      "execution_count": 309,
      "outputs": [
        {
          "output_type": "execute_result",
          "data": {
            "text/plain": [
              "Index(['Gender', 'Age', 'Systolic', 'Diastolic', 'Weight', 'Body-Mass-Index',\n",
              "       'White-Blood-Cells', 'Basophils', 'Red-Blood-Cells', 'Hemoglobin',\n",
              "       'Mean-cell-Hemoglobin', 'Platelet-count', 'Mean-Platelet-Vol',\n",
              "       'Red-Cell-Distribution-Width', 'Albumin', 'ALP', 'AST', 'ALT',\n",
              "       'Cholesterol', 'Creatinine', 'Glucose', 'GGT', 'Iron', 'LDH',\n",
              "       'Phosphorus', 'Bilirubin', 'Protein', 'Uric.Acid', 'Triglycerides',\n",
              "       'HDL', 'Glycohemoglobin', 'Vigorous-work', 'Moderate-work', 'Diabetes',\n",
              "       'Blood-Rel-Diabetes', 'Blood-Rel-Stroke', 'CoronaryHeartDisease'],\n",
              "      dtype='object')"
            ]
          },
          "metadata": {},
          "execution_count": 309
        }
      ]
    },
    {
      "cell_type": "code",
      "source": [
        "heartDiseaseCount = (df['CoronaryHeartDisease'] == 1).sum()\n",
        "noHeartDiseaseCount = (df['CoronaryHeartDisease'] == 0).sum()\n",
        "print(f'People with heart disease: {heartDiseaseCount} \\nPeople without heart disease: {noHeartDiseaseCount}')"
      ],
      "metadata": {
        "colab": {
          "base_uri": "https://localhost:8080/"
        },
        "id": "nJABib5fa0kv",
        "outputId": "ea2d7e04-f063-43f5-a1c8-9be5bb311f86"
      },
      "execution_count": 310,
      "outputs": [
        {
          "output_type": "stream",
          "name": "stdout",
          "text": [
            "People with heart disease: 1508 \n",
            "People without heart disease: 35571\n"
          ]
        }
      ]
    },
    {
      "cell_type": "code",
      "source": [
        "#importing packages for vizualizations\n",
        "import seaborn as sns\n",
        "import matplotlib.pyplot as plt\n",
        "\n",
        "%matplotlib inline\n",
        "\n",
        "import os\n",
        "print(os.listdir())\n",
        "\n",
        "import warnings\n",
        "warnings.filterwarnings('ignore')"
      ],
      "metadata": {
        "colab": {
          "base_uri": "https://localhost:8080/"
        },
        "id": "oj-nnEWyJ-ls",
        "outputId": "47c1a5fa-cab2-4282-c0b7-3dbcd66991be"
      },
      "execution_count": 311,
      "outputs": [
        {
          "output_type": "stream",
          "name": "stdout",
          "text": [
            "['.config', 'CardiacPrediction.csv', 'drive', 'sample_data']\n"
          ]
        }
      ]
    },
    {
      "cell_type": "code",
      "source": [
        "print(df.corr()[\"CoronaryHeartDisease\"].sort_values(ascending=False))"
      ],
      "metadata": {
        "colab": {
          "base_uri": "https://localhost:8080/"
        },
        "id": "IiJxjVGIKGOO",
        "outputId": "6e81eab7-02cd-4e18-ab8d-47f31be08309"
      },
      "execution_count": 312,
      "outputs": [
        {
          "output_type": "stream",
          "name": "stdout",
          "text": [
            "CoronaryHeartDisease           1.000000\n",
            "Age                            0.222649\n",
            "Creatinine                     0.114318\n",
            "Glycohemoglobin                0.101517\n",
            "Uric.Acid                      0.098907\n",
            "Glucose                        0.086754\n",
            "Systolic                       0.080224\n",
            "Red-Cell-Distribution-Width    0.074316\n",
            "LDH                            0.072073\n",
            "Vigorous-work                  0.054506\n",
            "Triglycerides                  0.034160\n",
            "Bilirubin                      0.030407\n",
            "Weight                         0.029003\n",
            "ALP                            0.028672\n",
            "Moderate-work                  0.022683\n",
            "Body-Mass-Index                0.022211\n",
            "GGT                            0.014732\n",
            "White-Blood-Cells              0.011565\n",
            "Mean-Platelet-Vol              0.008768\n",
            "AST                            0.008149\n",
            "Basophils                     -0.000105\n",
            "ALT                           -0.004512\n",
            "Mean-cell-Hemoglobin          -0.014665\n",
            "Hemoglobin                    -0.015201\n",
            "Iron                          -0.018252\n",
            "Phosphorus                    -0.018926\n",
            "Blood-Rel-Diabetes            -0.022681\n",
            "Protein                       -0.032476\n",
            "Albumin                       -0.040003\n",
            "Red-Blood-Cells               -0.041537\n",
            "Blood-Rel-Stroke              -0.048676\n",
            "Diastolic                     -0.060056\n",
            "HDL                           -0.061300\n",
            "Gender                        -0.078408\n",
            "Platelet-count                -0.085917\n",
            "Cholesterol                   -0.089392\n",
            "Diabetes                      -0.111777\n",
            "Name: CoronaryHeartDisease, dtype: float64\n"
          ]
        }
      ]
    },
    {
      "cell_type": "code",
      "source": [
        "#find correlation matrix\n",
        "corr_mat=df.corr()\n",
        "#Select variables have more than 0.09 or less than -0.09 correlation with the target variable(CoronaryHeartDisease)\n",
        "chosen_variable=corr_mat[abs(corr_mat[\"CoronaryHeartDisease\"])>0.09].index\n",
        "#plot the heatmap\n",
        "plt.figure(figsize=(12,12))\n",
        "ax = sns.heatmap(df[chosen_variable].corr(),annot=True,cmap='RdBu')"
      ],
      "metadata": {
        "colab": {
          "base_uri": "https://localhost:8080/",
          "height": 990
        },
        "id": "9f7kTbLIKAzS",
        "outputId": "21830005-903b-4692-f277-47595d74db4b"
      },
      "execution_count": 313,
      "outputs": [
        {
          "output_type": "display_data",
          "data": {
            "text/plain": [
              "<Figure size 1200x1200 with 2 Axes>"
            ],
            "image/png": "[encoded data removed]"
          },
          "metadata": {}
        }
      ]
    },
    {
      "cell_type": "code",
      "source": [
        "#Analysing the target variable\n",
        "y = df[\"CoronaryHeartDisease\"]\n",
        "\n",
        "sns.countplot(y)\n",
        "\n",
        "target_temp = df.CoronaryHeartDisease.value_counts()\n",
        "\n",
        "print(target_temp)"
      ],
      "metadata": {
        "colab": {
          "base_uri": "https://localhost:8080/",
          "height": 482
        },
        "id": "Pk3d50lRKshh",
        "outputId": "b9c0c3f8-ea56-444c-c051-6bf178ed9e3b"
      },
      "execution_count": 314,
      "outputs": [
        {
          "output_type": "stream",
          "name": "stdout",
          "text": [
            "0    35571\n",
            "1     1508\n",
            "Name: CoronaryHeartDisease, dtype: int64\n"
          ]
        },
        {
          "output_type": "display_data",
          "data": {
            "text/plain": [
              "<Figure size 640x480 with 1 Axes>"
            ],
            "image/png": "[encoded data removed]"
          },
          "metadata": {}
        }
      ]
    },
    {
      "cell_type": "code",
      "source": [
        "# analyzing gender in the dataset\n",
        "df[\"Gender\"].unique()\n",
        "\n",
        "# 1 = Male\n",
        "# 2 = Female\n",
        "sns.barplot(x=df[\"Gender\"], y=y)"
      ],
      "metadata": {
        "colab": {
          "base_uri": "https://localhost:8080/",
          "height": 466
        },
        "id": "bbXSIq5WK4Ii",
        "outputId": "c63da41d-1c4b-4129-d7fd-981fc1e7d327"
      },
      "execution_count": 315,
      "outputs": [
        {
          "output_type": "execute_result",
          "data": {
            "text/plain": [
              "<Axes: xlabel='Gender', ylabel='CoronaryHeartDisease'>"
            ]
          },
          "metadata": {},
          "execution_count": 315
        },
        {
          "output_type": "display_data",
          "data": {
            "text/plain": [
              "<Figure size 640x480 with 1 Axes>"
            ],
            "image/png": "[encoded data removed]"
          },
          "metadata": {}
        }
      ]
    },
    {
      "cell_type": "code",
      "source": [
        "#number of men and women\n",
        "GenderIs1 = (df['Gender'] == 1).sum()\n",
        "GenderIs2 = (df['Gender'] == 0).sum()\n",
        "print(f'People with gender == 1: {heartDiseaseCount} \\nPeople with gender == 2: {noHeartDiseaseCount}')"
      ],
      "metadata": {
        "id": "uoI5wYRyq01f",
        "outputId": "b16d85ea-db63-4596-b3d4-3f83c9076801",
        "colab": {
          "base_uri": "https://localhost:8080/"
        }
      },
      "execution_count": 316,
      "outputs": [
        {
          "output_type": "stream",
          "name": "stdout",
          "text": [
            "People with gender == 1: 1508 \n",
            "People with gender == 2: 35571\n"
          ]
        }
      ]
    },
    {
      "cell_type": "code",
      "source": [
        "# Analyzing the age feature\n",
        "df[\"Age\"].unique()\n",
        "\n",
        "# how many there are in the dataset\n",
        "sns.countplot(x=df[\"Age\"])\n",
        "plt.xticks([])  # This line removes the x-axis tick labels\n",
        "plt.show()"
      ],
      "metadata": {
        "colab": {
          "base_uri": "https://localhost:8080/",
          "height": 426
        },
        "id": "0x-PGyk7MtOV",
        "outputId": "12f721d1-a400-4c5c-fec5-22a30481726b"
      },
      "execution_count": 317,
      "outputs": [
        {
          "output_type": "display_data",
          "data": {
            "text/plain": [
              "<Figure size 640x480 with 1 Axes>"
            ],
            "image/png": "[encoded data removed]"
          },
          "metadata": {}
        }
      ]
    },
    {
      "cell_type": "code",
      "source": [
        "# the percentage who have heart disease\n",
        "sns.barplot(x=df[\"Age\"],y=y, errorbar=None)\n",
        "plt.xticks([])\n",
        "plt.show()"
      ],
      "metadata": {
        "colab": {
          "base_uri": "https://localhost:8080/",
          "height": 426
        },
        "id": "7TDa-E0nMwLs",
        "outputId": "66a22c4d-e81e-436a-c629-948c14af48be"
      },
      "execution_count": 318,
      "outputs": [
        {
          "output_type": "display_data",
          "data": {
            "text/plain": [
              "<Figure size 640x480 with 1 Axes>"
            ],
            "image/png": "[encoded data removed]"
          },
          "metadata": {}
        }
      ]
    },
    {
      "cell_type": "code",
      "source": [
        "# The margin of error for some of the older ages is larger because of the small sample size, but the error bars hurt the understandability of the graph so I had to remove them.\n",
        "# analyzing the diabetes feature\n",
        "df[\"Diabetes\"].unique()\n",
        "\n",
        "sns.barplot(x=df[\"Diabetes\"],y=y)"
      ],
      "metadata": {
        "colab": {
          "base_uri": "https://localhost:8080/",
          "height": 466
        },
        "id": "xzUtpbrsMy-V",
        "outputId": "89f67deb-0757-403c-d031-a1e88ffc69a6"
      },
      "execution_count": 319,
      "outputs": [
        {
          "output_type": "execute_result",
          "data": {
            "text/plain": [
              "<Axes: xlabel='Diabetes', ylabel='CoronaryHeartDisease'>"
            ]
          },
          "metadata": {},
          "execution_count": 319
        },
        {
          "output_type": "display_data",
          "data": {
            "text/plain": [
              "<Figure size 640x480 with 1 Axes>"
            ],
            "image/png": "[encoded data removed]"
          },
          "metadata": {}
        }
      ]
    },
    {
      "cell_type": "code",
      "source": [
        "# explorting the density of the creatinine feature\n",
        "sns.distplot(df['Creatinine'])"
      ],
      "metadata": {
        "colab": {
          "base_uri": "https://localhost:8080/",
          "height": 466
        },
        "id": "RWa5xngVM5CE",
        "outputId": "392afae5-605d-4aa2-bf57-a4667e30fe9f"
      },
      "execution_count": 320,
      "outputs": [
        {
          "output_type": "execute_result",
          "data": {
            "text/plain": [
              "<Axes: xlabel='Creatinine', ylabel='Density'>"
            ]
          },
          "metadata": {},
          "execution_count": 320
        },
        {
          "output_type": "display_data",
          "data": {
            "text/plain": [
              "<Figure size 640x480 with 1 Axes>"
            ],
            "image/png": "[encoded data removed]"
          },
          "metadata": {}
        }
      ]
    },
    {
      "cell_type": "code",
      "source": [
        "#exploring the density of the Glycohemoglobin feature\n",
        "sns.distplot(df['Glycohemoglobin'])"
      ],
      "metadata": {
        "colab": {
          "base_uri": "https://localhost:8080/",
          "height": 466
        },
        "id": "c8n8upywM74P",
        "outputId": "5e0a29c3-727a-4f44-8916-0d941d18e045"
      },
      "execution_count": 321,
      "outputs": [
        {
          "output_type": "execute_result",
          "data": {
            "text/plain": [
              "<Axes: xlabel='Glycohemoglobin', ylabel='Density'>"
            ]
          },
          "metadata": {},
          "execution_count": 321
        },
        {
          "output_type": "display_data",
          "data": {
            "text/plain": [
              "<Figure size 640x480 with 1 Axes>"
            ],
            "image/png": "[encoded data removed]"
          },
          "metadata": {}
        }
      ]
    },
    {
      "cell_type": "code",
      "source": [
        "# exploring the density of the cholesterol feature\n",
        "sns.distplot(df['Cholesterol'])"
      ],
      "metadata": {
        "colab": {
          "base_uri": "https://localhost:8080/",
          "height": 466
        },
        "id": "buAa8l8HM-PM",
        "outputId": "06ff80eb-e4ee-4c06-c6f2-374c8069284e"
      },
      "execution_count": 322,
      "outputs": [
        {
          "output_type": "execute_result",
          "data": {
            "text/plain": [
              "<Axes: xlabel='Cholesterol', ylabel='Density'>"
            ]
          },
          "metadata": {},
          "execution_count": 322
        },
        {
          "output_type": "display_data",
          "data": {
            "text/plain": [
              "<Figure size 640x480 with 1 Axes>"
            ],
            "image/png": "[encoded data removed]"
          },
          "metadata": {}
        }
      ]
    },
    {
      "cell_type": "code",
      "source": [
        "df[\"Cholesterol_Rounded\"] = df[\"Cholesterol\"].round()\n",
        "\n",
        "# Create the bar plot\n",
        "sns.barplot(x=df[\"Cholesterol_Rounded\"], y=y)\n",
        "\n",
        "# Set plot labels and title\n",
        "plt.xlabel(\"Cholesterol (Rounded)\")\n",
        "plt.ylabel(\"Coronary heart disease %\")\n",
        "\n",
        "# Show the plot\n",
        "plt.show()"
      ],
      "metadata": {
        "colab": {
          "base_uri": "https://localhost:8080/",
          "height": 449
        },
        "id": "01xrTYC0Jhe6",
        "outputId": "07acbefb-6f7c-4321-b1f2-ff7201e5655c"
      },
      "execution_count": 323,
      "outputs": [
        {
          "output_type": "display_data",
          "data": {
            "text/plain": [
              "<Figure size 640x480 with 1 Axes>"
            ],
            "image/png": "[encoded data removed]"
          },
          "metadata": {}
        }
      ]
    },
    {
      "cell_type": "markdown",
      "source": [
        "## Balancing the Imbalanced Data"
      ],
      "metadata": {
        "id": "TdWsXvWNH8y6"
      }
    },
    {
      "cell_type": "code",
      "source": [
        "X = df.drop('CoronaryHeartDisease', axis=1)\n",
        "y = df['CoronaryHeartDisease']\n",
        "\n",
        "# undersampling the data\n",
        "rus = RandomUnderSampler()\n",
        "\n",
        "X_resampled, y_resampled = rus.fit_resample(X, y)\n"
      ],
      "metadata": {
        "id": "-kTlXE0ja2ZW"
      },
      "execution_count": 324,
      "outputs": []
    },
    {
      "cell_type": "markdown",
      "source": [
        "## LASSO for Feature Selection"
      ],
      "metadata": {
        "id": "0Mk0oYzTdbgK"
      }
    },
    {
      "cell_type": "code",
      "source": [
        "# split into training and testing\n",
        "X_train, X_temp, y_train, y_temp = train_test_split(X_resampled, y_resampled, test_size=0.3)\n",
        "\n",
        "X_test, X_valid, y_test, y_valid = train_test_split(X_temp, y_temp, test_size=0.5)\n",
        "\n",
        "print(\"Training set shapes:\", X_train.shape, y_train.shape)\n",
        "print(\"Testing set shapes:\", X_test.shape, y_test.shape)\n",
        "print(\"Validation set shapes:\", X_valid.shape, y_valid.shape)"
      ],
      "metadata": {
        "colab": {
          "base_uri": "https://localhost:8080/"
        },
        "id": "dr3C_9s_9tIT",
        "outputId": "2c2fea05-6dbf-450f-8a25-29dda78c8ed9"
      },
      "execution_count": 326,
      "outputs": [
        {
          "output_type": "stream",
          "name": "stdout",
          "text": [
            "Training set shapes: (2111, 37) (2111,)\n",
            "Testing set shapes: (452, 37) (452,)\n",
            "Validation set shapes: (453, 37) (453,)\n"
          ]
        }
      ]
    },
    {
      "cell_type": "code",
      "source": [
        "#Feature Standardization\n",
        "scaler = StandardScaler()\n",
        "X_train = scaler.fit_transform(X_train)\n",
        "X_test = scaler.transform(X_test)\n",
        "X_valid = scaler.transform(X_valid)"
      ],
      "metadata": {
        "id": "ckizmO9xa5Z-"
      },
      "execution_count": 327,
      "outputs": []
    },
    {
      "cell_type": "code",
      "source": [
        "# create the lasso model\n",
        "lasso_cv = LassoCV(alphas=[0.001, 0.01, 0.1, 1, 10], cv=5)\n",
        "\n",
        "lasso_cv.fit(X_train, y_train)\n",
        "\n",
        "print('The optimal alpha is', lasso_cv.alpha_)\n",
        "\n",
        "# finding the predicted probability\n",
        "y_pred_proba = lasso_cv.predict(X_test)\n",
        "# converting to binary predictions\n",
        "y_pred = (y_pred_proba > 0.5).astype(int)   # might need to lower threshold\n",
        "accuracy = accuracy_score(y_test, y_pred)\n",
        "print(\"Accuracy:\", accuracy)"
      ],
      "metadata": {
        "colab": {
          "base_uri": "https://localhost:8080/"
        },
        "id": "ekC-1U1xa7Ze",
        "outputId": "23db8e84-446f-4898-9066-9d5698483d4b"
      },
      "execution_count": 328,
      "outputs": [
        {
          "output_type": "stream",
          "name": "stdout",
          "text": [
            "The optimal alpha is 0.01\n",
            "Accuracy: 0.8141592920353983\n"
          ]
        }
      ]
    },
    {
      "cell_type": "code",
      "source": [
        "#Feature selection in Lasso\n",
        "col_names = list(X.columns)\n",
        "selected_features = [col_names[i] for i in range(len(col_names)) if lasso_cv.coef_[i] != 0]\n",
        "\n",
        "lassoCoef = pd.Series(lasso_cv.coef_, index=X.columns)\n",
        "print(f'The selected features are \\n{lassoCoef[lassoCoef != 0]}')"
      ],
      "metadata": {
        "colab": {
          "base_uri": "https://localhost:8080/"
        },
        "id": "NaLpRXoSa9k0",
        "outputId": "1e6299e2-638e-4a7f-bea3-16dc2f33f154"
      },
      "execution_count": 329,
      "outputs": [
        {
          "output_type": "stream",
          "name": "stdout",
          "text": [
            "The selected features are \n",
            "Gender                        -0.041864\n",
            "Age                            0.229079\n",
            "Diastolic                     -0.010533\n",
            "Basophils                     -0.002089\n",
            "Platelet-count                -0.010942\n",
            "Red-Cell-Distribution-Width    0.019240\n",
            "ALP                            0.002424\n",
            "AST                           -0.001851\n",
            "Cholesterol                   -0.053822\n",
            "Creatinine                     0.006368\n",
            "LDH                            0.023972\n",
            "Uric.Acid                      0.016434\n",
            "Triglycerides                  0.021954\n",
            "HDL                           -0.005016\n",
            "Glycohemoglobin                0.023935\n",
            "Vigorous-work                  0.017240\n",
            "Moderate-work                 -0.006237\n",
            "Diabetes                      -0.023904\n",
            "Blood-Rel-Diabetes            -0.011388\n",
            "Blood-Rel-Stroke              -0.038460\n",
            "Cholesterol_Rounded           -0.006298\n",
            "dtype: float64\n"
          ]
        }
      ]
    },
    {
      "cell_type": "markdown",
      "source": [
        "## Machine Learning Experiments"
      ],
      "metadata": {
        "id": "feblm_P3f80q"
      }
    },
    {
      "cell_type": "code",
      "source": [
        "df_reduced = df[[\"CoronaryHeartDisease\"] + selected_features]\n",
        "\n",
        "df_reduced"
      ],
      "metadata": {
        "colab": {
          "base_uri": "https://localhost:8080/",
          "height": 478
        },
        "id": "yTpSUh4KdhI8",
        "outputId": "fc093b01-70a6-4db5-b388-77d3bd84b86d"
      },
      "execution_count": 330,
      "outputs": [
        {
          "output_type": "execute_result",
          "data": {
            "text/plain": [
              "       CoronaryHeartDisease  Gender  Age  Diastolic  Basophils  \\\n",
              "0                         0       1   77         56        0.5   \n",
              "1                         0       1   49         83        0.4   \n",
              "2                         0       1   37         99        0.6   \n",
              "3                         0       1   70         66        0.4   \n",
              "4                         0       1   81         61        0.4   \n",
              "...                     ...     ...  ...        ...        ...   \n",
              "37074                     0       1   25         76        0.6   \n",
              "37075                     0       2   76         46        0.9   \n",
              "37076                     0       2   80         58        0.8   \n",
              "37077                     0       1   35         66        0.6   \n",
              "37078                     0       2   24         68        0.3   \n",
              "\n",
              "       Platelet-count  Red-Cell-Distribution-Width  ALP  AST  Cholesterol  \\\n",
              "0               214.0                         13.7   62   19        5.250   \n",
              "1               209.0                         13.1   63   22        7.160   \n",
              "2               357.0                         13.6   63   17        3.900   \n",
              "3               228.0                         14.4  103   24        7.940   \n",
              "4               160.0                         12.4  110   23        4.420   \n",
              "...               ...                          ...  ...  ...          ...   \n",
              "37074           253.0                         13.3   67   34        4.189   \n",
              "37075           135.0                         13.6   50   22        3.646   \n",
              "37076           172.0                         16.9   54   25        6.801   \n",
              "37077           194.0                         13.0  140   73        3.672   \n",
              "37078           257.0                         13.8   35   24        4.215   \n",
              "\n",
              "       ...  Uric.Acid  Triglycerides   HDL  Glycohemoglobin  Vigorous-work  \\\n",
              "0      ...      362.8          1.298  1.39              4.7              3   \n",
              "1      ...      404.5          3.850  1.08              5.5              1   \n",
              "2      ...      339.0          1.581  0.98              5.2              2   \n",
              "3      ...      410.4          3.635  1.28              7.6              3   \n",
              "4      ...      368.8          0.756  1.04              5.8              1   \n",
              "...    ...        ...            ...   ...              ...            ...   \n",
              "37074  ...      428.3          1.264  1.27              5.8              2   \n",
              "37075  ...      368.8          0.948  1.76              5.6              2   \n",
              "37076  ...      273.6          1.095  2.90              5.7              2   \n",
              "37077  ...      237.9          0.937  1.09              5.2              2   \n",
              "37078  ...      249.8          0.892  1.89              4.6              2   \n",
              "\n",
              "       Moderate-work  Diabetes  Blood-Rel-Diabetes  Blood-Rel-Stroke  \\\n",
              "0                  3         2                   2                 2   \n",
              "1                  1         2                   2                 2   \n",
              "2                  1         2                   1                 1   \n",
              "3                  3         1                   1                 2   \n",
              "4                  1         2                   2                 2   \n",
              "...              ...       ...                 ...               ...   \n",
              "37074              2         2                   1                 2   \n",
              "37075              2         2                   2                 2   \n",
              "37076              2         2                   2                 2   \n",
              "37077              2         2                   2                 1   \n",
              "37078              2         2                   2                 2   \n",
              "\n",
              "       Cholesterol_Rounded  \n",
              "0                      5.0  \n",
              "1                      7.0  \n",
              "2                      4.0  \n",
              "3                      8.0  \n",
              "4                      4.0  \n",
              "...                    ...  \n",
              "37074                  4.0  \n",
              "37075                  4.0  \n",
              "37076                  7.0  \n",
              "37077                  4.0  \n",
              "37078                  4.0  \n",
              "\n",
              "[37079 rows x 22 columns]"
            ],
            "text/html": [
              "\n",
              "  <div id=\"df-73cf58a0-4f73-46c1-abd5-7ab9817affc2\" class=\"colab-df-container\">\n",
              "    <div>\n",
              "<style scoped>\n",
              "    .dataframe tbody tr th:only-of-type {\n",
              "        vertical-align: middle;\n",
              "    }\n",
              "\n",
              "    .dataframe tbody tr th {\n",
              "        vertical-align: top;\n",
              "    }\n",
              "\n",
              "    .dataframe thead th {\n",
              "        text-align: right;\n",
              "    }\n",
              "</style>\n",
              "<table border=\"1\" class=\"dataframe\">\n",
              "  <thead>\n",
              "    <tr style=\"text-align: right;\">\n",
              "      <th></th>\n",
              "      <th>CoronaryHeartDisease</th>\n",
              "      <th>Gender</th>\n",
              "      <th>Age</th>\n",
              "      <th>Diastolic</th>\n",
              "      <th>Basophils</th>\n",
              "      <th>Platelet-count</th>\n",
              "      <th>Red-Cell-Distribution-Width</th>\n",
              "      <th>ALP</th>\n",
              "      <th>AST</th>\n",
              "      <th>Cholesterol</th>\n",
              "      <th>...</th>\n",
              "      <th>Uric.Acid</th>\n",
              "      <th>Triglycerides</th>\n",
              "      <th>HDL</th>\n",
              "      <th>Glycohemoglobin</th>\n",
              "      <th>Vigorous-work</th>\n",
              "      <th>Moderate-work</th>\n",
              "      <th>Diabetes</th>\n",
              "      <th>Blood-Rel-Diabetes</th>\n",
              "      <th>Blood-Rel-Stroke</th>\n",
              "      <th>Cholesterol_Rounded</th>\n",
              "    </tr>\n",
              "  </thead>\n",
              "  <tbody>\n",
              "    <tr>\n",
              "      <th>0</th>\n",
              "      <td>0</td>\n",
              "      <td>1</td>\n",
              "      <td>77</td>\n",
              "      <td>56</td>\n",
              "      <td>0.5</td>\n",
              "      <td>214.0</td>\n",
              "      <td>13.7</td>\n",
              "      <td>62</td>\n",
              "      <td>19</td>\n",
              "      <td>5.250</td>\n",
              "      <td>...</td>\n",
              "      <td>362.8</td>\n",
              "      <td>1.298</td>\n",
              "      <td>1.39</td>\n",
              "      <td>4.7</td>\n",
              "      <td>3</td>\n",
              "      <td>3</td>\n",
              "      <td>2</td>\n",
              "      <td>2</td>\n",
              "      <td>2</td>\n",
              "      <td>5.0</td>\n",
              "    </tr>\n",
              "    <tr>\n",
              "      <th>1</th>\n",
              "      <td>0</td>\n",
              "      <td>1</td>\n",
              "      <td>49</td>\n",
              "      <td>83</td>\n",
              "      <td>0.4</td>\n",
              "      <td>209.0</td>\n",
              "      <td>13.1</td>\n",
              "      <td>63</td>\n",
              "      <td>22</td>\n",
              "      <td>7.160</td>\n",
              "      <td>...</td>\n",
              "      <td>404.5</td>\n",
              "      <td>3.850</td>\n",
              "      <td>1.08</td>\n",
              "      <td>5.5</td>\n",
              "      <td>1</td>\n",
              "      <td>1</td>\n",
              "      <td>2</td>\n",
              "      <td>2</td>\n",
              "      <td>2</td>\n",
              "      <td>7.0</td>\n",
              "    </tr>\n",
              "    <tr>\n",
              "      <th>2</th>\n",
              "      <td>0</td>\n",
              "      <td>1</td>\n",
              "      <td>37</td>\n",
              "      <td>99</td>\n",
              "      <td>0.6</td>\n",
              "      <td>357.0</td>\n",
              "      <td>13.6</td>\n",
              "      <td>63</td>\n",
              "      <td>17</td>\n",
              "      <td>3.900</td>\n",
              "      <td>...</td>\n",
              "      <td>339.0</td>\n",
              "      <td>1.581</td>\n",
              "      <td>0.98</td>\n",
              "      <td>5.2</td>\n",
              "      <td>2</td>\n",
              "      <td>1</td>\n",
              "      <td>2</td>\n",
              "      <td>1</td>\n",
              "      <td>1</td>\n",
              "      <td>4.0</td>\n",
              "    </tr>\n",
              "    <tr>\n",
              "      <th>3</th>\n",
              "      <td>0</td>\n",
              "      <td>1</td>\n",
              "      <td>70</td>\n",
              "      <td>66</td>\n",
              "      <td>0.4</td>\n",
              "      <td>228.0</td>\n",
              "      <td>14.4</td>\n",
              "      <td>103</td>\n",
              "      <td>24</td>\n",
              "      <td>7.940</td>\n",
              "      <td>...</td>\n",
              "      <td>410.4</td>\n",
              "      <td>3.635</td>\n",
              "      <td>1.28</td>\n",
              "      <td>7.6</td>\n",
              "      <td>3</td>\n",
              "      <td>3</td>\n",
              "      <td>1</td>\n",
              "      <td>1</td>\n",
              "      <td>2</td>\n",
              "      <td>8.0</td>\n",
              "    </tr>\n",
              "    <tr>\n",
              "      <th>4</th>\n",
              "      <td>0</td>\n",
              "      <td>1</td>\n",
              "      <td>81</td>\n",
              "      <td>61</td>\n",
              "      <td>0.4</td>\n",
              "      <td>160.0</td>\n",
              "      <td>12.4</td>\n",
              "      <td>110</td>\n",
              "      <td>23</td>\n",
              "      <td>4.420</td>\n",
              "      <td>...</td>\n",
              "      <td>368.8</td>\n",
              "      <td>0.756</td>\n",
              "      <td>1.04</td>\n",
              "      <td>5.8</td>\n",
              "      <td>1</td>\n",
              "      <td>1</td>\n",
              "      <td>2</td>\n",
              "      <td>2</td>\n",
              "      <td>2</td>\n",
              "      <td>4.0</td>\n",
              "    </tr>\n",
              "    <tr>\n",
              "      <th>...</th>\n",
              "      <td>...</td>\n",
              "      <td>...</td>\n",
              "      <td>...</td>\n",
              "      <td>...</td>\n",
              "      <td>...</td>\n",
              "      <td>...</td>\n",
              "      <td>...</td>\n",
              "      <td>...</td>\n",
              "      <td>...</td>\n",
              "      <td>...</td>\n",
              "      <td>...</td>\n",
              "      <td>...</td>\n",
              "      <td>...</td>\n",
              "      <td>...</td>\n",
              "      <td>...</td>\n",
              "      <td>...</td>\n",
              "      <td>...</td>\n",
              "      <td>...</td>\n",
              "      <td>...</td>\n",
              "      <td>...</td>\n",
              "      <td>...</td>\n",
              "    </tr>\n",
              "    <tr>\n",
              "      <th>37074</th>\n",
              "      <td>0</td>\n",
              "      <td>1</td>\n",
              "      <td>25</td>\n",
              "      <td>76</td>\n",
              "      <td>0.6</td>\n",
              "      <td>253.0</td>\n",
              "      <td>13.3</td>\n",
              "      <td>67</td>\n",
              "      <td>34</td>\n",
              "      <td>4.189</td>\n",
              "      <td>...</td>\n",
              "      <td>428.3</td>\n",
              "      <td>1.264</td>\n",
              "      <td>1.27</td>\n",
              "      <td>5.8</td>\n",
              "      <td>2</td>\n",
              "      <td>2</td>\n",
              "      <td>2</td>\n",
              "      <td>1</td>\n",
              "      <td>2</td>\n",
              "      <td>4.0</td>\n",
              "    </tr>\n",
              "    <tr>\n",
              "      <th>37075</th>\n",
              "      <td>0</td>\n",
              "      <td>2</td>\n",
              "      <td>76</td>\n",
              "      <td>46</td>\n",
              "      <td>0.9</td>\n",
              "      <td>135.0</td>\n",
              "      <td>13.6</td>\n",
              "      <td>50</td>\n",
              "      <td>22</td>\n",
              "      <td>3.646</td>\n",
              "      <td>...</td>\n",
              "      <td>368.8</td>\n",
              "      <td>0.948</td>\n",
              "      <td>1.76</td>\n",
              "      <td>5.6</td>\n",
              "      <td>2</td>\n",
              "      <td>2</td>\n",
              "      <td>2</td>\n",
              "      <td>2</td>\n",
              "      <td>2</td>\n",
              "      <td>4.0</td>\n",
              "    </tr>\n",
              "    <tr>\n",
              "      <th>37076</th>\n",
              "      <td>0</td>\n",
              "      <td>2</td>\n",
              "      <td>80</td>\n",
              "      <td>58</td>\n",
              "      <td>0.8</td>\n",
              "      <td>172.0</td>\n",
              "      <td>16.9</td>\n",
              "      <td>54</td>\n",
              "      <td>25</td>\n",
              "      <td>6.801</td>\n",
              "      <td>...</td>\n",
              "      <td>273.6</td>\n",
              "      <td>1.095</td>\n",
              "      <td>2.90</td>\n",
              "      <td>5.7</td>\n",
              "      <td>2</td>\n",
              "      <td>2</td>\n",
              "      <td>2</td>\n",
              "      <td>2</td>\n",
              "      <td>2</td>\n",
              "      <td>7.0</td>\n",
              "    </tr>\n",
              "    <tr>\n",
              "      <th>37077</th>\n",
              "      <td>0</td>\n",
              "      <td>1</td>\n",
              "      <td>35</td>\n",
              "      <td>66</td>\n",
              "      <td>0.6</td>\n",
              "      <td>194.0</td>\n",
              "      <td>13.0</td>\n",
              "      <td>140</td>\n",
              "      <td>73</td>\n",
              "      <td>3.672</td>\n",
              "      <td>...</td>\n",
              "      <td>237.9</td>\n",
              "      <td>0.937</td>\n",
              "      <td>1.09</td>\n",
              "      <td>5.2</td>\n",
              "      <td>2</td>\n",
              "      <td>2</td>\n",
              "      <td>2</td>\n",
              "      <td>2</td>\n",
              "      <td>1</td>\n",
              "      <td>4.0</td>\n",
              "    </tr>\n",
              "    <tr>\n",
              "      <th>37078</th>\n",
              "      <td>0</td>\n",
              "      <td>2</td>\n",
              "      <td>24</td>\n",
              "      <td>68</td>\n",
              "      <td>0.3</td>\n",
              "      <td>257.0</td>\n",
              "      <td>13.8</td>\n",
              "      <td>35</td>\n",
              "      <td>24</td>\n",
              "      <td>4.215</td>\n",
              "      <td>...</td>\n",
              "      <td>249.8</td>\n",
              "      <td>0.892</td>\n",
              "      <td>1.89</td>\n",
              "      <td>4.6</td>\n",
              "      <td>2</td>\n",
              "      <td>2</td>\n",
              "      <td>2</td>\n",
              "      <td>2</td>\n",
              "      <td>2</td>\n",
              "      <td>4.0</td>\n",
              "    </tr>\n",
              "  </tbody>\n",
              "</table>\n",
              "<p>37079 rows × 22 columns</p>\n",
              "</div>\n",
              "    <div class=\"colab-df-buttons\">\n",
              "\n",
              "  <div class=\"colab-df-container\">\n",
              "    <button class=\"colab-df-convert\" onclick=\"convertToInteractive('df-73cf58a0-4f73-46c1-abd5-7ab9817affc2')\"\n",
              "            title=\"Convert this dataframe to an interactive table.\"\n",
              "            style=\"display:none;\">\n",
              "\n",
              "  <svg xmlns=\"http://www.w3.org/2000/svg\" height=\"24px\" viewBox=\"0 -960 960 960\">\n",
              "    <path d=\"M120-120v-720h720v720H120Zm60-500h600v-160H180v160Zm220 220h160v-160H400v160Zm0 220h160v-160H400v160ZM180-400h160v-160H180v160Zm440 0h160v-160H620v160ZM180-180h160v-160H180v160Zm440 0h160v-160H620v160Z\"/>\n",
              "  </svg>\n",
              "    </button>\n",
              "\n",
              "  <style>\n",
              "    .colab-df-container {\n",
              "      display:flex;\n",
              "      gap: 12px;\n",
              "    }\n",
              "\n",
              "    .colab-df-convert {\n",
              "      background-color: #E8F0FE;\n",
              "      border: none;\n",
              "      border-radius: 50%;\n",
              "      cursor: pointer;\n",
              "      display: none;\n",
              "      fill: #1967D2;\n",
              "      height: 32px;\n",
              "      padding: 0 0 0 0;\n",
              "      width: 32px;\n",
              "    }\n",
              "\n",
              "    .colab-df-convert:hover {\n",
              "      background-color: #E2EBFA;\n",
              "      box-shadow: 0px 1px 2px rgba(60, 64, 67, 0.3), 0px 1px 3px 1px rgba(60, 64, 67, 0.15);\n",
              "      fill: #174EA6;\n",
              "    }\n",
              "\n",
              "    .colab-df-buttons div {\n",
              "      margin-bottom: 4px;\n",
              "    }\n",
              "\n",
              "    [theme=dark] .colab-df-convert {\n",
              "      background-color: #3B4455;\n",
              "      fill: #D2E3FC;\n",
              "    }\n",
              "\n",
              "    [theme=dark] .colab-df-convert:hover {\n",
              "      background-color: #434B5C;\n",
              "      box-shadow: 0px 1px 3px 1px rgba(0, 0, 0, 0.15);\n",
              "      filter: drop-shadow(0px 1px 2px rgba(0, 0, 0, 0.3));\n",
              "      fill: #FFFFFF;\n",
              "    }\n",
              "  </style>\n",
              "\n",
              "    <script>\n",
              "      const buttonEl =\n",
              "        document.querySelector('#df-73cf58a0-4f73-46c1-abd5-7ab9817affc2 button.colab-df-convert');\n",
              "      buttonEl.style.display =\n",
              "        google.colab.kernel.accessAllowed ? 'block' : 'none';\n",
              "\n",
              "      async function convertToInteractive(key) {\n",
              "        const element = document.querySelector('#df-73cf58a0-4f73-46c1-abd5-7ab9817affc2');\n",
              "        const dataTable =\n",
              "          await google.colab.kernel.invokeFunction('convertToInteractive',\n",
              "                                                    [key], {});\n",
              "        if (!dataTable) return;\n",
              "\n",
              "        const docLinkHtml = 'Like what you see? Visit the ' +\n",
              "          '<a target=\"_blank\" href=https://colab.research.google.com/notebooks/data_table.ipynb>data table notebook</a>'\n",
              "          + ' to learn more about interactive tables.';\n",
              "        element.innerHTML = '';\n",
              "        dataTable['output_type'] = 'display_data';\n",
              "        await google.colab.output.renderOutput(dataTable, element);\n",
              "        const docLink = document.createElement('div');\n",
              "        docLink.innerHTML = docLinkHtml;\n",
              "        element.appendChild(docLink);\n",
              "      }\n",
              "    </script>\n",
              "  </div>\n",
              "\n",
              "\n",
              "<div id=\"df-e27e7787-5039-42bf-9d65-edf8619f3bbf\">\n",
              "  <button class=\"colab-df-quickchart\" onclick=\"quickchart('df-e27e7787-5039-42bf-9d65-edf8619f3bbf')\"\n",
              "            title=\"Suggest charts\"\n",
              "            style=\"display:none;\">\n",
              "\n",
              "<svg xmlns=\"http://www.w3.org/2000/svg\" height=\"24px\"viewBox=\"0 0 24 24\"\n",
              "     width=\"24px\">\n",
              "    <g>\n",
              "        <path d=\"M19 3H5c-1.1 0-2 .9-2 2v14c0 1.1.9 2 2 2h14c1.1 0 2-.9 2-2V5c0-1.1-.9-2-2-2zM9 17H7v-7h2v7zm4 0h-2V7h2v10zm4 0h-2v-4h2v4z\"/>\n",
              "    </g>\n",
              "</svg>\n",
              "  </button>\n",
              "\n",
              "<style>\n",
              "  .colab-df-quickchart {\n",
              "      --bg-color: #E8F0FE;\n",
              "      --fill-color: #1967D2;\n",
              "      --hover-bg-color: #E2EBFA;\n",
              "      --hover-fill-color: #174EA6;\n",
              "      --disabled-fill-color: #AAA;\n",
              "      --disabled-bg-color: #DDD;\n",
              "  }\n",
              "\n",
              "  [theme=dark] .colab-df-quickchart {\n",
              "      --bg-color: #3B4455;\n",
              "      --fill-color: #D2E3FC;\n",
              "      --hover-bg-color: #434B5C;\n",
              "      --hover-fill-color: #FFFFFF;\n",
              "      --disabled-bg-color: #3B4455;\n",
              "      --disabled-fill-color: #666;\n",
              "  }\n",
              "\n",
              "  .colab-df-quickchart {\n",
              "    background-color: var(--bg-color);\n",
              "    border: none;\n",
              "    border-radius: 50%;\n",
              "    cursor: pointer;\n",
              "    display: none;\n",
              "    fill: var(--fill-color);\n",
              "    height: 32px;\n",
              "    padding: 0;\n",
              "    width: 32px;\n",
              "  }\n",
              "\n",
              "  .colab-df-quickchart:hover {\n",
              "    background-color: var(--hover-bg-color);\n",
              "    box-shadow: 0 1px 2px rgba(60, 64, 67, 0.3), 0 1px 3px 1px rgba(60, 64, 67, 0.15);\n",
              "    fill: var(--button-hover-fill-color);\n",
              "  }\n",
              "\n",
              "  .colab-df-quickchart-complete:disabled,\n",
              "  .colab-df-quickchart-complete:disabled:hover {\n",
              "    background-color: var(--disabled-bg-color);\n",
              "    fill: var(--disabled-fill-color);\n",
              "    box-shadow: none;\n",
              "  }\n",
              "\n",
              "  .colab-df-spinner {\n",
              "    border: 2px solid var(--fill-color);\n",
              "    border-color: transparent;\n",
              "    border-bottom-color: var(--fill-color);\n",
              "    animation:\n",
              "      spin 1s steps(1) infinite;\n",
              "  }\n",
              "\n",
              "  @keyframes spin {\n",
              "    0% {\n",
              "      border-color: transparent;\n",
              "      border-bottom-color: var(--fill-color);\n",
              "      border-left-color: var(--fill-color);\n",
              "    }\n",
              "    20% {\n",
              "      border-color: transparent;\n",
              "      border-left-color: var(--fill-color);\n",
              "      border-top-color: var(--fill-color);\n",
              "    }\n",
              "    30% {\n",
              "      border-color: transparent;\n",
              "      border-left-color: var(--fill-color);\n",
              "      border-top-color: var(--fill-color);\n",
              "      border-right-color: var(--fill-color);\n",
              "    }\n",
              "    40% {\n",
              "      border-color: transparent;\n",
              "      border-right-color: var(--fill-color);\n",
              "      border-top-color: var(--fill-color);\n",
              "    }\n",
              "    60% {\n",
              "      border-color: transparent;\n",
              "      border-right-color: var(--fill-color);\n",
              "    }\n",
              "    80% {\n",
              "      border-color: transparent;\n",
              "      border-right-color: var(--fill-color);\n",
              "      border-bottom-color: var(--fill-color);\n",
              "    }\n",
              "    90% {\n",
              "      border-color: transparent;\n",
              "      border-bottom-color: var(--fill-color);\n",
              "    }\n",
              "  }\n",
              "</style>\n",
              "\n",
              "  <script>\n",
              "    async function quickchart(key) {\n",
              "      const quickchartButtonEl =\n",
              "        document.querySelector('#' + key + ' button');\n",
              "      quickchartButtonEl.disabled = true;  // To prevent multiple clicks.\n",
              "      quickchartButtonEl.classList.add('colab-df-spinner');\n",
              "      try {\n",
              "        const charts = await google.colab.kernel.invokeFunction(\n",
              "            'suggestCharts', [key], {});\n",
              "      } catch (error) {\n",
              "        console.error('Error during call to suggestCharts:', error);\n",
              "      }\n",
              "      quickchartButtonEl.classList.remove('colab-df-spinner');\n",
              "      quickchartButtonEl.classList.add('colab-df-quickchart-complete');\n",
              "    }\n",
              "    (() => {\n",
              "      let quickchartButtonEl =\n",
              "        document.querySelector('#df-e27e7787-5039-42bf-9d65-edf8619f3bbf button');\n",
              "      quickchartButtonEl.style.display =\n",
              "        google.colab.kernel.accessAllowed ? 'block' : 'none';\n",
              "    })();\n",
              "  </script>\n",
              "</div>\n",
              "    </div>\n",
              "  </div>\n"
            ]
          },
          "metadata": {},
          "execution_count": 330
        }
      ]
    },
    {
      "cell_type": "code",
      "source": [
        "X = df.drop('CoronaryHeartDisease', axis=1)\n",
        "y = df['CoronaryHeartDisease']\n",
        "\n",
        "# undersampling the data\n",
        "rus = RandomUnderSampler()\n",
        "X_resampled, y_resampled = rus.fit_resample(X, y)\n",
        "\n",
        "# split into training and testing\n",
        "X_train, X_temp, y_train, y_temp = train_test_split(X_resampled, y_resampled, test_size=0.3)\n",
        "\n",
        "X_test, X_valid, y_test, y_valid = train_test_split(X_temp, y_temp, test_size=0.5)\n",
        "\n",
        "print(\"Training set shapes:\", X_train.shape, y_train.shape)\n",
        "print(\"Testing set shapes:\", X_test.shape, y_test.shape)\n",
        "print(\"Validation set shapes:\", X_valid.shape, y_valid.shape)"
      ],
      "metadata": {
        "colab": {
          "base_uri": "https://localhost:8080/"
        },
        "id": "eOUfHvpSfG6u",
        "outputId": "42e88751-c41c-4d73-ceb4-81888ec876fe"
      },
      "execution_count": 331,
      "outputs": [
        {
          "output_type": "stream",
          "name": "stdout",
          "text": [
            "Training set shapes: (2111, 37) (2111,)\n",
            "Testing set shapes: (452, 37) (452,)\n",
            "Validation set shapes: (453, 37) (453,)\n"
          ]
        }
      ]
    },
    {
      "cell_type": "code",
      "source": [
        "#Feature Standardization\n",
        "scaler = StandardScaler()\n",
        "X_train = scaler.fit_transform(X_train)\n",
        "X_test = scaler.transform(X_test)\n",
        "X_valid = scaler.transform(X_valid)"
      ],
      "metadata": {
        "id": "qh3orSY2COTD"
      },
      "execution_count": 332,
      "outputs": []
    },
    {
      "cell_type": "code",
      "source": [
        "accuracy_list = []\n",
        "precision_list = []\n",
        "recall_list = []\n",
        "f1_list = []"
      ],
      "metadata": {
        "id": "iWD5kTkY5n75"
      },
      "execution_count": 333,
      "outputs": []
    },
    {
      "cell_type": "markdown",
      "source": [
        "### Logistic Regression"
      ],
      "metadata": {
        "id": "W3lsK8DHBxYD"
      }
    },
    {
      "cell_type": "code",
      "source": [
        "lr = LogisticRegression()\n",
        "\n",
        "lr.fit(X_train, y_train)\n",
        "\n",
        "y_pred = lr.predict(X_test)\n",
        "\n",
        "\n",
        "print(\"Accuracy:\", accuracy_score(y_test, y_pred))\n",
        "print(\"Precision:\", precision_score(y_test, y_pred))\n",
        "print(\"Recall:\", recall_score(y_test, y_pred))\n",
        "print(\"F1-Score:\", f1_score(y_test, y_pred))"
      ],
      "metadata": {
        "colab": {
          "base_uri": "https://localhost:8080/"
        },
        "id": "MjIfUQhQhN6q",
        "outputId": "cc7b2abf-8fb9-429f-bf2b-6217afe127ce"
      },
      "execution_count": 334,
      "outputs": [
        {
          "output_type": "stream",
          "name": "stdout",
          "text": [
            "Accuracy: 0.754424778761062\n",
            "Precision: 0.7248908296943232\n",
            "Recall: 0.7757009345794392\n",
            "F1-Score: 0.7494356659142213\n"
          ]
        }
      ]
    },
    {
      "cell_type": "markdown",
      "source": [
        "##### Validation"
      ],
      "metadata": {
        "id": "ZlwfNzxVztT7"
      }
    },
    {
      "cell_type": "code",
      "source": [
        "y_pred = lr.predict(X_valid)\n",
        "\n",
        "accuracy = accuracy_score(y_valid, y_pred)\n",
        "precision = precision_score(y_valid, y_pred)\n",
        "recall = recall_score(y_valid, y_pred)\n",
        "f1 = f1_score(y_valid, y_pred)\n",
        "print(\"Accuracy:\", accuracy)\n",
        "print(\"Precision:\", precision)\n",
        "print(\"Recall:\", recall)\n",
        "print(\"F1-Score:\", f1)"
      ],
      "metadata": {
        "colab": {
          "base_uri": "https://localhost:8080/"
        },
        "id": "2h1T1dRqzquK",
        "outputId": "3e5d476c-2f02-4686-e13c-45d70e1775b7"
      },
      "execution_count": 335,
      "outputs": [
        {
          "output_type": "stream",
          "name": "stdout",
          "text": [
            "Accuracy: 0.7924944812362031\n",
            "Precision: 0.7860082304526749\n",
            "Recall: 0.8197424892703863\n",
            "F1-Score: 0.8025210084033614\n"
          ]
        }
      ]
    },
    {
      "cell_type": "code",
      "source": [
        "accuracy_list.append(accuracy)\n",
        "precision_list.append(precision)\n",
        "recall_list.append(recall)\n",
        "f1_list.append(f1)"
      ],
      "metadata": {
        "id": "FsYrhEs15wFd"
      },
      "execution_count": 336,
      "outputs": []
    },
    {
      "cell_type": "markdown",
      "source": [
        "### Naive Bayes"
      ],
      "metadata": {
        "id": "T7ZHpoW2CYG7"
      }
    },
    {
      "cell_type": "code",
      "source": [
        "nb = GaussianNB()\n",
        "\n",
        "nb.fit(X_train, y_train)\n",
        "\n",
        "y_pred = nb.predict(X_test)\n",
        "\n",
        "\n",
        "print(\"Accuracy:\", accuracy_score(y_test, y_pred))\n",
        "print(\"Precision:\", precision_score(y_test, y_pred))\n",
        "print(\"Recall:\", recall_score(y_test, y_pred))\n",
        "print(\"F1-Score:\", f1_score(y_test, y_pred))"
      ],
      "metadata": {
        "id": "S1FGU9H4CaF1",
        "outputId": "3f306feb-fc31-4891-b7bb-a8e5f3f26ba5",
        "colab": {
          "base_uri": "https://localhost:8080/"
        }
      },
      "execution_count": 337,
      "outputs": [
        {
          "output_type": "stream",
          "name": "stdout",
          "text": [
            "Accuracy: 0.75\n",
            "Precision: 0.7348837209302326\n",
            "Recall: 0.7383177570093458\n",
            "F1-Score: 0.7365967365967365\n"
          ]
        }
      ]
    },
    {
      "cell_type": "markdown",
      "source": [
        "##### Validation"
      ],
      "metadata": {
        "id": "SK8xW2Ks00DU"
      }
    },
    {
      "cell_type": "code",
      "source": [
        "y_pred = nb.predict(X_valid)\n",
        "\n",
        "accuracy = accuracy_score(y_valid, y_pred)\n",
        "precision = precision_score(y_valid, y_pred)\n",
        "recall = recall_score(y_valid, y_pred)\n",
        "f1 = f1_score(y_valid, y_pred)\n",
        "print(\"Accuracy:\", accuracy)\n",
        "print(\"Precision:\", precision)\n",
        "print(\"Recall:\", recall)\n",
        "print(\"F1-Score:\", f1)"
      ],
      "metadata": {
        "colab": {
          "base_uri": "https://localhost:8080/"
        },
        "id": "_k-imvsh01uL",
        "outputId": "7d49ec21-9189-417c-a915-ab2fa758c4a2"
      },
      "execution_count": 338,
      "outputs": [
        {
          "output_type": "stream",
          "name": "stdout",
          "text": [
            "Accuracy: 0.7660044150110376\n",
            "Precision: 0.777292576419214\n",
            "Recall: 0.7639484978540773\n",
            "F1-Score: 0.7705627705627706\n"
          ]
        }
      ]
    },
    {
      "cell_type": "code",
      "source": [
        "accuracy_list.append(accuracy)\n",
        "precision_list.append(precision)\n",
        "recall_list.append(recall)\n",
        "f1_list.append(f1)"
      ],
      "metadata": {
        "id": "ZsLpOcwx57se"
      },
      "execution_count": 339,
      "outputs": []
    },
    {
      "cell_type": "markdown",
      "source": [
        "### SVM"
      ],
      "metadata": {
        "id": "kid14JKEE0SM"
      }
    },
    {
      "cell_type": "code",
      "source": [
        "sv = SVC(C=5, degree=1, gamma=0.001, kernel='poly')\n",
        "\n",
        "sv.fit(X_train, y_train)\n",
        "\n",
        "y_pred = sv.predict(X_test)\n",
        "\n",
        "\n",
        "print(\"Accuracy:\", accuracy_score(y_test, y_pred))\n",
        "print(\"Precision:\", precision_score(y_test, y_pred))\n",
        "print(\"Recall:\", recall_score(y_test, y_pred))\n",
        "print(\"F1-Score:\", f1_score(y_test, y_pred))"
      ],
      "metadata": {
        "id": "_jVbV-LmE3WJ",
        "outputId": "af8dd983-616b-483c-a202-3fba8a3f2e08",
        "colab": {
          "base_uri": "https://localhost:8080/"
        }
      },
      "execution_count": 340,
      "outputs": [
        {
          "output_type": "stream",
          "name": "stdout",
          "text": [
            "Accuracy: 0.7853982300884956\n",
            "Precision: 0.7447698744769874\n",
            "Recall: 0.8317757009345794\n",
            "F1-Score: 0.7858719646799117\n"
          ]
        }
      ]
    },
    {
      "cell_type": "markdown",
      "source": [
        "##### Validation"
      ],
      "metadata": {
        "id": "akzsbK511C-M"
      }
    },
    {
      "cell_type": "code",
      "source": [
        "y_pred = sv.predict(X_valid)\n",
        "\n",
        "accuracy = accuracy_score(y_valid, y_pred)\n",
        "precision = precision_score(y_valid, y_pred)\n",
        "recall = recall_score(y_valid, y_pred)\n",
        "f1 = f1_score(y_valid, y_pred)\n",
        "print(\"Accuracy:\", accuracy)\n",
        "print(\"Precision:\", precision)\n",
        "print(\"Recall:\", recall)\n",
        "print(\"F1-Score:\", f1)"
      ],
      "metadata": {
        "colab": {
          "base_uri": "https://localhost:8080/"
        },
        "id": "ba4vrqTP1EaV",
        "outputId": "b8b4bdf5-f2e5-49b9-8085-a34d7a3fc25e"
      },
      "execution_count": 341,
      "outputs": [
        {
          "output_type": "stream",
          "name": "stdout",
          "text": [
            "Accuracy: 0.7991169977924945\n",
            "Precision: 0.784\n",
            "Recall: 0.8412017167381974\n",
            "F1-Score: 0.8115942028985508\n"
          ]
        }
      ]
    },
    {
      "cell_type": "code",
      "source": [
        "accuracy_list.append(accuracy)\n",
        "precision_list.append(precision)\n",
        "recall_list.append(recall)\n",
        "f1_list.append(f1)"
      ],
      "metadata": {
        "id": "5TGyntXx58aN"
      },
      "execution_count": 342,
      "outputs": []
    },
    {
      "cell_type": "markdown",
      "source": [
        "### K-Nearest Neighbors"
      ],
      "metadata": {
        "id": "TAWf2wJHRi_x"
      }
    },
    {
      "cell_type": "code",
      "source": [
        "knn = KNeighborsClassifier(n_neighbors=17)\n",
        "\n",
        "knn.fit(X_train, y_train)\n",
        "\n",
        "y_pred = knn.predict(X_test)\n",
        "\n",
        "\n",
        "print(\"Accuracy:\", accuracy_score(y_test, y_pred))\n",
        "print(\"Precision:\", precision_score(y_test, y_pred))\n",
        "print(\"Recall:\", recall_score(y_test, y_pred))\n",
        "print(\"F1-Score:\", f1_score(y_test, y_pred))"
      ],
      "metadata": {
        "id": "EIWfkL9bRlTT",
        "outputId": "955291cb-6407-41a4-84a6-1895d2cc920f",
        "colab": {
          "base_uri": "https://localhost:8080/"
        }
      },
      "execution_count": 343,
      "outputs": [
        {
          "output_type": "stream",
          "name": "stdout",
          "text": [
            "Accuracy: 0.7389380530973452\n",
            "Precision: 0.7242990654205608\n",
            "Recall: 0.7242990654205608\n",
            "F1-Score: 0.7242990654205608\n"
          ]
        }
      ]
    },
    {
      "cell_type": "markdown",
      "source": [
        "##### Validation"
      ],
      "metadata": {
        "id": "9FlrQJCe1ICm"
      }
    },
    {
      "cell_type": "code",
      "source": [
        "y_pred = knn.predict(X_valid)\n",
        "\n",
        "accuracy = accuracy_score(y_valid, y_pred)\n",
        "precision = precision_score(y_valid, y_pred)\n",
        "recall = recall_score(y_valid, y_pred)\n",
        "f1 = f1_score(y_valid, y_pred)\n",
        "print(\"Accuracy:\", accuracy)\n",
        "print(\"Precision:\", precision)\n",
        "print(\"Recall:\", recall)\n",
        "print(\"F1-Score:\", f1)"
      ],
      "metadata": {
        "colab": {
          "base_uri": "https://localhost:8080/"
        },
        "id": "YCOZW1aY1JfD",
        "outputId": "3dfc9cbf-8673-483e-f802-b83523ee153b"
      },
      "execution_count": 344,
      "outputs": [
        {
          "output_type": "stream",
          "name": "stdout",
          "text": [
            "Accuracy: 0.7726269315673289\n",
            "Precision: 0.7954545454545454\n",
            "Recall: 0.7510729613733905\n",
            "F1-Score: 0.7726269315673289\n"
          ]
        }
      ]
    },
    {
      "cell_type": "code",
      "source": [
        "accuracy_list.append(accuracy)\n",
        "precision_list.append(precision)\n",
        "recall_list.append(recall)\n",
        "f1_list.append(f1)"
      ],
      "metadata": {
        "id": "T3ZYQmAy59Q0"
      },
      "execution_count": 345,
      "outputs": []
    },
    {
      "cell_type": "markdown",
      "source": [
        "### Random Forest"
      ],
      "metadata": {
        "id": "1-BaW5KYfOQy"
      }
    },
    {
      "cell_type": "code",
      "source": [
        "rf = RandomForestClassifier(n_estimators=1800, max_depth=20)\n",
        "\n",
        "rf.fit(X_train, y_train)\n",
        "\n",
        "y_pred = rf.predict(X_test)\n",
        "\n",
        "\n",
        "print(\"Accuracy:\", accuracy_score(y_test, y_pred))\n",
        "print(\"Precision:\", precision_score(y_test, y_pred))\n",
        "print(\"Recall:\", recall_score(y_test, y_pred))\n",
        "print(\"F1-Score:\", f1_score(y_test, y_pred))"
      ],
      "metadata": {
        "id": "lV_S3dztdqS4",
        "outputId": "34ffa571-89be-4ffa-ef95-d705d008611e",
        "colab": {
          "base_uri": "https://localhost:8080/"
        }
      },
      "execution_count": 346,
      "outputs": [
        {
          "output_type": "stream",
          "name": "stdout",
          "text": [
            "Accuracy: 0.7853982300884956\n",
            "Precision: 0.7489361702127659\n",
            "Recall: 0.822429906542056\n",
            "F1-Score: 0.7839643652561247\n"
          ]
        }
      ]
    },
    {
      "cell_type": "markdown",
      "source": [
        "##### Validation"
      ],
      "metadata": {
        "id": "M0tp-dj61Uwx"
      }
    },
    {
      "cell_type": "code",
      "source": [
        "y_pred = rf.predict(X_valid)\n",
        "\n",
        "accuracy = accuracy_score(y_valid, y_pred)\n",
        "precision = precision_score(y_valid, y_pred)\n",
        "recall = recall_score(y_valid, y_pred)\n",
        "f1 = f1_score(y_valid, y_pred)\n",
        "print(\"Accuracy:\", accuracy)\n",
        "print(\"Precision:\", precision)\n",
        "print(\"Recall:\", recall)\n",
        "print(\"F1-Score:\", f1)"
      ],
      "metadata": {
        "colab": {
          "base_uri": "https://localhost:8080/"
        },
        "id": "N8c4crVu1WTY",
        "outputId": "51c7ba60-4a67-4fb5-af0d-8218214fa758"
      },
      "execution_count": 347,
      "outputs": [
        {
          "output_type": "stream",
          "name": "stdout",
          "text": [
            "Accuracy: 0.8057395143487859\n",
            "Precision: 0.7799227799227799\n",
            "Recall: 0.8669527896995708\n",
            "F1-Score: 0.8211382113821138\n"
          ]
        }
      ]
    },
    {
      "cell_type": "code",
      "source": [
        "accuracy_list.append(accuracy)\n",
        "precision_list.append(precision)\n",
        "recall_list.append(recall)\n",
        "f1_list.append(f1)"
      ],
      "metadata": {
        "id": "Xbpnzv3Y5-GJ"
      },
      "execution_count": 348,
      "outputs": []
    },
    {
      "cell_type": "markdown",
      "source": [
        "### XGBoost"
      ],
      "metadata": {
        "id": "jxeF4P0D5-nT"
      }
    },
    {
      "cell_type": "code",
      "source": [
        "xgb_model = xgb.XGBClassifier(learning_rate=0.1, n_estimators=250, max_depth=9)\n",
        "\n",
        "xgb_model.fit(X_train, y_train)\n",
        "\n",
        "y_pred = xgb_model.predict(X_test)\n",
        "\n",
        "\n",
        "print(\"Accuracy:\", accuracy_score(y_test, y_pred))\n",
        "print(\"Precision:\", precision_score(y_test, y_pred))\n",
        "print(\"Recall:\", recall_score(y_test, y_pred))\n",
        "print(\"F1-Score:\", f1_score(y_test, y_pred))"
      ],
      "metadata": {
        "colab": {
          "base_uri": "https://localhost:8080/"
        },
        "id": "cAFS_Eld5Bay",
        "outputId": "fcf9804d-df0a-417e-f3a9-d08ca27932fc"
      },
      "execution_count": 349,
      "outputs": [
        {
          "output_type": "stream",
          "name": "stdout",
          "text": [
            "Accuracy: 0.7743362831858407\n",
            "Precision: 0.7413793103448276\n",
            "Recall: 0.8037383177570093\n",
            "F1-Score: 0.7713004484304932\n"
          ]
        }
      ]
    },
    {
      "cell_type": "markdown",
      "source": [
        "##### Validation"
      ],
      "metadata": {
        "id": "g2KPuJq61cDi"
      }
    },
    {
      "cell_type": "code",
      "source": [
        "y_pred = xgb_model.predict(X_valid)\n",
        "\n",
        "accuracy = accuracy_score(y_valid, y_pred)\n",
        "precision = precision_score(y_valid, y_pred)\n",
        "recall = recall_score(y_valid, y_pred)\n",
        "f1 = f1_score(y_valid, y_pred)\n",
        "print(\"Accuracy:\", accuracy)\n",
        "print(\"Precision:\", precision)\n",
        "print(\"Recall:\", recall)\n",
        "print(\"F1-Score:\", f1)"
      ],
      "metadata": {
        "colab": {
          "base_uri": "https://localhost:8080/"
        },
        "id": "ecdQIVa31dWI",
        "outputId": "a1743228-198c-4659-b010-a14d171968c3"
      },
      "execution_count": 350,
      "outputs": [
        {
          "output_type": "stream",
          "name": "stdout",
          "text": [
            "Accuracy: 0.7858719646799117\n",
            "Precision: 0.7764227642276422\n",
            "Recall: 0.8197424892703863\n",
            "F1-Score: 0.7974947807933195\n"
          ]
        }
      ]
    },
    {
      "cell_type": "code",
      "source": [
        "accuracy_list.append(accuracy)\n",
        "precision_list.append(precision)\n",
        "recall_list.append(recall)\n",
        "f1_list.append(f1)"
      ],
      "metadata": {
        "id": "ylkqKyYE6RLp"
      },
      "execution_count": 351,
      "outputs": []
    },
    {
      "cell_type": "markdown",
      "source": [
        "### Model Metric Comparison"
      ],
      "metadata": {
        "id": "GypkTEke6R4j"
      }
    },
    {
      "cell_type": "code",
      "source": [
        "# create a table/chart with the metrics of all the models and figure out which performs the best\n",
        "data = [accuracy_list, precision_list, recall_list, f1_list]\n",
        "\n",
        "df_metrics = pd.DataFrame(data=data, columns=['Logistic Regression', 'Naive Bayes', 'SVM', 'K-Nearest Neighbors', 'Random Forest', 'XGBoost'],\n",
        "                          index=['Accuracy', 'Precision', 'Recall', 'F1-Score'])\n",
        "df_metrics"
      ],
      "metadata": {
        "id": "BA4jBZHwU5Kw",
        "colab": {
          "base_uri": "https://localhost:8080/",
          "height": 175
        },
        "outputId": "6eb14027-148e-4387-9801-b54329a633c4"
      },
      "execution_count": 352,
      "outputs": [
        {
          "output_type": "execute_result",
          "data": {
            "text/plain": [
              "           Logistic Regression  Naive Bayes       SVM  K-Nearest Neighbors  \\\n",
              "Accuracy              0.792494     0.766004  0.799117             0.772627   \n",
              "Precision             0.786008     0.777293  0.784000             0.795455   \n",
              "Recall                0.819742     0.763948  0.841202             0.751073   \n",
              "F1-Score              0.802521     0.770563  0.811594             0.772627   \n",
              "\n",
              "           Random Forest   XGBoost  \n",
              "Accuracy        0.805740  0.785872  \n",
              "Precision       0.779923  0.776423  \n",
              "Recall          0.866953  0.819742  \n",
              "F1-Score        0.821138  0.797495  "
            ],
            "text/html": [
              "\n",
              "  <div id=\"df-80c38238-4826-48f6-be34-70374a995987\" class=\"colab-df-container\">\n",
              "    <div>\n",
              "<style scoped>\n",
              "    .dataframe tbody tr th:only-of-type {\n",
              "        vertical-align: middle;\n",
              "    }\n",
              "\n",
              "    .dataframe tbody tr th {\n",
              "        vertical-align: top;\n",
              "    }\n",
              "\n",
              "    .dataframe thead th {\n",
              "        text-align: right;\n",
              "    }\n",
              "</style>\n",
              "<table border=\"1\" class=\"dataframe\">\n",
              "  <thead>\n",
              "    <tr style=\"text-align: right;\">\n",
              "      <th></th>\n",
              "      <th>Logistic Regression</th>\n",
              "      <th>Naive Bayes</th>\n",
              "      <th>SVM</th>\n",
              "      <th>K-Nearest Neighbors</th>\n",
              "      <th>Random Forest</th>\n",
              "      <th>XGBoost</th>\n",
              "    </tr>\n",
              "  </thead>\n",
              "  <tbody>\n",
              "    <tr>\n",
              "      <th>Accuracy</th>\n",
              "      <td>0.792494</td>\n",
              "      <td>0.766004</td>\n",
              "      <td>0.799117</td>\n",
              "      <td>0.772627</td>\n",
              "      <td>0.805740</td>\n",
              "      <td>0.785872</td>\n",
              "    </tr>\n",
              "    <tr>\n",
              "      <th>Precision</th>\n",
              "      <td>0.786008</td>\n",
              "      <td>0.777293</td>\n",
              "      <td>0.784000</td>\n",
              "      <td>0.795455</td>\n",
              "      <td>0.779923</td>\n",
              "      <td>0.776423</td>\n",
              "    </tr>\n",
              "    <tr>\n",
              "      <th>Recall</th>\n",
              "      <td>0.819742</td>\n",
              "      <td>0.763948</td>\n",
              "      <td>0.841202</td>\n",
              "      <td>0.751073</td>\n",
              "      <td>0.866953</td>\n",
              "      <td>0.819742</td>\n",
              "    </tr>\n",
              "    <tr>\n",
              "      <th>F1-Score</th>\n",
              "      <td>0.802521</td>\n",
              "      <td>0.770563</td>\n",
              "      <td>0.811594</td>\n",
              "      <td>0.772627</td>\n",
              "      <td>0.821138</td>\n",
              "      <td>0.797495</td>\n",
              "    </tr>\n",
              "  </tbody>\n",
              "</table>\n",
              "</div>\n",
              "    <div class=\"colab-df-buttons\">\n",
              "\n",
              "  <div class=\"colab-df-container\">\n",
              "    <button class=\"colab-df-convert\" onclick=\"convertToInteractive('df-80c38238-4826-48f6-be34-70374a995987')\"\n",
              "            title=\"Convert this dataframe to an interactive table.\"\n",
              "            style=\"display:none;\">\n",
              "\n",
              "  <svg xmlns=\"http://www.w3.org/2000/svg\" height=\"24px\" viewBox=\"0 -960 960 960\">\n",
              "    <path d=\"M120-120v-720h720v720H120Zm60-500h600v-160H180v160Zm220 220h160v-160H400v160Zm0 220h160v-160H400v160ZM180-400h160v-160H180v160Zm440 0h160v-160H620v160ZM180-180h160v-160H180v160Zm440 0h160v-160H620v160Z\"/>\n",
              "  </svg>\n",
              "    </button>\n",
              "\n",
              "  <style>\n",
              "    .colab-df-container {\n",
              "      display:flex;\n",
              "      gap: 12px;\n",
              "    }\n",
              "\n",
              "    .colab-df-convert {\n",
              "      background-color: #E8F0FE;\n",
              "      border: none;\n",
              "      border-radius: 50%;\n",
              "      cursor: pointer;\n",
              "      display: none;\n",
              "      fill: #1967D2;\n",
              "      height: 32px;\n",
              "      padding: 0 0 0 0;\n",
              "      width: 32px;\n",
              "    }\n",
              "\n",
              "    .colab-df-convert:hover {\n",
              "      background-color: #E2EBFA;\n",
              "      box-shadow: 0px 1px 2px rgba(60, 64, 67, 0.3), 0px 1px 3px 1px rgba(60, 64, 67, 0.15);\n",
              "      fill: #174EA6;\n",
              "    }\n",
              "\n",
              "    .colab-df-buttons div {\n",
              "      margin-bottom: 4px;\n",
              "    }\n",
              "\n",
              "    [theme=dark] .colab-df-convert {\n",
              "      background-color: #3B4455;\n",
              "      fill: #D2E3FC;\n",
              "    }\n",
              "\n",
              "    [theme=dark] .colab-df-convert:hover {\n",
              "      background-color: #434B5C;\n",
              "      box-shadow: 0px 1px 3px 1px rgba(0, 0, 0, 0.15);\n",
              "      filter: drop-shadow(0px 1px 2px rgba(0, 0, 0, 0.3));\n",
              "      fill: #FFFFFF;\n",
              "    }\n",
              "  </style>\n",
              "\n",
              "    <script>\n",
              "      const buttonEl =\n",
              "        document.querySelector('#df-80c38238-4826-48f6-be34-70374a995987 button.colab-df-convert');\n",
              "      buttonEl.style.display =\n",
              "        google.colab.kernel.accessAllowed ? 'block' : 'none';\n",
              "\n",
              "      async function convertToInteractive(key) {\n",
              "        const element = document.querySelector('#df-80c38238-4826-48f6-be34-70374a995987');\n",
              "        const dataTable =\n",
              "          await google.colab.kernel.invokeFunction('convertToInteractive',\n",
              "                                                    [key], {});\n",
              "        if (!dataTable) return;\n",
              "\n",
              "        const docLinkHtml = 'Like what you see? Visit the ' +\n",
              "          '<a target=\"_blank\" href=https://colab.research.google.com/notebooks/data_table.ipynb>data table notebook</a>'\n",
              "          + ' to learn more about interactive tables.';\n",
              "        element.innerHTML = '';\n",
              "        dataTable['output_type'] = 'display_data';\n",
              "        await google.colab.output.renderOutput(dataTable, element);\n",
              "        const docLink = document.createElement('div');\n",
              "        docLink.innerHTML = docLinkHtml;\n",
              "        element.appendChild(docLink);\n",
              "      }\n",
              "    </script>\n",
              "  </div>\n",
              "\n",
              "\n",
              "<div id=\"df-2a5cfc88-f88b-4906-ae53-7aff79b5f1d3\">\n",
              "  <button class=\"colab-df-quickchart\" onclick=\"quickchart('df-2a5cfc88-f88b-4906-ae53-7aff79b5f1d3')\"\n",
              "            title=\"Suggest charts\"\n",
              "            style=\"display:none;\">\n",
              "\n",
              "<svg xmlns=\"http://www.w3.org/2000/svg\" height=\"24px\"viewBox=\"0 0 24 24\"\n",
              "     width=\"24px\">\n",
              "    <g>\n",
              "        <path d=\"M19 3H5c-1.1 0-2 .9-2 2v14c0 1.1.9 2 2 2h14c1.1 0 2-.9 2-2V5c0-1.1-.9-2-2-2zM9 17H7v-7h2v7zm4 0h-2V7h2v10zm4 0h-2v-4h2v4z\"/>\n",
              "    </g>\n",
              "</svg>\n",
              "  </button>\n",
              "\n",
              "<style>\n",
              "  .colab-df-quickchart {\n",
              "      --bg-color: #E8F0FE;\n",
              "      --fill-color: #1967D2;\n",
              "      --hover-bg-color: #E2EBFA;\n",
              "      --hover-fill-color: #174EA6;\n",
              "      --disabled-fill-color: #AAA;\n",
              "      --disabled-bg-color: #DDD;\n",
              "  }\n",
              "\n",
              "  [theme=dark] .colab-df-quickchart {\n",
              "      --bg-color: #3B4455;\n",
              "      --fill-color: #D2E3FC;\n",
              "      --hover-bg-color: #434B5C;\n",
              "      --hover-fill-color: #FFFFFF;\n",
              "      --disabled-bg-color: #3B4455;\n",
              "      --disabled-fill-color: #666;\n",
              "  }\n",
              "\n",
              "  .colab-df-quickchart {\n",
              "    background-color: var(--bg-color);\n",
              "    border: none;\n",
              "    border-radius: 50%;\n",
              "    cursor: pointer;\n",
              "    display: none;\n",
              "    fill: var(--fill-color);\n",
              "    height: 32px;\n",
              "    padding: 0;\n",
              "    width: 32px;\n",
              "  }\n",
              "\n",
              "  .colab-df-quickchart:hover {\n",
              "    background-color: var(--hover-bg-color);\n",
              "    box-shadow: 0 1px 2px rgba(60, 64, 67, 0.3), 0 1px 3px 1px rgba(60, 64, 67, 0.15);\n",
              "    fill: var(--button-hover-fill-color);\n",
              "  }\n",
              "\n",
              "  .colab-df-quickchart-complete:disabled,\n",
              "  .colab-df-quickchart-complete:disabled:hover {\n",
              "    background-color: var(--disabled-bg-color);\n",
              "    fill: var(--disabled-fill-color);\n",
              "    box-shadow: none;\n",
              "  }\n",
              "\n",
              "  .colab-df-spinner {\n",
              "    border: 2px solid var(--fill-color);\n",
              "    border-color: transparent;\n",
              "    border-bottom-color: var(--fill-color);\n",
              "    animation:\n",
              "      spin 1s steps(1) infinite;\n",
              "  }\n",
              "\n",
              "  @keyframes spin {\n",
              "    0% {\n",
              "      border-color: transparent;\n",
              "      border-bottom-color: var(--fill-color);\n",
              "      border-left-color: var(--fill-color);\n",
              "    }\n",
              "    20% {\n",
              "      border-color: transparent;\n",
              "      border-left-color: var(--fill-color);\n",
              "      border-top-color: var(--fill-color);\n",
              "    }\n",
              "    30% {\n",
              "      border-color: transparent;\n",
              "      border-left-color: var(--fill-color);\n",
              "      border-top-color: var(--fill-color);\n",
              "      border-right-color: var(--fill-color);\n",
              "    }\n",
              "    40% {\n",
              "      border-color: transparent;\n",
              "      border-right-color: var(--fill-color);\n",
              "      border-top-color: var(--fill-color);\n",
              "    }\n",
              "    60% {\n",
              "      border-color: transparent;\n",
              "      border-right-color: var(--fill-color);\n",
              "    }\n",
              "    80% {\n",
              "      border-color: transparent;\n",
              "      border-right-color: var(--fill-color);\n",
              "      border-bottom-color: var(--fill-color);\n",
              "    }\n",
              "    90% {\n",
              "      border-color: transparent;\n",
              "      border-bottom-color: var(--fill-color);\n",
              "    }\n",
              "  }\n",
              "</style>\n",
              "\n",
              "  <script>\n",
              "    async function quickchart(key) {\n",
              "      const quickchartButtonEl =\n",
              "        document.querySelector('#' + key + ' button');\n",
              "      quickchartButtonEl.disabled = true;  // To prevent multiple clicks.\n",
              "      quickchartButtonEl.classList.add('colab-df-spinner');\n",
              "      try {\n",
              "        const charts = await google.colab.kernel.invokeFunction(\n",
              "            'suggestCharts', [key], {});\n",
              "      } catch (error) {\n",
              "        console.error('Error during call to suggestCharts:', error);\n",
              "      }\n",
              "      quickchartButtonEl.classList.remove('colab-df-spinner');\n",
              "      quickchartButtonEl.classList.add('colab-df-quickchart-complete');\n",
              "    }\n",
              "    (() => {\n",
              "      let quickchartButtonEl =\n",
              "        document.querySelector('#df-2a5cfc88-f88b-4906-ae53-7aff79b5f1d3 button');\n",
              "      quickchartButtonEl.style.display =\n",
              "        google.colab.kernel.accessAllowed ? 'block' : 'none';\n",
              "    })();\n",
              "  </script>\n",
              "</div>\n",
              "    </div>\n",
              "  </div>\n"
            ]
          },
          "metadata": {},
          "execution_count": 352
        }
      ]
    }
  ],
  "metadata": {
    "kernelspec": {
      "display_name": "Python 3",
      "language": "python",
      "name": "python3"
    },
    "language_info": {
      "codemirror_mode": {
        "name": "ipython",
        "version": 3
      },
      "file_extension": ".py",
      "mimetype": "text/x-python",
      "name": "python",
      "nbconvert_exporter": "python",
      "pygments_lexer": "ipython3",
      "version": "3.11.4"
    },
    "colab": {
      "provenance": [],
      "include_colab_link": true
    }
  },
  "nbformat": 4,
  "nbformat_minor": 0
}