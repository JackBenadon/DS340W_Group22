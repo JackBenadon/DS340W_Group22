{
  "cells": [
    {
      "cell_type": "markdown",
      "metadata": {
        "id": "view-in-github",
        "colab_type": "text"
      },
      "source": [
        "<a href=\"https://colab.research.google.com/github/JackBenadon/DS340W_Group22/blob/main/final_project.ipynb\" target=\"_parent\"><img src=\"https://colab.research.google.com/assets/colab-badge.svg\" alt=\"Open In Colab\"/></a>"
      ]
    },
    {
      "cell_type": "code",
      "source": [
        "from google.colab import drive\n",
        "drive.mount('/content/drive')"
      ],
      "metadata": {
        "colab": {
          "base_uri": "https://localhost:8080/"
        },
        "id": "ZXDzV9-rv3b-",
        "outputId": "0333203e-407a-4de5-ccff-c95451a8d4a9"
      },
      "execution_count": 4,
      "outputs": [
        {
          "output_type": "stream",
          "name": "stdout",
          "text": [
            "Drive already mounted at /content/drive; to attempt to forcibly remount, call drive.mount(\"/content/drive\", force_remount=True).\n"
          ]
        }
      ]
    },
    {
      "cell_type": "code",
      "execution_count": 5,
      "metadata": {
        "id": "IovT3H3Ts0qZ"
      },
      "outputs": [],
      "source": [
        "import numpy as np\n",
        "import pandas as pd\n",
        "import xgboost as xgb\n",
        "\n",
        "from sklearn.model_selection import train_test_split, GridSearchCV\n",
        "from sklearn.linear_model import LassoCV, LogisticRegression\n",
        "from sklearn.svm import SVC\n",
        "from sklearn.neighbors import KNeighborsClassifier\n",
        "from sklearn.tree import DecisionTreeClassifier\n",
        "from sklearn.ensemble import RandomForestClassifier\n",
        "from sklearn.naive_bayes import GaussianNB\n",
        "from sklearn.preprocessing import StandardScaler\n",
        "from sklearn.metrics import accuracy_score, precision_score, recall_score, f1_score\n",
        "from imblearn.under_sampling import RandomUnderSampler"
      ]
    },
    {
      "cell_type": "code",
      "execution_count": 6,
      "metadata": {
        "id": "FqceX2oTs0qa",
        "outputId": "a6785c01-b062-46b5-e75d-4463b6c4a35c",
        "colab": {
          "base_uri": "https://localhost:8080/",
          "height": 496
        }
      },
      "outputs": [
        {
          "output_type": "execute_result",
          "data": {
            "text/plain": [
              "        SEQN  Gender  Age  Annual-Family-Income  Ratio-Family-Income-Poverty  \\\n",
              "0          2       1   77                     8                         5.00   \n",
              "1          5       1   49                    11                         5.00   \n",
              "2         12       1   37                    11                         4.93   \n",
              "3         13       1   70                     3                         1.07   \n",
              "4         14       1   81                     5                         2.67   \n",
              "...      ...     ...  ...                   ...                          ...   \n",
              "37074  93691       1   25                    10                         1.59   \n",
              "37075  93695       2   76                     4                         1.43   \n",
              "37076  93697       2   80                     7                         2.97   \n",
              "37077  93700       1   35                     1                         0.00   \n",
              "37078  93702       2   24                     7                         3.54   \n",
              "\n",
              "       X60-sec-pulse  Systolic  Diastolic  Weight  Height  ...  \\\n",
              "0                 68        98         56    75.4   174.0  ...   \n",
              "1                 66       122         83    92.5   178.3  ...   \n",
              "2                 64       174         99    99.2   180.0  ...   \n",
              "3                102       130         66    63.6   157.7  ...   \n",
              "4                 72       136         61    75.5   166.2  ...   \n",
              "...              ...       ...        ...     ...     ...  ...   \n",
              "37074             92       112         76    39.2   136.5  ...   \n",
              "37075             78       112         46    59.1   165.8  ...   \n",
              "37076             74       146         58    71.7   152.2  ...   \n",
              "37077             76       106         66    78.2   173.3  ...   \n",
              "37078             80       114         68    58.3   165.0  ...   \n",
              "\n",
              "       Total-Cholesterol   HDL  Glycohemoglobin  Vigorous-work  Moderate-work  \\\n",
              "0                   5.56  1.39              4.7              3              3   \n",
              "1                   7.21  1.08              5.5              1              1   \n",
              "2                   4.03  0.98              5.2              2              1   \n",
              "3                   8.12  1.28              7.6              3              3   \n",
              "4                   4.50  1.04              5.8              1              1   \n",
              "...                  ...   ...              ...            ...            ...   \n",
              "37074               4.14  1.27              5.8              2              2   \n",
              "37075               3.62  1.76              5.6              2              2   \n",
              "37076               6.62  2.90              5.7              2              2   \n",
              "37077               3.72  1.09              5.2              2              2   \n",
              "37078               4.14  1.89              4.6              2              2   \n",
              "\n",
              "       Health-Insurance  Diabetes  Blood-Rel-Diabetes  Blood-Rel-Stroke  \\\n",
              "0                     1         2                   2                 2   \n",
              "1                     1         2                   2                 2   \n",
              "2                     1         2                   1                 1   \n",
              "3                     1         1                   1                 2   \n",
              "4                     1         2                   2                 2   \n",
              "...                 ...       ...                 ...               ...   \n",
              "37074                 1         2                   1                 2   \n",
              "37075                 1         2                   2                 2   \n",
              "37076                 1         2                   2                 2   \n",
              "37077                 1         2                   2                 1   \n",
              "37078                 1         2                   2                 2   \n",
              "\n",
              "       CoronaryHeartDisease  \n",
              "0                         0  \n",
              "1                         0  \n",
              "2                         0  \n",
              "3                         0  \n",
              "4                         0  \n",
              "...                     ...  \n",
              "37074                     0  \n",
              "37075                     0  \n",
              "37076                     0  \n",
              "37077                     0  \n",
              "37078                     0  \n",
              "\n",
              "[37079 rows x 51 columns]"
            ],
            "text/html": [
              "\n",
              "  <div id=\"df-db9b524e-97ce-4e89-91e4-6d0414847a6d\" class=\"colab-df-container\">\n",
              "    <div>\n",
              "<style scoped>\n",
              "    .dataframe tbody tr th:only-of-type {\n",
              "        vertical-align: middle;\n",
              "    }\n",
              "\n",
              "    .dataframe tbody tr th {\n",
              "        vertical-align: top;\n",
              "    }\n",
              "\n",
              "    .dataframe thead th {\n",
              "        text-align: right;\n",
              "    }\n",
              "</style>\n",
              "<table border=\"1\" class=\"dataframe\">\n",
              "  <thead>\n",
              "    <tr style=\"text-align: right;\">\n",
              "      <th></th>\n",
              "      <th>SEQN</th>\n",
              "      <th>Gender</th>\n",
              "      <th>Age</th>\n",
              "      <th>Annual-Family-Income</th>\n",
              "      <th>Ratio-Family-Income-Poverty</th>\n",
              "      <th>X60-sec-pulse</th>\n",
              "      <th>Systolic</th>\n",
              "      <th>Diastolic</th>\n",
              "      <th>Weight</th>\n",
              "      <th>Height</th>\n",
              "      <th>...</th>\n",
              "      <th>Total-Cholesterol</th>\n",
              "      <th>HDL</th>\n",
              "      <th>Glycohemoglobin</th>\n",
              "      <th>Vigorous-work</th>\n",
              "      <th>Moderate-work</th>\n",
              "      <th>Health-Insurance</th>\n",
              "      <th>Diabetes</th>\n",
              "      <th>Blood-Rel-Diabetes</th>\n",
              "      <th>Blood-Rel-Stroke</th>\n",
              "      <th>CoronaryHeartDisease</th>\n",
              "    </tr>\n",
              "  </thead>\n",
              "  <tbody>\n",
              "    <tr>\n",
              "      <th>0</th>\n",
              "      <td>2</td>\n",
              "      <td>1</td>\n",
              "      <td>77</td>\n",
              "      <td>8</td>\n",
              "      <td>5.00</td>\n",
              "      <td>68</td>\n",
              "      <td>98</td>\n",
              "      <td>56</td>\n",
              "      <td>75.4</td>\n",
              "      <td>174.0</td>\n",
              "      <td>...</td>\n",
              "      <td>5.56</td>\n",
              "      <td>1.39</td>\n",
              "      <td>4.7</td>\n",
              "      <td>3</td>\n",
              "      <td>3</td>\n",
              "      <td>1</td>\n",
              "      <td>2</td>\n",
              "      <td>2</td>\n",
              "      <td>2</td>\n",
              "      <td>0</td>\n",
              "    </tr>\n",
              "    <tr>\n",
              "      <th>1</th>\n",
              "      <td>5</td>\n",
              "      <td>1</td>\n",
              "      <td>49</td>\n",
              "      <td>11</td>\n",
              "      <td>5.00</td>\n",
              "      <td>66</td>\n",
              "      <td>122</td>\n",
              "      <td>83</td>\n",
              "      <td>92.5</td>\n",
              "      <td>178.3</td>\n",
              "      <td>...</td>\n",
              "      <td>7.21</td>\n",
              "      <td>1.08</td>\n",
              "      <td>5.5</td>\n",
              "      <td>1</td>\n",
              "      <td>1</td>\n",
              "      <td>1</td>\n",
              "      <td>2</td>\n",
              "      <td>2</td>\n",
              "      <td>2</td>\n",
              "      <td>0</td>\n",
              "    </tr>\n",
              "    <tr>\n",
              "      <th>2</th>\n",
              "      <td>12</td>\n",
              "      <td>1</td>\n",
              "      <td>37</td>\n",
              "      <td>11</td>\n",
              "      <td>4.93</td>\n",
              "      <td>64</td>\n",
              "      <td>174</td>\n",
              "      <td>99</td>\n",
              "      <td>99.2</td>\n",
              "      <td>180.0</td>\n",
              "      <td>...</td>\n",
              "      <td>4.03</td>\n",
              "      <td>0.98</td>\n",
              "      <td>5.2</td>\n",
              "      <td>2</td>\n",
              "      <td>1</td>\n",
              "      <td>1</td>\n",
              "      <td>2</td>\n",
              "      <td>1</td>\n",
              "      <td>1</td>\n",
              "      <td>0</td>\n",
              "    </tr>\n",
              "    <tr>\n",
              "      <th>3</th>\n",
              "      <td>13</td>\n",
              "      <td>1</td>\n",
              "      <td>70</td>\n",
              "      <td>3</td>\n",
              "      <td>1.07</td>\n",
              "      <td>102</td>\n",
              "      <td>130</td>\n",
              "      <td>66</td>\n",
              "      <td>63.6</td>\n",
              "      <td>157.7</td>\n",
              "      <td>...</td>\n",
              "      <td>8.12</td>\n",
              "      <td>1.28</td>\n",
              "      <td>7.6</td>\n",
              "      <td>3</td>\n",
              "      <td>3</td>\n",
              "      <td>1</td>\n",
              "      <td>1</td>\n",
              "      <td>1</td>\n",
              "      <td>2</td>\n",
              "      <td>0</td>\n",
              "    </tr>\n",
              "    <tr>\n",
              "      <th>4</th>\n",
              "      <td>14</td>\n",
              "      <td>1</td>\n",
              "      <td>81</td>\n",
              "      <td>5</td>\n",
              "      <td>2.67</td>\n",
              "      <td>72</td>\n",
              "      <td>136</td>\n",
              "      <td>61</td>\n",
              "      <td>75.5</td>\n",
              "      <td>166.2</td>\n",
              "      <td>...</td>\n",
              "      <td>4.50</td>\n",
              "      <td>1.04</td>\n",
              "      <td>5.8</td>\n",
              "      <td>1</td>\n",
              "      <td>1</td>\n",
              "      <td>1</td>\n",
              "      <td>2</td>\n",
              "      <td>2</td>\n",
              "      <td>2</td>\n",
              "      <td>0</td>\n",
              "    </tr>\n",
              "    <tr>\n",
              "      <th>...</th>\n",
              "      <td>...</td>\n",
              "      <td>...</td>\n",
              "      <td>...</td>\n",
              "      <td>...</td>\n",
              "      <td>...</td>\n",
              "      <td>...</td>\n",
              "      <td>...</td>\n",
              "      <td>...</td>\n",
              "      <td>...</td>\n",
              "      <td>...</td>\n",
              "      <td>...</td>\n",
              "      <td>...</td>\n",
              "      <td>...</td>\n",
              "      <td>...</td>\n",
              "      <td>...</td>\n",
              "      <td>...</td>\n",
              "      <td>...</td>\n",
              "      <td>...</td>\n",
              "      <td>...</td>\n",
              "      <td>...</td>\n",
              "      <td>...</td>\n",
              "    </tr>\n",
              "    <tr>\n",
              "      <th>37074</th>\n",
              "      <td>93691</td>\n",
              "      <td>1</td>\n",
              "      <td>25</td>\n",
              "      <td>10</td>\n",
              "      <td>1.59</td>\n",
              "      <td>92</td>\n",
              "      <td>112</td>\n",
              "      <td>76</td>\n",
              "      <td>39.2</td>\n",
              "      <td>136.5</td>\n",
              "      <td>...</td>\n",
              "      <td>4.14</td>\n",
              "      <td>1.27</td>\n",
              "      <td>5.8</td>\n",
              "      <td>2</td>\n",
              "      <td>2</td>\n",
              "      <td>1</td>\n",
              "      <td>2</td>\n",
              "      <td>1</td>\n",
              "      <td>2</td>\n",
              "      <td>0</td>\n",
              "    </tr>\n",
              "    <tr>\n",
              "      <th>37075</th>\n",
              "      <td>93695</td>\n",
              "      <td>2</td>\n",
              "      <td>76</td>\n",
              "      <td>4</td>\n",
              "      <td>1.43</td>\n",
              "      <td>78</td>\n",
              "      <td>112</td>\n",
              "      <td>46</td>\n",
              "      <td>59.1</td>\n",
              "      <td>165.8</td>\n",
              "      <td>...</td>\n",
              "      <td>3.62</td>\n",
              "      <td>1.76</td>\n",
              "      <td>5.6</td>\n",
              "      <td>2</td>\n",
              "      <td>2</td>\n",
              "      <td>1</td>\n",
              "      <td>2</td>\n",
              "      <td>2</td>\n",
              "      <td>2</td>\n",
              "      <td>0</td>\n",
              "    </tr>\n",
              "    <tr>\n",
              "      <th>37076</th>\n",
              "      <td>93697</td>\n",
              "      <td>2</td>\n",
              "      <td>80</td>\n",
              "      <td>7</td>\n",
              "      <td>2.97</td>\n",
              "      <td>74</td>\n",
              "      <td>146</td>\n",
              "      <td>58</td>\n",
              "      <td>71.7</td>\n",
              "      <td>152.2</td>\n",
              "      <td>...</td>\n",
              "      <td>6.62</td>\n",
              "      <td>2.90</td>\n",
              "      <td>5.7</td>\n",
              "      <td>2</td>\n",
              "      <td>2</td>\n",
              "      <td>1</td>\n",
              "      <td>2</td>\n",
              "      <td>2</td>\n",
              "      <td>2</td>\n",
              "      <td>0</td>\n",
              "    </tr>\n",
              "    <tr>\n",
              "      <th>37077</th>\n",
              "      <td>93700</td>\n",
              "      <td>1</td>\n",
              "      <td>35</td>\n",
              "      <td>1</td>\n",
              "      <td>0.00</td>\n",
              "      <td>76</td>\n",
              "      <td>106</td>\n",
              "      <td>66</td>\n",
              "      <td>78.2</td>\n",
              "      <td>173.3</td>\n",
              "      <td>...</td>\n",
              "      <td>3.72</td>\n",
              "      <td>1.09</td>\n",
              "      <td>5.2</td>\n",
              "      <td>2</td>\n",
              "      <td>2</td>\n",
              "      <td>1</td>\n",
              "      <td>2</td>\n",
              "      <td>2</td>\n",
              "      <td>1</td>\n",
              "      <td>0</td>\n",
              "    </tr>\n",
              "    <tr>\n",
              "      <th>37078</th>\n",
              "      <td>93702</td>\n",
              "      <td>2</td>\n",
              "      <td>24</td>\n",
              "      <td>7</td>\n",
              "      <td>3.54</td>\n",
              "      <td>80</td>\n",
              "      <td>114</td>\n",
              "      <td>68</td>\n",
              "      <td>58.3</td>\n",
              "      <td>165.0</td>\n",
              "      <td>...</td>\n",
              "      <td>4.14</td>\n",
              "      <td>1.89</td>\n",
              "      <td>4.6</td>\n",
              "      <td>2</td>\n",
              "      <td>2</td>\n",
              "      <td>1</td>\n",
              "      <td>2</td>\n",
              "      <td>2</td>\n",
              "      <td>2</td>\n",
              "      <td>0</td>\n",
              "    </tr>\n",
              "  </tbody>\n",
              "</table>\n",
              "<p>37079 rows × 51 columns</p>\n",
              "</div>\n",
              "    <div class=\"colab-df-buttons\">\n",
              "\n",
              "  <div class=\"colab-df-container\">\n",
              "    <button class=\"colab-df-convert\" onclick=\"convertToInteractive('df-db9b524e-97ce-4e89-91e4-6d0414847a6d')\"\n",
              "            title=\"Convert this dataframe to an interactive table.\"\n",
              "            style=\"display:none;\">\n",
              "\n",
              "  <svg xmlns=\"http://www.w3.org/2000/svg\" height=\"24px\" viewBox=\"0 -960 960 960\">\n",
              "    <path d=\"M120-120v-720h720v720H120Zm60-500h600v-160H180v160Zm220 220h160v-160H400v160Zm0 220h160v-160H400v160ZM180-400h160v-160H180v160Zm440 0h160v-160H620v160ZM180-180h160v-160H180v160Zm440 0h160v-160H620v160Z\"/>\n",
              "  </svg>\n",
              "    </button>\n",
              "\n",
              "  <style>\n",
              "    .colab-df-container {\n",
              "      display:flex;\n",
              "      gap: 12px;\n",
              "    }\n",
              "\n",
              "    .colab-df-convert {\n",
              "      background-color: #E8F0FE;\n",
              "      border: none;\n",
              "      border-radius: 50%;\n",
              "      cursor: pointer;\n",
              "      display: none;\n",
              "      fill: #1967D2;\n",
              "      height: 32px;\n",
              "      padding: 0 0 0 0;\n",
              "      width: 32px;\n",
              "    }\n",
              "\n",
              "    .colab-df-convert:hover {\n",
              "      background-color: #E2EBFA;\n",
              "      box-shadow: 0px 1px 2px rgba(60, 64, 67, 0.3), 0px 1px 3px 1px rgba(60, 64, 67, 0.15);\n",
              "      fill: #174EA6;\n",
              "    }\n",
              "\n",
              "    .colab-df-buttons div {\n",
              "      margin-bottom: 4px;\n",
              "    }\n",
              "\n",
              "    [theme=dark] .colab-df-convert {\n",
              "      background-color: #3B4455;\n",
              "      fill: #D2E3FC;\n",
              "    }\n",
              "\n",
              "    [theme=dark] .colab-df-convert:hover {\n",
              "      background-color: #434B5C;\n",
              "      box-shadow: 0px 1px 3px 1px rgba(0, 0, 0, 0.15);\n",
              "      filter: drop-shadow(0px 1px 2px rgba(0, 0, 0, 0.3));\n",
              "      fill: #FFFFFF;\n",
              "    }\n",
              "  </style>\n",
              "\n",
              "    <script>\n",
              "      const buttonEl =\n",
              "        document.querySelector('#df-db9b524e-97ce-4e89-91e4-6d0414847a6d button.colab-df-convert');\n",
              "      buttonEl.style.display =\n",
              "        google.colab.kernel.accessAllowed ? 'block' : 'none';\n",
              "\n",
              "      async function convertToInteractive(key) {\n",
              "        const element = document.querySelector('#df-db9b524e-97ce-4e89-91e4-6d0414847a6d');\n",
              "        const dataTable =\n",
              "          await google.colab.kernel.invokeFunction('convertToInteractive',\n",
              "                                                    [key], {});\n",
              "        if (!dataTable) return;\n",
              "\n",
              "        const docLinkHtml = 'Like what you see? Visit the ' +\n",
              "          '<a target=\"_blank\" href=https://colab.research.google.com/notebooks/data_table.ipynb>data table notebook</a>'\n",
              "          + ' to learn more about interactive tables.';\n",
              "        element.innerHTML = '';\n",
              "        dataTable['output_type'] = 'display_data';\n",
              "        await google.colab.output.renderOutput(dataTable, element);\n",
              "        const docLink = document.createElement('div');\n",
              "        docLink.innerHTML = docLinkHtml;\n",
              "        element.appendChild(docLink);\n",
              "      }\n",
              "    </script>\n",
              "  </div>\n",
              "\n",
              "\n",
              "<div id=\"df-6343697c-9020-4434-adc3-e399b27a238f\">\n",
              "  <button class=\"colab-df-quickchart\" onclick=\"quickchart('df-6343697c-9020-4434-adc3-e399b27a238f')\"\n",
              "            title=\"Suggest charts\"\n",
              "            style=\"display:none;\">\n",
              "\n",
              "<svg xmlns=\"http://www.w3.org/2000/svg\" height=\"24px\"viewBox=\"0 0 24 24\"\n",
              "     width=\"24px\">\n",
              "    <g>\n",
              "        <path d=\"M19 3H5c-1.1 0-2 .9-2 2v14c0 1.1.9 2 2 2h14c1.1 0 2-.9 2-2V5c0-1.1-.9-2-2-2zM9 17H7v-7h2v7zm4 0h-2V7h2v10zm4 0h-2v-4h2v4z\"/>\n",
              "    </g>\n",
              "</svg>\n",
              "  </button>\n",
              "\n",
              "<style>\n",
              "  .colab-df-quickchart {\n",
              "      --bg-color: #E8F0FE;\n",
              "      --fill-color: #1967D2;\n",
              "      --hover-bg-color: #E2EBFA;\n",
              "      --hover-fill-color: #174EA6;\n",
              "      --disabled-fill-color: #AAA;\n",
              "      --disabled-bg-color: #DDD;\n",
              "  }\n",
              "\n",
              "  [theme=dark] .colab-df-quickchart {\n",
              "      --bg-color: #3B4455;\n",
              "      --fill-color: #D2E3FC;\n",
              "      --hover-bg-color: #434B5C;\n",
              "      --hover-fill-color: #FFFFFF;\n",
              "      --disabled-bg-color: #3B4455;\n",
              "      --disabled-fill-color: #666;\n",
              "  }\n",
              "\n",
              "  .colab-df-quickchart {\n",
              "    background-color: var(--bg-color);\n",
              "    border: none;\n",
              "    border-radius: 50%;\n",
              "    cursor: pointer;\n",
              "    display: none;\n",
              "    fill: var(--fill-color);\n",
              "    height: 32px;\n",
              "    padding: 0;\n",
              "    width: 32px;\n",
              "  }\n",
              "\n",
              "  .colab-df-quickchart:hover {\n",
              "    background-color: var(--hover-bg-color);\n",
              "    box-shadow: 0 1px 2px rgba(60, 64, 67, 0.3), 0 1px 3px 1px rgba(60, 64, 67, 0.15);\n",
              "    fill: var(--button-hover-fill-color);\n",
              "  }\n",
              "\n",
              "  .colab-df-quickchart-complete:disabled,\n",
              "  .colab-df-quickchart-complete:disabled:hover {\n",
              "    background-color: var(--disabled-bg-color);\n",
              "    fill: var(--disabled-fill-color);\n",
              "    box-shadow: none;\n",
              "  }\n",
              "\n",
              "  .colab-df-spinner {\n",
              "    border: 2px solid var(--fill-color);\n",
              "    border-color: transparent;\n",
              "    border-bottom-color: var(--fill-color);\n",
              "    animation:\n",
              "      spin 1s steps(1) infinite;\n",
              "  }\n",
              "\n",
              "  @keyframes spin {\n",
              "    0% {\n",
              "      border-color: transparent;\n",
              "      border-bottom-color: var(--fill-color);\n",
              "      border-left-color: var(--fill-color);\n",
              "    }\n",
              "    20% {\n",
              "      border-color: transparent;\n",
              "      border-left-color: var(--fill-color);\n",
              "      border-top-color: var(--fill-color);\n",
              "    }\n",
              "    30% {\n",
              "      border-color: transparent;\n",
              "      border-left-color: var(--fill-color);\n",
              "      border-top-color: var(--fill-color);\n",
              "      border-right-color: var(--fill-color);\n",
              "    }\n",
              "    40% {\n",
              "      border-color: transparent;\n",
              "      border-right-color: var(--fill-color);\n",
              "      border-top-color: var(--fill-color);\n",
              "    }\n",
              "    60% {\n",
              "      border-color: transparent;\n",
              "      border-right-color: var(--fill-color);\n",
              "    }\n",
              "    80% {\n",
              "      border-color: transparent;\n",
              "      border-right-color: var(--fill-color);\n",
              "      border-bottom-color: var(--fill-color);\n",
              "    }\n",
              "    90% {\n",
              "      border-color: transparent;\n",
              "      border-bottom-color: var(--fill-color);\n",
              "    }\n",
              "  }\n",
              "</style>\n",
              "\n",
              "  <script>\n",
              "    async function quickchart(key) {\n",
              "      const quickchartButtonEl =\n",
              "        document.querySelector('#' + key + ' button');\n",
              "      quickchartButtonEl.disabled = true;  // To prevent multiple clicks.\n",
              "      quickchartButtonEl.classList.add('colab-df-spinner');\n",
              "      try {\n",
              "        const charts = await google.colab.kernel.invokeFunction(\n",
              "            'suggestCharts', [key], {});\n",
              "      } catch (error) {\n",
              "        console.error('Error during call to suggestCharts:', error);\n",
              "      }\n",
              "      quickchartButtonEl.classList.remove('colab-df-spinner');\n",
              "      quickchartButtonEl.classList.add('colab-df-quickchart-complete');\n",
              "    }\n",
              "    (() => {\n",
              "      let quickchartButtonEl =\n",
              "        document.querySelector('#df-6343697c-9020-4434-adc3-e399b27a238f button');\n",
              "      quickchartButtonEl.style.display =\n",
              "        google.colab.kernel.accessAllowed ? 'block' : 'none';\n",
              "    })();\n",
              "  </script>\n",
              "</div>\n",
              "    </div>\n",
              "  </div>\n"
            ]
          },
          "metadata": {},
          "execution_count": 6
        }
      ],
      "source": [
        "df = pd.read_csv('CardiacPrediction.csv')\n",
        "df"
      ]
    },
    {
      "cell_type": "markdown",
      "source": [
        "## Exploratory Data Analysis"
      ],
      "metadata": {
        "id": "pzT6cY9EhUWK"
      }
    },
    {
      "cell_type": "code",
      "source": [
        "#Removes unimportant variables as shown in Research Paper 2\n",
        "df.drop(['SEQN','Annual-Family-Income','Height','Ratio-Family-Income-Poverty','X60-sec-pulse',\n",
        "          'Health-Insurance','Lymphocyte','Monocyte','Eosinophils','Total-Cholesterol','Mean-Cell-Vol','Mean-Cell-Hgb-Conc.','Hematocrit','Segmented-Neutrophils'], axis = 1, inplace=True)"
      ],
      "metadata": {
        "id": "riRt39TkapPH"
      },
      "execution_count": 7,
      "outputs": []
    },
    {
      "cell_type": "code",
      "source": [
        "#All Columns in the dataset\n",
        "df.columns"
      ],
      "metadata": {
        "colab": {
          "base_uri": "https://localhost:8080/"
        },
        "id": "WWTtkbP5ayxy",
        "outputId": "ceebb096-cfde-46f5-bd6c-c54d15a26e13"
      },
      "execution_count": 8,
      "outputs": [
        {
          "output_type": "execute_result",
          "data": {
            "text/plain": [
              "Index(['Gender', 'Age', 'Systolic', 'Diastolic', 'Weight', 'Body-Mass-Index',\n",
              "       'White-Blood-Cells', 'Basophils', 'Red-Blood-Cells', 'Hemoglobin',\n",
              "       'Mean-cell-Hemoglobin', 'Platelet-count', 'Mean-Platelet-Vol',\n",
              "       'Red-Cell-Distribution-Width', 'Albumin', 'ALP', 'AST', 'ALT',\n",
              "       'Cholesterol', 'Creatinine', 'Glucose', 'GGT', 'Iron', 'LDH',\n",
              "       'Phosphorus', 'Bilirubin', 'Protein', 'Uric.Acid', 'Triglycerides',\n",
              "       'HDL', 'Glycohemoglobin', 'Vigorous-work', 'Moderate-work', 'Diabetes',\n",
              "       'Blood-Rel-Diabetes', 'Blood-Rel-Stroke', 'CoronaryHeartDisease'],\n",
              "      dtype='object')"
            ]
          },
          "metadata": {},
          "execution_count": 8
        }
      ]
    },
    {
      "cell_type": "code",
      "source": [
        "heartDiseaseCount = (df['CoronaryHeartDisease'] == 1).sum()\n",
        "noHeartDiseaseCount = (df['CoronaryHeartDisease'] == 0).sum()\n",
        "print(f'People with heart disease: {heartDiseaseCount} \\nPeople without heart disease: {noHeartDiseaseCount}')"
      ],
      "metadata": {
        "colab": {
          "base_uri": "https://localhost:8080/"
        },
        "id": "nJABib5fa0kv",
        "outputId": "3a8dcf94-2a05-4501-daec-05a907ac8e6b"
      },
      "execution_count": 9,
      "outputs": [
        {
          "output_type": "stream",
          "name": "stdout",
          "text": [
            "People with heart disease: 1508 \n",
            "People without heart disease: 35571\n"
          ]
        }
      ]
    },
    {
      "cell_type": "code",
      "source": [
        "#importing packages for vizualizations\n",
        "import seaborn as sns\n",
        "import matplotlib.pyplot as plt\n",
        "\n",
        "%matplotlib inline\n",
        "\n",
        "import os\n",
        "print(os.listdir())\n",
        "\n",
        "import warnings\n",
        "warnings.filterwarnings('ignore')"
      ],
      "metadata": {
        "colab": {
          "base_uri": "https://localhost:8080/"
        },
        "id": "oj-nnEWyJ-ls",
        "outputId": "6d1149c9-3719-45fd-dab5-dae6913bef9a"
      },
      "execution_count": 10,
      "outputs": [
        {
          "output_type": "stream",
          "name": "stdout",
          "text": [
            "['.config', 'CardiacPrediction.csv', 'drive', 'sample_data']\n"
          ]
        }
      ]
    },
    {
      "cell_type": "code",
      "source": [
        "print(df.corr()[\"CoronaryHeartDisease\"].sort_values(ascending=False))"
      ],
      "metadata": {
        "colab": {
          "base_uri": "https://localhost:8080/"
        },
        "id": "IiJxjVGIKGOO",
        "outputId": "a7311882-fd84-40d8-f1aa-b9908f91e050"
      },
      "execution_count": 11,
      "outputs": [
        {
          "output_type": "stream",
          "name": "stdout",
          "text": [
            "CoronaryHeartDisease           1.000000\n",
            "Age                            0.222649\n",
            "Creatinine                     0.114318\n",
            "Glycohemoglobin                0.101517\n",
            "Uric.Acid                      0.098907\n",
            "Glucose                        0.086754\n",
            "Systolic                       0.080224\n",
            "Red-Cell-Distribution-Width    0.074316\n",
            "LDH                            0.072073\n",
            "Vigorous-work                  0.054506\n",
            "Triglycerides                  0.034160\n",
            "Bilirubin                      0.030407\n",
            "Weight                         0.029003\n",
            "ALP                            0.028672\n",
            "Moderate-work                  0.022683\n",
            "Body-Mass-Index                0.022211\n",
            "GGT                            0.014732\n",
            "White-Blood-Cells              0.011565\n",
            "Mean-Platelet-Vol              0.008768\n",
            "AST                            0.008149\n",
            "Basophils                     -0.000105\n",
            "ALT                           -0.004512\n",
            "Mean-cell-Hemoglobin          -0.014665\n",
            "Hemoglobin                    -0.015201\n",
            "Iron                          -0.018252\n",
            "Phosphorus                    -0.018926\n",
            "Blood-Rel-Diabetes            -0.022681\n",
            "Protein                       -0.032476\n",
            "Albumin                       -0.040003\n",
            "Red-Blood-Cells               -0.041537\n",
            "Blood-Rel-Stroke              -0.048676\n",
            "Diastolic                     -0.060056\n",
            "HDL                           -0.061300\n",
            "Gender                        -0.078408\n",
            "Platelet-count                -0.085917\n",
            "Cholesterol                   -0.089392\n",
            "Diabetes                      -0.111777\n",
            "Name: CoronaryHeartDisease, dtype: float64\n"
          ]
        }
      ]
    },
    {
      "cell_type": "code",
      "source": [
        "#find correlation matrix\n",
        "corr_mat=df.corr()\n",
        "#Select variables have more than 0.09 or less than -0.09 correlation with the target variable(CoronaryHeartDisease)\n",
        "chosen_variable=corr_mat[abs(corr_mat[\"CoronaryHeartDisease\"])>0.09].index\n",
        "#plot the heatmap\n",
        "plt.figure(figsize=(12,12))\n",
        "ax = sns.heatmap(df[chosen_variable].corr(),annot=True,cmap='RdBu')"
      ],
      "metadata": {
        "colab": {
          "base_uri": "https://localhost:8080/",
          "height": 990
        },
        "id": "9f7kTbLIKAzS",
        "outputId": "8d61a061-6b36-4b81-a6f3-050d16ec7fd6"
      },
      "execution_count": 12,
      "outputs": [
        {
          "output_type": "display_data",
          "data": {
            "text/plain": [
              "<Figure size 1200x1200 with 2 Axes>"
            ],
            "image/png": "[encoded data removed]"
          },
          "metadata": {}
        }
      ]
    },
    {
      "cell_type": "code",
      "source": [
        "#Analysing the target variable\n",
        "y = df[\"CoronaryHeartDisease\"]\n",
        "\n",
        "sns.countplot(y)\n",
        "\n",
        "target_temp = df.CoronaryHeartDisease.value_counts()\n",
        "\n",
        "print(target_temp)"
      ],
      "metadata": {
        "colab": {
          "base_uri": "https://localhost:8080/",
          "height": 482
        },
        "id": "Pk3d50lRKshh",
        "outputId": "f795f1be-bea2-4a5b-c287-58e80dbf30bf"
      },
      "execution_count": 13,
      "outputs": [
        {
          "output_type": "stream",
          "name": "stdout",
          "text": [
            "0    35571\n",
            "1     1508\n",
            "Name: CoronaryHeartDisease, dtype: int64\n"
          ]
        },
        {
          "output_type": "display_data",
          "data": {
            "text/plain": [
              "<Figure size 640x480 with 1 Axes>"
            ],
            "image/png": "[encoded data removed]"
          },
          "metadata": {}
        }
      ]
    },
    {
      "cell_type": "code",
      "source": [
        "# analyzing gender in the dataset\n",
        "df[\"Gender\"].unique()\n",
        "\n",
        "# 1 = Male\n",
        "# 2 = Female\n",
        "sns.barplot(x=df[\"Gender\"], y=y)"
      ],
      "metadata": {
        "colab": {
          "base_uri": "https://localhost:8080/",
          "height": 466
        },
        "id": "bbXSIq5WK4Ii",
        "outputId": "32d6d50e-887a-4415-afff-6995c4bb2369"
      },
      "execution_count": 14,
      "outputs": [
        {
          "output_type": "execute_result",
          "data": {
            "text/plain": [
              "<Axes: xlabel='Gender', ylabel='CoronaryHeartDisease'>"
            ]
          },
          "metadata": {},
          "execution_count": 14
        },
        {
          "output_type": "display_data",
          "data": {
            "text/plain": [
              "<Figure size 640x480 with 1 Axes>"
            ],
            "image/png": "[encoded data removed]"
          },
          "metadata": {}
        }
      ]
    },
    {
      "cell_type": "code",
      "source": [
        "#number of men and women\n",
        "GenderIs1 = (df['Gender'] == 1).sum()\n",
        "GenderIs2 = (df['Gender'] == 0).sum()\n",
        "print(f'People with gender == 1: {heartDiseaseCount} \\nPeople with gender == 2: {noHeartDiseaseCount}')"
      ],
      "metadata": {
        "id": "uoI5wYRyq01f",
        "outputId": "a6a700c9-05e2-40de-f074-2636899965af",
        "colab": {
          "base_uri": "https://localhost:8080/"
        }
      },
      "execution_count": 15,
      "outputs": [
        {
          "output_type": "stream",
          "name": "stdout",
          "text": [
            "People with gender == 1: 1508 \n",
            "People with gender == 2: 35571\n"
          ]
        }
      ]
    },
    {
      "cell_type": "code",
      "source": [
        "# Analyzing the age feature\n",
        "df[\"Age\"].unique()\n",
        "\n",
        "# how many there are in the dataset\n",
        "sns.countplot(x=df[\"Age\"])\n",
        "plt.xticks([])  # This line removes the x-axis tick labels\n",
        "plt.show()"
      ],
      "metadata": {
        "colab": {
          "base_uri": "https://localhost:8080/",
          "height": 426
        },
        "id": "0x-PGyk7MtOV",
        "outputId": "e300206f-332f-4c3a-9cfe-16c67e3da8f9"
      },
      "execution_count": 16,
      "outputs": [
        {
          "output_type": "display_data",
          "data": {
            "text/plain": [
              "<Figure size 640x480 with 1 Axes>"
            ],
            "image/png": "[encoded data removed]"
          },
          "metadata": {}
        }
      ]
    },
    {
      "cell_type": "code",
      "source": [
        "# the percentage who have heart disease\n",
        "sns.barplot(x=df[\"Age\"],y=y, errorbar=None)\n",
        "plt.xticks([])\n",
        "plt.show()"
      ],
      "metadata": {
        "colab": {
          "base_uri": "https://localhost:8080/",
          "height": 426
        },
        "id": "7TDa-E0nMwLs",
        "outputId": "eac08023-7976-485b-edf8-c6a040f9b288"
      },
      "execution_count": 17,
      "outputs": [
        {
          "output_type": "display_data",
          "data": {
            "text/plain": [
              "<Figure size 640x480 with 1 Axes>"
            ],
            "image/png": "[encoded data removed]"
          },
          "metadata": {}
        }
      ]
    },
    {
      "cell_type": "code",
      "source": [
        "# The margin of error for some of the older ages is larger because of the small sample size, but the error bars hurt the understandability of the graph so I had to remove them.\n",
        "# analyzing the diabetes feature\n",
        "df[\"Diabetes\"].unique()\n",
        "\n",
        "sns.barplot(x=df[\"Diabetes\"],y=y)"
      ],
      "metadata": {
        "colab": {
          "base_uri": "https://localhost:8080/",
          "height": 466
        },
        "id": "xzUtpbrsMy-V",
        "outputId": "d328cb73-e39d-4fb4-a7a5-6cc1edf60344"
      },
      "execution_count": 18,
      "outputs": [
        {
          "output_type": "execute_result",
          "data": {
            "text/plain": [
              "<Axes: xlabel='Diabetes', ylabel='CoronaryHeartDisease'>"
            ]
          },
          "metadata": {},
          "execution_count": 18
        },
        {
          "output_type": "display_data",
          "data": {
            "text/plain": [
              "<Figure size 640x480 with 1 Axes>"
            ],
            "image/png": "[encoded data removed]"
          },
          "metadata": {}
        }
      ]
    },
    {
      "cell_type": "code",
      "source": [
        "# explorting the density of the creatinine feature\n",
        "sns.distplot(df['Creatinine'])"
      ],
      "metadata": {
        "colab": {
          "base_uri": "https://localhost:8080/",
          "height": 466
        },
        "id": "RWa5xngVM5CE",
        "outputId": "ba76aa35-0255-4623-8c9e-da41cb8e61fa"
      },
      "execution_count": 19,
      "outputs": [
        {
          "output_type": "execute_result",
          "data": {
            "text/plain": [
              "<Axes: xlabel='Creatinine', ylabel='Density'>"
            ]
          },
          "metadata": {},
          "execution_count": 19
        },
        {
          "output_type": "display_data",
          "data": {
            "text/plain": [
              "<Figure size 640x480 with 1 Axes>"
            ],
            "image/png": "[encoded data removed]"
          },
          "metadata": {}
        }
      ]
    },
    {
      "cell_type": "code",
      "source": [
        "#exploring the density of the Glycohemoglobin feature\n",
        "sns.distplot(df['Glycohemoglobin'])"
      ],
      "metadata": {
        "colab": {
          "base_uri": "https://localhost:8080/",
          "height": 466
        },
        "id": "c8n8upywM74P",
        "outputId": "a0b4df7a-82c5-4d53-9bb2-0e1e0b56fdbe"
      },
      "execution_count": 20,
      "outputs": [
        {
          "output_type": "execute_result",
          "data": {
            "text/plain": [
              "<Axes: xlabel='Glycohemoglobin', ylabel='Density'>"
            ]
          },
          "metadata": {},
          "execution_count": 20
        },
        {
          "output_type": "display_data",
          "data": {
            "text/plain": [
              "<Figure size 640x480 with 1 Axes>"
            ],
            "image/png": "[encoded data removed]"
          },
          "metadata": {}
        }
      ]
    },
    {
      "cell_type": "code",
      "source": [
        "# exploring the density of the cholesterol feature\n",
        "sns.distplot(df['Cholesterol'])"
      ],
      "metadata": {
        "colab": {
          "base_uri": "https://localhost:8080/",
          "height": 466
        },
        "id": "buAa8l8HM-PM",
        "outputId": "d8d3b17a-a970-4b7d-8e47-e990d75e5c7f"
      },
      "execution_count": 21,
      "outputs": [
        {
          "output_type": "execute_result",
          "data": {
            "text/plain": [
              "<Axes: xlabel='Cholesterol', ylabel='Density'>"
            ]
          },
          "metadata": {},
          "execution_count": 21
        },
        {
          "output_type": "display_data",
          "data": {
            "text/plain": [
              "<Figure size 640x480 with 1 Axes>"
            ],
            "image/png": "[encoded data removed]"
          },
          "metadata": {}
        }
      ]
    },
    {
      "cell_type": "code",
      "source": [
        "df[\"Cholesterol_Rounded\"] = df[\"Cholesterol\"].round()\n",
        "\n",
        "# Create the bar plot\n",
        "sns.barplot(x=df[\"Cholesterol_Rounded\"], y=y)\n",
        "\n",
        "# Set plot labels and title\n",
        "plt.xlabel(\"Cholesterol (Rounded)\")\n",
        "plt.ylabel(\"Coronary heart disease %\")\n",
        "\n",
        "# Show the plot\n",
        "plt.show()"
      ],
      "metadata": {
        "colab": {
          "base_uri": "https://localhost:8080/",
          "height": 449
        },
        "id": "01xrTYC0Jhe6",
        "outputId": "ab92ddbe-676e-44d7-c03c-add888f40df6"
      },
      "execution_count": 22,
      "outputs": [
        {
          "output_type": "display_data",
          "data": {
            "text/plain": [
              "<Figure size 640x480 with 1 Axes>"
            ],
            "image/png": "[encoded data removed]"
          },
          "metadata": {}
        }
      ]
    },
    {
      "cell_type": "markdown",
      "source": [
        "## Balancing the Imbalanced Data"
      ],
      "metadata": {
        "id": "TdWsXvWNH8y6"
      }
    },
    {
      "cell_type": "code",
      "source": [
        "X = df.drop('CoronaryHeartDisease', axis=1)\n",
        "y = df['CoronaryHeartDisease']\n",
        "\n",
        "# undersampling the data\n",
        "rus = RandomUnderSampler()\n",
        "\n",
        "X_resampled, y_resampled = rus.fit_resample(X, y)\n"
      ],
      "metadata": {
        "id": "-kTlXE0ja2ZW"
      },
      "execution_count": 23,
      "outputs": []
    },
    {
      "cell_type": "markdown",
      "source": [
        "## LASSO for Feature Selection"
      ],
      "metadata": {
        "id": "0Mk0oYzTdbgK"
      }
    },
    {
      "cell_type": "code",
      "source": [
        "# split into training and testing\n",
        "X_train, X_temp, y_train, y_temp = train_test_split(X_resampled, y_resampled, test_size=0.3)\n",
        "\n",
        "X_test, X_valid, y_test, y_valid = train_test_split(X_temp, y_temp, test_size=0.5)\n",
        "\n",
        "print(\"Training set shapes:\", X_train.shape, y_train.shape)\n",
        "print(\"Testing set shapes:\", X_test.shape, y_test.shape)\n",
        "print(\"Validation set shapes:\", X_valid.shape, y_valid.shape)"
      ],
      "metadata": {
        "colab": {
          "base_uri": "https://localhost:8080/"
        },
        "id": "dr3C_9s_9tIT",
        "outputId": "931900ec-388c-4675-eac0-ac5ff829024a"
      },
      "execution_count": 24,
      "outputs": [
        {
          "output_type": "stream",
          "name": "stdout",
          "text": [
            "Training set shapes: (2111, 37) (2111,)\n",
            "Testing set shapes: (452, 37) (452,)\n",
            "Validation set shapes: (453, 37) (453,)\n"
          ]
        }
      ]
    },
    {
      "cell_type": "code",
      "source": [
        "#Feature Standardization\n",
        "scaler = StandardScaler()\n",
        "X_train = scaler.fit_transform(X_train)\n",
        "X_test = scaler.transform(X_test)\n",
        "X_valid = scaler.transform(X_valid)"
      ],
      "metadata": {
        "id": "ckizmO9xa5Z-"
      },
      "execution_count": 25,
      "outputs": []
    },
    {
      "cell_type": "code",
      "source": [
        "# create the lasso model\n",
        "lasso_cv = LassoCV(alphas=[0.001, 0.01, 0.1, 1, 10], cv=5)\n",
        "\n",
        "lasso_cv.fit(X_train, y_train)\n",
        "\n",
        "print('The optimal alpha is', lasso_cv.alpha_)\n",
        "\n",
        "# finding the predicted probability\n",
        "y_pred_proba = lasso_cv.predict(X_test)\n",
        "# converting to binary predictions\n",
        "y_pred = (y_pred_proba > 0.5).astype(int)   # might need to lower threshold\n",
        "accuracy = accuracy_score(y_test, y_pred)\n",
        "print(\"Accuracy:\", accuracy)"
      ],
      "metadata": {
        "colab": {
          "base_uri": "https://localhost:8080/"
        },
        "id": "ekC-1U1xa7Ze",
        "outputId": "a8bde9dd-131d-468d-d015-a5b940004712"
      },
      "execution_count": 26,
      "outputs": [
        {
          "output_type": "stream",
          "name": "stdout",
          "text": [
            "The optimal alpha is 0.01\n",
            "Accuracy: 0.8008849557522124\n"
          ]
        }
      ]
    },
    {
      "cell_type": "code",
      "source": [
        "#Feature selection in Lasso\n",
        "col_names = list(X.columns)\n",
        "selected_features = [col_names[i] for i in range(len(col_names)) if lasso_cv.coef_[i] != 0]\n",
        "\n",
        "lassoCoef = pd.Series(lasso_cv.coef_, index=X.columns)\n",
        "print(f'The selected features are \\n{lassoCoef[lassoCoef != 0]}')"
      ],
      "metadata": {
        "colab": {
          "base_uri": "https://localhost:8080/"
        },
        "id": "NaLpRXoSa9k0",
        "outputId": "d5bd7ec6-2284-47a4-e69e-98308c12a5ec"
      },
      "execution_count": 27,
      "outputs": [
        {
          "output_type": "stream",
          "name": "stdout",
          "text": [
            "The selected features are \n",
            "Gender                        -0.035988\n",
            "Age                            0.215956\n",
            "Diastolic                     -0.008953\n",
            "Body-Mass-Index                0.003389\n",
            "White-Blood-Cells              0.002354\n",
            "Basophils                     -0.007218\n",
            "Red-Blood-Cells               -0.014661\n",
            "Platelet-count                -0.026285\n",
            "Red-Cell-Distribution-Width    0.026369\n",
            "ALP                            0.002694\n",
            "Cholesterol                   -0.046242\n",
            "Creatinine                     0.018879\n",
            "Iron                          -0.002824\n",
            "LDH                            0.022235\n",
            "Uric.Acid                      0.025144\n",
            "Triglycerides                  0.027337\n",
            "HDL                           -0.012099\n",
            "Glycohemoglobin                0.017582\n",
            "Vigorous-work                  0.007658\n",
            "Diabetes                      -0.015068\n",
            "Blood-Rel-Diabetes            -0.017635\n",
            "Blood-Rel-Stroke              -0.045926\n",
            "dtype: float64\n"
          ]
        }
      ]
    },
    {
      "cell_type": "markdown",
      "source": [
        "## Machine Learning Experiments"
      ],
      "metadata": {
        "id": "feblm_P3f80q"
      }
    },
    {
      "cell_type": "code",
      "source": [
        "df_reduced = df[[\"CoronaryHeartDisease\"] + selected_features]\n",
        "\n",
        "df_reduced"
      ],
      "metadata": {
        "colab": {
          "base_uri": "https://localhost:8080/",
          "height": 478
        },
        "id": "yTpSUh4KdhI8",
        "outputId": "dde5da1e-3db0-43b1-a747-da5f84ce28c5"
      },
      "execution_count": 28,
      "outputs": [
        {
          "output_type": "execute_result",
          "data": {
            "text/plain": [
              "       CoronaryHeartDisease  Gender  Age  Diastolic  Body-Mass-Index  \\\n",
              "0                         0       1   77         56            24.90   \n",
              "1                         0       1   49         83            29.10   \n",
              "2                         0       1   37         99            30.62   \n",
              "3                         0       1   70         66            25.57   \n",
              "4                         0       1   81         61            27.33   \n",
              "...                     ...     ...  ...        ...              ...   \n",
              "37074                     0       1   25         76            21.00   \n",
              "37075                     0       2   76         46            21.50   \n",
              "37076                     0       2   80         58            31.00   \n",
              "37077                     0       1   35         66            26.00   \n",
              "37078                     0       2   24         68            21.40   \n",
              "\n",
              "       White-Blood-Cells  Basophils  Red-Blood-Cells  Platelet-count  \\\n",
              "0                    7.6        0.5             4.73           214.0   \n",
              "1                    5.9        0.4             5.13           209.0   \n",
              "2                   10.2        0.6             5.76           357.0   \n",
              "3                   11.6        0.4             5.53           228.0   \n",
              "4                    9.1        0.4             5.32           160.0   \n",
              "...                  ...        ...              ...             ...   \n",
              "37074                7.1        0.6             5.50           253.0   \n",
              "37075                6.4        0.9             4.70           135.0   \n",
              "37076                4.7        0.8             4.44           172.0   \n",
              "37077                7.6        0.6             5.01           194.0   \n",
              "37078                9.7        0.3             4.58           257.0   \n",
              "\n",
              "       Red-Cell-Distribution-Width  ...   Iron  LDH  Uric.Acid  Triglycerides  \\\n",
              "0                             13.7  ...  11.28  140      362.8          1.298   \n",
              "1                             13.1  ...  24.54  133      404.5          3.850   \n",
              "2                             13.6  ...  11.28  131      339.0          1.581   \n",
              "3                             14.4  ...  12.18  181      410.4          3.635   \n",
              "4                             12.4  ...  11.82  150      368.8          0.756   \n",
              "...                            ...  ...    ...  ...        ...            ...   \n",
              "37074                         13.3  ...  13.10  144      428.3          1.264   \n",
              "37075                         13.6  ...  15.00  124      368.8          0.948   \n",
              "37076                         16.9  ...   8.40  120      273.6          1.095   \n",
              "37077                         13.0  ...   9.00  136      237.9          0.937   \n",
              "37078                         13.8  ...  27.90   93      249.8          0.892   \n",
              "\n",
              "        HDL  Glycohemoglobin  Vigorous-work  Diabetes  Blood-Rel-Diabetes  \\\n",
              "0      1.39              4.7              3         2                   2   \n",
              "1      1.08              5.5              1         2                   2   \n",
              "2      0.98              5.2              2         2                   1   \n",
              "3      1.28              7.6              3         1                   1   \n",
              "4      1.04              5.8              1         2                   2   \n",
              "...     ...              ...            ...       ...                 ...   \n",
              "37074  1.27              5.8              2         2                   1   \n",
              "37075  1.76              5.6              2         2                   2   \n",
              "37076  2.90              5.7              2         2                   2   \n",
              "37077  1.09              5.2              2         2                   2   \n",
              "37078  1.89              4.6              2         2                   2   \n",
              "\n",
              "       Blood-Rel-Stroke  \n",
              "0                     2  \n",
              "1                     2  \n",
              "2                     1  \n",
              "3                     2  \n",
              "4                     2  \n",
              "...                 ...  \n",
              "37074                 2  \n",
              "37075                 2  \n",
              "37076                 2  \n",
              "37077                 1  \n",
              "37078                 2  \n",
              "\n",
              "[37079 rows x 23 columns]"
            ],
            "text/html": [
              "\n",
              "  <div id=\"df-0bc4097e-d711-4cd6-8c6d-6487534e3a15\" class=\"colab-df-container\">\n",
              "    <div>\n",
              "<style scoped>\n",
              "    .dataframe tbody tr th:only-of-type {\n",
              "        vertical-align: middle;\n",
              "    }\n",
              "\n",
              "    .dataframe tbody tr th {\n",
              "        vertical-align: top;\n",
              "    }\n",
              "\n",
              "    .dataframe thead th {\n",
              "        text-align: right;\n",
              "    }\n",
              "</style>\n",
              "<table border=\"1\" class=\"dataframe\">\n",
              "  <thead>\n",
              "    <tr style=\"text-align: right;\">\n",
              "      <th></th>\n",
              "      <th>CoronaryHeartDisease</th>\n",
              "      <th>Gender</th>\n",
              "      <th>Age</th>\n",
              "      <th>Diastolic</th>\n",
              "      <th>Body-Mass-Index</th>\n",
              "      <th>White-Blood-Cells</th>\n",
              "      <th>Basophils</th>\n",
              "      <th>Red-Blood-Cells</th>\n",
              "      <th>Platelet-count</th>\n",
              "      <th>Red-Cell-Distribution-Width</th>\n",
              "      <th>...</th>\n",
              "      <th>Iron</th>\n",
              "      <th>LDH</th>\n",
              "      <th>Uric.Acid</th>\n",
              "      <th>Triglycerides</th>\n",
              "      <th>HDL</th>\n",
              "      <th>Glycohemoglobin</th>\n",
              "      <th>Vigorous-work</th>\n",
              "      <th>Diabetes</th>\n",
              "      <th>Blood-Rel-Diabetes</th>\n",
              "      <th>Blood-Rel-Stroke</th>\n",
              "    </tr>\n",
              "  </thead>\n",
              "  <tbody>\n",
              "    <tr>\n",
              "      <th>0</th>\n",
              "      <td>0</td>\n",
              "      <td>1</td>\n",
              "      <td>77</td>\n",
              "      <td>56</td>\n",
              "      <td>24.90</td>\n",
              "      <td>7.6</td>\n",
              "      <td>0.5</td>\n",
              "      <td>4.73</td>\n",
              "      <td>214.0</td>\n",
              "      <td>13.7</td>\n",
              "      <td>...</td>\n",
              "      <td>11.28</td>\n",
              "      <td>140</td>\n",
              "      <td>362.8</td>\n",
              "      <td>1.298</td>\n",
              "      <td>1.39</td>\n",
              "      <td>4.7</td>\n",
              "      <td>3</td>\n",
              "      <td>2</td>\n",
              "      <td>2</td>\n",
              "      <td>2</td>\n",
              "    </tr>\n",
              "    <tr>\n",
              "      <th>1</th>\n",
              "      <td>0</td>\n",
              "      <td>1</td>\n",
              "      <td>49</td>\n",
              "      <td>83</td>\n",
              "      <td>29.10</td>\n",
              "      <td>5.9</td>\n",
              "      <td>0.4</td>\n",
              "      <td>5.13</td>\n",
              "      <td>209.0</td>\n",
              "      <td>13.1</td>\n",
              "      <td>...</td>\n",
              "      <td>24.54</td>\n",
              "      <td>133</td>\n",
              "      <td>404.5</td>\n",
              "      <td>3.850</td>\n",
              "      <td>1.08</td>\n",
              "      <td>5.5</td>\n",
              "      <td>1</td>\n",
              "      <td>2</td>\n",
              "      <td>2</td>\n",
              "      <td>2</td>\n",
              "    </tr>\n",
              "    <tr>\n",
              "      <th>2</th>\n",
              "      <td>0</td>\n",
              "      <td>1</td>\n",
              "      <td>37</td>\n",
              "      <td>99</td>\n",
              "      <td>30.62</td>\n",
              "      <td>10.2</td>\n",
              "      <td>0.6</td>\n",
              "      <td>5.76</td>\n",
              "      <td>357.0</td>\n",
              "      <td>13.6</td>\n",
              "      <td>...</td>\n",
              "      <td>11.28</td>\n",
              "      <td>131</td>\n",
              "      <td>339.0</td>\n",
              "      <td>1.581</td>\n",
              "      <td>0.98</td>\n",
              "      <td>5.2</td>\n",
              "      <td>2</td>\n",
              "      <td>2</td>\n",
              "      <td>1</td>\n",
              "      <td>1</td>\n",
              "    </tr>\n",
              "    <tr>\n",
              "      <th>3</th>\n",
              "      <td>0</td>\n",
              "      <td>1</td>\n",
              "      <td>70</td>\n",
              "      <td>66</td>\n",
              "      <td>25.57</td>\n",
              "      <td>11.6</td>\n",
              "      <td>0.4</td>\n",
              "      <td>5.53</td>\n",
              "      <td>228.0</td>\n",
              "      <td>14.4</td>\n",
              "      <td>...</td>\n",
              "      <td>12.18</td>\n",
              "      <td>181</td>\n",
              "      <td>410.4</td>\n",
              "      <td>3.635</td>\n",
              "      <td>1.28</td>\n",
              "      <td>7.6</td>\n",
              "      <td>3</td>\n",
              "      <td>1</td>\n",
              "      <td>1</td>\n",
              "      <td>2</td>\n",
              "    </tr>\n",
              "    <tr>\n",
              "      <th>4</th>\n",
              "      <td>0</td>\n",
              "      <td>1</td>\n",
              "      <td>81</td>\n",
              "      <td>61</td>\n",
              "      <td>27.33</td>\n",
              "      <td>9.1</td>\n",
              "      <td>0.4</td>\n",
              "      <td>5.32</td>\n",
              "      <td>160.0</td>\n",
              "      <td>12.4</td>\n",
              "      <td>...</td>\n",
              "      <td>11.82</td>\n",
              "      <td>150</td>\n",
              "      <td>368.8</td>\n",
              "      <td>0.756</td>\n",
              "      <td>1.04</td>\n",
              "      <td>5.8</td>\n",
              "      <td>1</td>\n",
              "      <td>2</td>\n",
              "      <td>2</td>\n",
              "      <td>2</td>\n",
              "    </tr>\n",
              "    <tr>\n",
              "      <th>...</th>\n",
              "      <td>...</td>\n",
              "      <td>...</td>\n",
              "      <td>...</td>\n",
              "      <td>...</td>\n",
              "      <td>...</td>\n",
              "      <td>...</td>\n",
              "      <td>...</td>\n",
              "      <td>...</td>\n",
              "      <td>...</td>\n",
              "      <td>...</td>\n",
              "      <td>...</td>\n",
              "      <td>...</td>\n",
              "      <td>...</td>\n",
              "      <td>...</td>\n",
              "      <td>...</td>\n",
              "      <td>...</td>\n",
              "      <td>...</td>\n",
              "      <td>...</td>\n",
              "      <td>...</td>\n",
              "      <td>...</td>\n",
              "      <td>...</td>\n",
              "    </tr>\n",
              "    <tr>\n",
              "      <th>37074</th>\n",
              "      <td>0</td>\n",
              "      <td>1</td>\n",
              "      <td>25</td>\n",
              "      <td>76</td>\n",
              "      <td>21.00</td>\n",
              "      <td>7.1</td>\n",
              "      <td>0.6</td>\n",
              "      <td>5.50</td>\n",
              "      <td>253.0</td>\n",
              "      <td>13.3</td>\n",
              "      <td>...</td>\n",
              "      <td>13.10</td>\n",
              "      <td>144</td>\n",
              "      <td>428.3</td>\n",
              "      <td>1.264</td>\n",
              "      <td>1.27</td>\n",
              "      <td>5.8</td>\n",
              "      <td>2</td>\n",
              "      <td>2</td>\n",
              "      <td>1</td>\n",
              "      <td>2</td>\n",
              "    </tr>\n",
              "    <tr>\n",
              "      <th>37075</th>\n",
              "      <td>0</td>\n",
              "      <td>2</td>\n",
              "      <td>76</td>\n",
              "      <td>46</td>\n",
              "      <td>21.50</td>\n",
              "      <td>6.4</td>\n",
              "      <td>0.9</td>\n",
              "      <td>4.70</td>\n",
              "      <td>135.0</td>\n",
              "      <td>13.6</td>\n",
              "      <td>...</td>\n",
              "      <td>15.00</td>\n",
              "      <td>124</td>\n",
              "      <td>368.8</td>\n",
              "      <td>0.948</td>\n",
              "      <td>1.76</td>\n",
              "      <td>5.6</td>\n",
              "      <td>2</td>\n",
              "      <td>2</td>\n",
              "      <td>2</td>\n",
              "      <td>2</td>\n",
              "    </tr>\n",
              "    <tr>\n",
              "      <th>37076</th>\n",
              "      <td>0</td>\n",
              "      <td>2</td>\n",
              "      <td>80</td>\n",
              "      <td>58</td>\n",
              "      <td>31.00</td>\n",
              "      <td>4.7</td>\n",
              "      <td>0.8</td>\n",
              "      <td>4.44</td>\n",
              "      <td>172.0</td>\n",
              "      <td>16.9</td>\n",
              "      <td>...</td>\n",
              "      <td>8.40</td>\n",
              "      <td>120</td>\n",
              "      <td>273.6</td>\n",
              "      <td>1.095</td>\n",
              "      <td>2.90</td>\n",
              "      <td>5.7</td>\n",
              "      <td>2</td>\n",
              "      <td>2</td>\n",
              "      <td>2</td>\n",
              "      <td>2</td>\n",
              "    </tr>\n",
              "    <tr>\n",
              "      <th>37077</th>\n",
              "      <td>0</td>\n",
              "      <td>1</td>\n",
              "      <td>35</td>\n",
              "      <td>66</td>\n",
              "      <td>26.00</td>\n",
              "      <td>7.6</td>\n",
              "      <td>0.6</td>\n",
              "      <td>5.01</td>\n",
              "      <td>194.0</td>\n",
              "      <td>13.0</td>\n",
              "      <td>...</td>\n",
              "      <td>9.00</td>\n",
              "      <td>136</td>\n",
              "      <td>237.9</td>\n",
              "      <td>0.937</td>\n",
              "      <td>1.09</td>\n",
              "      <td>5.2</td>\n",
              "      <td>2</td>\n",
              "      <td>2</td>\n",
              "      <td>2</td>\n",
              "      <td>1</td>\n",
              "    </tr>\n",
              "    <tr>\n",
              "      <th>37078</th>\n",
              "      <td>0</td>\n",
              "      <td>2</td>\n",
              "      <td>24</td>\n",
              "      <td>68</td>\n",
              "      <td>21.40</td>\n",
              "      <td>9.7</td>\n",
              "      <td>0.3</td>\n",
              "      <td>4.58</td>\n",
              "      <td>257.0</td>\n",
              "      <td>13.8</td>\n",
              "      <td>...</td>\n",
              "      <td>27.90</td>\n",
              "      <td>93</td>\n",
              "      <td>249.8</td>\n",
              "      <td>0.892</td>\n",
              "      <td>1.89</td>\n",
              "      <td>4.6</td>\n",
              "      <td>2</td>\n",
              "      <td>2</td>\n",
              "      <td>2</td>\n",
              "      <td>2</td>\n",
              "    </tr>\n",
              "  </tbody>\n",
              "</table>\n",
              "<p>37079 rows × 23 columns</p>\n",
              "</div>\n",
              "    <div class=\"colab-df-buttons\">\n",
              "\n",
              "  <div class=\"colab-df-container\">\n",
              "    <button class=\"colab-df-convert\" onclick=\"convertToInteractive('df-0bc4097e-d711-4cd6-8c6d-6487534e3a15')\"\n",
              "            title=\"Convert this dataframe to an interactive table.\"\n",
              "            style=\"display:none;\">\n",
              "\n",
              "  <svg xmlns=\"http://www.w3.org/2000/svg\" height=\"24px\" viewBox=\"0 -960 960 960\">\n",
              "    <path d=\"M120-120v-720h720v720H120Zm60-500h600v-160H180v160Zm220 220h160v-160H400v160Zm0 220h160v-160H400v160ZM180-400h160v-160H180v160Zm440 0h160v-160H620v160ZM180-180h160v-160H180v160Zm440 0h160v-160H620v160Z\"/>\n",
              "  </svg>\n",
              "    </button>\n",
              "\n",
              "  <style>\n",
              "    .colab-df-container {\n",
              "      display:flex;\n",
              "      gap: 12px;\n",
              "    }\n",
              "\n",
              "    .colab-df-convert {\n",
              "      background-color: #E8F0FE;\n",
              "      border: none;\n",
              "      border-radius: 50%;\n",
              "      cursor: pointer;\n",
              "      display: none;\n",
              "      fill: #1967D2;\n",
              "      height: 32px;\n",
              "      padding: 0 0 0 0;\n",
              "      width: 32px;\n",
              "    }\n",
              "\n",
              "    .colab-df-convert:hover {\n",
              "      background-color: #E2EBFA;\n",
              "      box-shadow: 0px 1px 2px rgba(60, 64, 67, 0.3), 0px 1px 3px 1px rgba(60, 64, 67, 0.15);\n",
              "      fill: #174EA6;\n",
              "    }\n",
              "\n",
              "    .colab-df-buttons div {\n",
              "      margin-bottom: 4px;\n",
              "    }\n",
              "\n",
              "    [theme=dark] .colab-df-convert {\n",
              "      background-color: #3B4455;\n",
              "      fill: #D2E3FC;\n",
              "    }\n",
              "\n",
              "    [theme=dark] .colab-df-convert:hover {\n",
              "      background-color: #434B5C;\n",
              "      box-shadow: 0px 1px 3px 1px rgba(0, 0, 0, 0.15);\n",
              "      filter: drop-shadow(0px 1px 2px rgba(0, 0, 0, 0.3));\n",
              "      fill: #FFFFFF;\n",
              "    }\n",
              "  </style>\n",
              "\n",
              "    <script>\n",
              "      const buttonEl =\n",
              "        document.querySelector('#df-0bc4097e-d711-4cd6-8c6d-6487534e3a15 button.colab-df-convert');\n",
              "      buttonEl.style.display =\n",
              "        google.colab.kernel.accessAllowed ? 'block' : 'none';\n",
              "\n",
              "      async function convertToInteractive(key) {\n",
              "        const element = document.querySelector('#df-0bc4097e-d711-4cd6-8c6d-6487534e3a15');\n",
              "        const dataTable =\n",
              "          await google.colab.kernel.invokeFunction('convertToInteractive',\n",
              "                                                    [key], {});\n",
              "        if (!dataTable) return;\n",
              "\n",
              "        const docLinkHtml = 'Like what you see? Visit the ' +\n",
              "          '<a target=\"_blank\" href=https://colab.research.google.com/notebooks/data_table.ipynb>data table notebook</a>'\n",
              "          + ' to learn more about interactive tables.';\n",
              "        element.innerHTML = '';\n",
              "        dataTable['output_type'] = 'display_data';\n",
              "        await google.colab.output.renderOutput(dataTable, element);\n",
              "        const docLink = document.createElement('div');\n",
              "        docLink.innerHTML = docLinkHtml;\n",
              "        element.appendChild(docLink);\n",
              "      }\n",
              "    </script>\n",
              "  </div>\n",
              "\n",
              "\n",
              "<div id=\"df-21b11b11-f55b-46ad-ad5d-51e7fd20ade4\">\n",
              "  <button class=\"colab-df-quickchart\" onclick=\"quickchart('df-21b11b11-f55b-46ad-ad5d-51e7fd20ade4')\"\n",
              "            title=\"Suggest charts\"\n",
              "            style=\"display:none;\">\n",
              "\n",
              "<svg xmlns=\"http://www.w3.org/2000/svg\" height=\"24px\"viewBox=\"0 0 24 24\"\n",
              "     width=\"24px\">\n",
              "    <g>\n",
              "        <path d=\"M19 3H5c-1.1 0-2 .9-2 2v14c0 1.1.9 2 2 2h14c1.1 0 2-.9 2-2V5c0-1.1-.9-2-2-2zM9 17H7v-7h2v7zm4 0h-2V7h2v10zm4 0h-2v-4h2v4z\"/>\n",
              "    </g>\n",
              "</svg>\n",
              "  </button>\n",
              "\n",
              "<style>\n",
              "  .colab-df-quickchart {\n",
              "      --bg-color: #E8F0FE;\n",
              "      --fill-color: #1967D2;\n",
              "      --hover-bg-color: #E2EBFA;\n",
              "      --hover-fill-color: #174EA6;\n",
              "      --disabled-fill-color: #AAA;\n",
              "      --disabled-bg-color: #DDD;\n",
              "  }\n",
              "\n",
              "  [theme=dark] .colab-df-quickchart {\n",
              "      --bg-color: #3B4455;\n",
              "      --fill-color: #D2E3FC;\n",
              "      --hover-bg-color: #434B5C;\n",
              "      --hover-fill-color: #FFFFFF;\n",
              "      --disabled-bg-color: #3B4455;\n",
              "      --disabled-fill-color: #666;\n",
              "  }\n",
              "\n",
              "  .colab-df-quickchart {\n",
              "    background-color: var(--bg-color);\n",
              "    border: none;\n",
              "    border-radius: 50%;\n",
              "    cursor: pointer;\n",
              "    display: none;\n",
              "    fill: var(--fill-color);\n",
              "    height: 32px;\n",
              "    padding: 0;\n",
              "    width: 32px;\n",
              "  }\n",
              "\n",
              "  .colab-df-quickchart:hover {\n",
              "    background-color: var(--hover-bg-color);\n",
              "    box-shadow: 0 1px 2px rgba(60, 64, 67, 0.3), 0 1px 3px 1px rgba(60, 64, 67, 0.15);\n",
              "    fill: var(--button-hover-fill-color);\n",
              "  }\n",
              "\n",
              "  .colab-df-quickchart-complete:disabled,\n",
              "  .colab-df-quickchart-complete:disabled:hover {\n",
              "    background-color: var(--disabled-bg-color);\n",
              "    fill: var(--disabled-fill-color);\n",
              "    box-shadow: none;\n",
              "  }\n",
              "\n",
              "  .colab-df-spinner {\n",
              "    border: 2px solid var(--fill-color);\n",
              "    border-color: transparent;\n",
              "    border-bottom-color: var(--fill-color);\n",
              "    animation:\n",
              "      spin 1s steps(1) infinite;\n",
              "  }\n",
              "\n",
              "  @keyframes spin {\n",
              "    0% {\n",
              "      border-color: transparent;\n",
              "      border-bottom-color: var(--fill-color);\n",
              "      border-left-color: var(--fill-color);\n",
              "    }\n",
              "    20% {\n",
              "      border-color: transparent;\n",
              "      border-left-color: var(--fill-color);\n",
              "      border-top-color: var(--fill-color);\n",
              "    }\n",
              "    30% {\n",
              "      border-color: transparent;\n",
              "      border-left-color: var(--fill-color);\n",
              "      border-top-color: var(--fill-color);\n",
              "      border-right-color: var(--fill-color);\n",
              "    }\n",
              "    40% {\n",
              "      border-color: transparent;\n",
              "      border-right-color: var(--fill-color);\n",
              "      border-top-color: var(--fill-color);\n",
              "    }\n",
              "    60% {\n",
              "      border-color: transparent;\n",
              "      border-right-color: var(--fill-color);\n",
              "    }\n",
              "    80% {\n",
              "      border-color: transparent;\n",
              "      border-right-color: var(--fill-color);\n",
              "      border-bottom-color: var(--fill-color);\n",
              "    }\n",
              "    90% {\n",
              "      border-color: transparent;\n",
              "      border-bottom-color: var(--fill-color);\n",
              "    }\n",
              "  }\n",
              "</style>\n",
              "\n",
              "  <script>\n",
              "    async function quickchart(key) {\n",
              "      const quickchartButtonEl =\n",
              "        document.querySelector('#' + key + ' button');\n",
              "      quickchartButtonEl.disabled = true;  // To prevent multiple clicks.\n",
              "      quickchartButtonEl.classList.add('colab-df-spinner');\n",
              "      try {\n",
              "        const charts = await google.colab.kernel.invokeFunction(\n",
              "            'suggestCharts', [key], {});\n",
              "      } catch (error) {\n",
              "        console.error('Error during call to suggestCharts:', error);\n",
              "      }\n",
              "      quickchartButtonEl.classList.remove('colab-df-spinner');\n",
              "      quickchartButtonEl.classList.add('colab-df-quickchart-complete');\n",
              "    }\n",
              "    (() => {\n",
              "      let quickchartButtonEl =\n",
              "        document.querySelector('#df-21b11b11-f55b-46ad-ad5d-51e7fd20ade4 button');\n",
              "      quickchartButtonEl.style.display =\n",
              "        google.colab.kernel.accessAllowed ? 'block' : 'none';\n",
              "    })();\n",
              "  </script>\n",
              "</div>\n",
              "    </div>\n",
              "  </div>\n"
            ]
          },
          "metadata": {},
          "execution_count": 28
        }
      ]
    },
    {
      "cell_type": "code",
      "source": [
        "X = df.drop('CoronaryHeartDisease', axis=1)\n",
        "y = df['CoronaryHeartDisease']\n",
        "\n",
        "# undersampling the data\n",
        "rus = RandomUnderSampler()\n",
        "X_resampled, y_resampled = rus.fit_resample(X, y)\n",
        "\n",
        "# split into training and testing\n",
        "X_train, X_temp, y_train, y_temp = train_test_split(X_resampled, y_resampled, test_size=0.3)\n",
        "\n",
        "X_test, X_valid, y_test, y_valid = train_test_split(X_temp, y_temp, test_size=0.5)\n",
        "\n",
        "print(\"Training set shapes:\", X_train.shape, y_train.shape)\n",
        "print(\"Testing set shapes:\", X_test.shape, y_test.shape)\n",
        "print(\"Validation set shapes:\", X_valid.shape, y_valid.shape)"
      ],
      "metadata": {
        "colab": {
          "base_uri": "https://localhost:8080/"
        },
        "id": "eOUfHvpSfG6u",
        "outputId": "e4c187d7-a2e7-40c2-f37f-319d77fd0bb8"
      },
      "execution_count": 29,
      "outputs": [
        {
          "output_type": "stream",
          "name": "stdout",
          "text": [
            "Training set shapes: (2111, 37) (2111,)\n",
            "Testing set shapes: (452, 37) (452,)\n",
            "Validation set shapes: (453, 37) (453,)\n"
          ]
        }
      ]
    },
    {
      "cell_type": "code",
      "source": [
        "#Feature Standardization\n",
        "scaler = StandardScaler()\n",
        "X_train = scaler.fit_transform(X_train)\n",
        "X_test = scaler.transform(X_test)\n",
        "X_valid = scaler.transform(X_valid)"
      ],
      "metadata": {
        "id": "qh3orSY2COTD"
      },
      "execution_count": 30,
      "outputs": []
    },
    {
      "cell_type": "code",
      "source": [
        "accuracy_list = []\n",
        "precision_list = []\n",
        "recall_list = []\n",
        "f1_list = []"
      ],
      "metadata": {
        "id": "iWD5kTkY5n75"
      },
      "execution_count": 31,
      "outputs": []
    },
    {
      "cell_type": "markdown",
      "source": [
        "### Logistic Regression"
      ],
      "metadata": {
        "id": "W3lsK8DHBxYD"
      }
    },
    {
      "cell_type": "code",
      "source": [
        "lr = LogisticRegression()\n",
        "\n",
        "lr.fit(X_train, y_train)\n",
        "\n",
        "y_pred = lr.predict(X_test)\n",
        "\n",
        "\n",
        "print(\"Accuracy:\", accuracy_score(y_test, y_pred))\n",
        "print(\"Precision:\", precision_score(y_test, y_pred))\n",
        "print(\"Recall:\", recall_score(y_test, y_pred))\n",
        "print(\"F1-Score:\", f1_score(y_test, y_pred))"
      ],
      "metadata": {
        "colab": {
          "base_uri": "https://localhost:8080/"
        },
        "id": "MjIfUQhQhN6q",
        "outputId": "165e4fb8-f216-4b42-b74c-a9bfa7919edf"
      },
      "execution_count": 32,
      "outputs": [
        {
          "output_type": "stream",
          "name": "stdout",
          "text": [
            "Accuracy: 0.7809734513274337\n",
            "Precision: 0.7701612903225806\n",
            "Recall: 0.8197424892703863\n",
            "F1-Score: 0.7941787941787941\n"
          ]
        }
      ]
    },
    {
      "cell_type": "markdown",
      "source": [
        "##### Validation"
      ],
      "metadata": {
        "id": "ZlwfNzxVztT7"
      }
    },
    {
      "cell_type": "code",
      "source": [
        "y_pred = lr.predict(X_valid)\n",
        "\n",
        "accuracy = accuracy_score(y_valid, y_pred)\n",
        "precision = precision_score(y_valid, y_pred)\n",
        "recall = recall_score(y_valid, y_pred)\n",
        "f1 = f1_score(y_valid, y_pred)\n",
        "print(\"Accuracy:\", accuracy)\n",
        "print(\"Precision:\", precision)\n",
        "print(\"Recall:\", recall)\n",
        "print(\"F1-Score:\", f1)"
      ],
      "metadata": {
        "colab": {
          "base_uri": "https://localhost:8080/"
        },
        "id": "2h1T1dRqzquK",
        "outputId": "e4212984-d805-425f-ab11-0800b9965458"
      },
      "execution_count": 33,
      "outputs": [
        {
          "output_type": "stream",
          "name": "stdout",
          "text": [
            "Accuracy: 0.7924944812362031\n",
            "Precision: 0.7586206896551724\n",
            "Recall: 0.822429906542056\n",
            "F1-Score: 0.789237668161435\n"
          ]
        }
      ]
    },
    {
      "cell_type": "code",
      "source": [
        "accuracy_list.append(accuracy)\n",
        "precision_list.append(precision)\n",
        "recall_list.append(recall)\n",
        "f1_list.append(f1)"
      ],
      "metadata": {
        "id": "FsYrhEs15wFd"
      },
      "execution_count": 34,
      "outputs": []
    },
    {
      "cell_type": "markdown",
      "source": [
        "### Naive Bayes"
      ],
      "metadata": {
        "id": "T7ZHpoW2CYG7"
      }
    },
    {
      "cell_type": "code",
      "source": [
        "nb = GaussianNB()\n",
        "\n",
        "nb.fit(X_train, y_train)\n",
        "\n",
        "y_pred = nb.predict(X_test)\n",
        "\n",
        "\n",
        "print(\"Accuracy:\", accuracy_score(y_test, y_pred))\n",
        "print(\"Precision:\", precision_score(y_test, y_pred))\n",
        "print(\"Recall:\", recall_score(y_test, y_pred))\n",
        "print(\"F1-Score:\", f1_score(y_test, y_pred))"
      ],
      "metadata": {
        "id": "S1FGU9H4CaF1",
        "outputId": "2d3e6dca-a461-4e55-d141-b7e297c91482",
        "colab": {
          "base_uri": "https://localhost:8080/"
        }
      },
      "execution_count": 35,
      "outputs": [
        {
          "output_type": "stream",
          "name": "stdout",
          "text": [
            "Accuracy: 0.6836283185840708\n",
            "Precision: 0.774390243902439\n",
            "Recall: 0.5450643776824035\n",
            "F1-Score: 0.6397984886649873\n"
          ]
        }
      ]
    },
    {
      "cell_type": "markdown",
      "source": [
        "##### Validation"
      ],
      "metadata": {
        "id": "SK8xW2Ks00DU"
      }
    },
    {
      "cell_type": "code",
      "source": [
        "y_pred = nb.predict(X_valid)\n",
        "\n",
        "accuracy = accuracy_score(y_valid, y_pred)\n",
        "precision = precision_score(y_valid, y_pred)\n",
        "recall = recall_score(y_valid, y_pred)\n",
        "f1 = f1_score(y_valid, y_pred)\n",
        "print(\"Accuracy:\", accuracy)\n",
        "print(\"Precision:\", precision)\n",
        "print(\"Recall:\", recall)\n",
        "print(\"F1-Score:\", f1)"
      ],
      "metadata": {
        "colab": {
          "base_uri": "https://localhost:8080/"
        },
        "id": "_k-imvsh01uL",
        "outputId": "f83e54ac-a0c3-484a-a8b8-13d957e2edd1"
      },
      "execution_count": 36,
      "outputs": [
        {
          "output_type": "stream",
          "name": "stdout",
          "text": [
            "Accuracy: 0.6865342163355408\n",
            "Precision: 0.7432432432432432\n",
            "Recall: 0.514018691588785\n",
            "F1-Score: 0.6077348066298343\n"
          ]
        }
      ]
    },
    {
      "cell_type": "code",
      "source": [
        "accuracy_list.append(accuracy)\n",
        "precision_list.append(precision)\n",
        "recall_list.append(recall)\n",
        "f1_list.append(f1)"
      ],
      "metadata": {
        "id": "ZsLpOcwx57se"
      },
      "execution_count": 37,
      "outputs": []
    },
    {
      "cell_type": "markdown",
      "source": [
        "### SVM"
      ],
      "metadata": {
        "id": "kid14JKEE0SM"
      }
    },
    {
      "cell_type": "code",
      "source": [
        "sv = SVC(C=5, degree=1, gamma=0.001, kernel='poly')\n",
        "\n",
        "sv.fit(X_train, y_train)\n",
        "\n",
        "y_pred = sv.predict(X_test)\n",
        "\n",
        "\n",
        "print(\"Accuracy:\", accuracy_score(y_test, y_pred))\n",
        "print(\"Precision:\", precision_score(y_test, y_pred))\n",
        "print(\"Recall:\", recall_score(y_test, y_pred))\n",
        "print(\"F1-Score:\", f1_score(y_test, y_pred))"
      ],
      "metadata": {
        "id": "_jVbV-LmE3WJ",
        "outputId": "5c2b66b6-ddbf-422c-ef2d-7d00a3a26741",
        "colab": {
          "base_uri": "https://localhost:8080/"
        }
      },
      "execution_count": 38,
      "outputs": [
        {
          "output_type": "stream",
          "name": "stdout",
          "text": [
            "Accuracy: 0.7787610619469026\n",
            "Precision: 0.7587548638132295\n",
            "Recall: 0.8369098712446352\n",
            "F1-Score: 0.7959183673469388\n"
          ]
        }
      ]
    },
    {
      "cell_type": "markdown",
      "source": [
        "##### Validation"
      ],
      "metadata": {
        "id": "akzsbK511C-M"
      }
    },
    {
      "cell_type": "code",
      "source": [
        "y_pred = sv.predict(X_valid)\n",
        "\n",
        "accuracy = accuracy_score(y_valid, y_pred)\n",
        "precision = precision_score(y_valid, y_pred)\n",
        "recall = recall_score(y_valid, y_pred)\n",
        "f1 = f1_score(y_valid, y_pred)\n",
        "print(\"Accuracy:\", accuracy)\n",
        "print(\"Precision:\", precision)\n",
        "print(\"Recall:\", recall)\n",
        "print(\"F1-Score:\", f1)"
      ],
      "metadata": {
        "colab": {
          "base_uri": "https://localhost:8080/"
        },
        "id": "ba4vrqTP1EaV",
        "outputId": "6692bb7a-3147-4dd3-ec74-649632829170"
      },
      "execution_count": 39,
      "outputs": [
        {
          "output_type": "stream",
          "name": "stdout",
          "text": [
            "Accuracy: 0.7991169977924945\n",
            "Precision: 0.7551867219917012\n",
            "Recall: 0.8504672897196262\n",
            "F1-Score: 0.8\n"
          ]
        }
      ]
    },
    {
      "cell_type": "code",
      "source": [
        "accuracy_list.append(accuracy)\n",
        "precision_list.append(precision)\n",
        "recall_list.append(recall)\n",
        "f1_list.append(f1)"
      ],
      "metadata": {
        "id": "5TGyntXx58aN"
      },
      "execution_count": 40,
      "outputs": []
    },
    {
      "cell_type": "markdown",
      "source": [
        "### K-Nearest Neighbors"
      ],
      "metadata": {
        "id": "TAWf2wJHRi_x"
      }
    },
    {
      "cell_type": "code",
      "source": [
        "knn = KNeighborsClassifier(n_neighbors=17)\n",
        "\n",
        "knn.fit(X_train, y_train)\n",
        "\n",
        "y_pred = knn.predict(X_test)\n",
        "\n",
        "\n",
        "print(\"Accuracy:\", accuracy_score(y_test, y_pred))\n",
        "print(\"Precision:\", precision_score(y_test, y_pred))\n",
        "print(\"Recall:\", recall_score(y_test, y_pred))\n",
        "print(\"F1-Score:\", f1_score(y_test, y_pred))"
      ],
      "metadata": {
        "id": "EIWfkL9bRlTT",
        "outputId": "3995d8d4-82ee-4f32-efd8-1ad524bbd911",
        "colab": {
          "base_uri": "https://localhost:8080/"
        }
      },
      "execution_count": 41,
      "outputs": [
        {
          "output_type": "stream",
          "name": "stdout",
          "text": [
            "Accuracy: 0.7411504424778761\n",
            "Precision: 0.7589285714285714\n",
            "Recall: 0.7296137339055794\n",
            "F1-Score: 0.7439824945295405\n"
          ]
        }
      ]
    },
    {
      "cell_type": "markdown",
      "source": [
        "##### Validation"
      ],
      "metadata": {
        "id": "9FlrQJCe1ICm"
      }
    },
    {
      "cell_type": "code",
      "source": [
        "y_pred = knn.predict(X_valid)\n",
        "\n",
        "accuracy = accuracy_score(y_valid, y_pred)\n",
        "precision = precision_score(y_valid, y_pred)\n",
        "recall = recall_score(y_valid, y_pred)\n",
        "f1 = f1_score(y_valid, y_pred)\n",
        "print(\"Accuracy:\", accuracy)\n",
        "print(\"Precision:\", precision)\n",
        "print(\"Recall:\", recall)\n",
        "print(\"F1-Score:\", f1)"
      ],
      "metadata": {
        "colab": {
          "base_uri": "https://localhost:8080/"
        },
        "id": "YCOZW1aY1JfD",
        "outputId": "45c8a594-0224-4ace-ac6c-05f26b0b93a1"
      },
      "execution_count": 42,
      "outputs": [
        {
          "output_type": "stream",
          "name": "stdout",
          "text": [
            "Accuracy: 0.7439293598233996\n",
            "Precision: 0.71875\n",
            "Recall: 0.7523364485981309\n",
            "F1-Score: 0.7351598173515982\n"
          ]
        }
      ]
    },
    {
      "cell_type": "code",
      "source": [
        "accuracy_list.append(accuracy)\n",
        "precision_list.append(precision)\n",
        "recall_list.append(recall)\n",
        "f1_list.append(f1)"
      ],
      "metadata": {
        "id": "T3ZYQmAy59Q0"
      },
      "execution_count": 43,
      "outputs": []
    },
    {
      "cell_type": "markdown",
      "source": [
        "### Random Forest"
      ],
      "metadata": {
        "id": "1-BaW5KYfOQy"
      }
    },
    {
      "cell_type": "code",
      "source": [
        "rf = RandomForestClassifier(n_estimators=1800, max_depth=20)\n",
        "\n",
        "rf.fit(X_train, y_train)\n",
        "\n",
        "y_pred = rf.predict(X_test)\n",
        "\n",
        "\n",
        "print(\"Accuracy:\", accuracy_score(y_test, y_pred))\n",
        "print(\"Precision:\", precision_score(y_test, y_pred))\n",
        "print(\"Recall:\", recall_score(y_test, y_pred))\n",
        "print(\"F1-Score:\", f1_score(y_test, y_pred))"
      ],
      "metadata": {
        "id": "lV_S3dztdqS4",
        "outputId": "658b2779-8cfc-4390-9f3f-d9ebef11f179",
        "colab": {
          "base_uri": "https://localhost:8080/"
        }
      },
      "execution_count": 44,
      "outputs": [
        {
          "output_type": "stream",
          "name": "stdout",
          "text": [
            "Accuracy: 0.7876106194690266\n",
            "Precision: 0.7624521072796935\n",
            "Recall: 0.8540772532188842\n",
            "F1-Score: 0.805668016194332\n"
          ]
        }
      ]
    },
    {
      "cell_type": "markdown",
      "source": [
        "##### Validation"
      ],
      "metadata": {
        "id": "M0tp-dj61Uwx"
      }
    },
    {
      "cell_type": "code",
      "source": [
        "y_pred = rf.predict(X_valid)\n",
        "\n",
        "accuracy = accuracy_score(y_valid, y_pred)\n",
        "precision = precision_score(y_valid, y_pred)\n",
        "recall = recall_score(y_valid, y_pred)\n",
        "f1 = f1_score(y_valid, y_pred)\n",
        "print(\"Accuracy:\", accuracy)\n",
        "print(\"Precision:\", precision)\n",
        "print(\"Recall:\", recall)\n",
        "print(\"F1-Score:\", f1)"
      ],
      "metadata": {
        "colab": {
          "base_uri": "https://localhost:8080/"
        },
        "id": "N8c4crVu1WTY",
        "outputId": "220b9fdb-1d16-47d5-8c4a-250036d8cfe8"
      },
      "execution_count": 45,
      "outputs": [
        {
          "output_type": "stream",
          "name": "stdout",
          "text": [
            "Accuracy: 0.8013245033112583\n",
            "Precision: 0.75\n",
            "Recall: 0.8691588785046729\n",
            "F1-Score: 0.8051948051948051\n"
          ]
        }
      ]
    },
    {
      "cell_type": "code",
      "source": [
        "accuracy_list.append(accuracy)\n",
        "precision_list.append(precision)\n",
        "recall_list.append(recall)\n",
        "f1_list.append(f1)"
      ],
      "metadata": {
        "id": "Xbpnzv3Y5-GJ"
      },
      "execution_count": 46,
      "outputs": []
    },
    {
      "cell_type": "markdown",
      "source": [
        "### XGBoost"
      ],
      "metadata": {
        "id": "jxeF4P0D5-nT"
      }
    },
    {
      "cell_type": "code",
      "source": [
        "xgb_model = xgb.XGBClassifier(learning_rate=0.1, n_estimators=250, max_depth=9)\n",
        "\n",
        "xgb_model.fit(X_train, y_train)\n",
        "\n",
        "y_pred = xgb_model.predict(X_test)\n",
        "\n",
        "\n",
        "print(\"Accuracy:\", accuracy_score(y_test, y_pred))\n",
        "print(\"Precision:\", precision_score(y_test, y_pred))\n",
        "print(\"Recall:\", recall_score(y_test, y_pred))\n",
        "print(\"F1-Score:\", f1_score(y_test, y_pred))"
      ],
      "metadata": {
        "colab": {
          "base_uri": "https://localhost:8080/"
        },
        "id": "cAFS_Eld5Bay",
        "outputId": "4b8ebb36-0ae9-4a19-ac37-37887ee48482"
      },
      "execution_count": 47,
      "outputs": [
        {
          "output_type": "stream",
          "name": "stdout",
          "text": [
            "Accuracy: 0.7831858407079646\n",
            "Precision: 0.7647058823529411\n",
            "Recall: 0.8369098712446352\n",
            "F1-Score: 0.7991803278688524\n"
          ]
        }
      ]
    },
    {
      "cell_type": "markdown",
      "source": [
        "##### Validation"
      ],
      "metadata": {
        "id": "g2KPuJq61cDi"
      }
    },
    {
      "cell_type": "code",
      "source": [
        "y_pred = xgb_model.predict(X_valid)\n",
        "\n",
        "accuracy = accuracy_score(y_valid, y_pred)\n",
        "precision = precision_score(y_valid, y_pred)\n",
        "recall = recall_score(y_valid, y_pred)\n",
        "f1 = f1_score(y_valid, y_pred)\n",
        "print(\"Accuracy:\", accuracy)\n",
        "print(\"Precision:\", precision)\n",
        "print(\"Recall:\", recall)\n",
        "print(\"F1-Score:\", f1)"
      ],
      "metadata": {
        "colab": {
          "base_uri": "https://localhost:8080/"
        },
        "id": "ecdQIVa31dWI",
        "outputId": "c90c348e-0f78-42f7-9868-e87097c7139a"
      },
      "execution_count": 48,
      "outputs": [
        {
          "output_type": "stream",
          "name": "stdout",
          "text": [
            "Accuracy: 0.7991169977924945\n",
            "Precision: 0.7510204081632653\n",
            "Recall: 0.8598130841121495\n",
            "F1-Score: 0.8017429193899782\n"
          ]
        }
      ]
    },
    {
      "cell_type": "code",
      "source": [
        "accuracy_list.append(accuracy)\n",
        "precision_list.append(precision)\n",
        "recall_list.append(recall)\n",
        "f1_list.append(f1)"
      ],
      "metadata": {
        "id": "ylkqKyYE6RLp"
      },
      "execution_count": 49,
      "outputs": []
    },
    {
      "cell_type": "markdown",
      "source": [
        "### Model Metric Comparison"
      ],
      "metadata": {
        "id": "GypkTEke6R4j"
      }
    },
    {
      "cell_type": "code",
      "source": [
        "# create a table/chart with the metrics of all the models and figure out which performs the best\n",
        "data = [accuracy_list, precision_list, recall_list, f1_list]\n",
        "\n",
        "df_metrics = pd.DataFrame(data=data, columns=['Logistic Regression', 'Naive Bayes', 'SVM', 'K-Nearest Neighbors', 'Random Forest', 'XGBoost'],\n",
        "                          index=['Accuracy', 'Precision', 'Recall', 'F1-Score'])\n",
        "df_metrics"
      ],
      "metadata": {
        "id": "BA4jBZHwU5Kw",
        "colab": {
          "base_uri": "https://localhost:8080/",
          "height": 175
        },
        "outputId": "4b66c0e8-b882-4116-9355-99291a52817a"
      },
      "execution_count": 50,
      "outputs": [
        {
          "output_type": "execute_result",
          "data": {
            "text/plain": [
              "           Logistic Regression  Naive Bayes       SVM  K-Nearest Neighbors  \\\n",
              "Accuracy              0.792494     0.686534  0.799117             0.743929   \n",
              "Precision             0.758621     0.743243  0.755187             0.718750   \n",
              "Recall                0.822430     0.514019  0.850467             0.752336   \n",
              "F1-Score              0.789238     0.607735  0.800000             0.735160   \n",
              "\n",
              "           Random Forest   XGBoost  \n",
              "Accuracy        0.801325  0.799117  \n",
              "Precision       0.750000  0.751020  \n",
              "Recall          0.869159  0.859813  \n",
              "F1-Score        0.805195  0.801743  "
            ],
            "text/html": [
              "\n",
              "  <div id=\"df-6939b816-d328-41ac-999e-35e731aade04\" class=\"colab-df-container\">\n",
              "    <div>\n",
              "<style scoped>\n",
              "    .dataframe tbody tr th:only-of-type {\n",
              "        vertical-align: middle;\n",
              "    }\n",
              "\n",
              "    .dataframe tbody tr th {\n",
              "        vertical-align: top;\n",
              "    }\n",
              "\n",
              "    .dataframe thead th {\n",
              "        text-align: right;\n",
              "    }\n",
              "</style>\n",
              "<table border=\"1\" class=\"dataframe\">\n",
              "  <thead>\n",
              "    <tr style=\"text-align: right;\">\n",
              "      <th></th>\n",
              "      <th>Logistic Regression</th>\n",
              "      <th>Naive Bayes</th>\n",
              "      <th>SVM</th>\n",
              "      <th>K-Nearest Neighbors</th>\n",
              "      <th>Random Forest</th>\n",
              "      <th>XGBoost</th>\n",
              "    </tr>\n",
              "  </thead>\n",
              "  <tbody>\n",
              "    <tr>\n",
              "      <th>Accuracy</th>\n",
              "      <td>0.792494</td>\n",
              "      <td>0.686534</td>\n",
              "      <td>0.799117</td>\n",
              "      <td>0.743929</td>\n",
              "      <td>0.801325</td>\n",
              "      <td>0.799117</td>\n",
              "    </tr>\n",
              "    <tr>\n",
              "      <th>Precision</th>\n",
              "      <td>0.758621</td>\n",
              "      <td>0.743243</td>\n",
              "      <td>0.755187</td>\n",
              "      <td>0.718750</td>\n",
              "      <td>0.750000</td>\n",
              "      <td>0.751020</td>\n",
              "    </tr>\n",
              "    <tr>\n",
              "      <th>Recall</th>\n",
              "      <td>0.822430</td>\n",
              "      <td>0.514019</td>\n",
              "      <td>0.850467</td>\n",
              "      <td>0.752336</td>\n",
              "      <td>0.869159</td>\n",
              "      <td>0.859813</td>\n",
              "    </tr>\n",
              "    <tr>\n",
              "      <th>F1-Score</th>\n",
              "      <td>0.789238</td>\n",
              "      <td>0.607735</td>\n",
              "      <td>0.800000</td>\n",
              "      <td>0.735160</td>\n",
              "      <td>0.805195</td>\n",
              "      <td>0.801743</td>\n",
              "    </tr>\n",
              "  </tbody>\n",
              "</table>\n",
              "</div>\n",
              "    <div class=\"colab-df-buttons\">\n",
              "\n",
              "  <div class=\"colab-df-container\">\n",
              "    <button class=\"colab-df-convert\" onclick=\"convertToInteractive('df-6939b816-d328-41ac-999e-35e731aade04')\"\n",
              "            title=\"Convert this dataframe to an interactive table.\"\n",
              "            style=\"display:none;\">\n",
              "\n",
              "  <svg xmlns=\"http://www.w3.org/2000/svg\" height=\"24px\" viewBox=\"0 -960 960 960\">\n",
              "    <path d=\"M120-120v-720h720v720H120Zm60-500h600v-160H180v160Zm220 220h160v-160H400v160Zm0 220h160v-160H400v160ZM180-400h160v-160H180v160Zm440 0h160v-160H620v160ZM180-180h160v-160H180v160Zm440 0h160v-160H620v160Z\"/>\n",
              "  </svg>\n",
              "    </button>\n",
              "\n",
              "  <style>\n",
              "    .colab-df-container {\n",
              "      display:flex;\n",
              "      gap: 12px;\n",
              "    }\n",
              "\n",
              "    .colab-df-convert {\n",
              "      background-color: #E8F0FE;\n",
              "      border: none;\n",
              "      border-radius: 50%;\n",
              "      cursor: pointer;\n",
              "      display: none;\n",
              "      fill: #1967D2;\n",
              "      height: 32px;\n",
              "      padding: 0 0 0 0;\n",
              "      width: 32px;\n",
              "    }\n",
              "\n",
              "    .colab-df-convert:hover {\n",
              "      background-color: #E2EBFA;\n",
              "      box-shadow: 0px 1px 2px rgba(60, 64, 67, 0.3), 0px 1px 3px 1px rgba(60, 64, 67, 0.15);\n",
              "      fill: #174EA6;\n",
              "    }\n",
              "\n",
              "    .colab-df-buttons div {\n",
              "      margin-bottom: 4px;\n",
              "    }\n",
              "\n",
              "    [theme=dark] .colab-df-convert {\n",
              "      background-color: #3B4455;\n",
              "      fill: #D2E3FC;\n",
              "    }\n",
              "\n",
              "    [theme=dark] .colab-df-convert:hover {\n",
              "      background-color: #434B5C;\n",
              "      box-shadow: 0px 1px 3px 1px rgba(0, 0, 0, 0.15);\n",
              "      filter: drop-shadow(0px 1px 2px rgba(0, 0, 0, 0.3));\n",
              "      fill: #FFFFFF;\n",
              "    }\n",
              "  </style>\n",
              "\n",
              "    <script>\n",
              "      const buttonEl =\n",
              "        document.querySelector('#df-6939b816-d328-41ac-999e-35e731aade04 button.colab-df-convert');\n",
              "      buttonEl.style.display =\n",
              "        google.colab.kernel.accessAllowed ? 'block' : 'none';\n",
              "\n",
              "      async function convertToInteractive(key) {\n",
              "        const element = document.querySelector('#df-6939b816-d328-41ac-999e-35e731aade04');\n",
              "        const dataTable =\n",
              "          await google.colab.kernel.invokeFunction('convertToInteractive',\n",
              "                                                    [key], {});\n",
              "        if (!dataTable) return;\n",
              "\n",
              "        const docLinkHtml = 'Like what you see? Visit the ' +\n",
              "          '<a target=\"_blank\" href=https://colab.research.google.com/notebooks/data_table.ipynb>data table notebook</a>'\n",
              "          + ' to learn more about interactive tables.';\n",
              "        element.innerHTML = '';\n",
              "        dataTable['output_type'] = 'display_data';\n",
              "        await google.colab.output.renderOutput(dataTable, element);\n",
              "        const docLink = document.createElement('div');\n",
              "        docLink.innerHTML = docLinkHtml;\n",
              "        element.appendChild(docLink);\n",
              "      }\n",
              "    </script>\n",
              "  </div>\n",
              "\n",
              "\n",
              "<div id=\"df-ae84241b-dcfb-48c5-bb1c-a88cdff099d7\">\n",
              "  <button class=\"colab-df-quickchart\" onclick=\"quickchart('df-ae84241b-dcfb-48c5-bb1c-a88cdff099d7')\"\n",
              "            title=\"Suggest charts\"\n",
              "            style=\"display:none;\">\n",
              "\n",
              "<svg xmlns=\"http://www.w3.org/2000/svg\" height=\"24px\"viewBox=\"0 0 24 24\"\n",
              "     width=\"24px\">\n",
              "    <g>\n",
              "        <path d=\"M19 3H5c-1.1 0-2 .9-2 2v14c0 1.1.9 2 2 2h14c1.1 0 2-.9 2-2V5c0-1.1-.9-2-2-2zM9 17H7v-7h2v7zm4 0h-2V7h2v10zm4 0h-2v-4h2v4z\"/>\n",
              "    </g>\n",
              "</svg>\n",
              "  </button>\n",
              "\n",
              "<style>\n",
              "  .colab-df-quickchart {\n",
              "      --bg-color: #E8F0FE;\n",
              "      --fill-color: #1967D2;\n",
              "      --hover-bg-color: #E2EBFA;\n",
              "      --hover-fill-color: #174EA6;\n",
              "      --disabled-fill-color: #AAA;\n",
              "      --disabled-bg-color: #DDD;\n",
              "  }\n",
              "\n",
              "  [theme=dark] .colab-df-quickchart {\n",
              "      --bg-color: #3B4455;\n",
              "      --fill-color: #D2E3FC;\n",
              "      --hover-bg-color: #434B5C;\n",
              "      --hover-fill-color: #FFFFFF;\n",
              "      --disabled-bg-color: #3B4455;\n",
              "      --disabled-fill-color: #666;\n",
              "  }\n",
              "\n",
              "  .colab-df-quickchart {\n",
              "    background-color: var(--bg-color);\n",
              "    border: none;\n",
              "    border-radius: 50%;\n",
              "    cursor: pointer;\n",
              "    display: none;\n",
              "    fill: var(--fill-color);\n",
              "    height: 32px;\n",
              "    padding: 0;\n",
              "    width: 32px;\n",
              "  }\n",
              "\n",
              "  .colab-df-quickchart:hover {\n",
              "    background-color: var(--hover-bg-color);\n",
              "    box-shadow: 0 1px 2px rgba(60, 64, 67, 0.3), 0 1px 3px 1px rgba(60, 64, 67, 0.15);\n",
              "    fill: var(--button-hover-fill-color);\n",
              "  }\n",
              "\n",
              "  .colab-df-quickchart-complete:disabled,\n",
              "  .colab-df-quickchart-complete:disabled:hover {\n",
              "    background-color: var(--disabled-bg-color);\n",
              "    fill: var(--disabled-fill-color);\n",
              "    box-shadow: none;\n",
              "  }\n",
              "\n",
              "  .colab-df-spinner {\n",
              "    border: 2px solid var(--fill-color);\n",
              "    border-color: transparent;\n",
              "    border-bottom-color: var(--fill-color);\n",
              "    animation:\n",
              "      spin 1s steps(1) infinite;\n",
              "  }\n",
              "\n",
              "  @keyframes spin {\n",
              "    0% {\n",
              "      border-color: transparent;\n",
              "      border-bottom-color: var(--fill-color);\n",
              "      border-left-color: var(--fill-color);\n",
              "    }\n",
              "    20% {\n",
              "      border-color: transparent;\n",
              "      border-left-color: var(--fill-color);\n",
              "      border-top-color: var(--fill-color);\n",
              "    }\n",
              "    30% {\n",
              "      border-color: transparent;\n",
              "      border-left-color: var(--fill-color);\n",
              "      border-top-color: var(--fill-color);\n",
              "      border-right-color: var(--fill-color);\n",
              "    }\n",
              "    40% {\n",
              "      border-color: transparent;\n",
              "      border-right-color: var(--fill-color);\n",
              "      border-top-color: var(--fill-color);\n",
              "    }\n",
              "    60% {\n",
              "      border-color: transparent;\n",
              "      border-right-color: var(--fill-color);\n",
              "    }\n",
              "    80% {\n",
              "      border-color: transparent;\n",
              "      border-right-color: var(--fill-color);\n",
              "      border-bottom-color: var(--fill-color);\n",
              "    }\n",
              "    90% {\n",
              "      border-color: transparent;\n",
              "      border-bottom-color: var(--fill-color);\n",
              "    }\n",
              "  }\n",
              "</style>\n",
              "\n",
              "  <script>\n",
              "    async function quickchart(key) {\n",
              "      const quickchartButtonEl =\n",
              "        document.querySelector('#' + key + ' button');\n",
              "      quickchartButtonEl.disabled = true;  // To prevent multiple clicks.\n",
              "      quickchartButtonEl.classList.add('colab-df-spinner');\n",
              "      try {\n",
              "        const charts = await google.colab.kernel.invokeFunction(\n",
              "            'suggestCharts', [key], {});\n",
              "      } catch (error) {\n",
              "        console.error('Error during call to suggestCharts:', error);\n",
              "      }\n",
              "      quickchartButtonEl.classList.remove('colab-df-spinner');\n",
              "      quickchartButtonEl.classList.add('colab-df-quickchart-complete');\n",
              "    }\n",
              "    (() => {\n",
              "      let quickchartButtonEl =\n",
              "        document.querySelector('#df-ae84241b-dcfb-48c5-bb1c-a88cdff099d7 button');\n",
              "      quickchartButtonEl.style.display =\n",
              "        google.colab.kernel.accessAllowed ? 'block' : 'none';\n",
              "    })();\n",
              "  </script>\n",
              "</div>\n",
              "    </div>\n",
              "  </div>\n"
            ]
          },
          "metadata": {},
          "execution_count": 50
        }
      ]
    },
    {
      "cell_type": "markdown",
      "source": [
        "# **Neural Network:**"
      ],
      "metadata": {
        "id": "JQThJ3dRfW1m"
      }
    },
    {
      "cell_type": "code",
      "source": [
        "pip install tensorflow"
      ],
      "metadata": {
        "id": "4CsNYqbxfhEJ",
        "outputId": "d4d82361-e6a7-4991-d7da-f59aeceb4aa8",
        "colab": {
          "base_uri": "https://localhost:8080/"
        }
      },
      "execution_count": 51,
      "outputs": [
        {
          "output_type": "stream",
          "name": "stdout",
          "text": [
            "Requirement already satisfied: tensorflow in /usr/local/lib/python3.10/dist-packages (2.14.0)\n",
            "Requirement already satisfied: absl-py>=1.0.0 in /usr/local/lib/python3.10/dist-packages (from tensorflow) (1.4.0)\n",
            "Requirement already satisfied: astunparse>=1.6.0 in /usr/local/lib/python3.10/dist-packages (from tensorflow) (1.6.3)\n",
            "Requirement already satisfied: flatbuffers>=23.5.26 in /usr/local/lib/python3.10/dist-packages (from tensorflow) (23.5.26)\n",
            "Requirement already satisfied: gast!=0.5.0,!=0.5.1,!=0.5.2,>=0.2.1 in /usr/local/lib/python3.10/dist-packages (from tensorflow) (0.5.4)\n",
            "Requirement already satisfied: google-pasta>=0.1.1 in /usr/local/lib/python3.10/dist-packages (from tensorflow) (0.2.0)\n",
            "Requirement already satisfied: h5py>=2.9.0 in /usr/local/lib/python3.10/dist-packages (from tensorflow) (3.9.0)\n",
            "Requirement already satisfied: libclang>=13.0.0 in /usr/local/lib/python3.10/dist-packages (from tensorflow) (16.0.6)\n",
            "Requirement already satisfied: ml-dtypes==0.2.0 in /usr/local/lib/python3.10/dist-packages (from tensorflow) (0.2.0)\n",
            "Requirement already satisfied: numpy>=1.23.5 in /usr/local/lib/python3.10/dist-packages (from tensorflow) (1.23.5)\n",
            "Requirement already satisfied: opt-einsum>=2.3.2 in /usr/local/lib/python3.10/dist-packages (from tensorflow) (3.3.0)\n",
            "Requirement already satisfied: packaging in /usr/local/lib/python3.10/dist-packages (from tensorflow) (23.2)\n",
            "Requirement already satisfied: protobuf!=4.21.0,!=4.21.1,!=4.21.2,!=4.21.3,!=4.21.4,!=4.21.5,<5.0.0dev,>=3.20.3 in /usr/local/lib/python3.10/dist-packages (from tensorflow) (3.20.3)\n",
            "Requirement already satisfied: setuptools in /usr/local/lib/python3.10/dist-packages (from tensorflow) (67.7.2)\n",
            "Requirement already satisfied: six>=1.12.0 in /usr/local/lib/python3.10/dist-packages (from tensorflow) (1.16.0)\n",
            "Requirement already satisfied: termcolor>=1.1.0 in /usr/local/lib/python3.10/dist-packages (from tensorflow) (2.3.0)\n",
            "Requirement already satisfied: typing-extensions>=3.6.6 in /usr/local/lib/python3.10/dist-packages (from tensorflow) (4.5.0)\n",
            "Requirement already satisfied: wrapt<1.15,>=1.11.0 in /usr/local/lib/python3.10/dist-packages (from tensorflow) (1.14.1)\n",
            "Requirement already satisfied: tensorflow-io-gcs-filesystem>=0.23.1 in /usr/local/lib/python3.10/dist-packages (from tensorflow) (0.34.0)\n",
            "Requirement already satisfied: grpcio<2.0,>=1.24.3 in /usr/local/lib/python3.10/dist-packages (from tensorflow) (1.59.2)\n",
            "Requirement already satisfied: tensorboard<2.15,>=2.14 in /usr/local/lib/python3.10/dist-packages (from tensorflow) (2.14.1)\n",
            "Requirement already satisfied: tensorflow-estimator<2.15,>=2.14.0 in /usr/local/lib/python3.10/dist-packages (from tensorflow) (2.14.0)\n",
            "Requirement already satisfied: keras<2.15,>=2.14.0 in /usr/local/lib/python3.10/dist-packages (from tensorflow) (2.14.0)\n",
            "Requirement already satisfied: wheel<1.0,>=0.23.0 in /usr/local/lib/python3.10/dist-packages (from astunparse>=1.6.0->tensorflow) (0.41.3)\n",
            "Requirement already satisfied: google-auth<3,>=1.6.3 in /usr/local/lib/python3.10/dist-packages (from tensorboard<2.15,>=2.14->tensorflow) (2.17.3)\n",
            "Requirement already satisfied: google-auth-oauthlib<1.1,>=0.5 in /usr/local/lib/python3.10/dist-packages (from tensorboard<2.15,>=2.14->tensorflow) (1.0.0)\n",
            "Requirement already satisfied: markdown>=2.6.8 in /usr/local/lib/python3.10/dist-packages (from tensorboard<2.15,>=2.14->tensorflow) (3.5.1)\n",
            "Requirement already satisfied: requests<3,>=2.21.0 in /usr/local/lib/python3.10/dist-packages (from tensorboard<2.15,>=2.14->tensorflow) (2.31.0)\n",
            "Requirement already satisfied: tensorboard-data-server<0.8.0,>=0.7.0 in /usr/local/lib/python3.10/dist-packages (from tensorboard<2.15,>=2.14->tensorflow) (0.7.2)\n",
            "Requirement already satisfied: werkzeug>=1.0.1 in /usr/local/lib/python3.10/dist-packages (from tensorboard<2.15,>=2.14->tensorflow) (3.0.1)\n",
            "Requirement already satisfied: cachetools<6.0,>=2.0.0 in /usr/local/lib/python3.10/dist-packages (from google-auth<3,>=1.6.3->tensorboard<2.15,>=2.14->tensorflow) (5.3.2)\n",
            "Requirement already satisfied: pyasn1-modules>=0.2.1 in /usr/local/lib/python3.10/dist-packages (from google-auth<3,>=1.6.3->tensorboard<2.15,>=2.14->tensorflow) (0.3.0)\n",
            "Requirement already satisfied: rsa<5,>=3.1.4 in /usr/local/lib/python3.10/dist-packages (from google-auth<3,>=1.6.3->tensorboard<2.15,>=2.14->tensorflow) (4.9)\n",
            "Requirement already satisfied: requests-oauthlib>=0.7.0 in /usr/local/lib/python3.10/dist-packages (from google-auth-oauthlib<1.1,>=0.5->tensorboard<2.15,>=2.14->tensorflow) (1.3.1)\n",
            "Requirement already satisfied: charset-normalizer<4,>=2 in /usr/local/lib/python3.10/dist-packages (from requests<3,>=2.21.0->tensorboard<2.15,>=2.14->tensorflow) (3.3.2)\n",
            "Requirement already satisfied: idna<4,>=2.5 in /usr/local/lib/python3.10/dist-packages (from requests<3,>=2.21.0->tensorboard<2.15,>=2.14->tensorflow) (3.4)\n",
            "Requirement already satisfied: urllib3<3,>=1.21.1 in /usr/local/lib/python3.10/dist-packages (from requests<3,>=2.21.0->tensorboard<2.15,>=2.14->tensorflow) (2.0.7)\n",
            "Requirement already satisfied: certifi>=2017.4.17 in /usr/local/lib/python3.10/dist-packages (from requests<3,>=2.21.0->tensorboard<2.15,>=2.14->tensorflow) (2023.7.22)\n",
            "Requirement already satisfied: MarkupSafe>=2.1.1 in /usr/local/lib/python3.10/dist-packages (from werkzeug>=1.0.1->tensorboard<2.15,>=2.14->tensorflow) (2.1.3)\n",
            "Requirement already satisfied: pyasn1<0.6.0,>=0.4.6 in /usr/local/lib/python3.10/dist-packages (from pyasn1-modules>=0.2.1->google-auth<3,>=1.6.3->tensorboard<2.15,>=2.14->tensorflow) (0.5.0)\n",
            "Requirement already satisfied: oauthlib>=3.0.0 in /usr/local/lib/python3.10/dist-packages (from requests-oauthlib>=0.7.0->google-auth-oauthlib<1.1,>=0.5->tensorboard<2.15,>=2.14->tensorflow) (3.2.2)\n"
          ]
        }
      ]
    },
    {
      "cell_type": "code",
      "source": [
        "import tensorflow as tf\n",
        "from tensorflow import keras\n",
        "from tensorflow.keras import layers, models\n",
        "\n",
        "NN_model = models.Sequential()\n",
        "NN_model.add(layers.Dense(64, input_dim=37, activation='relu'))\n",
        "NN_model.add(layers.Dense(32, activation='relu'))\n",
        "NN_model.add(layers.Dense(1, activation='sigmoid'))\n",
        "\n",
        "# Compile the model\n",
        "NN_model.compile(optimizer='adam', loss='binary_crossentropy')\n",
        "\n",
        "# Display the model summary\n",
        "NN_model.summary()"
      ],
      "metadata": {
        "id": "_BsNIDDUihJG",
        "outputId": "3696504a-cd30-407e-adfa-254558d3aa9f",
        "colab": {
          "base_uri": "https://localhost:8080/"
        }
      },
      "execution_count": 86,
      "outputs": [
        {
          "output_type": "stream",
          "name": "stdout",
          "text": [
            "Model: \"sequential_9\"\n",
            "_________________________________________________________________\n",
            " Layer (type)                Output Shape              Param #   \n",
            "=================================================================\n",
            " dense_21 (Dense)            (None, 64)                2432      \n",
            "                                                                 \n",
            " dense_22 (Dense)            (None, 32)                2080      \n",
            "                                                                 \n",
            " dense_23 (Dense)            (None, 1)                 33        \n",
            "                                                                 \n",
            "=================================================================\n",
            "Total params: 4545 (17.75 KB)\n",
            "Trainable params: 4545 (17.75 KB)\n",
            "Non-trainable params: 0 (0.00 Byte)\n",
            "_________________________________________________________________\n"
          ]
        }
      ]
    },
    {
      "cell_type": "code",
      "source": [
        "NN_model.fit(X_train, y_train, epochs=50, batch_size=32, validation_split=0.2)\n",
        "#y_pred = NN_model.predict(X_test)"
      ],
      "metadata": {
        "id": "QxaqX5C4ka9w",
        "outputId": "3daa7810-fa5b-4a12-f91c-d91a3bd09bb5",
        "colab": {
          "base_uri": "https://localhost:8080/"
        }
      },
      "execution_count": 87,
      "outputs": [
        {
          "output_type": "stream",
          "name": "stdout",
          "text": [
            "Epoch 1/50\n",
            "53/53 [==============================] - 2s 8ms/step - loss: 0.5824 - val_loss: 0.5016\n",
            "Epoch 2/50\n",
            "53/53 [==============================] - 0s 3ms/step - loss: 0.4670 - val_loss: 0.4581\n",
            "Epoch 3/50\n",
            "53/53 [==============================] - 0s 3ms/step - loss: 0.4326 - val_loss: 0.4540\n",
            "Epoch 4/50\n",
            "53/53 [==============================] - 0s 3ms/step - loss: 0.4103 - val_loss: 0.4471\n",
            "Epoch 5/50\n",
            "53/53 [==============================] - 0s 3ms/step - loss: 0.3957 - val_loss: 0.4449\n",
            "Epoch 6/50\n",
            "53/53 [==============================] - 0s 3ms/step - loss: 0.3820 - val_loss: 0.4483\n",
            "Epoch 7/50\n",
            "53/53 [==============================] - 0s 3ms/step - loss: 0.3697 - val_loss: 0.4530\n",
            "Epoch 8/50\n",
            "53/53 [==============================] - 0s 4ms/step - loss: 0.3603 - val_loss: 0.4499\n",
            "Epoch 9/50\n",
            "53/53 [==============================] - 0s 3ms/step - loss: 0.3467 - val_loss: 0.4587\n",
            "Epoch 10/50\n",
            "53/53 [==============================] - 0s 3ms/step - loss: 0.3367 - val_loss: 0.4644\n",
            "Epoch 11/50\n",
            "53/53 [==============================] - 0s 3ms/step - loss: 0.3237 - val_loss: 0.4737\n",
            "Epoch 12/50\n",
            "53/53 [==============================] - 0s 3ms/step - loss: 0.3149 - val_loss: 0.4730\n",
            "Epoch 13/50\n",
            "53/53 [==============================] - 0s 4ms/step - loss: 0.3048 - val_loss: 0.4867\n",
            "Epoch 14/50\n",
            "53/53 [==============================] - 0s 4ms/step - loss: 0.2930 - val_loss: 0.4865\n",
            "Epoch 15/50\n",
            "53/53 [==============================] - 0s 5ms/step - loss: 0.2836 - val_loss: 0.5007\n",
            "Epoch 16/50\n",
            "53/53 [==============================] - 0s 5ms/step - loss: 0.2745 - val_loss: 0.5080\n",
            "Epoch 17/50\n",
            "53/53 [==============================] - 0s 5ms/step - loss: 0.2645 - val_loss: 0.5143\n",
            "Epoch 18/50\n",
            "53/53 [==============================] - 0s 4ms/step - loss: 0.2520 - val_loss: 0.5256\n",
            "Epoch 19/50\n",
            "53/53 [==============================] - 0s 4ms/step - loss: 0.2402 - val_loss: 0.5377\n",
            "Epoch 20/50\n",
            "53/53 [==============================] - 0s 5ms/step - loss: 0.2296 - val_loss: 0.5561\n",
            "Epoch 21/50\n",
            "53/53 [==============================] - 0s 5ms/step - loss: 0.2227 - val_loss: 0.5563\n",
            "Epoch 22/50\n",
            "53/53 [==============================] - 0s 4ms/step - loss: 0.2107 - val_loss: 0.5773\n",
            "Epoch 23/50\n",
            "53/53 [==============================] - 0s 5ms/step - loss: 0.1998 - val_loss: 0.5923\n",
            "Epoch 24/50\n",
            "53/53 [==============================] - 0s 4ms/step - loss: 0.1914 - val_loss: 0.6126\n",
            "Epoch 25/50\n",
            "53/53 [==============================] - 0s 5ms/step - loss: 0.1806 - val_loss: 0.6097\n",
            "Epoch 26/50\n",
            "53/53 [==============================] - 0s 5ms/step - loss: 0.1717 - val_loss: 0.6358\n",
            "Epoch 27/50\n",
            "53/53 [==============================] - 0s 5ms/step - loss: 0.1621 - val_loss: 0.6452\n",
            "Epoch 28/50\n",
            "53/53 [==============================] - 0s 5ms/step - loss: 0.1534 - val_loss: 0.6759\n",
            "Epoch 29/50\n",
            "53/53 [==============================] - 0s 5ms/step - loss: 0.1481 - val_loss: 0.6827\n",
            "Epoch 30/50\n",
            "53/53 [==============================] - 0s 5ms/step - loss: 0.1372 - val_loss: 0.6862\n",
            "Epoch 31/50\n",
            "53/53 [==============================] - 0s 5ms/step - loss: 0.1271 - val_loss: 0.7334\n",
            "Epoch 32/50\n",
            "53/53 [==============================] - 0s 5ms/step - loss: 0.1199 - val_loss: 0.7428\n",
            "Epoch 33/50\n",
            "53/53 [==============================] - 0s 6ms/step - loss: 0.1132 - val_loss: 0.7619\n",
            "Epoch 34/50\n",
            "53/53 [==============================] - 0s 5ms/step - loss: 0.1074 - val_loss: 0.7790\n",
            "Epoch 35/50\n",
            "53/53 [==============================] - 0s 5ms/step - loss: 0.0980 - val_loss: 0.7984\n",
            "Epoch 36/50\n",
            "53/53 [==============================] - 0s 6ms/step - loss: 0.0928 - val_loss: 0.8278\n",
            "Epoch 37/50\n",
            "53/53 [==============================] - 0s 6ms/step - loss: 0.0865 - val_loss: 0.8567\n",
            "Epoch 38/50\n",
            "53/53 [==============================] - 0s 5ms/step - loss: 0.0789 - val_loss: 0.8710\n",
            "Epoch 39/50\n",
            "53/53 [==============================] - 0s 6ms/step - loss: 0.0738 - val_loss: 0.8898\n",
            "Epoch 40/50\n",
            "53/53 [==============================] - 0s 6ms/step - loss: 0.0677 - val_loss: 0.9251\n",
            "Epoch 41/50\n",
            "53/53 [==============================] - 0s 4ms/step - loss: 0.0648 - val_loss: 0.9398\n",
            "Epoch 42/50\n",
            "53/53 [==============================] - 0s 3ms/step - loss: 0.0599 - val_loss: 0.9419\n",
            "Epoch 43/50\n",
            "53/53 [==============================] - 0s 4ms/step - loss: 0.0557 - val_loss: 0.9580\n",
            "Epoch 44/50\n",
            "53/53 [==============================] - 0s 3ms/step - loss: 0.0503 - val_loss: 0.9898\n",
            "Epoch 45/50\n",
            "53/53 [==============================] - 0s 3ms/step - loss: 0.0456 - val_loss: 1.0192\n",
            "Epoch 46/50\n",
            "53/53 [==============================] - 0s 3ms/step - loss: 0.0428 - val_loss: 1.0345\n",
            "Epoch 47/50\n",
            "53/53 [==============================] - 0s 4ms/step - loss: 0.0395 - val_loss: 1.0724\n",
            "Epoch 48/50\n",
            "53/53 [==============================] - 0s 3ms/step - loss: 0.0359 - val_loss: 1.0966\n",
            "Epoch 49/50\n",
            "53/53 [==============================] - 0s 3ms/step - loss: 0.0330 - val_loss: 1.1058\n",
            "Epoch 50/50\n",
            "53/53 [==============================] - 0s 3ms/step - loss: 0.0319 - val_loss: 1.1135\n"
          ]
        },
        {
          "output_type": "execute_result",
          "data": {
            "text/plain": [
              "<keras.src.callbacks.History at 0x7aff865dee30>"
            ]
          },
          "metadata": {},
          "execution_count": 87
        }
      ]
    },
    {
      "cell_type": "code",
      "source": [
        "y_pred = NN_model.predict(X_test)\n",
        "y_pred_binary = np.round(y_pred)\n",
        "\n",
        "accuracy = accuracy_score(y_test, y_pred_binary)\n",
        "precision = precision_score(y_test, y_pred_binary)\n",
        "recall = recall_score(y_test, y_pred_binary)\n",
        "f1 = f1_score(y_test, y_pred_binary)\n",
        "print(\"Accuracy:\", accuracy)\n",
        "print(\"Precision:\", precision)\n",
        "print(\"Recall:\", recall)\n",
        "print(\"F1-Score:\", f1)"
      ],
      "metadata": {
        "id": "PzQPKHBDp_7_",
        "outputId": "67064f5b-9e35-44c7-85a7-9e9b7378b0fe",
        "colab": {
          "base_uri": "https://localhost:8080/"
        }
      },
      "execution_count": 94,
      "outputs": [
        {
          "output_type": "stream",
          "name": "stdout",
          "text": [
            "15/15 [==============================] - 0s 3ms/step\n",
            "Accuracy: 0.7146017699115044\n",
            "Precision: 0.7385321100917431\n",
            "Recall: 0.6909871244635193\n",
            "F1-Score: 0.7139689578713969\n"
          ]
        }
      ]
    },
    {
      "cell_type": "code",
      "source": [
        "accuracy_list.append(accuracy)\n",
        "precision_list.append(precision)\n",
        "recall_list.append(recall)\n",
        "f1_list.append(f1)"
      ],
      "metadata": {
        "id": "RTETRhAItOK1"
      },
      "execution_count": 95,
      "outputs": []
    },
    {
      "cell_type": "code",
      "source": [
        "#Update the chart to view the neural network\n",
        "df_metrics = pd.DataFrame(data=data, columns=['Logistic Regression', 'Naive Bayes', 'SVM', 'K-Nearest Neighbors', 'Random Forest', 'XGBoost', 'Neural Network'],\n",
        "                          index=['Accuracy', 'Precision', 'Recall', 'F1-Score'])\n",
        "df_metrics"
      ],
      "metadata": {
        "id": "FLTboCEGs3-g",
        "outputId": "f41e744b-bb8e-42c4-8701-3f0c0b982f90",
        "colab": {
          "base_uri": "https://localhost:8080/",
          "height": 175
        }
      },
      "execution_count": 97,
      "outputs": [
        {
          "output_type": "execute_result",
          "data": {
            "text/plain": [
              "           Logistic Regression  Naive Bayes       SVM  K-Nearest Neighbors  \\\n",
              "Accuracy              0.792494     0.686534  0.799117             0.743929   \n",
              "Precision             0.758621     0.743243  0.755187             0.718750   \n",
              "Recall                0.822430     0.514019  0.850467             0.752336   \n",
              "F1-Score              0.789238     0.607735  0.800000             0.735160   \n",
              "\n",
              "           Random Forest   XGBoost  Neural Network  \n",
              "Accuracy        0.801325  0.799117        0.714602  \n",
              "Precision       0.750000  0.751020        0.738532  \n",
              "Recall          0.869159  0.859813        0.690987  \n",
              "F1-Score        0.805195  0.801743        0.713969  "
            ],
            "text/html": [
              "\n",
              "  <div id=\"df-677fb564-f8cd-4958-a313-74c10011a774\" class=\"colab-df-container\">\n",
              "    <div>\n",
              "<style scoped>\n",
              "    .dataframe tbody tr th:only-of-type {\n",
              "        vertical-align: middle;\n",
              "    }\n",
              "\n",
              "    .dataframe tbody tr th {\n",
              "        vertical-align: top;\n",
              "    }\n",
              "\n",
              "    .dataframe thead th {\n",
              "        text-align: right;\n",
              "    }\n",
              "</style>\n",
              "<table border=\"1\" class=\"dataframe\">\n",
              "  <thead>\n",
              "    <tr style=\"text-align: right;\">\n",
              "      <th></th>\n",
              "      <th>Logistic Regression</th>\n",
              "      <th>Naive Bayes</th>\n",
              "      <th>SVM</th>\n",
              "      <th>K-Nearest Neighbors</th>\n",
              "      <th>Random Forest</th>\n",
              "      <th>XGBoost</th>\n",
              "      <th>Neural Network</th>\n",
              "    </tr>\n",
              "  </thead>\n",
              "  <tbody>\n",
              "    <tr>\n",
              "      <th>Accuracy</th>\n",
              "      <td>0.792494</td>\n",
              "      <td>0.686534</td>\n",
              "      <td>0.799117</td>\n",
              "      <td>0.743929</td>\n",
              "      <td>0.801325</td>\n",
              "      <td>0.799117</td>\n",
              "      <td>0.714602</td>\n",
              "    </tr>\n",
              "    <tr>\n",
              "      <th>Precision</th>\n",
              "      <td>0.758621</td>\n",
              "      <td>0.743243</td>\n",
              "      <td>0.755187</td>\n",
              "      <td>0.718750</td>\n",
              "      <td>0.750000</td>\n",
              "      <td>0.751020</td>\n",
              "      <td>0.738532</td>\n",
              "    </tr>\n",
              "    <tr>\n",
              "      <th>Recall</th>\n",
              "      <td>0.822430</td>\n",
              "      <td>0.514019</td>\n",
              "      <td>0.850467</td>\n",
              "      <td>0.752336</td>\n",
              "      <td>0.869159</td>\n",
              "      <td>0.859813</td>\n",
              "      <td>0.690987</td>\n",
              "    </tr>\n",
              "    <tr>\n",
              "      <th>F1-Score</th>\n",
              "      <td>0.789238</td>\n",
              "      <td>0.607735</td>\n",
              "      <td>0.800000</td>\n",
              "      <td>0.735160</td>\n",
              "      <td>0.805195</td>\n",
              "      <td>0.801743</td>\n",
              "      <td>0.713969</td>\n",
              "    </tr>\n",
              "  </tbody>\n",
              "</table>\n",
              "</div>\n",
              "    <div class=\"colab-df-buttons\">\n",
              "\n",
              "  <div class=\"colab-df-container\">\n",
              "    <button class=\"colab-df-convert\" onclick=\"convertToInteractive('df-677fb564-f8cd-4958-a313-74c10011a774')\"\n",
              "            title=\"Convert this dataframe to an interactive table.\"\n",
              "            style=\"display:none;\">\n",
              "\n",
              "  <svg xmlns=\"http://www.w3.org/2000/svg\" height=\"24px\" viewBox=\"0 -960 960 960\">\n",
              "    <path d=\"M120-120v-720h720v720H120Zm60-500h600v-160H180v160Zm220 220h160v-160H400v160Zm0 220h160v-160H400v160ZM180-400h160v-160H180v160Zm440 0h160v-160H620v160ZM180-180h160v-160H180v160Zm440 0h160v-160H620v160Z\"/>\n",
              "  </svg>\n",
              "    </button>\n",
              "\n",
              "  <style>\n",
              "    .colab-df-container {\n",
              "      display:flex;\n",
              "      gap: 12px;\n",
              "    }\n",
              "\n",
              "    .colab-df-convert {\n",
              "      background-color: #E8F0FE;\n",
              "      border: none;\n",
              "      border-radius: 50%;\n",
              "      cursor: pointer;\n",
              "      display: none;\n",
              "      fill: #1967D2;\n",
              "      height: 32px;\n",
              "      padding: 0 0 0 0;\n",
              "      width: 32px;\n",
              "    }\n",
              "\n",
              "    .colab-df-convert:hover {\n",
              "      background-color: #E2EBFA;\n",
              "      box-shadow: 0px 1px 2px rgba(60, 64, 67, 0.3), 0px 1px 3px 1px rgba(60, 64, 67, 0.15);\n",
              "      fill: #174EA6;\n",
              "    }\n",
              "\n",
              "    .colab-df-buttons div {\n",
              "      margin-bottom: 4px;\n",
              "    }\n",
              "\n",
              "    [theme=dark] .colab-df-convert {\n",
              "      background-color: #3B4455;\n",
              "      fill: #D2E3FC;\n",
              "    }\n",
              "\n",
              "    [theme=dark] .colab-df-convert:hover {\n",
              "      background-color: #434B5C;\n",
              "      box-shadow: 0px 1px 3px 1px rgba(0, 0, 0, 0.15);\n",
              "      filter: drop-shadow(0px 1px 2px rgba(0, 0, 0, 0.3));\n",
              "      fill: #FFFFFF;\n",
              "    }\n",
              "  </style>\n",
              "\n",
              "    <script>\n",
              "      const buttonEl =\n",
              "        document.querySelector('#df-677fb564-f8cd-4958-a313-74c10011a774 button.colab-df-convert');\n",
              "      buttonEl.style.display =\n",
              "        google.colab.kernel.accessAllowed ? 'block' : 'none';\n",
              "\n",
              "      async function convertToInteractive(key) {\n",
              "        const element = document.querySelector('#df-677fb564-f8cd-4958-a313-74c10011a774');\n",
              "        const dataTable =\n",
              "          await google.colab.kernel.invokeFunction('convertToInteractive',\n",
              "                                                    [key], {});\n",
              "        if (!dataTable) return;\n",
              "\n",
              "        const docLinkHtml = 'Like what you see? Visit the ' +\n",
              "          '<a target=\"_blank\" href=https://colab.research.google.com/notebooks/data_table.ipynb>data table notebook</a>'\n",
              "          + ' to learn more about interactive tables.';\n",
              "        element.innerHTML = '';\n",
              "        dataTable['output_type'] = 'display_data';\n",
              "        await google.colab.output.renderOutput(dataTable, element);\n",
              "        const docLink = document.createElement('div');\n",
              "        docLink.innerHTML = docLinkHtml;\n",
              "        element.appendChild(docLink);\n",
              "      }\n",
              "    </script>\n",
              "  </div>\n",
              "\n",
              "\n",
              "<div id=\"df-6fe7d633-815a-4ee1-b197-c34975ae2f6b\">\n",
              "  <button class=\"colab-df-quickchart\" onclick=\"quickchart('df-6fe7d633-815a-4ee1-b197-c34975ae2f6b')\"\n",
              "            title=\"Suggest charts\"\n",
              "            style=\"display:none;\">\n",
              "\n",
              "<svg xmlns=\"http://www.w3.org/2000/svg\" height=\"24px\"viewBox=\"0 0 24 24\"\n",
              "     width=\"24px\">\n",
              "    <g>\n",
              "        <path d=\"M19 3H5c-1.1 0-2 .9-2 2v14c0 1.1.9 2 2 2h14c1.1 0 2-.9 2-2V5c0-1.1-.9-2-2-2zM9 17H7v-7h2v7zm4 0h-2V7h2v10zm4 0h-2v-4h2v4z\"/>\n",
              "    </g>\n",
              "</svg>\n",
              "  </button>\n",
              "\n",
              "<style>\n",
              "  .colab-df-quickchart {\n",
              "      --bg-color: #E8F0FE;\n",
              "      --fill-color: #1967D2;\n",
              "      --hover-bg-color: #E2EBFA;\n",
              "      --hover-fill-color: #174EA6;\n",
              "      --disabled-fill-color: #AAA;\n",
              "      --disabled-bg-color: #DDD;\n",
              "  }\n",
              "\n",
              "  [theme=dark] .colab-df-quickchart {\n",
              "      --bg-color: #3B4455;\n",
              "      --fill-color: #D2E3FC;\n",
              "      --hover-bg-color: #434B5C;\n",
              "      --hover-fill-color: #FFFFFF;\n",
              "      --disabled-bg-color: #3B4455;\n",
              "      --disabled-fill-color: #666;\n",
              "  }\n",
              "\n",
              "  .colab-df-quickchart {\n",
              "    background-color: var(--bg-color);\n",
              "    border: none;\n",
              "    border-radius: 50%;\n",
              "    cursor: pointer;\n",
              "    display: none;\n",
              "    fill: var(--fill-color);\n",
              "    height: 32px;\n",
              "    padding: 0;\n",
              "    width: 32px;\n",
              "  }\n",
              "\n",
              "  .colab-df-quickchart:hover {\n",
              "    background-color: var(--hover-bg-color);\n",
              "    box-shadow: 0 1px 2px rgba(60, 64, 67, 0.3), 0 1px 3px 1px rgba(60, 64, 67, 0.15);\n",
              "    fill: var(--button-hover-fill-color);\n",
              "  }\n",
              "\n",
              "  .colab-df-quickchart-complete:disabled,\n",
              "  .colab-df-quickchart-complete:disabled:hover {\n",
              "    background-color: var(--disabled-bg-color);\n",
              "    fill: var(--disabled-fill-color);\n",
              "    box-shadow: none;\n",
              "  }\n",
              "\n",
              "  .colab-df-spinner {\n",
              "    border: 2px solid var(--fill-color);\n",
              "    border-color: transparent;\n",
              "    border-bottom-color: var(--fill-color);\n",
              "    animation:\n",
              "      spin 1s steps(1) infinite;\n",
              "  }\n",
              "\n",
              "  @keyframes spin {\n",
              "    0% {\n",
              "      border-color: transparent;\n",
              "      border-bottom-color: var(--fill-color);\n",
              "      border-left-color: var(--fill-color);\n",
              "    }\n",
              "    20% {\n",
              "      border-color: transparent;\n",
              "      border-left-color: var(--fill-color);\n",
              "      border-top-color: var(--fill-color);\n",
              "    }\n",
              "    30% {\n",
              "      border-color: transparent;\n",
              "      border-left-color: var(--fill-color);\n",
              "      border-top-color: var(--fill-color);\n",
              "      border-right-color: var(--fill-color);\n",
              "    }\n",
              "    40% {\n",
              "      border-color: transparent;\n",
              "      border-right-color: var(--fill-color);\n",
              "      border-top-color: var(--fill-color);\n",
              "    }\n",
              "    60% {\n",
              "      border-color: transparent;\n",
              "      border-right-color: var(--fill-color);\n",
              "    }\n",
              "    80% {\n",
              "      border-color: transparent;\n",
              "      border-right-color: var(--fill-color);\n",
              "      border-bottom-color: var(--fill-color);\n",
              "    }\n",
              "    90% {\n",
              "      border-color: transparent;\n",
              "      border-bottom-color: var(--fill-color);\n",
              "    }\n",
              "  }\n",
              "</style>\n",
              "\n",
              "  <script>\n",
              "    async function quickchart(key) {\n",
              "      const quickchartButtonEl =\n",
              "        document.querySelector('#' + key + ' button');\n",
              "      quickchartButtonEl.disabled = true;  // To prevent multiple clicks.\n",
              "      quickchartButtonEl.classList.add('colab-df-spinner');\n",
              "      try {\n",
              "        const charts = await google.colab.kernel.invokeFunction(\n",
              "            'suggestCharts', [key], {});\n",
              "      } catch (error) {\n",
              "        console.error('Error during call to suggestCharts:', error);\n",
              "      }\n",
              "      quickchartButtonEl.classList.remove('colab-df-spinner');\n",
              "      quickchartButtonEl.classList.add('colab-df-quickchart-complete');\n",
              "    }\n",
              "    (() => {\n",
              "      let quickchartButtonEl =\n",
              "        document.querySelector('#df-6fe7d633-815a-4ee1-b197-c34975ae2f6b button');\n",
              "      quickchartButtonEl.style.display =\n",
              "        google.colab.kernel.accessAllowed ? 'block' : 'none';\n",
              "    })();\n",
              "  </script>\n",
              "</div>\n",
              "    </div>\n",
              "  </div>\n"
            ]
          },
          "metadata": {},
          "execution_count": 97
        }
      ]
    }
  ],
  "metadata": {
    "kernelspec": {
      "display_name": "Python 3",
      "language": "python",
      "name": "python3"
    },
    "language_info": {
      "codemirror_mode": {
        "name": "ipython",
        "version": 3
      },
      "file_extension": ".py",
      "mimetype": "text/x-python",
      "name": "python",
      "nbconvert_exporter": "python",
      "pygments_lexer": "ipython3",
      "version": "3.11.4"
    },
    "colab": {
      "provenance": [],
      "include_colab_link": true
    }
  },
  "nbformat": 4,
  "nbformat_minor": 0
}