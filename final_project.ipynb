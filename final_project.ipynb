{
  "cells": [
    {
      "cell_type": "code",
      "source": [
        "from google.colab import drive\n",
        "drive.mount('/content/drive')"
      ],
      "metadata": {
        "colab": {
          "base_uri": "https://localhost:8080/"
        },
        "id": "ZXDzV9-rv3b-",
        "outputId": "abf69327-6be0-4f8b-abb4-da9df49a9796"
      },
      "execution_count": 261,
      "outputs": [
        {
          "output_type": "stream",
          "name": "stdout",
          "text": [
            "Drive already mounted at /content/drive; to attempt to forcibly remount, call drive.mount(\"/content/drive\", force_remount=True).\n"
          ]
        }
      ]
    },
    {
      "cell_type": "code",
      "execution_count": 262,
      "metadata": {
        "id": "IovT3H3Ts0qZ"
      },
      "outputs": [],
      "source": [
        "import numpy as np\n",
        "import pandas as pd\n",
        "import xgboost as xgb\n",
        "\n",
        "from sklearn.model_selection import train_test_split, GridSearchCV\n",
        "from sklearn.linear_model import LassoCV, LogisticRegression\n",
        "from sklearn.svm import SVC\n",
        "from sklearn.neighbors import KNeighborsClassifier\n",
        "from sklearn.tree import DecisionTreeClassifier\n",
        "from sklearn.ensemble import RandomForestClassifier\n",
        "from sklearn.naive_bayes import GaussianNB\n",
        "from sklearn.preprocessing import StandardScaler\n",
        "from sklearn.metrics import accuracy_score, precision_score, recall_score, f1_score\n",
        "from imblearn.under_sampling import RandomUnderSampler"
      ]
    },
    {
      "cell_type": "code",
      "execution_count": 263,
      "metadata": {
        "id": "FqceX2oTs0qa",
        "outputId": "e4d7ae2f-10e4-42b0-c2b0-165b9018e2cd",
        "colab": {
          "base_uri": "https://localhost:8080/",
          "height": 495
        }
      },
      "outputs": [
        {
          "output_type": "execute_result",
          "data": {
            "text/plain": [
              "        SEQN  Gender  Age  Annual-Family-Income  Ratio-Family-Income-Poverty  \\\n",
              "0          2       1   77                     8                         5.00   \n",
              "1          5       1   49                    11                         5.00   \n",
              "2         12       1   37                    11                         4.93   \n",
              "3         13       1   70                     3                         1.07   \n",
              "4         14       1   81                     5                         2.67   \n",
              "...      ...     ...  ...                   ...                          ...   \n",
              "37074  93691       1   25                    10                         1.59   \n",
              "37075  93695       2   76                     4                         1.43   \n",
              "37076  93697       2   80                     7                         2.97   \n",
              "37077  93700       1   35                     1                         0.00   \n",
              "37078  93702       2   24                     7                         3.54   \n",
              "\n",
              "       X60-sec-pulse  Systolic  Diastolic  Weight  Height  ...  \\\n",
              "0                 68        98         56    75.4   174.0  ...   \n",
              "1                 66       122         83    92.5   178.3  ...   \n",
              "2                 64       174         99    99.2   180.0  ...   \n",
              "3                102       130         66    63.6   157.7  ...   \n",
              "4                 72       136         61    75.5   166.2  ...   \n",
              "...              ...       ...        ...     ...     ...  ...   \n",
              "37074             92       112         76    39.2   136.5  ...   \n",
              "37075             78       112         46    59.1   165.8  ...   \n",
              "37076             74       146         58    71.7   152.2  ...   \n",
              "37077             76       106         66    78.2   173.3  ...   \n",
              "37078             80       114         68    58.3   165.0  ...   \n",
              "\n",
              "       Total-Cholesterol   HDL  Glycohemoglobin  Vigorous-work  Moderate-work  \\\n",
              "0                   5.56  1.39              4.7              3              3   \n",
              "1                   7.21  1.08              5.5              1              1   \n",
              "2                   4.03  0.98              5.2              2              1   \n",
              "3                   8.12  1.28              7.6              3              3   \n",
              "4                   4.50  1.04              5.8              1              1   \n",
              "...                  ...   ...              ...            ...            ...   \n",
              "37074               4.14  1.27              5.8              2              2   \n",
              "37075               3.62  1.76              5.6              2              2   \n",
              "37076               6.62  2.90              5.7              2              2   \n",
              "37077               3.72  1.09              5.2              2              2   \n",
              "37078               4.14  1.89              4.6              2              2   \n",
              "\n",
              "       Health-Insurance  Diabetes  Blood-Rel-Diabetes  Blood-Rel-Stroke  \\\n",
              "0                     1         2                   2                 2   \n",
              "1                     1         2                   2                 2   \n",
              "2                     1         2                   1                 1   \n",
              "3                     1         1                   1                 2   \n",
              "4                     1         2                   2                 2   \n",
              "...                 ...       ...                 ...               ...   \n",
              "37074                 1         2                   1                 2   \n",
              "37075                 1         2                   2                 2   \n",
              "37076                 1         2                   2                 2   \n",
              "37077                 1         2                   2                 1   \n",
              "37078                 1         2                   2                 2   \n",
              "\n",
              "       CoronaryHeartDisease  \n",
              "0                         0  \n",
              "1                         0  \n",
              "2                         0  \n",
              "3                         0  \n",
              "4                         0  \n",
              "...                     ...  \n",
              "37074                     0  \n",
              "37075                     0  \n",
              "37076                     0  \n",
              "37077                     0  \n",
              "37078                     0  \n",
              "\n",
              "[37079 rows x 51 columns]"
            ],
            "text/html": [
              "\n",
              "  <div id=\"df-696cb16f-00d0-4c81-9f65-e89bff0aef05\" class=\"colab-df-container\">\n",
              "    <div>\n",
              "<style scoped>\n",
              "    .dataframe tbody tr th:only-of-type {\n",
              "        vertical-align: middle;\n",
              "    }\n",
              "\n",
              "    .dataframe tbody tr th {\n",
              "        vertical-align: top;\n",
              "    }\n",
              "\n",
              "    .dataframe thead th {\n",
              "        text-align: right;\n",
              "    }\n",
              "</style>\n",
              "<table border=\"1\" class=\"dataframe\">\n",
              "  <thead>\n",
              "    <tr style=\"text-align: right;\">\n",
              "      <th></th>\n",
              "      <th>SEQN</th>\n",
              "      <th>Gender</th>\n",
              "      <th>Age</th>\n",
              "      <th>Annual-Family-Income</th>\n",
              "      <th>Ratio-Family-Income-Poverty</th>\n",
              "      <th>X60-sec-pulse</th>\n",
              "      <th>Systolic</th>\n",
              "      <th>Diastolic</th>\n",
              "      <th>Weight</th>\n",
              "      <th>Height</th>\n",
              "      <th>...</th>\n",
              "      <th>Total-Cholesterol</th>\n",
              "      <th>HDL</th>\n",
              "      <th>Glycohemoglobin</th>\n",
              "      <th>Vigorous-work</th>\n",
              "      <th>Moderate-work</th>\n",
              "      <th>Health-Insurance</th>\n",
              "      <th>Diabetes</th>\n",
              "      <th>Blood-Rel-Diabetes</th>\n",
              "      <th>Blood-Rel-Stroke</th>\n",
              "      <th>CoronaryHeartDisease</th>\n",
              "    </tr>\n",
              "  </thead>\n",
              "  <tbody>\n",
              "    <tr>\n",
              "      <th>0</th>\n",
              "      <td>2</td>\n",
              "      <td>1</td>\n",
              "      <td>77</td>\n",
              "      <td>8</td>\n",
              "      <td>5.00</td>\n",
              "      <td>68</td>\n",
              "      <td>98</td>\n",
              "      <td>56</td>\n",
              "      <td>75.4</td>\n",
              "      <td>174.0</td>\n",
              "      <td>...</td>\n",
              "      <td>5.56</td>\n",
              "      <td>1.39</td>\n",
              "      <td>4.7</td>\n",
              "      <td>3</td>\n",
              "      <td>3</td>\n",
              "      <td>1</td>\n",
              "      <td>2</td>\n",
              "      <td>2</td>\n",
              "      <td>2</td>\n",
              "      <td>0</td>\n",
              "    </tr>\n",
              "    <tr>\n",
              "      <th>1</th>\n",
              "      <td>5</td>\n",
              "      <td>1</td>\n",
              "      <td>49</td>\n",
              "      <td>11</td>\n",
              "      <td>5.00</td>\n",
              "      <td>66</td>\n",
              "      <td>122</td>\n",
              "      <td>83</td>\n",
              "      <td>92.5</td>\n",
              "      <td>178.3</td>\n",
              "      <td>...</td>\n",
              "      <td>7.21</td>\n",
              "      <td>1.08</td>\n",
              "      <td>5.5</td>\n",
              "      <td>1</td>\n",
              "      <td>1</td>\n",
              "      <td>1</td>\n",
              "      <td>2</td>\n",
              "      <td>2</td>\n",
              "      <td>2</td>\n",
              "      <td>0</td>\n",
              "    </tr>\n",
              "    <tr>\n",
              "      <th>2</th>\n",
              "      <td>12</td>\n",
              "      <td>1</td>\n",
              "      <td>37</td>\n",
              "      <td>11</td>\n",
              "      <td>4.93</td>\n",
              "      <td>64</td>\n",
              "      <td>174</td>\n",
              "      <td>99</td>\n",
              "      <td>99.2</td>\n",
              "      <td>180.0</td>\n",
              "      <td>...</td>\n",
              "      <td>4.03</td>\n",
              "      <td>0.98</td>\n",
              "      <td>5.2</td>\n",
              "      <td>2</td>\n",
              "      <td>1</td>\n",
              "      <td>1</td>\n",
              "      <td>2</td>\n",
              "      <td>1</td>\n",
              "      <td>1</td>\n",
              "      <td>0</td>\n",
              "    </tr>\n",
              "    <tr>\n",
              "      <th>3</th>\n",
              "      <td>13</td>\n",
              "      <td>1</td>\n",
              "      <td>70</td>\n",
              "      <td>3</td>\n",
              "      <td>1.07</td>\n",
              "      <td>102</td>\n",
              "      <td>130</td>\n",
              "      <td>66</td>\n",
              "      <td>63.6</td>\n",
              "      <td>157.7</td>\n",
              "      <td>...</td>\n",
              "      <td>8.12</td>\n",
              "      <td>1.28</td>\n",
              "      <td>7.6</td>\n",
              "      <td>3</td>\n",
              "      <td>3</td>\n",
              "      <td>1</td>\n",
              "      <td>1</td>\n",
              "      <td>1</td>\n",
              "      <td>2</td>\n",
              "      <td>0</td>\n",
              "    </tr>\n",
              "    <tr>\n",
              "      <th>4</th>\n",
              "      <td>14</td>\n",
              "      <td>1</td>\n",
              "      <td>81</td>\n",
              "      <td>5</td>\n",
              "      <td>2.67</td>\n",
              "      <td>72</td>\n",
              "      <td>136</td>\n",
              "      <td>61</td>\n",
              "      <td>75.5</td>\n",
              "      <td>166.2</td>\n",
              "      <td>...</td>\n",
              "      <td>4.50</td>\n",
              "      <td>1.04</td>\n",
              "      <td>5.8</td>\n",
              "      <td>1</td>\n",
              "      <td>1</td>\n",
              "      <td>1</td>\n",
              "      <td>2</td>\n",
              "      <td>2</td>\n",
              "      <td>2</td>\n",
              "      <td>0</td>\n",
              "    </tr>\n",
              "    <tr>\n",
              "      <th>...</th>\n",
              "      <td>...</td>\n",
              "      <td>...</td>\n",
              "      <td>...</td>\n",
              "      <td>...</td>\n",
              "      <td>...</td>\n",
              "      <td>...</td>\n",
              "      <td>...</td>\n",
              "      <td>...</td>\n",
              "      <td>...</td>\n",
              "      <td>...</td>\n",
              "      <td>...</td>\n",
              "      <td>...</td>\n",
              "      <td>...</td>\n",
              "      <td>...</td>\n",
              "      <td>...</td>\n",
              "      <td>...</td>\n",
              "      <td>...</td>\n",
              "      <td>...</td>\n",
              "      <td>...</td>\n",
              "      <td>...</td>\n",
              "      <td>...</td>\n",
              "    </tr>\n",
              "    <tr>\n",
              "      <th>37074</th>\n",
              "      <td>93691</td>\n",
              "      <td>1</td>\n",
              "      <td>25</td>\n",
              "      <td>10</td>\n",
              "      <td>1.59</td>\n",
              "      <td>92</td>\n",
              "      <td>112</td>\n",
              "      <td>76</td>\n",
              "      <td>39.2</td>\n",
              "      <td>136.5</td>\n",
              "      <td>...</td>\n",
              "      <td>4.14</td>\n",
              "      <td>1.27</td>\n",
              "      <td>5.8</td>\n",
              "      <td>2</td>\n",
              "      <td>2</td>\n",
              "      <td>1</td>\n",
              "      <td>2</td>\n",
              "      <td>1</td>\n",
              "      <td>2</td>\n",
              "      <td>0</td>\n",
              "    </tr>\n",
              "    <tr>\n",
              "      <th>37075</th>\n",
              "      <td>93695</td>\n",
              "      <td>2</td>\n",
              "      <td>76</td>\n",
              "      <td>4</td>\n",
              "      <td>1.43</td>\n",
              "      <td>78</td>\n",
              "      <td>112</td>\n",
              "      <td>46</td>\n",
              "      <td>59.1</td>\n",
              "      <td>165.8</td>\n",
              "      <td>...</td>\n",
              "      <td>3.62</td>\n",
              "      <td>1.76</td>\n",
              "      <td>5.6</td>\n",
              "      <td>2</td>\n",
              "      <td>2</td>\n",
              "      <td>1</td>\n",
              "      <td>2</td>\n",
              "      <td>2</td>\n",
              "      <td>2</td>\n",
              "      <td>0</td>\n",
              "    </tr>\n",
              "    <tr>\n",
              "      <th>37076</th>\n",
              "      <td>93697</td>\n",
              "      <td>2</td>\n",
              "      <td>80</td>\n",
              "      <td>7</td>\n",
              "      <td>2.97</td>\n",
              "      <td>74</td>\n",
              "      <td>146</td>\n",
              "      <td>58</td>\n",
              "      <td>71.7</td>\n",
              "      <td>152.2</td>\n",
              "      <td>...</td>\n",
              "      <td>6.62</td>\n",
              "      <td>2.90</td>\n",
              "      <td>5.7</td>\n",
              "      <td>2</td>\n",
              "      <td>2</td>\n",
              "      <td>1</td>\n",
              "      <td>2</td>\n",
              "      <td>2</td>\n",
              "      <td>2</td>\n",
              "      <td>0</td>\n",
              "    </tr>\n",
              "    <tr>\n",
              "      <th>37077</th>\n",
              "      <td>93700</td>\n",
              "      <td>1</td>\n",
              "      <td>35</td>\n",
              "      <td>1</td>\n",
              "      <td>0.00</td>\n",
              "      <td>76</td>\n",
              "      <td>106</td>\n",
              "      <td>66</td>\n",
              "      <td>78.2</td>\n",
              "      <td>173.3</td>\n",
              "      <td>...</td>\n",
              "      <td>3.72</td>\n",
              "      <td>1.09</td>\n",
              "      <td>5.2</td>\n",
              "      <td>2</td>\n",
              "      <td>2</td>\n",
              "      <td>1</td>\n",
              "      <td>2</td>\n",
              "      <td>2</td>\n",
              "      <td>1</td>\n",
              "      <td>0</td>\n",
              "    </tr>\n",
              "    <tr>\n",
              "      <th>37078</th>\n",
              "      <td>93702</td>\n",
              "      <td>2</td>\n",
              "      <td>24</td>\n",
              "      <td>7</td>\n",
              "      <td>3.54</td>\n",
              "      <td>80</td>\n",
              "      <td>114</td>\n",
              "      <td>68</td>\n",
              "      <td>58.3</td>\n",
              "      <td>165.0</td>\n",
              "      <td>...</td>\n",
              "      <td>4.14</td>\n",
              "      <td>1.89</td>\n",
              "      <td>4.6</td>\n",
              "      <td>2</td>\n",
              "      <td>2</td>\n",
              "      <td>1</td>\n",
              "      <td>2</td>\n",
              "      <td>2</td>\n",
              "      <td>2</td>\n",
              "      <td>0</td>\n",
              "    </tr>\n",
              "  </tbody>\n",
              "</table>\n",
              "<p>37079 rows × 51 columns</p>\n",
              "</div>\n",
              "    <div class=\"colab-df-buttons\">\n",
              "\n",
              "  <div class=\"colab-df-container\">\n",
              "    <button class=\"colab-df-convert\" onclick=\"convertToInteractive('df-696cb16f-00d0-4c81-9f65-e89bff0aef05')\"\n",
              "            title=\"Convert this dataframe to an interactive table.\"\n",
              "            style=\"display:none;\">\n",
              "\n",
              "  <svg xmlns=\"http://www.w3.org/2000/svg\" height=\"24px\" viewBox=\"0 -960 960 960\">\n",
              "    <path d=\"M120-120v-720h720v720H120Zm60-500h600v-160H180v160Zm220 220h160v-160H400v160Zm0 220h160v-160H400v160ZM180-400h160v-160H180v160Zm440 0h160v-160H620v160ZM180-180h160v-160H180v160Zm440 0h160v-160H620v160Z\"/>\n",
              "  </svg>\n",
              "    </button>\n",
              "\n",
              "  <style>\n",
              "    .colab-df-container {\n",
              "      display:flex;\n",
              "      gap: 12px;\n",
              "    }\n",
              "\n",
              "    .colab-df-convert {\n",
              "      background-color: #E8F0FE;\n",
              "      border: none;\n",
              "      border-radius: 50%;\n",
              "      cursor: pointer;\n",
              "      display: none;\n",
              "      fill: #1967D2;\n",
              "      height: 32px;\n",
              "      padding: 0 0 0 0;\n",
              "      width: 32px;\n",
              "    }\n",
              "\n",
              "    .colab-df-convert:hover {\n",
              "      background-color: #E2EBFA;\n",
              "      box-shadow: 0px 1px 2px rgba(60, 64, 67, 0.3), 0px 1px 3px 1px rgba(60, 64, 67, 0.15);\n",
              "      fill: #174EA6;\n",
              "    }\n",
              "\n",
              "    .colab-df-buttons div {\n",
              "      margin-bottom: 4px;\n",
              "    }\n",
              "\n",
              "    [theme=dark] .colab-df-convert {\n",
              "      background-color: #3B4455;\n",
              "      fill: #D2E3FC;\n",
              "    }\n",
              "\n",
              "    [theme=dark] .colab-df-convert:hover {\n",
              "      background-color: #434B5C;\n",
              "      box-shadow: 0px 1px 3px 1px rgba(0, 0, 0, 0.15);\n",
              "      filter: drop-shadow(0px 1px 2px rgba(0, 0, 0, 0.3));\n",
              "      fill: #FFFFFF;\n",
              "    }\n",
              "  </style>\n",
              "\n",
              "    <script>\n",
              "      const buttonEl =\n",
              "        document.querySelector('#df-696cb16f-00d0-4c81-9f65-e89bff0aef05 button.colab-df-convert');\n",
              "      buttonEl.style.display =\n",
              "        google.colab.kernel.accessAllowed ? 'block' : 'none';\n",
              "\n",
              "      async function convertToInteractive(key) {\n",
              "        const element = document.querySelector('#df-696cb16f-00d0-4c81-9f65-e89bff0aef05');\n",
              "        const dataTable =\n",
              "          await google.colab.kernel.invokeFunction('convertToInteractive',\n",
              "                                                    [key], {});\n",
              "        if (!dataTable) return;\n",
              "\n",
              "        const docLinkHtml = 'Like what you see? Visit the ' +\n",
              "          '<a target=\"_blank\" href=https://colab.research.google.com/notebooks/data_table.ipynb>data table notebook</a>'\n",
              "          + ' to learn more about interactive tables.';\n",
              "        element.innerHTML = '';\n",
              "        dataTable['output_type'] = 'display_data';\n",
              "        await google.colab.output.renderOutput(dataTable, element);\n",
              "        const docLink = document.createElement('div');\n",
              "        docLink.innerHTML = docLinkHtml;\n",
              "        element.appendChild(docLink);\n",
              "      }\n",
              "    </script>\n",
              "  </div>\n",
              "\n",
              "\n",
              "<div id=\"df-ac797a3e-2208-4524-b700-f7ed25275ffc\">\n",
              "  <button class=\"colab-df-quickchart\" onclick=\"quickchart('df-ac797a3e-2208-4524-b700-f7ed25275ffc')\"\n",
              "            title=\"Suggest charts\"\n",
              "            style=\"display:none;\">\n",
              "\n",
              "<svg xmlns=\"http://www.w3.org/2000/svg\" height=\"24px\"viewBox=\"0 0 24 24\"\n",
              "     width=\"24px\">\n",
              "    <g>\n",
              "        <path d=\"M19 3H5c-1.1 0-2 .9-2 2v14c0 1.1.9 2 2 2h14c1.1 0 2-.9 2-2V5c0-1.1-.9-2-2-2zM9 17H7v-7h2v7zm4 0h-2V7h2v10zm4 0h-2v-4h2v4z\"/>\n",
              "    </g>\n",
              "</svg>\n",
              "  </button>\n",
              "\n",
              "<style>\n",
              "  .colab-df-quickchart {\n",
              "      --bg-color: #E8F0FE;\n",
              "      --fill-color: #1967D2;\n",
              "      --hover-bg-color: #E2EBFA;\n",
              "      --hover-fill-color: #174EA6;\n",
              "      --disabled-fill-color: #AAA;\n",
              "      --disabled-bg-color: #DDD;\n",
              "  }\n",
              "\n",
              "  [theme=dark] .colab-df-quickchart {\n",
              "      --bg-color: #3B4455;\n",
              "      --fill-color: #D2E3FC;\n",
              "      --hover-bg-color: #434B5C;\n",
              "      --hover-fill-color: #FFFFFF;\n",
              "      --disabled-bg-color: #3B4455;\n",
              "      --disabled-fill-color: #666;\n",
              "  }\n",
              "\n",
              "  .colab-df-quickchart {\n",
              "    background-color: var(--bg-color);\n",
              "    border: none;\n",
              "    border-radius: 50%;\n",
              "    cursor: pointer;\n",
              "    display: none;\n",
              "    fill: var(--fill-color);\n",
              "    height: 32px;\n",
              "    padding: 0;\n",
              "    width: 32px;\n",
              "  }\n",
              "\n",
              "  .colab-df-quickchart:hover {\n",
              "    background-color: var(--hover-bg-color);\n",
              "    box-shadow: 0 1px 2px rgba(60, 64, 67, 0.3), 0 1px 3px 1px rgba(60, 64, 67, 0.15);\n",
              "    fill: var(--button-hover-fill-color);\n",
              "  }\n",
              "\n",
              "  .colab-df-quickchart-complete:disabled,\n",
              "  .colab-df-quickchart-complete:disabled:hover {\n",
              "    background-color: var(--disabled-bg-color);\n",
              "    fill: var(--disabled-fill-color);\n",
              "    box-shadow: none;\n",
              "  }\n",
              "\n",
              "  .colab-df-spinner {\n",
              "    border: 2px solid var(--fill-color);\n",
              "    border-color: transparent;\n",
              "    border-bottom-color: var(--fill-color);\n",
              "    animation:\n",
              "      spin 1s steps(1) infinite;\n",
              "  }\n",
              "\n",
              "  @keyframes spin {\n",
              "    0% {\n",
              "      border-color: transparent;\n",
              "      border-bottom-color: var(--fill-color);\n",
              "      border-left-color: var(--fill-color);\n",
              "    }\n",
              "    20% {\n",
              "      border-color: transparent;\n",
              "      border-left-color: var(--fill-color);\n",
              "      border-top-color: var(--fill-color);\n",
              "    }\n",
              "    30% {\n",
              "      border-color: transparent;\n",
              "      border-left-color: var(--fill-color);\n",
              "      border-top-color: var(--fill-color);\n",
              "      border-right-color: var(--fill-color);\n",
              "    }\n",
              "    40% {\n",
              "      border-color: transparent;\n",
              "      border-right-color: var(--fill-color);\n",
              "      border-top-color: var(--fill-color);\n",
              "    }\n",
              "    60% {\n",
              "      border-color: transparent;\n",
              "      border-right-color: var(--fill-color);\n",
              "    }\n",
              "    80% {\n",
              "      border-color: transparent;\n",
              "      border-right-color: var(--fill-color);\n",
              "      border-bottom-color: var(--fill-color);\n",
              "    }\n",
              "    90% {\n",
              "      border-color: transparent;\n",
              "      border-bottom-color: var(--fill-color);\n",
              "    }\n",
              "  }\n",
              "</style>\n",
              "\n",
              "  <script>\n",
              "    async function quickchart(key) {\n",
              "      const quickchartButtonEl =\n",
              "        document.querySelector('#' + key + ' button');\n",
              "      quickchartButtonEl.disabled = true;  // To prevent multiple clicks.\n",
              "      quickchartButtonEl.classList.add('colab-df-spinner');\n",
              "      try {\n",
              "        const charts = await google.colab.kernel.invokeFunction(\n",
              "            'suggestCharts', [key], {});\n",
              "      } catch (error) {\n",
              "        console.error('Error during call to suggestCharts:', error);\n",
              "      }\n",
              "      quickchartButtonEl.classList.remove('colab-df-spinner');\n",
              "      quickchartButtonEl.classList.add('colab-df-quickchart-complete');\n",
              "    }\n",
              "    (() => {\n",
              "      let quickchartButtonEl =\n",
              "        document.querySelector('#df-ac797a3e-2208-4524-b700-f7ed25275ffc button');\n",
              "      quickchartButtonEl.style.display =\n",
              "        google.colab.kernel.accessAllowed ? 'block' : 'none';\n",
              "    })();\n",
              "  </script>\n",
              "</div>\n",
              "    </div>\n",
              "  </div>\n"
            ]
          },
          "metadata": {},
          "execution_count": 263
        }
      ],
      "source": [
        "df = pd.read_csv('CardiacPrediction.csv')\n",
        "df"
      ]
    },
    {
      "cell_type": "markdown",
      "source": [
        "## Exploratory Data Analysis"
      ],
      "metadata": {
        "id": "pzT6cY9EhUWK"
      }
    },
    {
      "cell_type": "code",
      "source": [
        "#Removes unimportant variables as shown in Research Paper 2\n",
        "df.drop(['SEQN','Annual-Family-Income','Height','Ratio-Family-Income-Poverty','X60-sec-pulse',\n",
        "          'Health-Insurance','Lymphocyte','Monocyte','Eosinophils','Total-Cholesterol','Mean-Cell-Vol','Mean-Cell-Hgb-Conc.','Hematocrit','Segmented-Neutrophils'], axis = 1, inplace=True)"
      ],
      "metadata": {
        "id": "riRt39TkapPH"
      },
      "execution_count": 264,
      "outputs": []
    },
    {
      "cell_type": "code",
      "source": [
        "#All Columns in the dataset\n",
        "df.columns"
      ],
      "metadata": {
        "colab": {
          "base_uri": "https://localhost:8080/"
        },
        "id": "WWTtkbP5ayxy",
        "outputId": "db512a9d-b067-4a14-ed80-870fb60f6363"
      },
      "execution_count": 293,
      "outputs": [
        {
          "output_type": "execute_result",
          "data": {
            "text/plain": [
              "Index(['Gender', 'Age', 'Systolic', 'Diastolic', 'Weight', 'Body-Mass-Index',\n",
              "       'White-Blood-Cells', 'Basophils', 'Red-Blood-Cells', 'Hemoglobin',\n",
              "       'Mean-cell-Hemoglobin', 'Platelet-count', 'Mean-Platelet-Vol',\n",
              "       'Red-Cell-Distribution-Width', 'Albumin', 'ALP', 'AST', 'ALT',\n",
              "       'Cholesterol', 'Creatinine', 'Glucose', 'GGT', 'Iron', 'LDH',\n",
              "       'Phosphorus', 'Bilirubin', 'Protein', 'Uric.Acid', 'Triglycerides',\n",
              "       'HDL', 'Glycohemoglobin', 'Vigorous-work', 'Moderate-work', 'Diabetes',\n",
              "       'Blood-Rel-Diabetes', 'Blood-Rel-Stroke', 'CoronaryHeartDisease'],\n",
              "      dtype='object')"
            ]
          },
          "metadata": {},
          "execution_count": 293
        }
      ]
    },
    {
      "cell_type": "code",
      "source": [
        "#importing packages for vizualizations\n",
        "import seaborn as sns\n",
        "import matplotlib.pyplot as plt\n",
        "\n",
        "%matplotlib inline\n",
        "\n",
        "import os\n",
        "print(os.listdir())\n",
        "\n",
        "import warnings\n",
        "warnings.filterwarnings('ignore')"
      ],
      "metadata": {
        "colab": {
          "base_uri": "https://localhost:8080/"
        },
        "id": "oj-nnEWyJ-ls",
        "outputId": "0cd165ff-0069-4d9d-9cef-1edff812f75c"
      },
      "execution_count": 289,
      "outputs": [
        {
          "output_type": "stream",
          "name": "stdout",
          "text": [
            "['.config', 'drive', 'CardiacPrediction.csv', 'sample_data']\n"
          ]
        }
      ]
    },
    {
      "cell_type": "code",
      "source": [
        "print(df.corr()[\"CoronaryHeartDisease\"].sort_values(ascending=False))"
      ],
      "metadata": {
        "colab": {
          "base_uri": "https://localhost:8080/"
        },
        "id": "IiJxjVGIKGOO",
        "outputId": "05762279-90eb-4178-8e63-9f4013d5d062"
      },
      "execution_count": 291,
      "outputs": [
        {
          "output_type": "stream",
          "name": "stdout",
          "text": [
            "CoronaryHeartDisease           1.000000\n",
            "Age                            0.222649\n",
            "Creatinine                     0.114318\n",
            "Glycohemoglobin                0.101517\n",
            "Uric.Acid                      0.098907\n",
            "Glucose                        0.086754\n",
            "Systolic                       0.080224\n",
            "Red-Cell-Distribution-Width    0.074316\n",
            "LDH                            0.072073\n",
            "Vigorous-work                  0.054506\n",
            "Triglycerides                  0.034160\n",
            "Bilirubin                      0.030407\n",
            "Weight                         0.029003\n",
            "ALP                            0.028672\n",
            "Moderate-work                  0.022683\n",
            "Body-Mass-Index                0.022211\n",
            "GGT                            0.014732\n",
            "White-Blood-Cells              0.011565\n",
            "Mean-Platelet-Vol              0.008768\n",
            "AST                            0.008149\n",
            "Basophils                     -0.000105\n",
            "ALT                           -0.004512\n",
            "Mean-cell-Hemoglobin          -0.014665\n",
            "Hemoglobin                    -0.015201\n",
            "Iron                          -0.018252\n",
            "Phosphorus                    -0.018926\n",
            "Blood-Rel-Diabetes            -0.022681\n",
            "Protein                       -0.032476\n",
            "Albumin                       -0.040003\n",
            "Red-Blood-Cells               -0.041537\n",
            "Blood-Rel-Stroke              -0.048676\n",
            "Diastolic                     -0.060056\n",
            "HDL                           -0.061300\n",
            "Gender                        -0.078408\n",
            "Platelet-count                -0.085917\n",
            "Cholesterol                   -0.089392\n",
            "Diabetes                      -0.111777\n",
            "Name: CoronaryHeartDisease, dtype: float64\n"
          ]
        }
      ]
    },
    {
      "cell_type": "code",
      "source": [
        "#find correlation matrix\n",
        "corr_mat=df.corr()\n",
        "#Select variables have more than 0.09 or less than -0.09 correlation with the target variable(CoronaryHeartDisease)\n",
        "chosen_variable=corr_mat[abs(corr_mat[\"CoronaryHeartDisease\"])>0.09].index\n",
        "#plot the heatmap\n",
        "plt.figure(figsize=(12,12))\n",
        "ax = sns.heatmap(df[chosen_variable].corr(),annot=True,cmap='RdBu')"
      ],
      "metadata": {
        "colab": {
          "base_uri": "https://localhost:8080/",
          "height": 1000
        },
        "id": "9f7kTbLIKAzS",
        "outputId": "e4143978-89bc-429c-f1dc-94722211cfab"
      },
      "execution_count": 290,
      "outputs": [
        {
          "output_type": "stream",
          "name": "stdout",
          "text": [
            "CoronaryHeartDisease           1.000000\n",
            "Age                            0.222649\n",
            "Creatinine                     0.114318\n",
            "Glycohemoglobin                0.101517\n",
            "Uric.Acid                      0.098907\n",
            "Glucose                        0.086754\n",
            "Systolic                       0.080224\n",
            "Red-Cell-Distribution-Width    0.074316\n",
            "LDH                            0.072073\n",
            "Vigorous-work                  0.054506\n",
            "Triglycerides                  0.034160\n",
            "Bilirubin                      0.030407\n",
            "Weight                         0.029003\n",
            "ALP                            0.028672\n",
            "Moderate-work                  0.022683\n",
            "Body-Mass-Index                0.022211\n",
            "GGT                            0.014732\n",
            "White-Blood-Cells              0.011565\n",
            "Mean-Platelet-Vol              0.008768\n",
            "AST                            0.008149\n",
            "Basophils                     -0.000105\n",
            "ALT                           -0.004512\n",
            "Mean-cell-Hemoglobin          -0.014665\n",
            "Hemoglobin                    -0.015201\n",
            "Iron                          -0.018252\n",
            "Phosphorus                    -0.018926\n",
            "Blood-Rel-Diabetes            -0.022681\n",
            "Protein                       -0.032476\n",
            "Albumin                       -0.040003\n",
            "Red-Blood-Cells               -0.041537\n",
            "Blood-Rel-Stroke              -0.048676\n",
            "Diastolic                     -0.060056\n",
            "HDL                           -0.061300\n",
            "Gender                        -0.078408\n",
            "Platelet-count                -0.085917\n",
            "Cholesterol                   -0.089392\n",
            "Diabetes                      -0.111777\n",
            "Name: CoronaryHeartDisease, dtype: float64\n"
          ]
        },
        {
          "output_type": "display_data",
          "data": {
            "text/plain": [
              "<Figure size 1200x1200 with 2 Axes>"
            ],
            "image/png": "[encoded data removed]"
          },
          "metadata": {}
        }
      ]
    },
    {
      "cell_type": "code",
      "source": [
        "heartDiseaseCount = (df['CoronaryHeartDisease'] == 1).sum()\n",
        "noHeartDiseaseCount = (df['CoronaryHeartDisease'] == 0).sum()\n",
        "print(f'People with heart disease: {heartDiseaseCount} \\nPeople without heart disease: {noHeartDiseaseCount}')"
      ],
      "metadata": {
        "colab": {
          "base_uri": "https://localhost:8080/"
        },
        "id": "nJABib5fa0kv",
        "outputId": "ba33a684-b750-4490-aff8-80be2107dac1"
      },
      "execution_count": 296,
      "outputs": [
        {
          "output_type": "stream",
          "name": "stdout",
          "text": [
            "People with heart disease: 1508 \n",
            "People without heart disease: 35571\n"
          ]
        }
      ]
    },
    {
      "cell_type": "code",
      "source": [
        "#Analysing the target variable\n",
        "y = df[\"CoronaryHeartDisease\"]\n",
        "\n",
        "sns.countplot(y)\n",
        "\n",
        "target_temp = df.CoronaryHeartDisease.value_counts()\n",
        "\n",
        "print(target_temp)"
      ],
      "metadata": {
        "colab": {
          "base_uri": "https://localhost:8080/",
          "height": 485
        },
        "id": "Pk3d50lRKshh",
        "outputId": "c1372698-30d7-42c7-8dbb-513c0bc4531d"
      },
      "execution_count": 299,
      "outputs": [
        {
          "output_type": "stream",
          "name": "stdout",
          "text": [
            "0    35571\n",
            "1     1508\n",
            "Name: CoronaryHeartDisease, dtype: int64\n"
          ]
        },
        {
          "output_type": "display_data",
          "data": {
            "text/plain": [
              "<Figure size 640x480 with 1 Axes>"
            ],
            "image/png": "[encoded data removed]"
          },
          "metadata": {}
        }
      ]
    },
    {
      "cell_type": "code",
      "source": [
        "# analyzing gender in the dataset\n",
        "df[\"Gender\"].unique()\n",
        "\n",
        "# 1 = Male\n",
        "# 2 = Female\n",
        "sns.barplot(x=df[\"Gender\"], y=y)"
      ],
      "metadata": {
        "colab": {
          "base_uri": "https://localhost:8080/",
          "height": 467
        },
        "id": "bbXSIq5WK4Ii",
        "outputId": "c1246546-d285-4872-b1cb-f4cc23950a05"
      },
      "execution_count": 303,
      "outputs": [
        {
          "output_type": "execute_result",
          "data": {
            "text/plain": [
              "<Axes: xlabel='Gender', ylabel='CoronaryHeartDisease'>"
            ]
          },
          "metadata": {},
          "execution_count": 303
        },
        {
          "output_type": "display_data",
          "data": {
            "text/plain": [
              "<Figure size 640x480 with 1 Axes>"
            ],
            "image/png": "[encoded data removed]"
          },
          "metadata": {}
        }
      ]
    },
    {
      "cell_type": "code",
      "source": [
        "# Analyzing the age feature\n",
        "df[\"Age\"].unique()\n",
        "\n",
        "# how many there are in the dataset\n",
        "sns.countplot(x=df[\"Age\"])"
      ],
      "metadata": {
        "colab": {
          "base_uri": "https://localhost:8080/",
          "height": 467
        },
        "id": "0x-PGyk7MtOV",
        "outputId": "c087b6b7-ac17-49d7-f894-1ae4de712d1e"
      },
      "execution_count": 304,
      "outputs": [
        {
          "output_type": "execute_result",
          "data": {
            "text/plain": [
              "<Axes: xlabel='Age', ylabel='count'>"
            ]
          },
          "metadata": {},
          "execution_count": 304
        },
        {
          "output_type": "display_data",
          "data": {
            "text/plain": [
              "<Figure size 640x480 with 1 Axes>"
            ],
            "image/png": "[encoded data removed]"
          },
          "metadata": {}
        }
      ]
    },
    {
      "cell_type": "code",
      "source": [
        "# the percentage who have heart disease\n",
        "sns.barplot(x=df[\"Age\"],y=y, errorbar=None)"
      ],
      "metadata": {
        "colab": {
          "base_uri": "https://localhost:8080/",
          "height": 467
        },
        "id": "7TDa-E0nMwLs",
        "outputId": "306aef1b-d216-4778-bce0-cffa5aef1e52"
      },
      "execution_count": 305,
      "outputs": [
        {
          "output_type": "execute_result",
          "data": {
            "text/plain": [
              "<Axes: xlabel='Age', ylabel='CoronaryHeartDisease'>"
            ]
          },
          "metadata": {},
          "execution_count": 305
        },
        {
          "output_type": "display_data",
          "data": {
            "text/plain": [
              "<Figure size 640x480 with 1 Axes>"
            ],
            "image/png": "[encoded data removed]"
          },
          "metadata": {}
        }
      ]
    },
    {
      "cell_type": "code",
      "source": [
        "# The margin of error for some of the older ages is larger because of the small sample size, but the error bars hurt the understandability of the graph so I had to remove them.\n",
        "# analyzing the diabetes feature\n",
        "df[\"Diabetes\"].unique()\n",
        "\n",
        "sns.barplot(x=df[\"Diabetes\"],y=y)"
      ],
      "metadata": {
        "colab": {
          "base_uri": "https://localhost:8080/",
          "height": 467
        },
        "id": "xzUtpbrsMy-V",
        "outputId": "9f500af5-4f85-4537-fde1-d0388deca3c9"
      },
      "execution_count": 306,
      "outputs": [
        {
          "output_type": "execute_result",
          "data": {
            "text/plain": [
              "<Axes: xlabel='Diabetes', ylabel='CoronaryHeartDisease'>"
            ]
          },
          "metadata": {},
          "execution_count": 306
        },
        {
          "output_type": "display_data",
          "data": {
            "text/plain": [
              "<Figure size 640x480 with 1 Axes>"
            ],
            "image/png": "[encoded data removed]"
          },
          "metadata": {}
        }
      ]
    },
    {
      "cell_type": "code",
      "source": [
        "# explorting the density of the creatinine feature\n",
        "sns.distplot(df['Creatinine'])"
      ],
      "metadata": {
        "colab": {
          "base_uri": "https://localhost:8080/",
          "height": 467
        },
        "id": "RWa5xngVM5CE",
        "outputId": "c076ae81-4df7-4b81-8cb8-9dc6c28cb5b1"
      },
      "execution_count": 307,
      "outputs": [
        {
          "output_type": "execute_result",
          "data": {
            "text/plain": [
              "<Axes: xlabel='Creatinine', ylabel='Density'>"
            ]
          },
          "metadata": {},
          "execution_count": 307
        },
        {
          "output_type": "display_data",
          "data": {
            "text/plain": [
              "<Figure size 640x480 with 1 Axes>"
            ],
            "image/png": "[encoded data removed]"
          },
          "metadata": {}
        }
      ]
    },
    {
      "cell_type": "code",
      "source": [
        "#exploring the density of the Glycohemoglobin feature\n",
        "sns.distplot(df['Glycohemoglobin'])"
      ],
      "metadata": {
        "colab": {
          "base_uri": "https://localhost:8080/",
          "height": 467
        },
        "id": "c8n8upywM74P",
        "outputId": "aa61fd70-beec-45d5-8014-7a7683557128"
      },
      "execution_count": 308,
      "outputs": [
        {
          "output_type": "execute_result",
          "data": {
            "text/plain": [
              "<Axes: xlabel='Glycohemoglobin', ylabel='Density'>"
            ]
          },
          "metadata": {},
          "execution_count": 308
        },
        {
          "output_type": "display_data",
          "data": {
            "text/plain": [
              "<Figure size 640x480 with 1 Axes>"
            ],
            "image/png": "[encoded data removed]"
          },
          "metadata": {}
        }
      ]
    },
    {
      "cell_type": "code",
      "source": [
        "# exploring the density of the cholesterol feature\n",
        "sns.distplot(df['Cholesterol'])"
      ],
      "metadata": {
        "colab": {
          "base_uri": "https://localhost:8080/",
          "height": 467
        },
        "id": "buAa8l8HM-PM",
        "outputId": "b8955df0-c763-4c6d-8792-bdce3e0421b7"
      },
      "execution_count": 309,
      "outputs": [
        {
          "output_type": "execute_result",
          "data": {
            "text/plain": [
              "<Axes: xlabel='Cholesterol', ylabel='Density'>"
            ]
          },
          "metadata": {},
          "execution_count": 309
        },
        {
          "output_type": "display_data",
          "data": {
            "text/plain": [
              "<Figure size 640x480 with 1 Axes>"
            ],
            "image/png": "[encoded data removed]"
          },
          "metadata": {}
        }
      ]
    },
    {
      "cell_type": "code",
      "source": [
        "sns.barplot(x=df[\"Cholesterol\"],y=y)"
      ],
      "metadata": {
        "colab": {
          "base_uri": "https://localhost:8080/",
          "height": 467
        },
        "id": "01xrTYC0Jhe6",
        "outputId": "4958d8bc-6248-40f0-aaf5-4291fa3eb3d3"
      },
      "execution_count": 310,
      "outputs": [
        {
          "output_type": "execute_result",
          "data": {
            "text/plain": [
              "<Axes: xlabel='Cholesterol', ylabel='CoronaryHeartDisease'>"
            ]
          },
          "metadata": {},
          "execution_count": 310
        },
        {
          "output_type": "display_data",
          "data": {
            "text/plain": [
              "<Figure size 640x480 with 1 Axes>"
            ],
            "image/png": "[encoded data removed]"
          },
          "metadata": {}
        }
      ]
    },
    {
      "cell_type": "markdown",
      "source": [
        "## Balancing the Imbalanced Data"
      ],
      "metadata": {
        "id": "TdWsXvWNH8y6"
      }
    },
    {
      "cell_type": "code",
      "source": [
        "X = df.drop('CoronaryHeartDisease', axis=1)\n",
        "y = df['CoronaryHeartDisease']\n",
        "\n",
        "# undersampling the data\n",
        "rus = RandomUnderSampler()\n",
        "\n",
        "X_resampled, y_resampled = rus.fit_resample(X, y)\n"
      ],
      "metadata": {
        "id": "-kTlXE0ja2ZW"
      },
      "execution_count": 267,
      "outputs": []
    },
    {
      "cell_type": "markdown",
      "source": [
        "## LASSO for Feature Selection"
      ],
      "metadata": {
        "id": "0Mk0oYzTdbgK"
      }
    },
    {
      "cell_type": "code",
      "source": [
        "# split into training and testing\n",
        "X_train, X_test, y_train, y_test = train_test_split(X_resampled, y_resampled, test_size=0.2)\n",
        "\n",
        "print(\"Training set shapes:\", X_train.shape, y_train.shape)\n",
        "print(\"Testing set shapes:\", X_test.shape, y_test.shape)"
      ],
      "metadata": {
        "colab": {
          "base_uri": "https://localhost:8080/"
        },
        "id": "dr3C_9s_9tIT",
        "outputId": "fe2a833d-38b2-427d-ef2f-3ffc20b98bce"
      },
      "execution_count": 268,
      "outputs": [
        {
          "output_type": "stream",
          "name": "stdout",
          "text": [
            "Training set shapes: (2412, 36) (2412,)\n",
            "Testing set shapes: (604, 36) (604,)\n"
          ]
        }
      ]
    },
    {
      "cell_type": "code",
      "source": [
        "#Feature Standardization\n",
        "scaler = StandardScaler()\n",
        "X_train = scaler.fit_transform(X_train)\n",
        "X_test = scaler.transform(X_test)"
      ],
      "metadata": {
        "id": "ckizmO9xa5Z-"
      },
      "execution_count": 269,
      "outputs": []
    },
    {
      "cell_type": "code",
      "source": [
        "# create the lasso model\n",
        "lasso_cv = LassoCV(alphas=[0.001, 0.01, 0.1, 1, 10], cv=5)\n",
        "\n",
        "lasso_cv.fit(X_train, y_train)\n",
        "\n",
        "print('The optimal alpha is', lasso_cv.alpha_)\n",
        "\n",
        "# finding the predicted probability\n",
        "y_pred_proba = lasso_cv.predict(X_test)\n",
        "# converting to binary predictions\n",
        "y_pred = (y_pred_proba > 0.5).astype(int)   # might need to lower threshold\n",
        "accuracy = accuracy_score(y_test, y_pred)\n",
        "print(\"Accuracy:\", accuracy)"
      ],
      "metadata": {
        "colab": {
          "base_uri": "https://localhost:8080/"
        },
        "id": "ekC-1U1xa7Ze",
        "outputId": "55995d59-2188-44c9-8d9b-851a1bc33bd2"
      },
      "execution_count": 270,
      "outputs": [
        {
          "output_type": "stream",
          "name": "stdout",
          "text": [
            "The optimal alpha is 0.01\n",
            "Accuracy: 0.7996688741721855\n"
          ]
        }
      ]
    },
    {
      "cell_type": "code",
      "source": [
        "#Feature selection in Lasso\n",
        "lassoCoef = pd.Series(lasso_cv.coef_, index=X.columns)\n",
        "selectedFeatures = lassoCoef[lassoCoef != 0]\n",
        "print(f'The selected features are \\n{selectedFeatures}')"
      ],
      "metadata": {
        "colab": {
          "base_uri": "https://localhost:8080/"
        },
        "id": "NaLpRXoSa9k0",
        "outputId": "53d7516d-97fa-40b5-854f-7dd4c38ff50b"
      },
      "execution_count": 271,
      "outputs": [
        {
          "output_type": "stream",
          "name": "stdout",
          "text": [
            "The selected features are \n",
            "Gender                        -0.037942\n",
            "Age                            0.228546\n",
            "Diastolic                     -0.006678\n",
            "Weight                         0.000594\n",
            "White-Blood-Cells              0.005012\n",
            "Platelet-count                -0.014880\n",
            "Red-Cell-Distribution-Width    0.018598\n",
            "ALT                           -0.002173\n",
            "Cholesterol                   -0.058709\n",
            "Creatinine                     0.012078\n",
            "GGT                            0.000752\n",
            "LDH                            0.009212\n",
            "Uric.Acid                      0.020984\n",
            "Triglycerides                  0.021743\n",
            "HDL                           -0.019186\n",
            "Glycohemoglobin                0.016533\n",
            "Diabetes                      -0.026743\n",
            "Blood-Rel-Diabetes            -0.000255\n",
            "Blood-Rel-Stroke              -0.047134\n",
            "dtype: float64\n"
          ]
        }
      ]
    },
    {
      "cell_type": "markdown",
      "source": [
        "## Machine Learning Experiments"
      ],
      "metadata": {
        "id": "feblm_P3f80q"
      }
    },
    {
      "cell_type": "code",
      "source": [
        "df_reduced = df[[\n",
        "    \"CoronaryHeartDisease\", \"Gender\", \"Age\", \"Diastolic\", \"Red-Blood-Cells\",\n",
        "    \"Platelet-count\", \"Mean-Platelet-Vol\", \"Red-Cell-Distribution-Width\", \"ALP\",\n",
        "    \"Cholesterol\", \"Creatinine\", \"Iron\", \"LDH\", \"Uric.Acid\", \"Triglycerides\",\n",
        "    \"HDL\", \"Glycohemoglobin\", \"Vigorous-work\", \"Diabetes\", \"Blood-Rel-Diabetes\",\n",
        "    \"Blood-Rel-Stroke\"\n",
        "                 ]]\n",
        "df_reduced"
      ],
      "metadata": {
        "colab": {
          "base_uri": "https://localhost:8080/",
          "height": 478
        },
        "id": "yTpSUh4KdhI8",
        "outputId": "7943213d-252f-4af4-e551-35d84f252992"
      },
      "execution_count": 272,
      "outputs": [
        {
          "output_type": "execute_result",
          "data": {
            "text/plain": [
              "       CoronaryHeartDisease  Gender  Age  Diastolic  Red-Blood-Cells  \\\n",
              "0                         0       1   77         56             4.73   \n",
              "1                         0       1   49         83             5.13   \n",
              "2                         0       1   37         99             5.76   \n",
              "3                         0       1   70         66             5.53   \n",
              "4                         0       1   81         61             5.32   \n",
              "...                     ...     ...  ...        ...              ...   \n",
              "37074                     0       1   25         76             5.50   \n",
              "37075                     0       2   76         46             4.70   \n",
              "37076                     0       2   80         58             4.44   \n",
              "37077                     0       1   35         66             5.01   \n",
              "37078                     0       2   24         68             4.58   \n",
              "\n",
              "       Platelet-count  Mean-Platelet-Vol  Red-Cell-Distribution-Width  ALP  \\\n",
              "0               214.0                7.7                         13.7   62   \n",
              "1               209.0               10.4                         13.1   63   \n",
              "2               357.0                7.9                         13.6   63   \n",
              "3               228.0                8.8                         14.4  103   \n",
              "4               160.0                9.0                         12.4  110   \n",
              "...               ...                ...                          ...  ...   \n",
              "37074           253.0                7.5                         13.3   67   \n",
              "37075           135.0                9.5                         13.6   50   \n",
              "37076           172.0                8.1                         16.9   54   \n",
              "37077           194.0                9.6                         13.0  140   \n",
              "37078           257.0                8.7                         13.8   35   \n",
              "\n",
              "       Cholesterol  ...   Iron  LDH  Uric.Acid  Triglycerides   HDL  \\\n",
              "0            5.250  ...  11.28  140      362.8          1.298  1.39   \n",
              "1            7.160  ...  24.54  133      404.5          3.850  1.08   \n",
              "2            3.900  ...  11.28  131      339.0          1.581  0.98   \n",
              "3            7.940  ...  12.18  181      410.4          3.635  1.28   \n",
              "4            4.420  ...  11.82  150      368.8          0.756  1.04   \n",
              "...            ...  ...    ...  ...        ...            ...   ...   \n",
              "37074        4.189  ...  13.10  144      428.3          1.264  1.27   \n",
              "37075        3.646  ...  15.00  124      368.8          0.948  1.76   \n",
              "37076        6.801  ...   8.40  120      273.6          1.095  2.90   \n",
              "37077        3.672  ...   9.00  136      237.9          0.937  1.09   \n",
              "37078        4.215  ...  27.90   93      249.8          0.892  1.89   \n",
              "\n",
              "       Glycohemoglobin  Vigorous-work  Diabetes  Blood-Rel-Diabetes  \\\n",
              "0                  4.7              3         2                   2   \n",
              "1                  5.5              1         2                   2   \n",
              "2                  5.2              2         2                   1   \n",
              "3                  7.6              3         1                   1   \n",
              "4                  5.8              1         2                   2   \n",
              "...                ...            ...       ...                 ...   \n",
              "37074              5.8              2         2                   1   \n",
              "37075              5.6              2         2                   2   \n",
              "37076              5.7              2         2                   2   \n",
              "37077              5.2              2         2                   2   \n",
              "37078              4.6              2         2                   2   \n",
              "\n",
              "       Blood-Rel-Stroke  \n",
              "0                     2  \n",
              "1                     2  \n",
              "2                     1  \n",
              "3                     2  \n",
              "4                     2  \n",
              "...                 ...  \n",
              "37074                 2  \n",
              "37075                 2  \n",
              "37076                 2  \n",
              "37077                 1  \n",
              "37078                 2  \n",
              "\n",
              "[37079 rows x 21 columns]"
            ],
            "text/html": [
              "\n",
              "  <div id=\"df-9dcf45de-5135-40cf-ab22-1e34b2003511\" class=\"colab-df-container\">\n",
              "    <div>\n",
              "<style scoped>\n",
              "    .dataframe tbody tr th:only-of-type {\n",
              "        vertical-align: middle;\n",
              "    }\n",
              "\n",
              "    .dataframe tbody tr th {\n",
              "        vertical-align: top;\n",
              "    }\n",
              "\n",
              "    .dataframe thead th {\n",
              "        text-align: right;\n",
              "    }\n",
              "</style>\n",
              "<table border=\"1\" class=\"dataframe\">\n",
              "  <thead>\n",
              "    <tr style=\"text-align: right;\">\n",
              "      <th></th>\n",
              "      <th>CoronaryHeartDisease</th>\n",
              "      <th>Gender</th>\n",
              "      <th>Age</th>\n",
              "      <th>Diastolic</th>\n",
              "      <th>Red-Blood-Cells</th>\n",
              "      <th>Platelet-count</th>\n",
              "      <th>Mean-Platelet-Vol</th>\n",
              "      <th>Red-Cell-Distribution-Width</th>\n",
              "      <th>ALP</th>\n",
              "      <th>Cholesterol</th>\n",
              "      <th>...</th>\n",
              "      <th>Iron</th>\n",
              "      <th>LDH</th>\n",
              "      <th>Uric.Acid</th>\n",
              "      <th>Triglycerides</th>\n",
              "      <th>HDL</th>\n",
              "      <th>Glycohemoglobin</th>\n",
              "      <th>Vigorous-work</th>\n",
              "      <th>Diabetes</th>\n",
              "      <th>Blood-Rel-Diabetes</th>\n",
              "      <th>Blood-Rel-Stroke</th>\n",
              "    </tr>\n",
              "  </thead>\n",
              "  <tbody>\n",
              "    <tr>\n",
              "      <th>0</th>\n",
              "      <td>0</td>\n",
              "      <td>1</td>\n",
              "      <td>77</td>\n",
              "      <td>56</td>\n",
              "      <td>4.73</td>\n",
              "      <td>214.0</td>\n",
              "      <td>7.7</td>\n",
              "      <td>13.7</td>\n",
              "      <td>62</td>\n",
              "      <td>5.250</td>\n",
              "      <td>...</td>\n",
              "      <td>11.28</td>\n",
              "      <td>140</td>\n",
              "      <td>362.8</td>\n",
              "      <td>1.298</td>\n",
              "      <td>1.39</td>\n",
              "      <td>4.7</td>\n",
              "      <td>3</td>\n",
              "      <td>2</td>\n",
              "      <td>2</td>\n",
              "      <td>2</td>\n",
              "    </tr>\n",
              "    <tr>\n",
              "      <th>1</th>\n",
              "      <td>0</td>\n",
              "      <td>1</td>\n",
              "      <td>49</td>\n",
              "      <td>83</td>\n",
              "      <td>5.13</td>\n",
              "      <td>209.0</td>\n",
              "      <td>10.4</td>\n",
              "      <td>13.1</td>\n",
              "      <td>63</td>\n",
              "      <td>7.160</td>\n",
              "      <td>...</td>\n",
              "      <td>24.54</td>\n",
              "      <td>133</td>\n",
              "      <td>404.5</td>\n",
              "      <td>3.850</td>\n",
              "      <td>1.08</td>\n",
              "      <td>5.5</td>\n",
              "      <td>1</td>\n",
              "      <td>2</td>\n",
              "      <td>2</td>\n",
              "      <td>2</td>\n",
              "    </tr>\n",
              "    <tr>\n",
              "      <th>2</th>\n",
              "      <td>0</td>\n",
              "      <td>1</td>\n",
              "      <td>37</td>\n",
              "      <td>99</td>\n",
              "      <td>5.76</td>\n",
              "      <td>357.0</td>\n",
              "      <td>7.9</td>\n",
              "      <td>13.6</td>\n",
              "      <td>63</td>\n",
              "      <td>3.900</td>\n",
              "      <td>...</td>\n",
              "      <td>11.28</td>\n",
              "      <td>131</td>\n",
              "      <td>339.0</td>\n",
              "      <td>1.581</td>\n",
              "      <td>0.98</td>\n",
              "      <td>5.2</td>\n",
              "      <td>2</td>\n",
              "      <td>2</td>\n",
              "      <td>1</td>\n",
              "      <td>1</td>\n",
              "    </tr>\n",
              "    <tr>\n",
              "      <th>3</th>\n",
              "      <td>0</td>\n",
              "      <td>1</td>\n",
              "      <td>70</td>\n",
              "      <td>66</td>\n",
              "      <td>5.53</td>\n",
              "      <td>228.0</td>\n",
              "      <td>8.8</td>\n",
              "      <td>14.4</td>\n",
              "      <td>103</td>\n",
              "      <td>7.940</td>\n",
              "      <td>...</td>\n",
              "      <td>12.18</td>\n",
              "      <td>181</td>\n",
              "      <td>410.4</td>\n",
              "      <td>3.635</td>\n",
              "      <td>1.28</td>\n",
              "      <td>7.6</td>\n",
              "      <td>3</td>\n",
              "      <td>1</td>\n",
              "      <td>1</td>\n",
              "      <td>2</td>\n",
              "    </tr>\n",
              "    <tr>\n",
              "      <th>4</th>\n",
              "      <td>0</td>\n",
              "      <td>1</td>\n",
              "      <td>81</td>\n",
              "      <td>61</td>\n",
              "      <td>5.32</td>\n",
              "      <td>160.0</td>\n",
              "      <td>9.0</td>\n",
              "      <td>12.4</td>\n",
              "      <td>110</td>\n",
              "      <td>4.420</td>\n",
              "      <td>...</td>\n",
              "      <td>11.82</td>\n",
              "      <td>150</td>\n",
              "      <td>368.8</td>\n",
              "      <td>0.756</td>\n",
              "      <td>1.04</td>\n",
              "      <td>5.8</td>\n",
              "      <td>1</td>\n",
              "      <td>2</td>\n",
              "      <td>2</td>\n",
              "      <td>2</td>\n",
              "    </tr>\n",
              "    <tr>\n",
              "      <th>...</th>\n",
              "      <td>...</td>\n",
              "      <td>...</td>\n",
              "      <td>...</td>\n",
              "      <td>...</td>\n",
              "      <td>...</td>\n",
              "      <td>...</td>\n",
              "      <td>...</td>\n",
              "      <td>...</td>\n",
              "      <td>...</td>\n",
              "      <td>...</td>\n",
              "      <td>...</td>\n",
              "      <td>...</td>\n",
              "      <td>...</td>\n",
              "      <td>...</td>\n",
              "      <td>...</td>\n",
              "      <td>...</td>\n",
              "      <td>...</td>\n",
              "      <td>...</td>\n",
              "      <td>...</td>\n",
              "      <td>...</td>\n",
              "      <td>...</td>\n",
              "    </tr>\n",
              "    <tr>\n",
              "      <th>37074</th>\n",
              "      <td>0</td>\n",
              "      <td>1</td>\n",
              "      <td>25</td>\n",
              "      <td>76</td>\n",
              "      <td>5.50</td>\n",
              "      <td>253.0</td>\n",
              "      <td>7.5</td>\n",
              "      <td>13.3</td>\n",
              "      <td>67</td>\n",
              "      <td>4.189</td>\n",
              "      <td>...</td>\n",
              "      <td>13.10</td>\n",
              "      <td>144</td>\n",
              "      <td>428.3</td>\n",
              "      <td>1.264</td>\n",
              "      <td>1.27</td>\n",
              "      <td>5.8</td>\n",
              "      <td>2</td>\n",
              "      <td>2</td>\n",
              "      <td>1</td>\n",
              "      <td>2</td>\n",
              "    </tr>\n",
              "    <tr>\n",
              "      <th>37075</th>\n",
              "      <td>0</td>\n",
              "      <td>2</td>\n",
              "      <td>76</td>\n",
              "      <td>46</td>\n",
              "      <td>4.70</td>\n",
              "      <td>135.0</td>\n",
              "      <td>9.5</td>\n",
              "      <td>13.6</td>\n",
              "      <td>50</td>\n",
              "      <td>3.646</td>\n",
              "      <td>...</td>\n",
              "      <td>15.00</td>\n",
              "      <td>124</td>\n",
              "      <td>368.8</td>\n",
              "      <td>0.948</td>\n",
              "      <td>1.76</td>\n",
              "      <td>5.6</td>\n",
              "      <td>2</td>\n",
              "      <td>2</td>\n",
              "      <td>2</td>\n",
              "      <td>2</td>\n",
              "    </tr>\n",
              "    <tr>\n",
              "      <th>37076</th>\n",
              "      <td>0</td>\n",
              "      <td>2</td>\n",
              "      <td>80</td>\n",
              "      <td>58</td>\n",
              "      <td>4.44</td>\n",
              "      <td>172.0</td>\n",
              "      <td>8.1</td>\n",
              "      <td>16.9</td>\n",
              "      <td>54</td>\n",
              "      <td>6.801</td>\n",
              "      <td>...</td>\n",
              "      <td>8.40</td>\n",
              "      <td>120</td>\n",
              "      <td>273.6</td>\n",
              "      <td>1.095</td>\n",
              "      <td>2.90</td>\n",
              "      <td>5.7</td>\n",
              "      <td>2</td>\n",
              "      <td>2</td>\n",
              "      <td>2</td>\n",
              "      <td>2</td>\n",
              "    </tr>\n",
              "    <tr>\n",
              "      <th>37077</th>\n",
              "      <td>0</td>\n",
              "      <td>1</td>\n",
              "      <td>35</td>\n",
              "      <td>66</td>\n",
              "      <td>5.01</td>\n",
              "      <td>194.0</td>\n",
              "      <td>9.6</td>\n",
              "      <td>13.0</td>\n",
              "      <td>140</td>\n",
              "      <td>3.672</td>\n",
              "      <td>...</td>\n",
              "      <td>9.00</td>\n",
              "      <td>136</td>\n",
              "      <td>237.9</td>\n",
              "      <td>0.937</td>\n",
              "      <td>1.09</td>\n",
              "      <td>5.2</td>\n",
              "      <td>2</td>\n",
              "      <td>2</td>\n",
              "      <td>2</td>\n",
              "      <td>1</td>\n",
              "    </tr>\n",
              "    <tr>\n",
              "      <th>37078</th>\n",
              "      <td>0</td>\n",
              "      <td>2</td>\n",
              "      <td>24</td>\n",
              "      <td>68</td>\n",
              "      <td>4.58</td>\n",
              "      <td>257.0</td>\n",
              "      <td>8.7</td>\n",
              "      <td>13.8</td>\n",
              "      <td>35</td>\n",
              "      <td>4.215</td>\n",
              "      <td>...</td>\n",
              "      <td>27.90</td>\n",
              "      <td>93</td>\n",
              "      <td>249.8</td>\n",
              "      <td>0.892</td>\n",
              "      <td>1.89</td>\n",
              "      <td>4.6</td>\n",
              "      <td>2</td>\n",
              "      <td>2</td>\n",
              "      <td>2</td>\n",
              "      <td>2</td>\n",
              "    </tr>\n",
              "  </tbody>\n",
              "</table>\n",
              "<p>37079 rows × 21 columns</p>\n",
              "</div>\n",
              "    <div class=\"colab-df-buttons\">\n",
              "\n",
              "  <div class=\"colab-df-container\">\n",
              "    <button class=\"colab-df-convert\" onclick=\"convertToInteractive('df-9dcf45de-5135-40cf-ab22-1e34b2003511')\"\n",
              "            title=\"Convert this dataframe to an interactive table.\"\n",
              "            style=\"display:none;\">\n",
              "\n",
              "  <svg xmlns=\"http://www.w3.org/2000/svg\" height=\"24px\" viewBox=\"0 -960 960 960\">\n",
              "    <path d=\"M120-120v-720h720v720H120Zm60-500h600v-160H180v160Zm220 220h160v-160H400v160Zm0 220h160v-160H400v160ZM180-400h160v-160H180v160Zm440 0h160v-160H620v160ZM180-180h160v-160H180v160Zm440 0h160v-160H620v160Z\"/>\n",
              "  </svg>\n",
              "    </button>\n",
              "\n",
              "  <style>\n",
              "    .colab-df-container {\n",
              "      display:flex;\n",
              "      gap: 12px;\n",
              "    }\n",
              "\n",
              "    .colab-df-convert {\n",
              "      background-color: #E8F0FE;\n",
              "      border: none;\n",
              "      border-radius: 50%;\n",
              "      cursor: pointer;\n",
              "      display: none;\n",
              "      fill: #1967D2;\n",
              "      height: 32px;\n",
              "      padding: 0 0 0 0;\n",
              "      width: 32px;\n",
              "    }\n",
              "\n",
              "    .colab-df-convert:hover {\n",
              "      background-color: #E2EBFA;\n",
              "      box-shadow: 0px 1px 2px rgba(60, 64, 67, 0.3), 0px 1px 3px 1px rgba(60, 64, 67, 0.15);\n",
              "      fill: #174EA6;\n",
              "    }\n",
              "\n",
              "    .colab-df-buttons div {\n",
              "      margin-bottom: 4px;\n",
              "    }\n",
              "\n",
              "    [theme=dark] .colab-df-convert {\n",
              "      background-color: #3B4455;\n",
              "      fill: #D2E3FC;\n",
              "    }\n",
              "\n",
              "    [theme=dark] .colab-df-convert:hover {\n",
              "      background-color: #434B5C;\n",
              "      box-shadow: 0px 1px 3px 1px rgba(0, 0, 0, 0.15);\n",
              "      filter: drop-shadow(0px 1px 2px rgba(0, 0, 0, 0.3));\n",
              "      fill: #FFFFFF;\n",
              "    }\n",
              "  </style>\n",
              "\n",
              "    <script>\n",
              "      const buttonEl =\n",
              "        document.querySelector('#df-9dcf45de-5135-40cf-ab22-1e34b2003511 button.colab-df-convert');\n",
              "      buttonEl.style.display =\n",
              "        google.colab.kernel.accessAllowed ? 'block' : 'none';\n",
              "\n",
              "      async function convertToInteractive(key) {\n",
              "        const element = document.querySelector('#df-9dcf45de-5135-40cf-ab22-1e34b2003511');\n",
              "        const dataTable =\n",
              "          await google.colab.kernel.invokeFunction('convertToInteractive',\n",
              "                                                    [key], {});\n",
              "        if (!dataTable) return;\n",
              "\n",
              "        const docLinkHtml = 'Like what you see? Visit the ' +\n",
              "          '<a target=\"_blank\" href=https://colab.research.google.com/notebooks/data_table.ipynb>data table notebook</a>'\n",
              "          + ' to learn more about interactive tables.';\n",
              "        element.innerHTML = '';\n",
              "        dataTable['output_type'] = 'display_data';\n",
              "        await google.colab.output.renderOutput(dataTable, element);\n",
              "        const docLink = document.createElement('div');\n",
              "        docLink.innerHTML = docLinkHtml;\n",
              "        element.appendChild(docLink);\n",
              "      }\n",
              "    </script>\n",
              "  </div>\n",
              "\n",
              "\n",
              "<div id=\"df-bdee8a5f-0f30-4e72-9407-d1b194647aa1\">\n",
              "  <button class=\"colab-df-quickchart\" onclick=\"quickchart('df-bdee8a5f-0f30-4e72-9407-d1b194647aa1')\"\n",
              "            title=\"Suggest charts\"\n",
              "            style=\"display:none;\">\n",
              "\n",
              "<svg xmlns=\"http://www.w3.org/2000/svg\" height=\"24px\"viewBox=\"0 0 24 24\"\n",
              "     width=\"24px\">\n",
              "    <g>\n",
              "        <path d=\"M19 3H5c-1.1 0-2 .9-2 2v14c0 1.1.9 2 2 2h14c1.1 0 2-.9 2-2V5c0-1.1-.9-2-2-2zM9 17H7v-7h2v7zm4 0h-2V7h2v10zm4 0h-2v-4h2v4z\"/>\n",
              "    </g>\n",
              "</svg>\n",
              "  </button>\n",
              "\n",
              "<style>\n",
              "  .colab-df-quickchart {\n",
              "      --bg-color: #E8F0FE;\n",
              "      --fill-color: #1967D2;\n",
              "      --hover-bg-color: #E2EBFA;\n",
              "      --hover-fill-color: #174EA6;\n",
              "      --disabled-fill-color: #AAA;\n",
              "      --disabled-bg-color: #DDD;\n",
              "  }\n",
              "\n",
              "  [theme=dark] .colab-df-quickchart {\n",
              "      --bg-color: #3B4455;\n",
              "      --fill-color: #D2E3FC;\n",
              "      --hover-bg-color: #434B5C;\n",
              "      --hover-fill-color: #FFFFFF;\n",
              "      --disabled-bg-color: #3B4455;\n",
              "      --disabled-fill-color: #666;\n",
              "  }\n",
              "\n",
              "  .colab-df-quickchart {\n",
              "    background-color: var(--bg-color);\n",
              "    border: none;\n",
              "    border-radius: 50%;\n",
              "    cursor: pointer;\n",
              "    display: none;\n",
              "    fill: var(--fill-color);\n",
              "    height: 32px;\n",
              "    padding: 0;\n",
              "    width: 32px;\n",
              "  }\n",
              "\n",
              "  .colab-df-quickchart:hover {\n",
              "    background-color: var(--hover-bg-color);\n",
              "    box-shadow: 0 1px 2px rgba(60, 64, 67, 0.3), 0 1px 3px 1px rgba(60, 64, 67, 0.15);\n",
              "    fill: var(--button-hover-fill-color);\n",
              "  }\n",
              "\n",
              "  .colab-df-quickchart-complete:disabled,\n",
              "  .colab-df-quickchart-complete:disabled:hover {\n",
              "    background-color: var(--disabled-bg-color);\n",
              "    fill: var(--disabled-fill-color);\n",
              "    box-shadow: none;\n",
              "  }\n",
              "\n",
              "  .colab-df-spinner {\n",
              "    border: 2px solid var(--fill-color);\n",
              "    border-color: transparent;\n",
              "    border-bottom-color: var(--fill-color);\n",
              "    animation:\n",
              "      spin 1s steps(1) infinite;\n",
              "  }\n",
              "\n",
              "  @keyframes spin {\n",
              "    0% {\n",
              "      border-color: transparent;\n",
              "      border-bottom-color: var(--fill-color);\n",
              "      border-left-color: var(--fill-color);\n",
              "    }\n",
              "    20% {\n",
              "      border-color: transparent;\n",
              "      border-left-color: var(--fill-color);\n",
              "      border-top-color: var(--fill-color);\n",
              "    }\n",
              "    30% {\n",
              "      border-color: transparent;\n",
              "      border-left-color: var(--fill-color);\n",
              "      border-top-color: var(--fill-color);\n",
              "      border-right-color: var(--fill-color);\n",
              "    }\n",
              "    40% {\n",
              "      border-color: transparent;\n",
              "      border-right-color: var(--fill-color);\n",
              "      border-top-color: var(--fill-color);\n",
              "    }\n",
              "    60% {\n",
              "      border-color: transparent;\n",
              "      border-right-color: var(--fill-color);\n",
              "    }\n",
              "    80% {\n",
              "      border-color: transparent;\n",
              "      border-right-color: var(--fill-color);\n",
              "      border-bottom-color: var(--fill-color);\n",
              "    }\n",
              "    90% {\n",
              "      border-color: transparent;\n",
              "      border-bottom-color: var(--fill-color);\n",
              "    }\n",
              "  }\n",
              "</style>\n",
              "\n",
              "  <script>\n",
              "    async function quickchart(key) {\n",
              "      const quickchartButtonEl =\n",
              "        document.querySelector('#' + key + ' button');\n",
              "      quickchartButtonEl.disabled = true;  // To prevent multiple clicks.\n",
              "      quickchartButtonEl.classList.add('colab-df-spinner');\n",
              "      try {\n",
              "        const charts = await google.colab.kernel.invokeFunction(\n",
              "            'suggestCharts', [key], {});\n",
              "      } catch (error) {\n",
              "        console.error('Error during call to suggestCharts:', error);\n",
              "      }\n",
              "      quickchartButtonEl.classList.remove('colab-df-spinner');\n",
              "      quickchartButtonEl.classList.add('colab-df-quickchart-complete');\n",
              "    }\n",
              "    (() => {\n",
              "      let quickchartButtonEl =\n",
              "        document.querySelector('#df-bdee8a5f-0f30-4e72-9407-d1b194647aa1 button');\n",
              "      quickchartButtonEl.style.display =\n",
              "        google.colab.kernel.accessAllowed ? 'block' : 'none';\n",
              "    })();\n",
              "  </script>\n",
              "</div>\n",
              "    </div>\n",
              "  </div>\n"
            ]
          },
          "metadata": {},
          "execution_count": 272
        }
      ]
    },
    {
      "cell_type": "code",
      "source": [
        "X = df.drop('CoronaryHeartDisease', axis=1)\n",
        "y = df['CoronaryHeartDisease']\n",
        "\n",
        "# undersampling the data\n",
        "rus = RandomUnderSampler()\n",
        "X_resampled, y_resampled = rus.fit_resample(X, y)\n",
        "\n",
        "# split into training and testing\n",
        "X_train, X_test, y_train, y_test = train_test_split(X_resampled, y_resampled, test_size=0.2)\n",
        "\n",
        "print(\"Training set shapes:\", X_train.shape, y_train.shape)\n",
        "print(\"Testing set shapes:\", X_test.shape, y_test.shape)"
      ],
      "metadata": {
        "colab": {
          "base_uri": "https://localhost:8080/"
        },
        "id": "eOUfHvpSfG6u",
        "outputId": "0949232c-1d35-4a50-826e-1031da7850aa"
      },
      "execution_count": 273,
      "outputs": [
        {
          "output_type": "stream",
          "name": "stdout",
          "text": [
            "Training set shapes: (2412, 36) (2412,)\n",
            "Testing set shapes: (604, 36) (604,)\n"
          ]
        }
      ]
    },
    {
      "cell_type": "code",
      "source": [
        "#Feature Standardization\n",
        "scaler = StandardScaler()\n",
        "X_train = scaler.fit_transform(X_train)\n",
        "X_test = scaler.transform(X_test)"
      ],
      "metadata": {
        "id": "qh3orSY2COTD"
      },
      "execution_count": 274,
      "outputs": []
    },
    {
      "cell_type": "code",
      "source": [
        "accuracy_list = []\n",
        "precision_list = []\n",
        "recall_list = []\n",
        "f1_list = []"
      ],
      "metadata": {
        "id": "iWD5kTkY5n75"
      },
      "execution_count": 275,
      "outputs": []
    },
    {
      "cell_type": "markdown",
      "source": [
        "### Logistic Regression"
      ],
      "metadata": {
        "id": "W3lsK8DHBxYD"
      }
    },
    {
      "cell_type": "code",
      "source": [
        "# param_grid = {'C': [0.001, 0.01, 0.1, 1, 10, 100, 1000]}\n",
        "\n",
        "lr = LogisticRegression(C=10)\n",
        "\n",
        "lr.fit(X_train, y_train)\n",
        "\n",
        "y_pred = lr.predict(X_test)\n",
        "\n",
        "\n",
        "accuracy = accuracy_score(y_test, y_pred)\n",
        "precision = precision_score(y_test, y_pred)\n",
        "recall = recall_score(y_test, y_pred)\n",
        "f1 = f1_score(y_test, y_pred)\n",
        "print(\"Accuracy:\", accuracy)\n",
        "print(\"Precision:\", precision)\n",
        "print(\"Recall:\", recall)\n",
        "print(\"F1-Score:\", f1)"
      ],
      "metadata": {
        "colab": {
          "base_uri": "https://localhost:8080/"
        },
        "id": "MjIfUQhQhN6q",
        "outputId": "19dc08ff-daba-4c6f-8343-0dbebb36b085"
      },
      "execution_count": 276,
      "outputs": [
        {
          "output_type": "stream",
          "name": "stdout",
          "text": [
            "Accuracy: 0.7947019867549668\n",
            "Precision: 0.78125\n",
            "Recall: 0.8223684210526315\n",
            "F1-Score: 0.8012820512820513\n"
          ]
        }
      ]
    },
    {
      "cell_type": "code",
      "source": [
        "accuracy_list.append(accuracy)\n",
        "precision_list.append(precision)\n",
        "recall_list.append(recall)\n",
        "f1_list.append(f1)"
      ],
      "metadata": {
        "id": "FsYrhEs15wFd"
      },
      "execution_count": 277,
      "outputs": []
    },
    {
      "cell_type": "markdown",
      "source": [
        "### Naive Bayes"
      ],
      "metadata": {
        "id": "T7ZHpoW2CYG7"
      }
    },
    {
      "cell_type": "code",
      "source": [
        "nb = GaussianNB()\n",
        "\n",
        "nb.fit(X_train, y_train)\n",
        "\n",
        "y_pred = nb.predict(X_test)\n",
        "\n",
        "\n",
        "accuracy = accuracy_score(y_test, y_pred)\n",
        "precision = precision_score(y_test, y_pred)\n",
        "recall = recall_score(y_test, y_pred)\n",
        "f1 = f1_score(y_test, y_pred)\n",
        "print(\"Accuracy:\", accuracy)\n",
        "print(\"Precision:\", precision)\n",
        "print(\"Recall:\", recall)\n",
        "print(\"F1-Score:\", f1)"
      ],
      "metadata": {
        "id": "S1FGU9H4CaF1",
        "outputId": "f306fac1-5d69-47b2-d36e-7d873c98093a",
        "colab": {
          "base_uri": "https://localhost:8080/"
        }
      },
      "execution_count": 278,
      "outputs": [
        {
          "output_type": "stream",
          "name": "stdout",
          "text": [
            "Accuracy: 0.7036423841059603\n",
            "Precision: 0.8272251308900523\n",
            "Recall: 0.5197368421052632\n",
            "F1-Score: 0.6383838383838384\n"
          ]
        }
      ]
    },
    {
      "cell_type": "code",
      "source": [
        "accuracy_list.append(accuracy)\n",
        "precision_list.append(precision)\n",
        "recall_list.append(recall)\n",
        "f1_list.append(f1)"
      ],
      "metadata": {
        "id": "ZsLpOcwx57se"
      },
      "execution_count": 279,
      "outputs": []
    },
    {
      "cell_type": "markdown",
      "source": [
        "### SVM"
      ],
      "metadata": {
        "id": "kid14JKEE0SM"
      }
    },
    {
      "cell_type": "code",
      "source": [
        "# param_grid = {'kernel': ('linear', 'rbf','poly') ,\n",
        "#               'C':[5, 10, 100],\n",
        "#               'gamma': [1,0.1,0.01,0.001],\n",
        "#               'degree' : [1,2,3,4,5,6]}\n",
        "\n",
        "sv = SVC(C=5, degree=1, gamma=0.001, kernel='poly')\n",
        "\n",
        "sv.fit(X_train, y_train)\n",
        "\n",
        "y_pred = sv.predict(X_test)\n",
        "\n",
        "\n",
        "accuracy = accuracy_score(y_test, y_pred)\n",
        "precision = precision_score(y_test, y_pred)\n",
        "recall = recall_score(y_test, y_pred)\n",
        "f1 = f1_score(y_test, y_pred)\n",
        "print(\"Accuracy:\", accuracy)\n",
        "print(\"Precision:\", precision)\n",
        "print(\"Recall:\", recall)\n",
        "print(\"F1-Score:\", f1)"
      ],
      "metadata": {
        "id": "_jVbV-LmE3WJ",
        "outputId": "0eacbc70-b7c7-417a-ac23-9dca6de9ac10",
        "colab": {
          "base_uri": "https://localhost:8080/"
        }
      },
      "execution_count": 280,
      "outputs": [
        {
          "output_type": "stream",
          "name": "stdout",
          "text": [
            "Accuracy: 0.7980132450331126\n",
            "Precision: 0.7740963855421686\n",
            "Recall: 0.8453947368421053\n",
            "F1-Score: 0.8081761006289309\n"
          ]
        }
      ]
    },
    {
      "cell_type": "code",
      "source": [
        "accuracy_list.append(accuracy)\n",
        "precision_list.append(precision)\n",
        "recall_list.append(recall)\n",
        "f1_list.append(f1)"
      ],
      "metadata": {
        "id": "5TGyntXx58aN"
      },
      "execution_count": 281,
      "outputs": []
    },
    {
      "cell_type": "markdown",
      "source": [
        "### K-Nearest Neighbors"
      ],
      "metadata": {
        "id": "TAWf2wJHRi_x"
      }
    },
    {
      "cell_type": "code",
      "source": [
        "# k = list(range(1, 25))\n",
        "# param_grid = {'n_neighbors': k}\n",
        "\n",
        "knn = KNeighborsClassifier(n_neighbors=17)\n",
        "\n",
        "knn.fit(X_train, y_train)\n",
        "\n",
        "y_pred = knn.predict(X_test)\n",
        "\n",
        "\n",
        "accuracy = accuracy_score(y_test, y_pred)\n",
        "precision = precision_score(y_test, y_pred)\n",
        "recall = recall_score(y_test, y_pred)\n",
        "f1 = f1_score(y_test, y_pred)\n",
        "print(\"Accuracy:\", accuracy)\n",
        "print(\"Precision:\", precision)\n",
        "print(\"Recall:\", recall)\n",
        "print(\"F1-Score:\", f1)"
      ],
      "metadata": {
        "id": "EIWfkL9bRlTT",
        "outputId": "b39766cd-e7b5-474b-dc57-ee282b6498f5",
        "colab": {
          "base_uri": "https://localhost:8080/"
        }
      },
      "execution_count": 282,
      "outputs": [
        {
          "output_type": "stream",
          "name": "stdout",
          "text": [
            "Accuracy: 0.7731788079470199\n",
            "Precision: 0.8014440433212996\n",
            "Recall: 0.7302631578947368\n",
            "F1-Score: 0.7641996557659209\n"
          ]
        }
      ]
    },
    {
      "cell_type": "code",
      "source": [
        "accuracy_list.append(accuracy)\n",
        "precision_list.append(precision)\n",
        "recall_list.append(recall)\n",
        "f1_list.append(f1)"
      ],
      "metadata": {
        "id": "T3ZYQmAy59Q0"
      },
      "execution_count": 283,
      "outputs": []
    },
    {
      "cell_type": "markdown",
      "source": [
        "### Random Forest"
      ],
      "metadata": {
        "id": "1-BaW5KYfOQy"
      }
    },
    {
      "cell_type": "code",
      "source": [
        "# param_grid = {'n_estimators': [200, 400, 600, 800, 1000, 1200, 1400, 1600, 1800, 2000],\n",
        "#               'max_depth': [10, 20, 30, 40, 50, 60, 70, 80, 90, 100],\n",
        "#               'max_features': ['sqrt', 'log2']}\n",
        "\n",
        "rf = RandomForestClassifier(n_estimators=1800, max_depth=20)\n",
        "\n",
        "rf.fit(X_train, y_train)\n",
        "\n",
        "y_pred = rf.predict(X_test)\n",
        "\n",
        "\n",
        "accuracy = accuracy_score(y_test, y_pred)\n",
        "precision = precision_score(y_test, y_pred)\n",
        "recall = recall_score(y_test, y_pred)\n",
        "f1 = f1_score(y_test, y_pred)\n",
        "print(\"Accuracy:\", accuracy)\n",
        "print(\"Precision:\", precision)\n",
        "print(\"Recall:\", recall)\n",
        "print(\"F1-Score:\", f1)"
      ],
      "metadata": {
        "id": "lV_S3dztdqS4",
        "outputId": "87fb40ce-afd4-4dec-c6a8-a4b092483285",
        "colab": {
          "base_uri": "https://localhost:8080/"
        }
      },
      "execution_count": 284,
      "outputs": [
        {
          "output_type": "stream",
          "name": "stdout",
          "text": [
            "Accuracy: 0.7947019867549668\n",
            "Precision: 0.7631578947368421\n",
            "Recall: 0.8585526315789473\n",
            "F1-Score: 0.8080495356037152\n"
          ]
        }
      ]
    },
    {
      "cell_type": "code",
      "source": [
        "accuracy_list.append(accuracy)\n",
        "precision_list.append(precision)\n",
        "recall_list.append(recall)\n",
        "f1_list.append(f1)"
      ],
      "metadata": {
        "id": "Xbpnzv3Y5-GJ"
      },
      "execution_count": 285,
      "outputs": []
    },
    {
      "cell_type": "markdown",
      "source": [
        "### XGBoost"
      ],
      "metadata": {
        "id": "jxeF4P0D5-nT"
      }
    },
    {
      "cell_type": "code",
      "source": [
        "xgb_model = xgb.XGBClassifier(learning_rate=0.1, n_estimators=250, max_depth=9)\n",
        "\n",
        "xgb_model.fit(X_train, y_train)\n",
        "\n",
        "y_pred = xgb_model.predict(X_test)\n",
        "\n",
        "\n",
        "accuracy = accuracy_score(y_test, y_pred)\n",
        "precision = precision_score(y_test, y_pred)\n",
        "recall = recall_score(y_test, y_pred)\n",
        "f1 = f1_score(y_test, y_pred)\n",
        "print(\"Accuracy:\", accuracy)\n",
        "print(\"Precision:\", precision)\n",
        "print(\"Recall:\", recall)\n",
        "print(\"F1-Score:\", f1)"
      ],
      "metadata": {
        "colab": {
          "base_uri": "https://localhost:8080/"
        },
        "id": "cAFS_Eld5Bay",
        "outputId": "c9b6dd7b-ec71-4ed3-a244-347f7aabd3b2"
      },
      "execution_count": 286,
      "outputs": [
        {
          "output_type": "stream",
          "name": "stdout",
          "text": [
            "Accuracy: 0.7831125827814569\n",
            "Precision: 0.7613293051359517\n",
            "Recall: 0.8289473684210527\n",
            "F1-Score: 0.7937007874015749\n"
          ]
        }
      ]
    },
    {
      "cell_type": "code",
      "source": [
        "accuracy_list.append(accuracy)\n",
        "precision_list.append(precision)\n",
        "recall_list.append(recall)\n",
        "f1_list.append(f1)"
      ],
      "metadata": {
        "id": "ylkqKyYE6RLp"
      },
      "execution_count": 287,
      "outputs": []
    },
    {
      "cell_type": "markdown",
      "source": [
        "### Model Metric Comparison"
      ],
      "metadata": {
        "id": "GypkTEke6R4j"
      }
    },
    {
      "cell_type": "code",
      "source": [
        "# create a table/chart with the metrics of all the models and figure out which performs the best\n",
        "data = [accuracy_list, precision_list, recall_list, f1_list]\n",
        "\n",
        "df_metrics = pd.DataFrame(data=data, columns=['Logistic Regression', 'Naive Bayes', 'SVM', 'K-Nearest Neighbors', 'Random Forest', 'XGBoost'],\n",
        "                          index=['Accuracy', 'Precision', 'Recall', 'F1-Score'])\n",
        "df_metrics"
      ],
      "metadata": {
        "id": "BA4jBZHwU5Kw",
        "colab": {
          "base_uri": "https://localhost:8080/",
          "height": 175
        },
        "outputId": "cefb9f11-6e24-4d39-9644-dc64d043403f"
      },
      "execution_count": 288,
      "outputs": [
        {
          "output_type": "execute_result",
          "data": {
            "text/plain": [
              "           Logistic Regression  Naive Bayes       SVM  K-Nearest Neighbors  \\\n",
              "Accuracy              0.794702     0.703642  0.798013             0.773179   \n",
              "Precision             0.781250     0.827225  0.774096             0.801444   \n",
              "Recall                0.822368     0.519737  0.845395             0.730263   \n",
              "F1-Score              0.801282     0.638384  0.808176             0.764200   \n",
              "\n",
              "           Random Forest   XGBoost  \n",
              "Accuracy        0.794702  0.783113  \n",
              "Precision       0.763158  0.761329  \n",
              "Recall          0.858553  0.828947  \n",
              "F1-Score        0.808050  0.793701  "
            ],
            "text/html": [
              "\n",
              "  <div id=\"df-1ee51720-4e5f-446e-8ba7-c6e211b3ea00\" class=\"colab-df-container\">\n",
              "    <div>\n",
              "<style scoped>\n",
              "    .dataframe tbody tr th:only-of-type {\n",
              "        vertical-align: middle;\n",
              "    }\n",
              "\n",
              "    .dataframe tbody tr th {\n",
              "        vertical-align: top;\n",
              "    }\n",
              "\n",
              "    .dataframe thead th {\n",
              "        text-align: right;\n",
              "    }\n",
              "</style>\n",
              "<table border=\"1\" class=\"dataframe\">\n",
              "  <thead>\n",
              "    <tr style=\"text-align: right;\">\n",
              "      <th></th>\n",
              "      <th>Logistic Regression</th>\n",
              "      <th>Naive Bayes</th>\n",
              "      <th>SVM</th>\n",
              "      <th>K-Nearest Neighbors</th>\n",
              "      <th>Random Forest</th>\n",
              "      <th>XGBoost</th>\n",
              "    </tr>\n",
              "  </thead>\n",
              "  <tbody>\n",
              "    <tr>\n",
              "      <th>Accuracy</th>\n",
              "      <td>0.794702</td>\n",
              "      <td>0.703642</td>\n",
              "      <td>0.798013</td>\n",
              "      <td>0.773179</td>\n",
              "      <td>0.794702</td>\n",
              "      <td>0.783113</td>\n",
              "    </tr>\n",
              "    <tr>\n",
              "      <th>Precision</th>\n",
              "      <td>0.781250</td>\n",
              "      <td>0.827225</td>\n",
              "      <td>0.774096</td>\n",
              "      <td>0.801444</td>\n",
              "      <td>0.763158</td>\n",
              "      <td>0.761329</td>\n",
              "    </tr>\n",
              "    <tr>\n",
              "      <th>Recall</th>\n",
              "      <td>0.822368</td>\n",
              "      <td>0.519737</td>\n",
              "      <td>0.845395</td>\n",
              "      <td>0.730263</td>\n",
              "      <td>0.858553</td>\n",
              "      <td>0.828947</td>\n",
              "    </tr>\n",
              "    <tr>\n",
              "      <th>F1-Score</th>\n",
              "      <td>0.801282</td>\n",
              "      <td>0.638384</td>\n",
              "      <td>0.808176</td>\n",
              "      <td>0.764200</td>\n",
              "      <td>0.808050</td>\n",
              "      <td>0.793701</td>\n",
              "    </tr>\n",
              "  </tbody>\n",
              "</table>\n",
              "</div>\n",
              "    <div class=\"colab-df-buttons\">\n",
              "\n",
              "  <div class=\"colab-df-container\">\n",
              "    <button class=\"colab-df-convert\" onclick=\"convertToInteractive('df-1ee51720-4e5f-446e-8ba7-c6e211b3ea00')\"\n",
              "            title=\"Convert this dataframe to an interactive table.\"\n",
              "            style=\"display:none;\">\n",
              "\n",
              "  <svg xmlns=\"http://www.w3.org/2000/svg\" height=\"24px\" viewBox=\"0 -960 960 960\">\n",
              "    <path d=\"M120-120v-720h720v720H120Zm60-500h600v-160H180v160Zm220 220h160v-160H400v160Zm0 220h160v-160H400v160ZM180-400h160v-160H180v160Zm440 0h160v-160H620v160ZM180-180h160v-160H180v160Zm440 0h160v-160H620v160Z\"/>\n",
              "  </svg>\n",
              "    </button>\n",
              "\n",
              "  <style>\n",
              "    .colab-df-container {\n",
              "      display:flex;\n",
              "      gap: 12px;\n",
              "    }\n",
              "\n",
              "    .colab-df-convert {\n",
              "      background-color: #E8F0FE;\n",
              "      border: none;\n",
              "      border-radius: 50%;\n",
              "      cursor: pointer;\n",
              "      display: none;\n",
              "      fill: #1967D2;\n",
              "      height: 32px;\n",
              "      padding: 0 0 0 0;\n",
              "      width: 32px;\n",
              "    }\n",
              "\n",
              "    .colab-df-convert:hover {\n",
              "      background-color: #E2EBFA;\n",
              "      box-shadow: 0px 1px 2px rgba(60, 64, 67, 0.3), 0px 1px 3px 1px rgba(60, 64, 67, 0.15);\n",
              "      fill: #174EA6;\n",
              "    }\n",
              "\n",
              "    .colab-df-buttons div {\n",
              "      margin-bottom: 4px;\n",
              "    }\n",
              "\n",
              "    [theme=dark] .colab-df-convert {\n",
              "      background-color: #3B4455;\n",
              "      fill: #D2E3FC;\n",
              "    }\n",
              "\n",
              "    [theme=dark] .colab-df-convert:hover {\n",
              "      background-color: #434B5C;\n",
              "      box-shadow: 0px 1px 3px 1px rgba(0, 0, 0, 0.15);\n",
              "      filter: drop-shadow(0px 1px 2px rgba(0, 0, 0, 0.3));\n",
              "      fill: #FFFFFF;\n",
              "    }\n",
              "  </style>\n",
              "\n",
              "    <script>\n",
              "      const buttonEl =\n",
              "        document.querySelector('#df-1ee51720-4e5f-446e-8ba7-c6e211b3ea00 button.colab-df-convert');\n",
              "      buttonEl.style.display =\n",
              "        google.colab.kernel.accessAllowed ? 'block' : 'none';\n",
              "\n",
              "      async function convertToInteractive(key) {\n",
              "        const element = document.querySelector('#df-1ee51720-4e5f-446e-8ba7-c6e211b3ea00');\n",
              "        const dataTable =\n",
              "          await google.colab.kernel.invokeFunction('convertToInteractive',\n",
              "                                                    [key], {});\n",
              "        if (!dataTable) return;\n",
              "\n",
              "        const docLinkHtml = 'Like what you see? Visit the ' +\n",
              "          '<a target=\"_blank\" href=https://colab.research.google.com/notebooks/data_table.ipynb>data table notebook</a>'\n",
              "          + ' to learn more about interactive tables.';\n",
              "        element.innerHTML = '';\n",
              "        dataTable['output_type'] = 'display_data';\n",
              "        await google.colab.output.renderOutput(dataTable, element);\n",
              "        const docLink = document.createElement('div');\n",
              "        docLink.innerHTML = docLinkHtml;\n",
              "        element.appendChild(docLink);\n",
              "      }\n",
              "    </script>\n",
              "  </div>\n",
              "\n",
              "\n",
              "<div id=\"df-80466fb7-55c5-4946-b449-c11c3633bf25\">\n",
              "  <button class=\"colab-df-quickchart\" onclick=\"quickchart('df-80466fb7-55c5-4946-b449-c11c3633bf25')\"\n",
              "            title=\"Suggest charts\"\n",
              "            style=\"display:none;\">\n",
              "\n",
              "<svg xmlns=\"http://www.w3.org/2000/svg\" height=\"24px\"viewBox=\"0 0 24 24\"\n",
              "     width=\"24px\">\n",
              "    <g>\n",
              "        <path d=\"M19 3H5c-1.1 0-2 .9-2 2v14c0 1.1.9 2 2 2h14c1.1 0 2-.9 2-2V5c0-1.1-.9-2-2-2zM9 17H7v-7h2v7zm4 0h-2V7h2v10zm4 0h-2v-4h2v4z\"/>\n",
              "    </g>\n",
              "</svg>\n",
              "  </button>\n",
              "\n",
              "<style>\n",
              "  .colab-df-quickchart {\n",
              "      --bg-color: #E8F0FE;\n",
              "      --fill-color: #1967D2;\n",
              "      --hover-bg-color: #E2EBFA;\n",
              "      --hover-fill-color: #174EA6;\n",
              "      --disabled-fill-color: #AAA;\n",
              "      --disabled-bg-color: #DDD;\n",
              "  }\n",
              "\n",
              "  [theme=dark] .colab-df-quickchart {\n",
              "      --bg-color: #3B4455;\n",
              "      --fill-color: #D2E3FC;\n",
              "      --hover-bg-color: #434B5C;\n",
              "      --hover-fill-color: #FFFFFF;\n",
              "      --disabled-bg-color: #3B4455;\n",
              "      --disabled-fill-color: #666;\n",
              "  }\n",
              "\n",
              "  .colab-df-quickchart {\n",
              "    background-color: var(--bg-color);\n",
              "    border: none;\n",
              "    border-radius: 50%;\n",
              "    cursor: pointer;\n",
              "    display: none;\n",
              "    fill: var(--fill-color);\n",
              "    height: 32px;\n",
              "    padding: 0;\n",
              "    width: 32px;\n",
              "  }\n",
              "\n",
              "  .colab-df-quickchart:hover {\n",
              "    background-color: var(--hover-bg-color);\n",
              "    box-shadow: 0 1px 2px rgba(60, 64, 67, 0.3), 0 1px 3px 1px rgba(60, 64, 67, 0.15);\n",
              "    fill: var(--button-hover-fill-color);\n",
              "  }\n",
              "\n",
              "  .colab-df-quickchart-complete:disabled,\n",
              "  .colab-df-quickchart-complete:disabled:hover {\n",
              "    background-color: var(--disabled-bg-color);\n",
              "    fill: var(--disabled-fill-color);\n",
              "    box-shadow: none;\n",
              "  }\n",
              "\n",
              "  .colab-df-spinner {\n",
              "    border: 2px solid var(--fill-color);\n",
              "    border-color: transparent;\n",
              "    border-bottom-color: var(--fill-color);\n",
              "    animation:\n",
              "      spin 1s steps(1) infinite;\n",
              "  }\n",
              "\n",
              "  @keyframes spin {\n",
              "    0% {\n",
              "      border-color: transparent;\n",
              "      border-bottom-color: var(--fill-color);\n",
              "      border-left-color: var(--fill-color);\n",
              "    }\n",
              "    20% {\n",
              "      border-color: transparent;\n",
              "      border-left-color: var(--fill-color);\n",
              "      border-top-color: var(--fill-color);\n",
              "    }\n",
              "    30% {\n",
              "      border-color: transparent;\n",
              "      border-left-color: var(--fill-color);\n",
              "      border-top-color: var(--fill-color);\n",
              "      border-right-color: var(--fill-color);\n",
              "    }\n",
              "    40% {\n",
              "      border-color: transparent;\n",
              "      border-right-color: var(--fill-color);\n",
              "      border-top-color: var(--fill-color);\n",
              "    }\n",
              "    60% {\n",
              "      border-color: transparent;\n",
              "      border-right-color: var(--fill-color);\n",
              "    }\n",
              "    80% {\n",
              "      border-color: transparent;\n",
              "      border-right-color: var(--fill-color);\n",
              "      border-bottom-color: var(--fill-color);\n",
              "    }\n",
              "    90% {\n",
              "      border-color: transparent;\n",
              "      border-bottom-color: var(--fill-color);\n",
              "    }\n",
              "  }\n",
              "</style>\n",
              "\n",
              "  <script>\n",
              "    async function quickchart(key) {\n",
              "      const quickchartButtonEl =\n",
              "        document.querySelector('#' + key + ' button');\n",
              "      quickchartButtonEl.disabled = true;  // To prevent multiple clicks.\n",
              "      quickchartButtonEl.classList.add('colab-df-spinner');\n",
              "      try {\n",
              "        const charts = await google.colab.kernel.invokeFunction(\n",
              "            'suggestCharts', [key], {});\n",
              "      } catch (error) {\n",
              "        console.error('Error during call to suggestCharts:', error);\n",
              "      }\n",
              "      quickchartButtonEl.classList.remove('colab-df-spinner');\n",
              "      quickchartButtonEl.classList.add('colab-df-quickchart-complete');\n",
              "    }\n",
              "    (() => {\n",
              "      let quickchartButtonEl =\n",
              "        document.querySelector('#df-80466fb7-55c5-4946-b449-c11c3633bf25 button');\n",
              "      quickchartButtonEl.style.display =\n",
              "        google.colab.kernel.accessAllowed ? 'block' : 'none';\n",
              "    })();\n",
              "  </script>\n",
              "</div>\n",
              "    </div>\n",
              "  </div>\n"
            ]
          },
          "metadata": {},
          "execution_count": 288
        }
      ]
    }
  ],
  "metadata": {
    "kernelspec": {
      "display_name": "Python 3",
      "language": "python",
      "name": "python3"
    },
    "language_info": {
      "codemirror_mode": {
        "name": "ipython",
        "version": 3
      },
      "file_extension": ".py",
      "mimetype": "text/x-python",
      "name": "python",
      "nbconvert_exporter": "python",
      "pygments_lexer": "ipython3",
      "version": "3.11.4"
    },
    "colab": {
      "provenance": []
    }
  },
  "nbformat": 4,
  "nbformat_minor": 0
}
