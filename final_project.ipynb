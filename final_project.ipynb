{
  "cells": [
    {
      "cell_type": "markdown",
      "metadata": {
        "id": "view-in-github",
        "colab_type": "text"
      },
      "source": [
        "<a href=\"https://colab.research.google.com/github/JackBenadon/DS340W_Group22/blob/main/final_project.ipynb\" target=\"_parent\"><img src=\"https://colab.research.google.com/assets/colab-badge.svg\" alt=\"Open In Colab\"/></a>"
      ]
    },
    {
      "cell_type": "code",
      "source": [
        "from google.colab import drive\n",
        "drive.mount('/content/drive')"
      ],
      "metadata": {
        "colab": {
          "base_uri": "https://localhost:8080/"
        },
        "id": "ZXDzV9-rv3b-",
        "outputId": "9b659ef3-ed38-462c-9cca-3034bcce3414"
      },
      "execution_count": 207,
      "outputs": [
        {
          "output_type": "stream",
          "name": "stdout",
          "text": [
            "Drive already mounted at /content/drive; to attempt to forcibly remount, call drive.mount(\"/content/drive\", force_remount=True).\n"
          ]
        }
      ]
    },
    {
      "cell_type": "code",
      "execution_count": 208,
      "metadata": {
        "id": "IovT3H3Ts0qZ"
      },
      "outputs": [],
      "source": [
        "import numpy as np\n",
        "import pandas as pd\n",
        "import xgboost as xgb\n",
        "\n",
        "from sklearn.model_selection import train_test_split, GridSearchCV\n",
        "from sklearn.linear_model import LassoCV, LogisticRegression\n",
        "from sklearn.svm import SVC\n",
        "from sklearn.neighbors import KNeighborsClassifier\n",
        "from sklearn.tree import DecisionTreeClassifier\n",
        "from sklearn.ensemble import RandomForestClassifier\n",
        "from sklearn.naive_bayes import GaussianNB\n",
        "from sklearn.preprocessing import StandardScaler\n",
        "from sklearn.metrics import accuracy_score, precision_score, recall_score, f1_score\n",
        "from imblearn.under_sampling import RandomUnderSampler"
      ]
    },
    {
      "cell_type": "code",
      "execution_count": 209,
      "metadata": {
        "id": "FqceX2oTs0qa",
        "outputId": "812f7881-b4cb-4ab5-e18f-8891b60d45b3",
        "colab": {
          "base_uri": "https://localhost:8080/",
          "height": 496
        }
      },
      "outputs": [
        {
          "output_type": "execute_result",
          "data": {
            "text/plain": [
              "        SEQN  Gender  Age  Annual-Family-Income  Ratio-Family-Income-Poverty  \\\n",
              "0          2       1   77                     8                         5.00   \n",
              "1          5       1   49                    11                         5.00   \n",
              "2         12       1   37                    11                         4.93   \n",
              "3         13       1   70                     3                         1.07   \n",
              "4         14       1   81                     5                         2.67   \n",
              "...      ...     ...  ...                   ...                          ...   \n",
              "37074  93691       1   25                    10                         1.59   \n",
              "37075  93695       2   76                     4                         1.43   \n",
              "37076  93697       2   80                     7                         2.97   \n",
              "37077  93700       1   35                     1                         0.00   \n",
              "37078  93702       2   24                     7                         3.54   \n",
              "\n",
              "       X60-sec-pulse  Systolic  Diastolic  Weight  Height  ...  \\\n",
              "0                 68        98         56    75.4   174.0  ...   \n",
              "1                 66       122         83    92.5   178.3  ...   \n",
              "2                 64       174         99    99.2   180.0  ...   \n",
              "3                102       130         66    63.6   157.7  ...   \n",
              "4                 72       136         61    75.5   166.2  ...   \n",
              "...              ...       ...        ...     ...     ...  ...   \n",
              "37074             92       112         76    39.2   136.5  ...   \n",
              "37075             78       112         46    59.1   165.8  ...   \n",
              "37076             74       146         58    71.7   152.2  ...   \n",
              "37077             76       106         66    78.2   173.3  ...   \n",
              "37078             80       114         68    58.3   165.0  ...   \n",
              "\n",
              "       Total-Cholesterol   HDL  Glycohemoglobin  Vigorous-work  Moderate-work  \\\n",
              "0                   5.56  1.39              4.7              3              3   \n",
              "1                   7.21  1.08              5.5              1              1   \n",
              "2                   4.03  0.98              5.2              2              1   \n",
              "3                   8.12  1.28              7.6              3              3   \n",
              "4                   4.50  1.04              5.8              1              1   \n",
              "...                  ...   ...              ...            ...            ...   \n",
              "37074               4.14  1.27              5.8              2              2   \n",
              "37075               3.62  1.76              5.6              2              2   \n",
              "37076               6.62  2.90              5.7              2              2   \n",
              "37077               3.72  1.09              5.2              2              2   \n",
              "37078               4.14  1.89              4.6              2              2   \n",
              "\n",
              "       Health-Insurance  Diabetes  Blood-Rel-Diabetes  Blood-Rel-Stroke  \\\n",
              "0                     1         2                   2                 2   \n",
              "1                     1         2                   2                 2   \n",
              "2                     1         2                   1                 1   \n",
              "3                     1         1                   1                 2   \n",
              "4                     1         2                   2                 2   \n",
              "...                 ...       ...                 ...               ...   \n",
              "37074                 1         2                   1                 2   \n",
              "37075                 1         2                   2                 2   \n",
              "37076                 1         2                   2                 2   \n",
              "37077                 1         2                   2                 1   \n",
              "37078                 1         2                   2                 2   \n",
              "\n",
              "       CoronaryHeartDisease  \n",
              "0                         0  \n",
              "1                         0  \n",
              "2                         0  \n",
              "3                         0  \n",
              "4                         0  \n",
              "...                     ...  \n",
              "37074                     0  \n",
              "37075                     0  \n",
              "37076                     0  \n",
              "37077                     0  \n",
              "37078                     0  \n",
              "\n",
              "[37079 rows x 51 columns]"
            ],
            "text/html": [
              "\n",
              "  <div id=\"df-bf731b44-43de-40ff-b1f1-ced91689c4c5\" class=\"colab-df-container\">\n",
              "    <div>\n",
              "<style scoped>\n",
              "    .dataframe tbody tr th:only-of-type {\n",
              "        vertical-align: middle;\n",
              "    }\n",
              "\n",
              "    .dataframe tbody tr th {\n",
              "        vertical-align: top;\n",
              "    }\n",
              "\n",
              "    .dataframe thead th {\n",
              "        text-align: right;\n",
              "    }\n",
              "</style>\n",
              "<table border=\"1\" class=\"dataframe\">\n",
              "  <thead>\n",
              "    <tr style=\"text-align: right;\">\n",
              "      <th></th>\n",
              "      <th>SEQN</th>\n",
              "      <th>Gender</th>\n",
              "      <th>Age</th>\n",
              "      <th>Annual-Family-Income</th>\n",
              "      <th>Ratio-Family-Income-Poverty</th>\n",
              "      <th>X60-sec-pulse</th>\n",
              "      <th>Systolic</th>\n",
              "      <th>Diastolic</th>\n",
              "      <th>Weight</th>\n",
              "      <th>Height</th>\n",
              "      <th>...</th>\n",
              "      <th>Total-Cholesterol</th>\n",
              "      <th>HDL</th>\n",
              "      <th>Glycohemoglobin</th>\n",
              "      <th>Vigorous-work</th>\n",
              "      <th>Moderate-work</th>\n",
              "      <th>Health-Insurance</th>\n",
              "      <th>Diabetes</th>\n",
              "      <th>Blood-Rel-Diabetes</th>\n",
              "      <th>Blood-Rel-Stroke</th>\n",
              "      <th>CoronaryHeartDisease</th>\n",
              "    </tr>\n",
              "  </thead>\n",
              "  <tbody>\n",
              "    <tr>\n",
              "      <th>0</th>\n",
              "      <td>2</td>\n",
              "      <td>1</td>\n",
              "      <td>77</td>\n",
              "      <td>8</td>\n",
              "      <td>5.00</td>\n",
              "      <td>68</td>\n",
              "      <td>98</td>\n",
              "      <td>56</td>\n",
              "      <td>75.4</td>\n",
              "      <td>174.0</td>\n",
              "      <td>...</td>\n",
              "      <td>5.56</td>\n",
              "      <td>1.39</td>\n",
              "      <td>4.7</td>\n",
              "      <td>3</td>\n",
              "      <td>3</td>\n",
              "      <td>1</td>\n",
              "      <td>2</td>\n",
              "      <td>2</td>\n",
              "      <td>2</td>\n",
              "      <td>0</td>\n",
              "    </tr>\n",
              "    <tr>\n",
              "      <th>1</th>\n",
              "      <td>5</td>\n",
              "      <td>1</td>\n",
              "      <td>49</td>\n",
              "      <td>11</td>\n",
              "      <td>5.00</td>\n",
              "      <td>66</td>\n",
              "      <td>122</td>\n",
              "      <td>83</td>\n",
              "      <td>92.5</td>\n",
              "      <td>178.3</td>\n",
              "      <td>...</td>\n",
              "      <td>7.21</td>\n",
              "      <td>1.08</td>\n",
              "      <td>5.5</td>\n",
              "      <td>1</td>\n",
              "      <td>1</td>\n",
              "      <td>1</td>\n",
              "      <td>2</td>\n",
              "      <td>2</td>\n",
              "      <td>2</td>\n",
              "      <td>0</td>\n",
              "    </tr>\n",
              "    <tr>\n",
              "      <th>2</th>\n",
              "      <td>12</td>\n",
              "      <td>1</td>\n",
              "      <td>37</td>\n",
              "      <td>11</td>\n",
              "      <td>4.93</td>\n",
              "      <td>64</td>\n",
              "      <td>174</td>\n",
              "      <td>99</td>\n",
              "      <td>99.2</td>\n",
              "      <td>180.0</td>\n",
              "      <td>...</td>\n",
              "      <td>4.03</td>\n",
              "      <td>0.98</td>\n",
              "      <td>5.2</td>\n",
              "      <td>2</td>\n",
              "      <td>1</td>\n",
              "      <td>1</td>\n",
              "      <td>2</td>\n",
              "      <td>1</td>\n",
              "      <td>1</td>\n",
              "      <td>0</td>\n",
              "    </tr>\n",
              "    <tr>\n",
              "      <th>3</th>\n",
              "      <td>13</td>\n",
              "      <td>1</td>\n",
              "      <td>70</td>\n",
              "      <td>3</td>\n",
              "      <td>1.07</td>\n",
              "      <td>102</td>\n",
              "      <td>130</td>\n",
              "      <td>66</td>\n",
              "      <td>63.6</td>\n",
              "      <td>157.7</td>\n",
              "      <td>...</td>\n",
              "      <td>8.12</td>\n",
              "      <td>1.28</td>\n",
              "      <td>7.6</td>\n",
              "      <td>3</td>\n",
              "      <td>3</td>\n",
              "      <td>1</td>\n",
              "      <td>1</td>\n",
              "      <td>1</td>\n",
              "      <td>2</td>\n",
              "      <td>0</td>\n",
              "    </tr>\n",
              "    <tr>\n",
              "      <th>4</th>\n",
              "      <td>14</td>\n",
              "      <td>1</td>\n",
              "      <td>81</td>\n",
              "      <td>5</td>\n",
              "      <td>2.67</td>\n",
              "      <td>72</td>\n",
              "      <td>136</td>\n",
              "      <td>61</td>\n",
              "      <td>75.5</td>\n",
              "      <td>166.2</td>\n",
              "      <td>...</td>\n",
              "      <td>4.50</td>\n",
              "      <td>1.04</td>\n",
              "      <td>5.8</td>\n",
              "      <td>1</td>\n",
              "      <td>1</td>\n",
              "      <td>1</td>\n",
              "      <td>2</td>\n",
              "      <td>2</td>\n",
              "      <td>2</td>\n",
              "      <td>0</td>\n",
              "    </tr>\n",
              "    <tr>\n",
              "      <th>...</th>\n",
              "      <td>...</td>\n",
              "      <td>...</td>\n",
              "      <td>...</td>\n",
              "      <td>...</td>\n",
              "      <td>...</td>\n",
              "      <td>...</td>\n",
              "      <td>...</td>\n",
              "      <td>...</td>\n",
              "      <td>...</td>\n",
              "      <td>...</td>\n",
              "      <td>...</td>\n",
              "      <td>...</td>\n",
              "      <td>...</td>\n",
              "      <td>...</td>\n",
              "      <td>...</td>\n",
              "      <td>...</td>\n",
              "      <td>...</td>\n",
              "      <td>...</td>\n",
              "      <td>...</td>\n",
              "      <td>...</td>\n",
              "      <td>...</td>\n",
              "    </tr>\n",
              "    <tr>\n",
              "      <th>37074</th>\n",
              "      <td>93691</td>\n",
              "      <td>1</td>\n",
              "      <td>25</td>\n",
              "      <td>10</td>\n",
              "      <td>1.59</td>\n",
              "      <td>92</td>\n",
              "      <td>112</td>\n",
              "      <td>76</td>\n",
              "      <td>39.2</td>\n",
              "      <td>136.5</td>\n",
              "      <td>...</td>\n",
              "      <td>4.14</td>\n",
              "      <td>1.27</td>\n",
              "      <td>5.8</td>\n",
              "      <td>2</td>\n",
              "      <td>2</td>\n",
              "      <td>1</td>\n",
              "      <td>2</td>\n",
              "      <td>1</td>\n",
              "      <td>2</td>\n",
              "      <td>0</td>\n",
              "    </tr>\n",
              "    <tr>\n",
              "      <th>37075</th>\n",
              "      <td>93695</td>\n",
              "      <td>2</td>\n",
              "      <td>76</td>\n",
              "      <td>4</td>\n",
              "      <td>1.43</td>\n",
              "      <td>78</td>\n",
              "      <td>112</td>\n",
              "      <td>46</td>\n",
              "      <td>59.1</td>\n",
              "      <td>165.8</td>\n",
              "      <td>...</td>\n",
              "      <td>3.62</td>\n",
              "      <td>1.76</td>\n",
              "      <td>5.6</td>\n",
              "      <td>2</td>\n",
              "      <td>2</td>\n",
              "      <td>1</td>\n",
              "      <td>2</td>\n",
              "      <td>2</td>\n",
              "      <td>2</td>\n",
              "      <td>0</td>\n",
              "    </tr>\n",
              "    <tr>\n",
              "      <th>37076</th>\n",
              "      <td>93697</td>\n",
              "      <td>2</td>\n",
              "      <td>80</td>\n",
              "      <td>7</td>\n",
              "      <td>2.97</td>\n",
              "      <td>74</td>\n",
              "      <td>146</td>\n",
              "      <td>58</td>\n",
              "      <td>71.7</td>\n",
              "      <td>152.2</td>\n",
              "      <td>...</td>\n",
              "      <td>6.62</td>\n",
              "      <td>2.90</td>\n",
              "      <td>5.7</td>\n",
              "      <td>2</td>\n",
              "      <td>2</td>\n",
              "      <td>1</td>\n",
              "      <td>2</td>\n",
              "      <td>2</td>\n",
              "      <td>2</td>\n",
              "      <td>0</td>\n",
              "    </tr>\n",
              "    <tr>\n",
              "      <th>37077</th>\n",
              "      <td>93700</td>\n",
              "      <td>1</td>\n",
              "      <td>35</td>\n",
              "      <td>1</td>\n",
              "      <td>0.00</td>\n",
              "      <td>76</td>\n",
              "      <td>106</td>\n",
              "      <td>66</td>\n",
              "      <td>78.2</td>\n",
              "      <td>173.3</td>\n",
              "      <td>...</td>\n",
              "      <td>3.72</td>\n",
              "      <td>1.09</td>\n",
              "      <td>5.2</td>\n",
              "      <td>2</td>\n",
              "      <td>2</td>\n",
              "      <td>1</td>\n",
              "      <td>2</td>\n",
              "      <td>2</td>\n",
              "      <td>1</td>\n",
              "      <td>0</td>\n",
              "    </tr>\n",
              "    <tr>\n",
              "      <th>37078</th>\n",
              "      <td>93702</td>\n",
              "      <td>2</td>\n",
              "      <td>24</td>\n",
              "      <td>7</td>\n",
              "      <td>3.54</td>\n",
              "      <td>80</td>\n",
              "      <td>114</td>\n",
              "      <td>68</td>\n",
              "      <td>58.3</td>\n",
              "      <td>165.0</td>\n",
              "      <td>...</td>\n",
              "      <td>4.14</td>\n",
              "      <td>1.89</td>\n",
              "      <td>4.6</td>\n",
              "      <td>2</td>\n",
              "      <td>2</td>\n",
              "      <td>1</td>\n",
              "      <td>2</td>\n",
              "      <td>2</td>\n",
              "      <td>2</td>\n",
              "      <td>0</td>\n",
              "    </tr>\n",
              "  </tbody>\n",
              "</table>\n",
              "<p>37079 rows × 51 columns</p>\n",
              "</div>\n",
              "    <div class=\"colab-df-buttons\">\n",
              "\n",
              "  <div class=\"colab-df-container\">\n",
              "    <button class=\"colab-df-convert\" onclick=\"convertToInteractive('df-bf731b44-43de-40ff-b1f1-ced91689c4c5')\"\n",
              "            title=\"Convert this dataframe to an interactive table.\"\n",
              "            style=\"display:none;\">\n",
              "\n",
              "  <svg xmlns=\"http://www.w3.org/2000/svg\" height=\"24px\" viewBox=\"0 -960 960 960\">\n",
              "    <path d=\"M120-120v-720h720v720H120Zm60-500h600v-160H180v160Zm220 220h160v-160H400v160Zm0 220h160v-160H400v160ZM180-400h160v-160H180v160Zm440 0h160v-160H620v160ZM180-180h160v-160H180v160Zm440 0h160v-160H620v160Z\"/>\n",
              "  </svg>\n",
              "    </button>\n",
              "\n",
              "  <style>\n",
              "    .colab-df-container {\n",
              "      display:flex;\n",
              "      gap: 12px;\n",
              "    }\n",
              "\n",
              "    .colab-df-convert {\n",
              "      background-color: #E8F0FE;\n",
              "      border: none;\n",
              "      border-radius: 50%;\n",
              "      cursor: pointer;\n",
              "      display: none;\n",
              "      fill: #1967D2;\n",
              "      height: 32px;\n",
              "      padding: 0 0 0 0;\n",
              "      width: 32px;\n",
              "    }\n",
              "\n",
              "    .colab-df-convert:hover {\n",
              "      background-color: #E2EBFA;\n",
              "      box-shadow: 0px 1px 2px rgba(60, 64, 67, 0.3), 0px 1px 3px 1px rgba(60, 64, 67, 0.15);\n",
              "      fill: #174EA6;\n",
              "    }\n",
              "\n",
              "    .colab-df-buttons div {\n",
              "      margin-bottom: 4px;\n",
              "    }\n",
              "\n",
              "    [theme=dark] .colab-df-convert {\n",
              "      background-color: #3B4455;\n",
              "      fill: #D2E3FC;\n",
              "    }\n",
              "\n",
              "    [theme=dark] .colab-df-convert:hover {\n",
              "      background-color: #434B5C;\n",
              "      box-shadow: 0px 1px 3px 1px rgba(0, 0, 0, 0.15);\n",
              "      filter: drop-shadow(0px 1px 2px rgba(0, 0, 0, 0.3));\n",
              "      fill: #FFFFFF;\n",
              "    }\n",
              "  </style>\n",
              "\n",
              "    <script>\n",
              "      const buttonEl =\n",
              "        document.querySelector('#df-bf731b44-43de-40ff-b1f1-ced91689c4c5 button.colab-df-convert');\n",
              "      buttonEl.style.display =\n",
              "        google.colab.kernel.accessAllowed ? 'block' : 'none';\n",
              "\n",
              "      async function convertToInteractive(key) {\n",
              "        const element = document.querySelector('#df-bf731b44-43de-40ff-b1f1-ced91689c4c5');\n",
              "        const dataTable =\n",
              "          await google.colab.kernel.invokeFunction('convertToInteractive',\n",
              "                                                    [key], {});\n",
              "        if (!dataTable) return;\n",
              "\n",
              "        const docLinkHtml = 'Like what you see? Visit the ' +\n",
              "          '<a target=\"_blank\" href=https://colab.research.google.com/notebooks/data_table.ipynb>data table notebook</a>'\n",
              "          + ' to learn more about interactive tables.';\n",
              "        element.innerHTML = '';\n",
              "        dataTable['output_type'] = 'display_data';\n",
              "        await google.colab.output.renderOutput(dataTable, element);\n",
              "        const docLink = document.createElement('div');\n",
              "        docLink.innerHTML = docLinkHtml;\n",
              "        element.appendChild(docLink);\n",
              "      }\n",
              "    </script>\n",
              "  </div>\n",
              "\n",
              "\n",
              "<div id=\"df-0652b800-6954-42a3-9abc-9251989c7d03\">\n",
              "  <button class=\"colab-df-quickchart\" onclick=\"quickchart('df-0652b800-6954-42a3-9abc-9251989c7d03')\"\n",
              "            title=\"Suggest charts\"\n",
              "            style=\"display:none;\">\n",
              "\n",
              "<svg xmlns=\"http://www.w3.org/2000/svg\" height=\"24px\"viewBox=\"0 0 24 24\"\n",
              "     width=\"24px\">\n",
              "    <g>\n",
              "        <path d=\"M19 3H5c-1.1 0-2 .9-2 2v14c0 1.1.9 2 2 2h14c1.1 0 2-.9 2-2V5c0-1.1-.9-2-2-2zM9 17H7v-7h2v7zm4 0h-2V7h2v10zm4 0h-2v-4h2v4z\"/>\n",
              "    </g>\n",
              "</svg>\n",
              "  </button>\n",
              "\n",
              "<style>\n",
              "  .colab-df-quickchart {\n",
              "      --bg-color: #E8F0FE;\n",
              "      --fill-color: #1967D2;\n",
              "      --hover-bg-color: #E2EBFA;\n",
              "      --hover-fill-color: #174EA6;\n",
              "      --disabled-fill-color: #AAA;\n",
              "      --disabled-bg-color: #DDD;\n",
              "  }\n",
              "\n",
              "  [theme=dark] .colab-df-quickchart {\n",
              "      --bg-color: #3B4455;\n",
              "      --fill-color: #D2E3FC;\n",
              "      --hover-bg-color: #434B5C;\n",
              "      --hover-fill-color: #FFFFFF;\n",
              "      --disabled-bg-color: #3B4455;\n",
              "      --disabled-fill-color: #666;\n",
              "  }\n",
              "\n",
              "  .colab-df-quickchart {\n",
              "    background-color: var(--bg-color);\n",
              "    border: none;\n",
              "    border-radius: 50%;\n",
              "    cursor: pointer;\n",
              "    display: none;\n",
              "    fill: var(--fill-color);\n",
              "    height: 32px;\n",
              "    padding: 0;\n",
              "    width: 32px;\n",
              "  }\n",
              "\n",
              "  .colab-df-quickchart:hover {\n",
              "    background-color: var(--hover-bg-color);\n",
              "    box-shadow: 0 1px 2px rgba(60, 64, 67, 0.3), 0 1px 3px 1px rgba(60, 64, 67, 0.15);\n",
              "    fill: var(--button-hover-fill-color);\n",
              "  }\n",
              "\n",
              "  .colab-df-quickchart-complete:disabled,\n",
              "  .colab-df-quickchart-complete:disabled:hover {\n",
              "    background-color: var(--disabled-bg-color);\n",
              "    fill: var(--disabled-fill-color);\n",
              "    box-shadow: none;\n",
              "  }\n",
              "\n",
              "  .colab-df-spinner {\n",
              "    border: 2px solid var(--fill-color);\n",
              "    border-color: transparent;\n",
              "    border-bottom-color: var(--fill-color);\n",
              "    animation:\n",
              "      spin 1s steps(1) infinite;\n",
              "  }\n",
              "\n",
              "  @keyframes spin {\n",
              "    0% {\n",
              "      border-color: transparent;\n",
              "      border-bottom-color: var(--fill-color);\n",
              "      border-left-color: var(--fill-color);\n",
              "    }\n",
              "    20% {\n",
              "      border-color: transparent;\n",
              "      border-left-color: var(--fill-color);\n",
              "      border-top-color: var(--fill-color);\n",
              "    }\n",
              "    30% {\n",
              "      border-color: transparent;\n",
              "      border-left-color: var(--fill-color);\n",
              "      border-top-color: var(--fill-color);\n",
              "      border-right-color: var(--fill-color);\n",
              "    }\n",
              "    40% {\n",
              "      border-color: transparent;\n",
              "      border-right-color: var(--fill-color);\n",
              "      border-top-color: var(--fill-color);\n",
              "    }\n",
              "    60% {\n",
              "      border-color: transparent;\n",
              "      border-right-color: var(--fill-color);\n",
              "    }\n",
              "    80% {\n",
              "      border-color: transparent;\n",
              "      border-right-color: var(--fill-color);\n",
              "      border-bottom-color: var(--fill-color);\n",
              "    }\n",
              "    90% {\n",
              "      border-color: transparent;\n",
              "      border-bottom-color: var(--fill-color);\n",
              "    }\n",
              "  }\n",
              "</style>\n",
              "\n",
              "  <script>\n",
              "    async function quickchart(key) {\n",
              "      const quickchartButtonEl =\n",
              "        document.querySelector('#' + key + ' button');\n",
              "      quickchartButtonEl.disabled = true;  // To prevent multiple clicks.\n",
              "      quickchartButtonEl.classList.add('colab-df-spinner');\n",
              "      try {\n",
              "        const charts = await google.colab.kernel.invokeFunction(\n",
              "            'suggestCharts', [key], {});\n",
              "      } catch (error) {\n",
              "        console.error('Error during call to suggestCharts:', error);\n",
              "      }\n",
              "      quickchartButtonEl.classList.remove('colab-df-spinner');\n",
              "      quickchartButtonEl.classList.add('colab-df-quickchart-complete');\n",
              "    }\n",
              "    (() => {\n",
              "      let quickchartButtonEl =\n",
              "        document.querySelector('#df-0652b800-6954-42a3-9abc-9251989c7d03 button');\n",
              "      quickchartButtonEl.style.display =\n",
              "        google.colab.kernel.accessAllowed ? 'block' : 'none';\n",
              "    })();\n",
              "  </script>\n",
              "</div>\n",
              "    </div>\n",
              "  </div>\n"
            ]
          },
          "metadata": {},
          "execution_count": 209
        }
      ],
      "source": [
        "df = pd.read_csv('CardiacPrediction.csv')\n",
        "df"
      ]
    },
    {
      "cell_type": "markdown",
      "source": [
        "## Exploratory Data Analysis"
      ],
      "metadata": {
        "id": "pzT6cY9EhUWK"
      }
    },
    {
      "cell_type": "code",
      "source": [
        "#Removes unimportant variables as shown in Research Paper 2\n",
        "df.drop(['SEQN','Annual-Family-Income','Height','Ratio-Family-Income-Poverty','X60-sec-pulse',\n",
        "          'Health-Insurance','Lymphocyte','Monocyte','Eosinophils','Total-Cholesterol','Mean-Cell-Vol','Mean-Cell-Hgb-Conc.','Hematocrit','Segmented-Neutrophils'], axis = 1, inplace=True)"
      ],
      "metadata": {
        "id": "riRt39TkapPH"
      },
      "execution_count": 210,
      "outputs": []
    },
    {
      "cell_type": "code",
      "source": [
        "#All Columns in the dataset\n",
        "df.columns"
      ],
      "metadata": {
        "colab": {
          "base_uri": "https://localhost:8080/"
        },
        "id": "WWTtkbP5ayxy",
        "outputId": "0da158e2-c015-436c-ffe7-d59822b2989c"
      },
      "execution_count": 211,
      "outputs": [
        {
          "output_type": "execute_result",
          "data": {
            "text/plain": [
              "Index(['Gender', 'Age', 'Systolic', 'Diastolic', 'Weight', 'Body-Mass-Index',\n",
              "       'White-Blood-Cells', 'Basophils', 'Red-Blood-Cells', 'Hemoglobin',\n",
              "       'Mean-cell-Hemoglobin', 'Platelet-count', 'Mean-Platelet-Vol',\n",
              "       'Red-Cell-Distribution-Width', 'Albumin', 'ALP', 'AST', 'ALT',\n",
              "       'Cholesterol', 'Creatinine', 'Glucose', 'GGT', 'Iron', 'LDH',\n",
              "       'Phosphorus', 'Bilirubin', 'Protein', 'Uric.Acid', 'Triglycerides',\n",
              "       'HDL', 'Glycohemoglobin', 'Vigorous-work', 'Moderate-work', 'Diabetes',\n",
              "       'Blood-Rel-Diabetes', 'Blood-Rel-Stroke', 'CoronaryHeartDisease'],\n",
              "      dtype='object')"
            ]
          },
          "metadata": {},
          "execution_count": 211
        }
      ]
    },
    {
      "cell_type": "code",
      "source": [
        "heartDiseaseCount = (df['CoronaryHeartDisease'] == 1).sum()\n",
        "noHeartDiseaseCount = (df['CoronaryHeartDisease'] == 0).sum()\n",
        "print(f'People with heart disease: {heartDiseaseCount} \\nPeople without heart disease: {noHeartDiseaseCount}')"
      ],
      "metadata": {
        "colab": {
          "base_uri": "https://localhost:8080/"
        },
        "id": "nJABib5fa0kv",
        "outputId": "86c6b41e-f998-4ba1-ae43-ae1bd50de4f4"
      },
      "execution_count": 212,
      "outputs": [
        {
          "output_type": "stream",
          "name": "stdout",
          "text": [
            "People with heart disease: 1508 \n",
            "People without heart disease: 35571\n"
          ]
        }
      ]
    },
    {
      "cell_type": "code",
      "source": [
        "#importing packages for vizualizations\n",
        "import seaborn as sns\n",
        "import matplotlib.pyplot as plt\n",
        "\n",
        "%matplotlib inline\n",
        "\n",
        "import os\n",
        "print(os.listdir())\n",
        "\n",
        "import warnings\n",
        "warnings.filterwarnings('ignore')"
      ],
      "metadata": {
        "colab": {
          "base_uri": "https://localhost:8080/"
        },
        "id": "oj-nnEWyJ-ls",
        "outputId": "c5efce58-2f61-46f3-be40-aa9f2ea8101f"
      },
      "execution_count": 213,
      "outputs": [
        {
          "output_type": "stream",
          "name": "stdout",
          "text": [
            "['.config', 'CardiacPrediction.csv', 'drive', 'sample_data']\n"
          ]
        }
      ]
    },
    {
      "cell_type": "code",
      "source": [
        "print(df.corr()[\"CoronaryHeartDisease\"].sort_values(ascending=False))"
      ],
      "metadata": {
        "colab": {
          "base_uri": "https://localhost:8080/"
        },
        "id": "IiJxjVGIKGOO",
        "outputId": "a679debc-fab7-4eed-b262-3ff2d7d5b17a"
      },
      "execution_count": 214,
      "outputs": [
        {
          "output_type": "stream",
          "name": "stdout",
          "text": [
            "CoronaryHeartDisease           1.000000\n",
            "Age                            0.222649\n",
            "Creatinine                     0.114318\n",
            "Glycohemoglobin                0.101517\n",
            "Uric.Acid                      0.098907\n",
            "Glucose                        0.086754\n",
            "Systolic                       0.080224\n",
            "Red-Cell-Distribution-Width    0.074316\n",
            "LDH                            0.072073\n",
            "Vigorous-work                  0.054506\n",
            "Triglycerides                  0.034160\n",
            "Bilirubin                      0.030407\n",
            "Weight                         0.029003\n",
            "ALP                            0.028672\n",
            "Moderate-work                  0.022683\n",
            "Body-Mass-Index                0.022211\n",
            "GGT                            0.014732\n",
            "White-Blood-Cells              0.011565\n",
            "Mean-Platelet-Vol              0.008768\n",
            "AST                            0.008149\n",
            "Basophils                     -0.000105\n",
            "ALT                           -0.004512\n",
            "Mean-cell-Hemoglobin          -0.014665\n",
            "Hemoglobin                    -0.015201\n",
            "Iron                          -0.018252\n",
            "Phosphorus                    -0.018926\n",
            "Blood-Rel-Diabetes            -0.022681\n",
            "Protein                       -0.032476\n",
            "Albumin                       -0.040003\n",
            "Red-Blood-Cells               -0.041537\n",
            "Blood-Rel-Stroke              -0.048676\n",
            "Diastolic                     -0.060056\n",
            "HDL                           -0.061300\n",
            "Gender                        -0.078408\n",
            "Platelet-count                -0.085917\n",
            "Cholesterol                   -0.089392\n",
            "Diabetes                      -0.111777\n",
            "Name: CoronaryHeartDisease, dtype: float64\n"
          ]
        }
      ]
    },
    {
      "cell_type": "code",
      "source": [
        "#find correlation matrix\n",
        "corr_mat=df.corr()\n",
        "#Select variables have more than 0.09 or less than -0.09 correlation with the target variable(CoronaryHeartDisease)\n",
        "chosen_variable=corr_mat[abs(corr_mat[\"CoronaryHeartDisease\"])>0.09].index\n",
        "#plot the heatmap\n",
        "plt.figure(figsize=(12,12))\n",
        "ax = sns.heatmap(df[chosen_variable].corr(),annot=True,cmap='RdBu')"
      ],
      "metadata": {
        "colab": {
          "base_uri": "https://localhost:8080/",
          "height": 990
        },
        "id": "9f7kTbLIKAzS",
        "outputId": "d73b9561-0514-42e0-9a04-a61bab8437e6"
      },
      "execution_count": 215,
      "outputs": [
        {
          "output_type": "display_data",
          "data": {
            "text/plain": [
              "<Figure size 1200x1200 with 2 Axes>"
            ],
            "image/png": "[encoded data removed]"
          },
          "metadata": {}
        }
      ]
    },
    {
      "cell_type": "code",
      "source": [
        "#Analysing the target variable\n",
        "y = df[\"CoronaryHeartDisease\"]\n",
        "\n",
        "sns.countplot(y)\n",
        "\n",
        "target_temp = df.CoronaryHeartDisease.value_counts()\n",
        "\n",
        "print(target_temp)"
      ],
      "metadata": {
        "colab": {
          "base_uri": "https://localhost:8080/",
          "height": 482
        },
        "id": "Pk3d50lRKshh",
        "outputId": "86540817-4bd8-444e-9e8f-1b644cfbf890"
      },
      "execution_count": 216,
      "outputs": [
        {
          "output_type": "stream",
          "name": "stdout",
          "text": [
            "0    35571\n",
            "1     1508\n",
            "Name: CoronaryHeartDisease, dtype: int64\n"
          ]
        },
        {
          "output_type": "display_data",
          "data": {
            "text/plain": [
              "<Figure size 640x480 with 1 Axes>"
            ],
            "image/png": "[encoded data removed]"
          },
          "metadata": {}
        }
      ]
    },
    {
      "cell_type": "code",
      "source": [
        "# analyzing gender in the dataset\n",
        "df[\"Gender\"].unique()\n",
        "\n",
        "# 1 = Male\n",
        "# 2 = Female\n",
        "sns.barplot(x=df[\"Gender\"], y=y)"
      ],
      "metadata": {
        "colab": {
          "base_uri": "https://localhost:8080/",
          "height": 466
        },
        "id": "bbXSIq5WK4Ii",
        "outputId": "01e9a816-4d23-4ae4-f62d-946dda912e61"
      },
      "execution_count": 217,
      "outputs": [
        {
          "output_type": "execute_result",
          "data": {
            "text/plain": [
              "<Axes: xlabel='Gender', ylabel='CoronaryHeartDisease'>"
            ]
          },
          "metadata": {},
          "execution_count": 217
        },
        {
          "output_type": "display_data",
          "data": {
            "text/plain": [
              "<Figure size 640x480 with 1 Axes>"
            ],
            "image/png": "[encoded data removed]"
          },
          "metadata": {}
        }
      ]
    },
    {
      "cell_type": "code",
      "source": [
        "#number of men and women\n",
        "GenderIs1 = (df['Gender'] == 1).sum()\n",
        "GenderIs2 = (df['Gender'] == 0).sum()\n",
        "print(f'People with gender == 1: {heartDiseaseCount} \\nPeople with gender == 2: {noHeartDiseaseCount}')"
      ],
      "metadata": {
        "id": "uoI5wYRyq01f",
        "outputId": "be4df5cb-93c9-4055-a5dd-b3c6af1f3197",
        "colab": {
          "base_uri": "https://localhost:8080/"
        }
      },
      "execution_count": 218,
      "outputs": [
        {
          "output_type": "stream",
          "name": "stdout",
          "text": [
            "People with gender == 1: 1508 \n",
            "People with gender == 2: 35571\n"
          ]
        }
      ]
    },
    {
      "cell_type": "code",
      "source": [
        "# Analyzing the age feature\n",
        "df[\"Age\"].unique()\n",
        "\n",
        "# how many there are in the dataset\n",
        "sns.countplot(x=df[\"Age\"])\n",
        "plt.xticks([])  # This line removes the x-axis tick labels\n",
        "plt.show()"
      ],
      "metadata": {
        "colab": {
          "base_uri": "https://localhost:8080/",
          "height": 426
        },
        "id": "0x-PGyk7MtOV",
        "outputId": "5460e4cc-838a-4633-dc7a-d005e2960d9c"
      },
      "execution_count": 219,
      "outputs": [
        {
          "output_type": "display_data",
          "data": {
            "text/plain": [
              "<Figure size 640x480 with 1 Axes>"
            ],
            "image/png": "[encoded data removed]"
          },
          "metadata": {}
        }
      ]
    },
    {
      "cell_type": "code",
      "source": [
        "# the percentage who have heart disease\n",
        "sns.barplot(x=df[\"Age\"],y=y, errorbar=None)\n",
        "plt.xticks([])\n",
        "plt.show()"
      ],
      "metadata": {
        "colab": {
          "base_uri": "https://localhost:8080/",
          "height": 426
        },
        "id": "7TDa-E0nMwLs",
        "outputId": "75216028-c7bd-485a-f68a-199b0002a4ca"
      },
      "execution_count": 220,
      "outputs": [
        {
          "output_type": "display_data",
          "data": {
            "text/plain": [
              "<Figure size 640x480 with 1 Axes>"
            ],
            "image/png": "[encoded data removed]"
          },
          "metadata": {}
        }
      ]
    },
    {
      "cell_type": "code",
      "source": [
        "# The margin of error for some of the older ages is larger because of the small sample size, but the error bars hurt the understandability of the graph so I had to remove them.\n",
        "# analyzing the diabetes feature\n",
        "df[\"Diabetes\"].unique()\n",
        "\n",
        "sns.barplot(x=df[\"Diabetes\"],y=y)"
      ],
      "metadata": {
        "colab": {
          "base_uri": "https://localhost:8080/",
          "height": 466
        },
        "id": "xzUtpbrsMy-V",
        "outputId": "5273f43a-f657-413e-9781-5374310058de"
      },
      "execution_count": 221,
      "outputs": [
        {
          "output_type": "execute_result",
          "data": {
            "text/plain": [
              "<Axes: xlabel='Diabetes', ylabel='CoronaryHeartDisease'>"
            ]
          },
          "metadata": {},
          "execution_count": 221
        },
        {
          "output_type": "display_data",
          "data": {
            "text/plain": [
              "<Figure size 640x480 with 1 Axes>"
            ],
            "image/png": "[encoded data removed]"
          },
          "metadata": {}
        }
      ]
    },
    {
      "cell_type": "code",
      "source": [
        "# explorting the density of the creatinine feature\n",
        "sns.distplot(df['Creatinine'])"
      ],
      "metadata": {
        "colab": {
          "base_uri": "https://localhost:8080/",
          "height": 466
        },
        "id": "RWa5xngVM5CE",
        "outputId": "4c50f858-d29a-4796-fdab-a53f5710843a"
      },
      "execution_count": 222,
      "outputs": [
        {
          "output_type": "execute_result",
          "data": {
            "text/plain": [
              "<Axes: xlabel='Creatinine', ylabel='Density'>"
            ]
          },
          "metadata": {},
          "execution_count": 222
        },
        {
          "output_type": "display_data",
          "data": {
            "text/plain": [
              "<Figure size 640x480 with 1 Axes>"
            ],
            "image/png": "[encoded data removed]"
          },
          "metadata": {}
        }
      ]
    },
    {
      "cell_type": "code",
      "source": [
        "#exploring the density of the Glycohemoglobin feature\n",
        "sns.distplot(df['Glycohemoglobin'])"
      ],
      "metadata": {
        "colab": {
          "base_uri": "https://localhost:8080/",
          "height": 466
        },
        "id": "c8n8upywM74P",
        "outputId": "08311a78-dbeb-4329-86be-5c7eafe22361"
      },
      "execution_count": 223,
      "outputs": [
        {
          "output_type": "execute_result",
          "data": {
            "text/plain": [
              "<Axes: xlabel='Glycohemoglobin', ylabel='Density'>"
            ]
          },
          "metadata": {},
          "execution_count": 223
        },
        {
          "output_type": "display_data",
          "data": {
            "text/plain": [
              "<Figure size 640x480 with 1 Axes>"
            ],
            "image/png": "[encoded data removed]"
          },
          "metadata": {}
        }
      ]
    },
    {
      "cell_type": "code",
      "source": [
        "# exploring the density of the cholesterol feature\n",
        "sns.distplot(df['Cholesterol'])"
      ],
      "metadata": {
        "colab": {
          "base_uri": "https://localhost:8080/",
          "height": 466
        },
        "id": "buAa8l8HM-PM",
        "outputId": "475827a0-39f9-4c79-b8ec-49c6f04148a0"
      },
      "execution_count": 224,
      "outputs": [
        {
          "output_type": "execute_result",
          "data": {
            "text/plain": [
              "<Axes: xlabel='Cholesterol', ylabel='Density'>"
            ]
          },
          "metadata": {},
          "execution_count": 224
        },
        {
          "output_type": "display_data",
          "data": {
            "text/plain": [
              "<Figure size 640x480 with 1 Axes>"
            ],
            "image/png": "[encoded data removed]"
          },
          "metadata": {}
        }
      ]
    },
    {
      "cell_type": "code",
      "source": [
        "df[\"Cholesterol_Rounded\"] = df[\"Cholesterol\"].round()\n",
        "\n",
        "# Create the bar plot\n",
        "sns.barplot(x=df[\"Cholesterol_Rounded\"], y=y)\n",
        "\n",
        "# Set plot labels and title\n",
        "plt.xlabel(\"Cholesterol (Rounded)\")\n",
        "plt.ylabel(\"Coronary heart disease %\")\n",
        "\n",
        "# Show the plot\n",
        "plt.show()"
      ],
      "metadata": {
        "colab": {
          "base_uri": "https://localhost:8080/",
          "height": 449
        },
        "id": "01xrTYC0Jhe6",
        "outputId": "220f3ce5-42a1-4fda-ec36-a78b0ac097c5"
      },
      "execution_count": 225,
      "outputs": [
        {
          "output_type": "display_data",
          "data": {
            "text/plain": [
              "<Figure size 640x480 with 1 Axes>"
            ],
            "image/png": "[encoded data removed]"
          },
          "metadata": {}
        }
      ]
    },
    {
      "cell_type": "markdown",
      "source": [
        "## Balancing the Imbalanced Data"
      ],
      "metadata": {
        "id": "TdWsXvWNH8y6"
      }
    },
    {
      "cell_type": "code",
      "source": [
        "X = df.drop('CoronaryHeartDisease', axis=1)\n",
        "y = df['CoronaryHeartDisease']\n",
        "\n",
        "# undersampling the data\n",
        "rus = RandomUnderSampler()\n",
        "\n",
        "X_resampled, y_resampled = rus.fit_resample(X, y)\n"
      ],
      "metadata": {
        "id": "-kTlXE0ja2ZW"
      },
      "execution_count": 226,
      "outputs": []
    },
    {
      "cell_type": "markdown",
      "source": [
        "## LASSO for Feature Selection"
      ],
      "metadata": {
        "id": "0Mk0oYzTdbgK"
      }
    },
    {
      "cell_type": "code",
      "source": [
        "# split into training and testing\n",
        "X_train, X_temp, y_train, y_temp = train_test_split(X_resampled, y_resampled, test_size=0.3)\n",
        "\n",
        "X_test, X_valid, y_test, y_valid = train_test_split(X_temp, y_temp, test_size=0.5)\n",
        "\n",
        "print(\"Training set shapes:\", X_train.shape, y_train.shape)\n",
        "print(\"Testing set shapes:\", X_test.shape, y_test.shape)\n",
        "print(\"Validation set shapes:\", X_valid.shape, y_valid.shape)"
      ],
      "metadata": {
        "colab": {
          "base_uri": "https://localhost:8080/"
        },
        "id": "dr3C_9s_9tIT",
        "outputId": "eb8b90cf-f900-47e2-bdc8-30a4a60590e9"
      },
      "execution_count": 227,
      "outputs": [
        {
          "output_type": "stream",
          "name": "stdout",
          "text": [
            "Training set shapes: (2111, 37) (2111,)\n",
            "Testing set shapes: (452, 37) (452,)\n",
            "Validation set shapes: (453, 37) (453,)\n"
          ]
        }
      ]
    },
    {
      "cell_type": "code",
      "source": [
        "#Feature Standardization\n",
        "scaler = StandardScaler()\n",
        "X_train = scaler.fit_transform(X_train)\n",
        "X_test = scaler.transform(X_test)\n",
        "X_valid = scaler.transform(X_valid)"
      ],
      "metadata": {
        "id": "ckizmO9xa5Z-"
      },
      "execution_count": 228,
      "outputs": []
    },
    {
      "cell_type": "code",
      "source": [
        "# create the lasso model\n",
        "lasso_cv = LassoCV(alphas=[0.001, 0.01, 0.1, 1, 10], cv=5)\n",
        "\n",
        "lasso_cv.fit(X_train, y_train)\n",
        "\n",
        "print('The optimal alpha is', lasso_cv.alpha_)\n",
        "\n",
        "# finding the predicted probability\n",
        "y_pred_proba = lasso_cv.predict(X_test)\n",
        "# converting to binary predictions\n",
        "y_pred = (y_pred_proba > 0.5).astype(int)   # might need to lower threshold\n",
        "accuracy = accuracy_score(y_test, y_pred)\n",
        "print(\"Accuracy:\", accuracy)"
      ],
      "metadata": {
        "colab": {
          "base_uri": "https://localhost:8080/"
        },
        "id": "ekC-1U1xa7Ze",
        "outputId": "93e62d0f-8257-4c28-d693-f7507ffb2653"
      },
      "execution_count": 229,
      "outputs": [
        {
          "output_type": "stream",
          "name": "stdout",
          "text": [
            "The optimal alpha is 0.01\n",
            "Accuracy: 0.8163716814159292\n"
          ]
        }
      ]
    },
    {
      "cell_type": "code",
      "source": [
        "#Feature selection in Lasso\n",
        "col_names = list(X.columns)\n",
        "selected_features = [col_names[i] for i in range(len(col_names)) if lasso_cv.coef_[i] != 0]\n",
        "\n",
        "lassoCoef = pd.Series(lasso_cv.coef_, index=X.columns)\n",
        "print(f'The selected features are \\n{lassoCoef[lassoCoef != 0]}')"
      ],
      "metadata": {
        "colab": {
          "base_uri": "https://localhost:8080/"
        },
        "id": "NaLpRXoSa9k0",
        "outputId": "5fc11b88-8e53-4bf6-b39f-cde835e8be3d"
      },
      "execution_count": 230,
      "outputs": [
        {
          "output_type": "stream",
          "name": "stdout",
          "text": [
            "The selected features are \n",
            "Gender                        -0.037164\n",
            "Age                            0.241103\n",
            "Diastolic                     -0.005067\n",
            "White-Blood-Cells              0.003726\n",
            "Platelet-count                -0.013635\n",
            "Red-Cell-Distribution-Width    0.024254\n",
            "Cholesterol                   -0.053571\n",
            "Creatinine                     0.000865\n",
            "GGT                            0.001603\n",
            "LDH                            0.019683\n",
            "Uric.Acid                      0.017430\n",
            "Triglycerides                  0.026228\n",
            "HDL                           -0.020147\n",
            "Glycohemoglobin                0.008241\n",
            "Moderate-work                 -0.001304\n",
            "Diabetes                      -0.025860\n",
            "Blood-Rel-Diabetes            -0.005777\n",
            "Blood-Rel-Stroke              -0.041697\n",
            "dtype: float64\n"
          ]
        }
      ]
    },
    {
      "cell_type": "markdown",
      "source": [
        "## Machine Learning Experiments"
      ],
      "metadata": {
        "id": "feblm_P3f80q"
      }
    },
    {
      "cell_type": "code",
      "source": [
        "df_reduced = df[[\"CoronaryHeartDisease\"] + selected_features]\n",
        "\n",
        "df_reduced"
      ],
      "metadata": {
        "colab": {
          "base_uri": "https://localhost:8080/",
          "height": 478
        },
        "id": "yTpSUh4KdhI8",
        "outputId": "7399215e-1e75-433c-f23f-96cd878e81a7"
      },
      "execution_count": 231,
      "outputs": [
        {
          "output_type": "execute_result",
          "data": {
            "text/plain": [
              "       CoronaryHeartDisease  Gender  Age  Diastolic  White-Blood-Cells  \\\n",
              "0                         0       1   77         56                7.6   \n",
              "1                         0       1   49         83                5.9   \n",
              "2                         0       1   37         99               10.2   \n",
              "3                         0       1   70         66               11.6   \n",
              "4                         0       1   81         61                9.1   \n",
              "...                     ...     ...  ...        ...                ...   \n",
              "37074                     0       1   25         76                7.1   \n",
              "37075                     0       2   76         46                6.4   \n",
              "37076                     0       2   80         58                4.7   \n",
              "37077                     0       1   35         66                7.6   \n",
              "37078                     0       2   24         68                9.7   \n",
              "\n",
              "       Platelet-count  Red-Cell-Distribution-Width  Cholesterol  Creatinine  \\\n",
              "0               214.0                         13.7        5.250       61.90   \n",
              "1               209.0                         13.1        7.160       70.70   \n",
              "2               357.0                         13.6        3.900       88.40   \n",
              "3               228.0                         14.4        7.940       61.90   \n",
              "4               160.0                         12.4        4.420       88.40   \n",
              "...               ...                          ...          ...         ...   \n",
              "37074           253.0                         13.3        4.189       56.58   \n",
              "37075           135.0                         13.6        3.646       97.24   \n",
              "37076           172.0                         16.9        6.801       81.33   \n",
              "37077           194.0                         13.0        3.672       82.21   \n",
              "37078           257.0                         13.8        4.215       58.34   \n",
              "\n",
              "       GGT  LDH  Uric.Acid  Triglycerides   HDL  Glycohemoglobin  \\\n",
              "0       20  140      362.8          1.298  1.39              4.7   \n",
              "1       34  133      404.5          3.850  1.08              5.5   \n",
              "2       32  131      339.0          1.581  0.98              5.2   \n",
              "3       24  181      410.4          3.635  1.28              7.6   \n",
              "4       24  150      368.8          0.756  1.04              5.8   \n",
              "...    ...  ...        ...            ...   ...              ...   \n",
              "37074   26  144      428.3          1.264  1.27              5.8   \n",
              "37075   16  124      368.8          0.948  1.76              5.6   \n",
              "37076   16  120      273.6          1.095  2.90              5.7   \n",
              "37077   64  136      237.9          0.937  1.09              5.2   \n",
              "37078   11   93      249.8          0.892  1.89              4.6   \n",
              "\n",
              "       Moderate-work  Diabetes  Blood-Rel-Diabetes  Blood-Rel-Stroke  \n",
              "0                  3         2                   2                 2  \n",
              "1                  1         2                   2                 2  \n",
              "2                  1         2                   1                 1  \n",
              "3                  3         1                   1                 2  \n",
              "4                  1         2                   2                 2  \n",
              "...              ...       ...                 ...               ...  \n",
              "37074              2         2                   1                 2  \n",
              "37075              2         2                   2                 2  \n",
              "37076              2         2                   2                 2  \n",
              "37077              2         2                   2                 1  \n",
              "37078              2         2                   2                 2  \n",
              "\n",
              "[37079 rows x 19 columns]"
            ],
            "text/html": [
              "\n",
              "  <div id=\"df-231d507d-ae2c-40a8-9b90-7b7b6d1f0e1d\" class=\"colab-df-container\">\n",
              "    <div>\n",
              "<style scoped>\n",
              "    .dataframe tbody tr th:only-of-type {\n",
              "        vertical-align: middle;\n",
              "    }\n",
              "\n",
              "    .dataframe tbody tr th {\n",
              "        vertical-align: top;\n",
              "    }\n",
              "\n",
              "    .dataframe thead th {\n",
              "        text-align: right;\n",
              "    }\n",
              "</style>\n",
              "<table border=\"1\" class=\"dataframe\">\n",
              "  <thead>\n",
              "    <tr style=\"text-align: right;\">\n",
              "      <th></th>\n",
              "      <th>CoronaryHeartDisease</th>\n",
              "      <th>Gender</th>\n",
              "      <th>Age</th>\n",
              "      <th>Diastolic</th>\n",
              "      <th>White-Blood-Cells</th>\n",
              "      <th>Platelet-count</th>\n",
              "      <th>Red-Cell-Distribution-Width</th>\n",
              "      <th>Cholesterol</th>\n",
              "      <th>Creatinine</th>\n",
              "      <th>GGT</th>\n",
              "      <th>LDH</th>\n",
              "      <th>Uric.Acid</th>\n",
              "      <th>Triglycerides</th>\n",
              "      <th>HDL</th>\n",
              "      <th>Glycohemoglobin</th>\n",
              "      <th>Moderate-work</th>\n",
              "      <th>Diabetes</th>\n",
              "      <th>Blood-Rel-Diabetes</th>\n",
              "      <th>Blood-Rel-Stroke</th>\n",
              "    </tr>\n",
              "  </thead>\n",
              "  <tbody>\n",
              "    <tr>\n",
              "      <th>0</th>\n",
              "      <td>0</td>\n",
              "      <td>1</td>\n",
              "      <td>77</td>\n",
              "      <td>56</td>\n",
              "      <td>7.6</td>\n",
              "      <td>214.0</td>\n",
              "      <td>13.7</td>\n",
              "      <td>5.250</td>\n",
              "      <td>61.90</td>\n",
              "      <td>20</td>\n",
              "      <td>140</td>\n",
              "      <td>362.8</td>\n",
              "      <td>1.298</td>\n",
              "      <td>1.39</td>\n",
              "      <td>4.7</td>\n",
              "      <td>3</td>\n",
              "      <td>2</td>\n",
              "      <td>2</td>\n",
              "      <td>2</td>\n",
              "    </tr>\n",
              "    <tr>\n",
              "      <th>1</th>\n",
              "      <td>0</td>\n",
              "      <td>1</td>\n",
              "      <td>49</td>\n",
              "      <td>83</td>\n",
              "      <td>5.9</td>\n",
              "      <td>209.0</td>\n",
              "      <td>13.1</td>\n",
              "      <td>7.160</td>\n",
              "      <td>70.70</td>\n",
              "      <td>34</td>\n",
              "      <td>133</td>\n",
              "      <td>404.5</td>\n",
              "      <td>3.850</td>\n",
              "      <td>1.08</td>\n",
              "      <td>5.5</td>\n",
              "      <td>1</td>\n",
              "      <td>2</td>\n",
              "      <td>2</td>\n",
              "      <td>2</td>\n",
              "    </tr>\n",
              "    <tr>\n",
              "      <th>2</th>\n",
              "      <td>0</td>\n",
              "      <td>1</td>\n",
              "      <td>37</td>\n",
              "      <td>99</td>\n",
              "      <td>10.2</td>\n",
              "      <td>357.0</td>\n",
              "      <td>13.6</td>\n",
              "      <td>3.900</td>\n",
              "      <td>88.40</td>\n",
              "      <td>32</td>\n",
              "      <td>131</td>\n",
              "      <td>339.0</td>\n",
              "      <td>1.581</td>\n",
              "      <td>0.98</td>\n",
              "      <td>5.2</td>\n",
              "      <td>1</td>\n",
              "      <td>2</td>\n",
              "      <td>1</td>\n",
              "      <td>1</td>\n",
              "    </tr>\n",
              "    <tr>\n",
              "      <th>3</th>\n",
              "      <td>0</td>\n",
              "      <td>1</td>\n",
              "      <td>70</td>\n",
              "      <td>66</td>\n",
              "      <td>11.6</td>\n",
              "      <td>228.0</td>\n",
              "      <td>14.4</td>\n",
              "      <td>7.940</td>\n",
              "      <td>61.90</td>\n",
              "      <td>24</td>\n",
              "      <td>181</td>\n",
              "      <td>410.4</td>\n",
              "      <td>3.635</td>\n",
              "      <td>1.28</td>\n",
              "      <td>7.6</td>\n",
              "      <td>3</td>\n",
              "      <td>1</td>\n",
              "      <td>1</td>\n",
              "      <td>2</td>\n",
              "    </tr>\n",
              "    <tr>\n",
              "      <th>4</th>\n",
              "      <td>0</td>\n",
              "      <td>1</td>\n",
              "      <td>81</td>\n",
              "      <td>61</td>\n",
              "      <td>9.1</td>\n",
              "      <td>160.0</td>\n",
              "      <td>12.4</td>\n",
              "      <td>4.420</td>\n",
              "      <td>88.40</td>\n",
              "      <td>24</td>\n",
              "      <td>150</td>\n",
              "      <td>368.8</td>\n",
              "      <td>0.756</td>\n",
              "      <td>1.04</td>\n",
              "      <td>5.8</td>\n",
              "      <td>1</td>\n",
              "      <td>2</td>\n",
              "      <td>2</td>\n",
              "      <td>2</td>\n",
              "    </tr>\n",
              "    <tr>\n",
              "      <th>...</th>\n",
              "      <td>...</td>\n",
              "      <td>...</td>\n",
              "      <td>...</td>\n",
              "      <td>...</td>\n",
              "      <td>...</td>\n",
              "      <td>...</td>\n",
              "      <td>...</td>\n",
              "      <td>...</td>\n",
              "      <td>...</td>\n",
              "      <td>...</td>\n",
              "      <td>...</td>\n",
              "      <td>...</td>\n",
              "      <td>...</td>\n",
              "      <td>...</td>\n",
              "      <td>...</td>\n",
              "      <td>...</td>\n",
              "      <td>...</td>\n",
              "      <td>...</td>\n",
              "      <td>...</td>\n",
              "    </tr>\n",
              "    <tr>\n",
              "      <th>37074</th>\n",
              "      <td>0</td>\n",
              "      <td>1</td>\n",
              "      <td>25</td>\n",
              "      <td>76</td>\n",
              "      <td>7.1</td>\n",
              "      <td>253.0</td>\n",
              "      <td>13.3</td>\n",
              "      <td>4.189</td>\n",
              "      <td>56.58</td>\n",
              "      <td>26</td>\n",
              "      <td>144</td>\n",
              "      <td>428.3</td>\n",
              "      <td>1.264</td>\n",
              "      <td>1.27</td>\n",
              "      <td>5.8</td>\n",
              "      <td>2</td>\n",
              "      <td>2</td>\n",
              "      <td>1</td>\n",
              "      <td>2</td>\n",
              "    </tr>\n",
              "    <tr>\n",
              "      <th>37075</th>\n",
              "      <td>0</td>\n",
              "      <td>2</td>\n",
              "      <td>76</td>\n",
              "      <td>46</td>\n",
              "      <td>6.4</td>\n",
              "      <td>135.0</td>\n",
              "      <td>13.6</td>\n",
              "      <td>3.646</td>\n",
              "      <td>97.24</td>\n",
              "      <td>16</td>\n",
              "      <td>124</td>\n",
              "      <td>368.8</td>\n",
              "      <td>0.948</td>\n",
              "      <td>1.76</td>\n",
              "      <td>5.6</td>\n",
              "      <td>2</td>\n",
              "      <td>2</td>\n",
              "      <td>2</td>\n",
              "      <td>2</td>\n",
              "    </tr>\n",
              "    <tr>\n",
              "      <th>37076</th>\n",
              "      <td>0</td>\n",
              "      <td>2</td>\n",
              "      <td>80</td>\n",
              "      <td>58</td>\n",
              "      <td>4.7</td>\n",
              "      <td>172.0</td>\n",
              "      <td>16.9</td>\n",
              "      <td>6.801</td>\n",
              "      <td>81.33</td>\n",
              "      <td>16</td>\n",
              "      <td>120</td>\n",
              "      <td>273.6</td>\n",
              "      <td>1.095</td>\n",
              "      <td>2.90</td>\n",
              "      <td>5.7</td>\n",
              "      <td>2</td>\n",
              "      <td>2</td>\n",
              "      <td>2</td>\n",
              "      <td>2</td>\n",
              "    </tr>\n",
              "    <tr>\n",
              "      <th>37077</th>\n",
              "      <td>0</td>\n",
              "      <td>1</td>\n",
              "      <td>35</td>\n",
              "      <td>66</td>\n",
              "      <td>7.6</td>\n",
              "      <td>194.0</td>\n",
              "      <td>13.0</td>\n",
              "      <td>3.672</td>\n",
              "      <td>82.21</td>\n",
              "      <td>64</td>\n",
              "      <td>136</td>\n",
              "      <td>237.9</td>\n",
              "      <td>0.937</td>\n",
              "      <td>1.09</td>\n",
              "      <td>5.2</td>\n",
              "      <td>2</td>\n",
              "      <td>2</td>\n",
              "      <td>2</td>\n",
              "      <td>1</td>\n",
              "    </tr>\n",
              "    <tr>\n",
              "      <th>37078</th>\n",
              "      <td>0</td>\n",
              "      <td>2</td>\n",
              "      <td>24</td>\n",
              "      <td>68</td>\n",
              "      <td>9.7</td>\n",
              "      <td>257.0</td>\n",
              "      <td>13.8</td>\n",
              "      <td>4.215</td>\n",
              "      <td>58.34</td>\n",
              "      <td>11</td>\n",
              "      <td>93</td>\n",
              "      <td>249.8</td>\n",
              "      <td>0.892</td>\n",
              "      <td>1.89</td>\n",
              "      <td>4.6</td>\n",
              "      <td>2</td>\n",
              "      <td>2</td>\n",
              "      <td>2</td>\n",
              "      <td>2</td>\n",
              "    </tr>\n",
              "  </tbody>\n",
              "</table>\n",
              "<p>37079 rows × 19 columns</p>\n",
              "</div>\n",
              "    <div class=\"colab-df-buttons\">\n",
              "\n",
              "  <div class=\"colab-df-container\">\n",
              "    <button class=\"colab-df-convert\" onclick=\"convertToInteractive('df-231d507d-ae2c-40a8-9b90-7b7b6d1f0e1d')\"\n",
              "            title=\"Convert this dataframe to an interactive table.\"\n",
              "            style=\"display:none;\">\n",
              "\n",
              "  <svg xmlns=\"http://www.w3.org/2000/svg\" height=\"24px\" viewBox=\"0 -960 960 960\">\n",
              "    <path d=\"M120-120v-720h720v720H120Zm60-500h600v-160H180v160Zm220 220h160v-160H400v160Zm0 220h160v-160H400v160ZM180-400h160v-160H180v160Zm440 0h160v-160H620v160ZM180-180h160v-160H180v160Zm440 0h160v-160H620v160Z\"/>\n",
              "  </svg>\n",
              "    </button>\n",
              "\n",
              "  <style>\n",
              "    .colab-df-container {\n",
              "      display:flex;\n",
              "      gap: 12px;\n",
              "    }\n",
              "\n",
              "    .colab-df-convert {\n",
              "      background-color: #E8F0FE;\n",
              "      border: none;\n",
              "      border-radius: 50%;\n",
              "      cursor: pointer;\n",
              "      display: none;\n",
              "      fill: #1967D2;\n",
              "      height: 32px;\n",
              "      padding: 0 0 0 0;\n",
              "      width: 32px;\n",
              "    }\n",
              "\n",
              "    .colab-df-convert:hover {\n",
              "      background-color: #E2EBFA;\n",
              "      box-shadow: 0px 1px 2px rgba(60, 64, 67, 0.3), 0px 1px 3px 1px rgba(60, 64, 67, 0.15);\n",
              "      fill: #174EA6;\n",
              "    }\n",
              "\n",
              "    .colab-df-buttons div {\n",
              "      margin-bottom: 4px;\n",
              "    }\n",
              "\n",
              "    [theme=dark] .colab-df-convert {\n",
              "      background-color: #3B4455;\n",
              "      fill: #D2E3FC;\n",
              "    }\n",
              "\n",
              "    [theme=dark] .colab-df-convert:hover {\n",
              "      background-color: #434B5C;\n",
              "      box-shadow: 0px 1px 3px 1px rgba(0, 0, 0, 0.15);\n",
              "      filter: drop-shadow(0px 1px 2px rgba(0, 0, 0, 0.3));\n",
              "      fill: #FFFFFF;\n",
              "    }\n",
              "  </style>\n",
              "\n",
              "    <script>\n",
              "      const buttonEl =\n",
              "        document.querySelector('#df-231d507d-ae2c-40a8-9b90-7b7b6d1f0e1d button.colab-df-convert');\n",
              "      buttonEl.style.display =\n",
              "        google.colab.kernel.accessAllowed ? 'block' : 'none';\n",
              "\n",
              "      async function convertToInteractive(key) {\n",
              "        const element = document.querySelector('#df-231d507d-ae2c-40a8-9b90-7b7b6d1f0e1d');\n",
              "        const dataTable =\n",
              "          await google.colab.kernel.invokeFunction('convertToInteractive',\n",
              "                                                    [key], {});\n",
              "        if (!dataTable) return;\n",
              "\n",
              "        const docLinkHtml = 'Like what you see? Visit the ' +\n",
              "          '<a target=\"_blank\" href=https://colab.research.google.com/notebooks/data_table.ipynb>data table notebook</a>'\n",
              "          + ' to learn more about interactive tables.';\n",
              "        element.innerHTML = '';\n",
              "        dataTable['output_type'] = 'display_data';\n",
              "        await google.colab.output.renderOutput(dataTable, element);\n",
              "        const docLink = document.createElement('div');\n",
              "        docLink.innerHTML = docLinkHtml;\n",
              "        element.appendChild(docLink);\n",
              "      }\n",
              "    </script>\n",
              "  </div>\n",
              "\n",
              "\n",
              "<div id=\"df-d4176bd0-0378-408c-832e-0e898f604323\">\n",
              "  <button class=\"colab-df-quickchart\" onclick=\"quickchart('df-d4176bd0-0378-408c-832e-0e898f604323')\"\n",
              "            title=\"Suggest charts\"\n",
              "            style=\"display:none;\">\n",
              "\n",
              "<svg xmlns=\"http://www.w3.org/2000/svg\" height=\"24px\"viewBox=\"0 0 24 24\"\n",
              "     width=\"24px\">\n",
              "    <g>\n",
              "        <path d=\"M19 3H5c-1.1 0-2 .9-2 2v14c0 1.1.9 2 2 2h14c1.1 0 2-.9 2-2V5c0-1.1-.9-2-2-2zM9 17H7v-7h2v7zm4 0h-2V7h2v10zm4 0h-2v-4h2v4z\"/>\n",
              "    </g>\n",
              "</svg>\n",
              "  </button>\n",
              "\n",
              "<style>\n",
              "  .colab-df-quickchart {\n",
              "      --bg-color: #E8F0FE;\n",
              "      --fill-color: #1967D2;\n",
              "      --hover-bg-color: #E2EBFA;\n",
              "      --hover-fill-color: #174EA6;\n",
              "      --disabled-fill-color: #AAA;\n",
              "      --disabled-bg-color: #DDD;\n",
              "  }\n",
              "\n",
              "  [theme=dark] .colab-df-quickchart {\n",
              "      --bg-color: #3B4455;\n",
              "      --fill-color: #D2E3FC;\n",
              "      --hover-bg-color: #434B5C;\n",
              "      --hover-fill-color: #FFFFFF;\n",
              "      --disabled-bg-color: #3B4455;\n",
              "      --disabled-fill-color: #666;\n",
              "  }\n",
              "\n",
              "  .colab-df-quickchart {\n",
              "    background-color: var(--bg-color);\n",
              "    border: none;\n",
              "    border-radius: 50%;\n",
              "    cursor: pointer;\n",
              "    display: none;\n",
              "    fill: var(--fill-color);\n",
              "    height: 32px;\n",
              "    padding: 0;\n",
              "    width: 32px;\n",
              "  }\n",
              "\n",
              "  .colab-df-quickchart:hover {\n",
              "    background-color: var(--hover-bg-color);\n",
              "    box-shadow: 0 1px 2px rgba(60, 64, 67, 0.3), 0 1px 3px 1px rgba(60, 64, 67, 0.15);\n",
              "    fill: var(--button-hover-fill-color);\n",
              "  }\n",
              "\n",
              "  .colab-df-quickchart-complete:disabled,\n",
              "  .colab-df-quickchart-complete:disabled:hover {\n",
              "    background-color: var(--disabled-bg-color);\n",
              "    fill: var(--disabled-fill-color);\n",
              "    box-shadow: none;\n",
              "  }\n",
              "\n",
              "  .colab-df-spinner {\n",
              "    border: 2px solid var(--fill-color);\n",
              "    border-color: transparent;\n",
              "    border-bottom-color: var(--fill-color);\n",
              "    animation:\n",
              "      spin 1s steps(1) infinite;\n",
              "  }\n",
              "\n",
              "  @keyframes spin {\n",
              "    0% {\n",
              "      border-color: transparent;\n",
              "      border-bottom-color: var(--fill-color);\n",
              "      border-left-color: var(--fill-color);\n",
              "    }\n",
              "    20% {\n",
              "      border-color: transparent;\n",
              "      border-left-color: var(--fill-color);\n",
              "      border-top-color: var(--fill-color);\n",
              "    }\n",
              "    30% {\n",
              "      border-color: transparent;\n",
              "      border-left-color: var(--fill-color);\n",
              "      border-top-color: var(--fill-color);\n",
              "      border-right-color: var(--fill-color);\n",
              "    }\n",
              "    40% {\n",
              "      border-color: transparent;\n",
              "      border-right-color: var(--fill-color);\n",
              "      border-top-color: var(--fill-color);\n",
              "    }\n",
              "    60% {\n",
              "      border-color: transparent;\n",
              "      border-right-color: var(--fill-color);\n",
              "    }\n",
              "    80% {\n",
              "      border-color: transparent;\n",
              "      border-right-color: var(--fill-color);\n",
              "      border-bottom-color: var(--fill-color);\n",
              "    }\n",
              "    90% {\n",
              "      border-color: transparent;\n",
              "      border-bottom-color: var(--fill-color);\n",
              "    }\n",
              "  }\n",
              "</style>\n",
              "\n",
              "  <script>\n",
              "    async function quickchart(key) {\n",
              "      const quickchartButtonEl =\n",
              "        document.querySelector('#' + key + ' button');\n",
              "      quickchartButtonEl.disabled = true;  // To prevent multiple clicks.\n",
              "      quickchartButtonEl.classList.add('colab-df-spinner');\n",
              "      try {\n",
              "        const charts = await google.colab.kernel.invokeFunction(\n",
              "            'suggestCharts', [key], {});\n",
              "      } catch (error) {\n",
              "        console.error('Error during call to suggestCharts:', error);\n",
              "      }\n",
              "      quickchartButtonEl.classList.remove('colab-df-spinner');\n",
              "      quickchartButtonEl.classList.add('colab-df-quickchart-complete');\n",
              "    }\n",
              "    (() => {\n",
              "      let quickchartButtonEl =\n",
              "        document.querySelector('#df-d4176bd0-0378-408c-832e-0e898f604323 button');\n",
              "      quickchartButtonEl.style.display =\n",
              "        google.colab.kernel.accessAllowed ? 'block' : 'none';\n",
              "    })();\n",
              "  </script>\n",
              "</div>\n",
              "    </div>\n",
              "  </div>\n"
            ]
          },
          "metadata": {},
          "execution_count": 231
        }
      ]
    },
    {
      "cell_type": "code",
      "source": [
        "X = df_reduced.drop('CoronaryHeartDisease', axis=1)\n",
        "y = df_reduced['CoronaryHeartDisease']\n",
        "\n",
        "# undersampling the data\n",
        "rus = RandomUnderSampler()\n",
        "X_resampled, y_resampled = rus.fit_resample(X, y)\n",
        "\n",
        "# split into training and testing\n",
        "X_train, X_temp, y_train, y_temp = train_test_split(X_resampled, y_resampled, test_size=0.3)\n",
        "\n",
        "X_test, X_valid, y_test, y_valid = train_test_split(X_temp, y_temp, test_size=0.5)\n",
        "\n",
        "print(\"Training set shapes:\", X_train.shape, y_train.shape)\n",
        "print(\"Testing set shapes:\", X_test.shape, y_test.shape)\n",
        "print(\"Validation set shapes:\", X_valid.shape, y_valid.shape)"
      ],
      "metadata": {
        "colab": {
          "base_uri": "https://localhost:8080/"
        },
        "id": "eOUfHvpSfG6u",
        "outputId": "dafc5f05-bd97-4fc2-f648-65981ea61338"
      },
      "execution_count": 232,
      "outputs": [
        {
          "output_type": "stream",
          "name": "stdout",
          "text": [
            "Training set shapes: (2111, 18) (2111,)\n",
            "Testing set shapes: (452, 18) (452,)\n",
            "Validation set shapes: (453, 18) (453,)\n"
          ]
        }
      ]
    },
    {
      "cell_type": "code",
      "source": [
        "#Feature Standardization\n",
        "scaler = StandardScaler()\n",
        "X_train = scaler.fit_transform(X_train)\n",
        "X_test = scaler.transform(X_test)\n",
        "X_valid = scaler.transform(X_valid)"
      ],
      "metadata": {
        "id": "qh3orSY2COTD"
      },
      "execution_count": 233,
      "outputs": []
    },
    {
      "cell_type": "code",
      "source": [
        "accuracy_list = []\n",
        "precision_list = []\n",
        "recall_list = []\n",
        "f1_list = []"
      ],
      "metadata": {
        "id": "iWD5kTkY5n75"
      },
      "execution_count": 234,
      "outputs": []
    },
    {
      "cell_type": "markdown",
      "source": [
        "### Logistic Regression"
      ],
      "metadata": {
        "id": "W3lsK8DHBxYD"
      }
    },
    {
      "cell_type": "code",
      "source": [
        "lr = LogisticRegression()\n",
        "\n",
        "lr.fit(X_train, y_train)\n",
        "\n",
        "y_pred = lr.predict(X_test)\n",
        "\n",
        "\n",
        "print(\"Accuracy:\", accuracy_score(y_test, y_pred))\n",
        "print(\"Precision:\", precision_score(y_test, y_pred))\n",
        "print(\"Recall:\", recall_score(y_test, y_pred))\n",
        "print(\"F1-Score:\", f1_score(y_test, y_pred))"
      ],
      "metadata": {
        "colab": {
          "base_uri": "https://localhost:8080/"
        },
        "id": "MjIfUQhQhN6q",
        "outputId": "b4f7dd0d-0fd9-4079-fd71-b42a364604d4"
      },
      "execution_count": 235,
      "outputs": [
        {
          "output_type": "stream",
          "name": "stdout",
          "text": [
            "Accuracy: 0.8163716814159292\n",
            "Precision: 0.8125\n",
            "Recall: 0.8369098712446352\n",
            "F1-Score: 0.8245243128964059\n"
          ]
        }
      ]
    },
    {
      "cell_type": "markdown",
      "source": [
        "##### Validation"
      ],
      "metadata": {
        "id": "ZlwfNzxVztT7"
      }
    },
    {
      "cell_type": "code",
      "source": [
        "y_pred = lr.predict(X_valid)\n",
        "\n",
        "accuracy = accuracy_score(y_valid, y_pred)\n",
        "precision = precision_score(y_valid, y_pred)\n",
        "recall = recall_score(y_valid, y_pred)\n",
        "f1 = f1_score(y_valid, y_pred)\n",
        "print(\"Accuracy:\", accuracy)\n",
        "print(\"Precision:\", precision)\n",
        "print(\"Recall:\", recall)\n",
        "print(\"F1-Score:\", f1)"
      ],
      "metadata": {
        "colab": {
          "base_uri": "https://localhost:8080/"
        },
        "id": "2h1T1dRqzquK",
        "outputId": "ca691489-9b81-4a87-c030-a254677dfeaa"
      },
      "execution_count": 236,
      "outputs": [
        {
          "output_type": "stream",
          "name": "stdout",
          "text": [
            "Accuracy: 0.8278145695364238\n",
            "Precision: 0.8204081632653061\n",
            "Recall: 0.8553191489361702\n",
            "F1-Score: 0.8375\n"
          ]
        }
      ]
    },
    {
      "cell_type": "code",
      "source": [
        "accuracy_list.append(accuracy)\n",
        "precision_list.append(precision)\n",
        "recall_list.append(recall)\n",
        "f1_list.append(f1)"
      ],
      "metadata": {
        "id": "FsYrhEs15wFd"
      },
      "execution_count": 237,
      "outputs": []
    },
    {
      "cell_type": "markdown",
      "source": [
        "### Naive Bayes"
      ],
      "metadata": {
        "id": "T7ZHpoW2CYG7"
      }
    },
    {
      "cell_type": "code",
      "source": [
        "nb = GaussianNB()\n",
        "\n",
        "nb.fit(X_train, y_train)\n",
        "\n",
        "y_pred = nb.predict(X_test)\n",
        "\n",
        "\n",
        "print(\"Accuracy:\", accuracy_score(y_test, y_pred))\n",
        "print(\"Precision:\", precision_score(y_test, y_pred))\n",
        "print(\"Recall:\", recall_score(y_test, y_pred))\n",
        "print(\"F1-Score:\", f1_score(y_test, y_pred))"
      ],
      "metadata": {
        "id": "S1FGU9H4CaF1",
        "outputId": "f41bdead-1cd2-46ff-d8c3-98c67e06bed1",
        "colab": {
          "base_uri": "https://localhost:8080/"
        }
      },
      "execution_count": 238,
      "outputs": [
        {
          "output_type": "stream",
          "name": "stdout",
          "text": [
            "Accuracy: 0.7632743362831859\n",
            "Precision: 0.828125\n",
            "Recall: 0.6824034334763949\n",
            "F1-Score: 0.748235294117647\n"
          ]
        }
      ]
    },
    {
      "cell_type": "markdown",
      "source": [
        "##### Validation"
      ],
      "metadata": {
        "id": "SK8xW2Ks00DU"
      }
    },
    {
      "cell_type": "code",
      "source": [
        "y_pred = nb.predict(X_valid)\n",
        "\n",
        "accuracy = accuracy_score(y_valid, y_pred)\n",
        "precision = precision_score(y_valid, y_pred)\n",
        "recall = recall_score(y_valid, y_pred)\n",
        "f1 = f1_score(y_valid, y_pred)\n",
        "print(\"Accuracy:\", accuracy)\n",
        "print(\"Precision:\", precision)\n",
        "print(\"Recall:\", recall)\n",
        "print(\"F1-Score:\", f1)"
      ],
      "metadata": {
        "colab": {
          "base_uri": "https://localhost:8080/"
        },
        "id": "_k-imvsh01uL",
        "outputId": "0ca94fbf-9374-4d6d-c8e0-0f566f0611b7"
      },
      "execution_count": 239,
      "outputs": [
        {
          "output_type": "stream",
          "name": "stdout",
          "text": [
            "Accuracy: 0.7373068432671082\n",
            "Precision: 0.8186813186813187\n",
            "Recall: 0.6340425531914894\n",
            "F1-Score: 0.7146282973621104\n"
          ]
        }
      ]
    },
    {
      "cell_type": "code",
      "source": [
        "accuracy_list.append(accuracy)\n",
        "precision_list.append(precision)\n",
        "recall_list.append(recall)\n",
        "f1_list.append(f1)"
      ],
      "metadata": {
        "id": "ZsLpOcwx57se"
      },
      "execution_count": 240,
      "outputs": []
    },
    {
      "cell_type": "markdown",
      "source": [
        "### SVM"
      ],
      "metadata": {
        "id": "kid14JKEE0SM"
      }
    },
    {
      "cell_type": "code",
      "source": [
        "sv = SVC(C=5, degree=1, gamma=0.001, kernel='poly')\n",
        "\n",
        "sv.fit(X_train, y_train)\n",
        "\n",
        "y_pred = sv.predict(X_test)\n",
        "\n",
        "\n",
        "print(\"Accuracy:\", accuracy_score(y_test, y_pred))\n",
        "print(\"Precision:\", precision_score(y_test, y_pred))\n",
        "print(\"Recall:\", recall_score(y_test, y_pred))\n",
        "print(\"F1-Score:\", f1_score(y_test, y_pred))"
      ],
      "metadata": {
        "id": "_jVbV-LmE3WJ",
        "outputId": "40af682a-4e2d-404e-e349-c893def1d91c",
        "colab": {
          "base_uri": "https://localhost:8080/"
        }
      },
      "execution_count": 241,
      "outputs": [
        {
          "output_type": "stream",
          "name": "stdout",
          "text": [
            "Accuracy: 0.8097345132743363\n",
            "Precision: 0.7928286852589641\n",
            "Recall: 0.8540772532188842\n",
            "F1-Score: 0.8223140495867769\n"
          ]
        }
      ]
    },
    {
      "cell_type": "markdown",
      "source": [
        "##### Validation"
      ],
      "metadata": {
        "id": "akzsbK511C-M"
      }
    },
    {
      "cell_type": "code",
      "source": [
        "y_pred = sv.predict(X_valid)\n",
        "\n",
        "accuracy = accuracy_score(y_valid, y_pred)\n",
        "precision = precision_score(y_valid, y_pred)\n",
        "recall = recall_score(y_valid, y_pred)\n",
        "f1 = f1_score(y_valid, y_pred)\n",
        "print(\"Accuracy:\", accuracy)\n",
        "print(\"Precision:\", precision)\n",
        "print(\"Recall:\", recall)\n",
        "print(\"F1-Score:\", f1)"
      ],
      "metadata": {
        "colab": {
          "base_uri": "https://localhost:8080/"
        },
        "id": "ba4vrqTP1EaV",
        "outputId": "832bdba1-b41c-4c4c-c813-fcc9fd7bcb85"
      },
      "execution_count": 242,
      "outputs": [
        {
          "output_type": "stream",
          "name": "stdout",
          "text": [
            "Accuracy: 0.8322295805739515\n",
            "Precision: 0.8117647058823529\n",
            "Recall: 0.8808510638297873\n",
            "F1-Score: 0.8448979591836735\n"
          ]
        }
      ]
    },
    {
      "cell_type": "code",
      "source": [
        "accuracy_list.append(accuracy)\n",
        "precision_list.append(precision)\n",
        "recall_list.append(recall)\n",
        "f1_list.append(f1)"
      ],
      "metadata": {
        "id": "5TGyntXx58aN"
      },
      "execution_count": 243,
      "outputs": []
    },
    {
      "cell_type": "markdown",
      "source": [
        "### K-Nearest Neighbors"
      ],
      "metadata": {
        "id": "TAWf2wJHRi_x"
      }
    },
    {
      "cell_type": "code",
      "source": [
        "knn = KNeighborsClassifier(n_neighbors=17)\n",
        "\n",
        "knn.fit(X_train, y_train)\n",
        "\n",
        "y_pred = knn.predict(X_test)\n",
        "\n",
        "\n",
        "print(\"Accuracy:\", accuracy_score(y_test, y_pred))\n",
        "print(\"Precision:\", precision_score(y_test, y_pred))\n",
        "print(\"Recall:\", recall_score(y_test, y_pred))\n",
        "print(\"F1-Score:\", f1_score(y_test, y_pred))"
      ],
      "metadata": {
        "id": "EIWfkL9bRlTT",
        "outputId": "72df25bc-95fc-4a9e-8160-c403258335aa",
        "colab": {
          "base_uri": "https://localhost:8080/"
        }
      },
      "execution_count": 244,
      "outputs": [
        {
          "output_type": "stream",
          "name": "stdout",
          "text": [
            "Accuracy: 0.7876106194690266\n",
            "Precision: 0.7939914163090128\n",
            "Recall: 0.7939914163090128\n",
            "F1-Score: 0.7939914163090128\n"
          ]
        }
      ]
    },
    {
      "cell_type": "markdown",
      "source": [
        "##### Validation"
      ],
      "metadata": {
        "id": "9FlrQJCe1ICm"
      }
    },
    {
      "cell_type": "code",
      "source": [
        "y_pred = knn.predict(X_valid)\n",
        "\n",
        "accuracy = accuracy_score(y_valid, y_pred)\n",
        "precision = precision_score(y_valid, y_pred)\n",
        "recall = recall_score(y_valid, y_pred)\n",
        "f1 = f1_score(y_valid, y_pred)\n",
        "print(\"Accuracy:\", accuracy)\n",
        "print(\"Precision:\", precision)\n",
        "print(\"Recall:\", recall)\n",
        "print(\"F1-Score:\", f1)"
      ],
      "metadata": {
        "colab": {
          "base_uri": "https://localhost:8080/"
        },
        "id": "YCOZW1aY1JfD",
        "outputId": "bfe4a1b9-1de0-430d-e79e-e858b6547c53"
      },
      "execution_count": 245,
      "outputs": [
        {
          "output_type": "stream",
          "name": "stdout",
          "text": [
            "Accuracy: 0.8057395143487859\n",
            "Precision: 0.8237885462555066\n",
            "Recall: 0.7957446808510639\n",
            "F1-Score: 0.8095238095238094\n"
          ]
        }
      ]
    },
    {
      "cell_type": "code",
      "source": [
        "accuracy_list.append(accuracy)\n",
        "precision_list.append(precision)\n",
        "recall_list.append(recall)\n",
        "f1_list.append(f1)"
      ],
      "metadata": {
        "id": "T3ZYQmAy59Q0"
      },
      "execution_count": 246,
      "outputs": []
    },
    {
      "cell_type": "markdown",
      "source": [
        "### Random Forest"
      ],
      "metadata": {
        "id": "1-BaW5KYfOQy"
      }
    },
    {
      "cell_type": "code",
      "source": [
        "rf = RandomForestClassifier(n_estimators=1800, max_depth=20)\n",
        "\n",
        "rf.fit(X_train, y_train)\n",
        "\n",
        "y_pred = rf.predict(X_test)\n",
        "\n",
        "\n",
        "print(\"Accuracy:\", accuracy_score(y_test, y_pred))\n",
        "print(\"Precision:\", precision_score(y_test, y_pred))\n",
        "print(\"Recall:\", recall_score(y_test, y_pred))\n",
        "print(\"F1-Score:\", f1_score(y_test, y_pred))"
      ],
      "metadata": {
        "id": "lV_S3dztdqS4",
        "outputId": "65de1356-0ade-43f0-a73a-83413669372f",
        "colab": {
          "base_uri": "https://localhost:8080/"
        }
      },
      "execution_count": 247,
      "outputs": [
        {
          "output_type": "stream",
          "name": "stdout",
          "text": [
            "Accuracy: 0.7964601769911505\n",
            "Precision: 0.7680608365019012\n",
            "Recall: 0.8669527896995708\n",
            "F1-Score: 0.8145161290322581\n"
          ]
        }
      ]
    },
    {
      "cell_type": "markdown",
      "source": [
        "##### Validation"
      ],
      "metadata": {
        "id": "M0tp-dj61Uwx"
      }
    },
    {
      "cell_type": "code",
      "source": [
        "y_pred = rf.predict(X_valid)\n",
        "\n",
        "accuracy = accuracy_score(y_valid, y_pred)\n",
        "precision = precision_score(y_valid, y_pred)\n",
        "recall = recall_score(y_valid, y_pred)\n",
        "f1 = f1_score(y_valid, y_pred)\n",
        "print(\"Accuracy:\", accuracy)\n",
        "print(\"Precision:\", precision)\n",
        "print(\"Recall:\", recall)\n",
        "print(\"F1-Score:\", f1)"
      ],
      "metadata": {
        "colab": {
          "base_uri": "https://localhost:8080/"
        },
        "id": "N8c4crVu1WTY",
        "outputId": "128db378-3ec4-477e-f444-6d3d4b5cd636"
      },
      "execution_count": 248,
      "outputs": [
        {
          "output_type": "stream",
          "name": "stdout",
          "text": [
            "Accuracy: 0.8145695364238411\n",
            "Precision: 0.7984189723320159\n",
            "Recall: 0.8595744680851064\n",
            "F1-Score: 0.8278688524590165\n"
          ]
        }
      ]
    },
    {
      "cell_type": "code",
      "source": [
        "accuracy_list.append(accuracy)\n",
        "precision_list.append(precision)\n",
        "recall_list.append(recall)\n",
        "f1_list.append(f1)"
      ],
      "metadata": {
        "id": "Xbpnzv3Y5-GJ"
      },
      "execution_count": 249,
      "outputs": []
    },
    {
      "cell_type": "markdown",
      "source": [
        "### XGBoost"
      ],
      "metadata": {
        "id": "jxeF4P0D5-nT"
      }
    },
    {
      "cell_type": "code",
      "source": [
        "xgb_model = xgb.XGBClassifier(learning_rate=0.1, n_estimators=250, max_depth=9)\n",
        "\n",
        "xgb_model.fit(X_train, y_train)\n",
        "\n",
        "y_pred = xgb_model.predict(X_test)\n",
        "\n",
        "\n",
        "print(\"Accuracy:\", accuracy_score(y_test, y_pred))\n",
        "print(\"Precision:\", precision_score(y_test, y_pred))\n",
        "print(\"Recall:\", recall_score(y_test, y_pred))\n",
        "print(\"F1-Score:\", f1_score(y_test, y_pred))"
      ],
      "metadata": {
        "colab": {
          "base_uri": "https://localhost:8080/"
        },
        "id": "cAFS_Eld5Bay",
        "outputId": "e4e7c1ac-1041-477d-bbeb-7dd4b83cf376"
      },
      "execution_count": 250,
      "outputs": [
        {
          "output_type": "stream",
          "name": "stdout",
          "text": [
            "Accuracy: 0.7920353982300885\n",
            "Precision: 0.7704280155642024\n",
            "Recall: 0.8497854077253219\n",
            "F1-Score: 0.8081632653061225\n"
          ]
        }
      ]
    },
    {
      "cell_type": "markdown",
      "source": [
        "##### Validation"
      ],
      "metadata": {
        "id": "g2KPuJq61cDi"
      }
    },
    {
      "cell_type": "code",
      "source": [
        "y_pred = xgb_model.predict(X_valid)\n",
        "\n",
        "accuracy = accuracy_score(y_valid, y_pred)\n",
        "precision = precision_score(y_valid, y_pred)\n",
        "recall = recall_score(y_valid, y_pred)\n",
        "f1 = f1_score(y_valid, y_pred)\n",
        "print(\"Accuracy:\", accuracy)\n",
        "print(\"Precision:\", precision)\n",
        "print(\"Recall:\", recall)\n",
        "print(\"F1-Score:\", f1)"
      ],
      "metadata": {
        "colab": {
          "base_uri": "https://localhost:8080/"
        },
        "id": "ecdQIVa31dWI",
        "outputId": "5bd8a8eb-da68-427c-861a-6b94cbcab712"
      },
      "execution_count": 251,
      "outputs": [
        {
          "output_type": "stream",
          "name": "stdout",
          "text": [
            "Accuracy: 0.7902869757174393\n",
            "Precision: 0.7734375\n",
            "Recall: 0.8425531914893617\n",
            "F1-Score: 0.8065173116089612\n"
          ]
        }
      ]
    },
    {
      "cell_type": "code",
      "source": [
        "accuracy_list.append(accuracy)\n",
        "precision_list.append(precision)\n",
        "recall_list.append(recall)\n",
        "f1_list.append(f1)"
      ],
      "metadata": {
        "id": "ylkqKyYE6RLp"
      },
      "execution_count": 252,
      "outputs": []
    },
    {
      "cell_type": "markdown",
      "source": [
        "### Baseline Model Metric Comparison"
      ],
      "metadata": {
        "id": "GypkTEke6R4j"
      }
    },
    {
      "cell_type": "code",
      "source": [
        "# create a table/chart with the metrics of all the models and figure out which performs the best\n",
        "data = [accuracy_list, precision_list, recall_list, f1_list]\n",
        "\n",
        "df_metrics = pd.DataFrame(data=data, columns=['Logistic Regression', 'Naive Bayes', 'SVM', 'K-Nearest Neighbors', 'Random Forest', 'XGBoost'],\n",
        "                          index=['Accuracy', 'Precision', 'Recall', 'F1-Score'])\n",
        "df_metrics"
      ],
      "metadata": {
        "id": "BA4jBZHwU5Kw",
        "colab": {
          "base_uri": "https://localhost:8080/",
          "height": 175
        },
        "outputId": "f47902d6-2b25-40e3-cdec-b08871de27a6"
      },
      "execution_count": 253,
      "outputs": [
        {
          "output_type": "execute_result",
          "data": {
            "text/plain": [
              "           Logistic Regression  Naive Bayes       SVM  K-Nearest Neighbors  \\\n",
              "Accuracy              0.827815     0.737307  0.832230             0.805740   \n",
              "Precision             0.820408     0.818681  0.811765             0.823789   \n",
              "Recall                0.855319     0.634043  0.880851             0.795745   \n",
              "F1-Score              0.837500     0.714628  0.844898             0.809524   \n",
              "\n",
              "           Random Forest   XGBoost  \n",
              "Accuracy        0.814570  0.790287  \n",
              "Precision       0.798419  0.773438  \n",
              "Recall          0.859574  0.842553  \n",
              "F1-Score        0.827869  0.806517  "
            ],
            "text/html": [
              "\n",
              "  <div id=\"df-bcfa39d9-25d9-4f49-9027-e049d4fe0d9d\" class=\"colab-df-container\">\n",
              "    <div>\n",
              "<style scoped>\n",
              "    .dataframe tbody tr th:only-of-type {\n",
              "        vertical-align: middle;\n",
              "    }\n",
              "\n",
              "    .dataframe tbody tr th {\n",
              "        vertical-align: top;\n",
              "    }\n",
              "\n",
              "    .dataframe thead th {\n",
              "        text-align: right;\n",
              "    }\n",
              "</style>\n",
              "<table border=\"1\" class=\"dataframe\">\n",
              "  <thead>\n",
              "    <tr style=\"text-align: right;\">\n",
              "      <th></th>\n",
              "      <th>Logistic Regression</th>\n",
              "      <th>Naive Bayes</th>\n",
              "      <th>SVM</th>\n",
              "      <th>K-Nearest Neighbors</th>\n",
              "      <th>Random Forest</th>\n",
              "      <th>XGBoost</th>\n",
              "    </tr>\n",
              "  </thead>\n",
              "  <tbody>\n",
              "    <tr>\n",
              "      <th>Accuracy</th>\n",
              "      <td>0.827815</td>\n",
              "      <td>0.737307</td>\n",
              "      <td>0.832230</td>\n",
              "      <td>0.805740</td>\n",
              "      <td>0.814570</td>\n",
              "      <td>0.790287</td>\n",
              "    </tr>\n",
              "    <tr>\n",
              "      <th>Precision</th>\n",
              "      <td>0.820408</td>\n",
              "      <td>0.818681</td>\n",
              "      <td>0.811765</td>\n",
              "      <td>0.823789</td>\n",
              "      <td>0.798419</td>\n",
              "      <td>0.773438</td>\n",
              "    </tr>\n",
              "    <tr>\n",
              "      <th>Recall</th>\n",
              "      <td>0.855319</td>\n",
              "      <td>0.634043</td>\n",
              "      <td>0.880851</td>\n",
              "      <td>0.795745</td>\n",
              "      <td>0.859574</td>\n",
              "      <td>0.842553</td>\n",
              "    </tr>\n",
              "    <tr>\n",
              "      <th>F1-Score</th>\n",
              "      <td>0.837500</td>\n",
              "      <td>0.714628</td>\n",
              "      <td>0.844898</td>\n",
              "      <td>0.809524</td>\n",
              "      <td>0.827869</td>\n",
              "      <td>0.806517</td>\n",
              "    </tr>\n",
              "  </tbody>\n",
              "</table>\n",
              "</div>\n",
              "    <div class=\"colab-df-buttons\">\n",
              "\n",
              "  <div class=\"colab-df-container\">\n",
              "    <button class=\"colab-df-convert\" onclick=\"convertToInteractive('df-bcfa39d9-25d9-4f49-9027-e049d4fe0d9d')\"\n",
              "            title=\"Convert this dataframe to an interactive table.\"\n",
              "            style=\"display:none;\">\n",
              "\n",
              "  <svg xmlns=\"http://www.w3.org/2000/svg\" height=\"24px\" viewBox=\"0 -960 960 960\">\n",
              "    <path d=\"M120-120v-720h720v720H120Zm60-500h600v-160H180v160Zm220 220h160v-160H400v160Zm0 220h160v-160H400v160ZM180-400h160v-160H180v160Zm440 0h160v-160H620v160ZM180-180h160v-160H180v160Zm440 0h160v-160H620v160Z\"/>\n",
              "  </svg>\n",
              "    </button>\n",
              "\n",
              "  <style>\n",
              "    .colab-df-container {\n",
              "      display:flex;\n",
              "      gap: 12px;\n",
              "    }\n",
              "\n",
              "    .colab-df-convert {\n",
              "      background-color: #E8F0FE;\n",
              "      border: none;\n",
              "      border-radius: 50%;\n",
              "      cursor: pointer;\n",
              "      display: none;\n",
              "      fill: #1967D2;\n",
              "      height: 32px;\n",
              "      padding: 0 0 0 0;\n",
              "      width: 32px;\n",
              "    }\n",
              "\n",
              "    .colab-df-convert:hover {\n",
              "      background-color: #E2EBFA;\n",
              "      box-shadow: 0px 1px 2px rgba(60, 64, 67, 0.3), 0px 1px 3px 1px rgba(60, 64, 67, 0.15);\n",
              "      fill: #174EA6;\n",
              "    }\n",
              "\n",
              "    .colab-df-buttons div {\n",
              "      margin-bottom: 4px;\n",
              "    }\n",
              "\n",
              "    [theme=dark] .colab-df-convert {\n",
              "      background-color: #3B4455;\n",
              "      fill: #D2E3FC;\n",
              "    }\n",
              "\n",
              "    [theme=dark] .colab-df-convert:hover {\n",
              "      background-color: #434B5C;\n",
              "      box-shadow: 0px 1px 3px 1px rgba(0, 0, 0, 0.15);\n",
              "      filter: drop-shadow(0px 1px 2px rgba(0, 0, 0, 0.3));\n",
              "      fill: #FFFFFF;\n",
              "    }\n",
              "  </style>\n",
              "\n",
              "    <script>\n",
              "      const buttonEl =\n",
              "        document.querySelector('#df-bcfa39d9-25d9-4f49-9027-e049d4fe0d9d button.colab-df-convert');\n",
              "      buttonEl.style.display =\n",
              "        google.colab.kernel.accessAllowed ? 'block' : 'none';\n",
              "\n",
              "      async function convertToInteractive(key) {\n",
              "        const element = document.querySelector('#df-bcfa39d9-25d9-4f49-9027-e049d4fe0d9d');\n",
              "        const dataTable =\n",
              "          await google.colab.kernel.invokeFunction('convertToInteractive',\n",
              "                                                    [key], {});\n",
              "        if (!dataTable) return;\n",
              "\n",
              "        const docLinkHtml = 'Like what you see? Visit the ' +\n",
              "          '<a target=\"_blank\" href=https://colab.research.google.com/notebooks/data_table.ipynb>data table notebook</a>'\n",
              "          + ' to learn more about interactive tables.';\n",
              "        element.innerHTML = '';\n",
              "        dataTable['output_type'] = 'display_data';\n",
              "        await google.colab.output.renderOutput(dataTable, element);\n",
              "        const docLink = document.createElement('div');\n",
              "        docLink.innerHTML = docLinkHtml;\n",
              "        element.appendChild(docLink);\n",
              "      }\n",
              "    </script>\n",
              "  </div>\n",
              "\n",
              "\n",
              "<div id=\"df-6a8f759f-bf6d-400d-89ae-65ecff66aeed\">\n",
              "  <button class=\"colab-df-quickchart\" onclick=\"quickchart('df-6a8f759f-bf6d-400d-89ae-65ecff66aeed')\"\n",
              "            title=\"Suggest charts\"\n",
              "            style=\"display:none;\">\n",
              "\n",
              "<svg xmlns=\"http://www.w3.org/2000/svg\" height=\"24px\"viewBox=\"0 0 24 24\"\n",
              "     width=\"24px\">\n",
              "    <g>\n",
              "        <path d=\"M19 3H5c-1.1 0-2 .9-2 2v14c0 1.1.9 2 2 2h14c1.1 0 2-.9 2-2V5c0-1.1-.9-2-2-2zM9 17H7v-7h2v7zm4 0h-2V7h2v10zm4 0h-2v-4h2v4z\"/>\n",
              "    </g>\n",
              "</svg>\n",
              "  </button>\n",
              "\n",
              "<style>\n",
              "  .colab-df-quickchart {\n",
              "      --bg-color: #E8F0FE;\n",
              "      --fill-color: #1967D2;\n",
              "      --hover-bg-color: #E2EBFA;\n",
              "      --hover-fill-color: #174EA6;\n",
              "      --disabled-fill-color: #AAA;\n",
              "      --disabled-bg-color: #DDD;\n",
              "  }\n",
              "\n",
              "  [theme=dark] .colab-df-quickchart {\n",
              "      --bg-color: #3B4455;\n",
              "      --fill-color: #D2E3FC;\n",
              "      --hover-bg-color: #434B5C;\n",
              "      --hover-fill-color: #FFFFFF;\n",
              "      --disabled-bg-color: #3B4455;\n",
              "      --disabled-fill-color: #666;\n",
              "  }\n",
              "\n",
              "  .colab-df-quickchart {\n",
              "    background-color: var(--bg-color);\n",
              "    border: none;\n",
              "    border-radius: 50%;\n",
              "    cursor: pointer;\n",
              "    display: none;\n",
              "    fill: var(--fill-color);\n",
              "    height: 32px;\n",
              "    padding: 0;\n",
              "    width: 32px;\n",
              "  }\n",
              "\n",
              "  .colab-df-quickchart:hover {\n",
              "    background-color: var(--hover-bg-color);\n",
              "    box-shadow: 0 1px 2px rgba(60, 64, 67, 0.3), 0 1px 3px 1px rgba(60, 64, 67, 0.15);\n",
              "    fill: var(--button-hover-fill-color);\n",
              "  }\n",
              "\n",
              "  .colab-df-quickchart-complete:disabled,\n",
              "  .colab-df-quickchart-complete:disabled:hover {\n",
              "    background-color: var(--disabled-bg-color);\n",
              "    fill: var(--disabled-fill-color);\n",
              "    box-shadow: none;\n",
              "  }\n",
              "\n",
              "  .colab-df-spinner {\n",
              "    border: 2px solid var(--fill-color);\n",
              "    border-color: transparent;\n",
              "    border-bottom-color: var(--fill-color);\n",
              "    animation:\n",
              "      spin 1s steps(1) infinite;\n",
              "  }\n",
              "\n",
              "  @keyframes spin {\n",
              "    0% {\n",
              "      border-color: transparent;\n",
              "      border-bottom-color: var(--fill-color);\n",
              "      border-left-color: var(--fill-color);\n",
              "    }\n",
              "    20% {\n",
              "      border-color: transparent;\n",
              "      border-left-color: var(--fill-color);\n",
              "      border-top-color: var(--fill-color);\n",
              "    }\n",
              "    30% {\n",
              "      border-color: transparent;\n",
              "      border-left-color: var(--fill-color);\n",
              "      border-top-color: var(--fill-color);\n",
              "      border-right-color: var(--fill-color);\n",
              "    }\n",
              "    40% {\n",
              "      border-color: transparent;\n",
              "      border-right-color: var(--fill-color);\n",
              "      border-top-color: var(--fill-color);\n",
              "    }\n",
              "    60% {\n",
              "      border-color: transparent;\n",
              "      border-right-color: var(--fill-color);\n",
              "    }\n",
              "    80% {\n",
              "      border-color: transparent;\n",
              "      border-right-color: var(--fill-color);\n",
              "      border-bottom-color: var(--fill-color);\n",
              "    }\n",
              "    90% {\n",
              "      border-color: transparent;\n",
              "      border-bottom-color: var(--fill-color);\n",
              "    }\n",
              "  }\n",
              "</style>\n",
              "\n",
              "  <script>\n",
              "    async function quickchart(key) {\n",
              "      const quickchartButtonEl =\n",
              "        document.querySelector('#' + key + ' button');\n",
              "      quickchartButtonEl.disabled = true;  // To prevent multiple clicks.\n",
              "      quickchartButtonEl.classList.add('colab-df-spinner');\n",
              "      try {\n",
              "        const charts = await google.colab.kernel.invokeFunction(\n",
              "            'suggestCharts', [key], {});\n",
              "      } catch (error) {\n",
              "        console.error('Error during call to suggestCharts:', error);\n",
              "      }\n",
              "      quickchartButtonEl.classList.remove('colab-df-spinner');\n",
              "      quickchartButtonEl.classList.add('colab-df-quickchart-complete');\n",
              "    }\n",
              "    (() => {\n",
              "      let quickchartButtonEl =\n",
              "        document.querySelector('#df-6a8f759f-bf6d-400d-89ae-65ecff66aeed button');\n",
              "      quickchartButtonEl.style.display =\n",
              "        google.colab.kernel.accessAllowed ? 'block' : 'none';\n",
              "    })();\n",
              "  </script>\n",
              "</div>\n",
              "    </div>\n",
              "  </div>\n"
            ]
          },
          "metadata": {},
          "execution_count": 253
        }
      ]
    },
    {
      "cell_type": "markdown",
      "source": [
        "## Neural Network"
      ],
      "metadata": {
        "id": "Z0cEXpsQ18Jj"
      }
    },
    {
      "cell_type": "code",
      "source": [
        "from torch.utils.data import DataLoader, TensorDataset\n",
        "\n",
        "import torch\n",
        "import torch.nn as nn\n",
        "import torch.optim as optim\n",
        "import torch.nn.functional as F"
      ],
      "metadata": {
        "id": "P8RJxMTI1-KP"
      },
      "execution_count": 254,
      "outputs": []
    },
    {
      "cell_type": "code",
      "source": [
        "class DQN(nn.Module):\n",
        "    def __init__(self, input_size, output_size):\n",
        "        super(DQN, self).__init__()\n",
        "        self.layer1 = nn.Linear(input_size, 32)\n",
        "        self.layer2 = nn.Linear(32, 32)\n",
        "        self.layer3 = nn.Linear(32, output_size)\n",
        "\n",
        "    def forward(self, x):\n",
        "        x = F.relu(self.layer1(x))\n",
        "        x = F.relu(self.layer2(x))\n",
        "        x = F.relu(self.layer3(x))\n",
        "        return x"
      ],
      "metadata": {
        "id": "fMRNUU0u2HEl"
      },
      "execution_count": 255,
      "outputs": []
    },
    {
      "cell_type": "code",
      "source": [
        "X_train_tensor = torch.tensor(X_train, dtype=torch.float32)\n",
        "y_train_tensor = torch.tensor(y_train.values, dtype=torch.float32)\n",
        "X_test_tensor = torch.tensor(X_test, dtype=torch.float32)\n",
        "y_test_tensor = torch.tensor(y_test.values, dtype=torch.float32)\n",
        "X_valid_tensor = torch.tensor(X_valid, dtype=torch.float32)\n",
        "y_valid_tensor = torch.tensor(y_valid.values, dtype=torch.float32)"
      ],
      "metadata": {
        "id": "K0ZNvBwZHr0X"
      },
      "execution_count": 256,
      "outputs": []
    },
    {
      "cell_type": "code",
      "source": [
        "input_size = X.shape[1]\n",
        "output_size = 1\n",
        "learning_rate = 0.001\n",
        "\n",
        "nnet = DQN(input_size, output_size)\n",
        "\n",
        "loss_fn = nn.BCEWithLogitsLoss()\n",
        "optimizer = optim.Adam(params=nnet.parameters(), lr=learning_rate)"
      ],
      "metadata": {
        "id": "aGc0sTBG3ul2"
      },
      "execution_count": 293,
      "outputs": []
    },
    {
      "cell_type": "code",
      "source": [
        "epochs = 150\n",
        "\n",
        "for epoch in range(epochs):\n",
        "    ### Training\n",
        "    nnet.train()\n",
        "\n",
        "    y_logits = nnet(X_train_tensor).squeeze()\n",
        "    y_pred = torch.round(torch.sigmoid(y_logits))\n",
        "\n",
        "    loss = loss_fn(y_logits, y_train_tensor)\n",
        "\n",
        "    # 3. Optimizer zero grad\n",
        "    optimizer.zero_grad()\n",
        "\n",
        "    # 4. Loss backwards\n",
        "    loss.backward()\n",
        "\n",
        "    # 5. Optimizer step\n",
        "    optimizer.step()"
      ],
      "metadata": {
        "id": "kg3EXCMrMZAC"
      },
      "execution_count": 294,
      "outputs": []
    },
    {
      "cell_type": "code",
      "source": [
        "# Testing\n",
        "with torch.no_grad():\n",
        "    # forward pass\n",
        "    test_logits = nnet(X_test_tensor).squeeze()\n",
        "    test_pred = torch.round(torch.sigmoid(test_logits))\n",
        "    # calculate loss/accuracy\n",
        "    test_loss = loss_fn(test_logits, y_test_tensor)\n",
        "\n",
        "predictions_np = test_pred.numpy()\n",
        "y_test_np = y_test_tensor.numpy()\n",
        "\n",
        "accuracy = accuracy_score(y_test_np, predictions_np)\n",
        "precision = precision_score(y_test_np, predictions_np)\n",
        "recall = recall_score(y_test_np, predictions_np)\n",
        "f1 = f1_score(y_test_np, predictions_np)\n",
        "\n",
        "print(f'Accuracy: {accuracy:.4f}')\n",
        "print(f'Precision: {precision:.4f}')\n",
        "print(f'Recall: {recall:.4f}')\n",
        "print(f'F1-score: {f1:.4f}')"
      ],
      "metadata": {
        "colab": {
          "base_uri": "https://localhost:8080/"
        },
        "id": "-4daft69-pF0",
        "outputId": "d7ea45e7-b450-41f5-8919-667a030b1eee"
      },
      "execution_count": 297,
      "outputs": [
        {
          "output_type": "stream",
          "name": "stdout",
          "text": [
            "Accuracy: 0.8097\n",
            "Precision: 0.7860\n",
            "Recall: 0.8670\n",
            "F1-score: 0.8245\n"
          ]
        }
      ]
    },
    {
      "cell_type": "markdown",
      "source": [
        "##### Validation"
      ],
      "metadata": {
        "id": "-N4zUW9POtri"
      }
    },
    {
      "cell_type": "code",
      "source": [
        "# Validation\n",
        "with torch.no_grad():\n",
        "    # forward pass\n",
        "    valid_logits = nnet(X_valid_tensor).squeeze()\n",
        "    valid_pred = torch.round(torch.sigmoid(valid_logits))\n",
        "    # calculate loss/accuracy\n",
        "    valid_loss = loss_fn(valid_logits, y_valid_tensor)\n",
        "\n",
        "predictions_np = valid_pred.numpy()\n",
        "y_valid_np = y_valid_tensor.numpy()\n",
        "\n",
        "accuracy = accuracy_score(y_valid_np, predictions_np)\n",
        "precision = precision_score(y_valid_np, predictions_np)\n",
        "recall = recall_score(y_valid_np, predictions_np)\n",
        "f1 = f1_score(y_valid_np, predictions_np)\n",
        "\n",
        "print(f'Accuracy: {accuracy:.4f}')\n",
        "print(f'Precision: {precision:.4f}')\n",
        "print(f'Recall: {recall:.4f}')\n",
        "print(f'F1-score: {f1:.4f}')"
      ],
      "metadata": {
        "colab": {
          "base_uri": "https://localhost:8080/"
        },
        "id": "eXFI8eVJOvP0",
        "outputId": "d632418b-7023-4d8a-d25b-a2e30f867db8"
      },
      "execution_count": 298,
      "outputs": [
        {
          "output_type": "stream",
          "name": "stdout",
          "text": [
            "Accuracy: 0.8212\n",
            "Precision: 0.7984\n",
            "Recall: 0.8766\n",
            "F1-score: 0.8357\n"
          ]
        }
      ]
    }
  ],
  "metadata": {
    "kernelspec": {
      "display_name": "Python 3",
      "language": "python",
      "name": "python3"
    },
    "language_info": {
      "codemirror_mode": {
        "name": "ipython",
        "version": 3
      },
      "file_extension": ".py",
      "mimetype": "text/x-python",
      "name": "python",
      "nbconvert_exporter": "python",
      "pygments_lexer": "ipython3",
      "version": "3.11.4"
    },
    "colab": {
      "provenance": [],
      "include_colab_link": true
    }
  },
  "nbformat": 4,
  "nbformat_minor": 0
}