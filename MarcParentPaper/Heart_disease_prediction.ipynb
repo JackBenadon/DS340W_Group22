{
 "cells": [
  {
   "cell_type": "markdown",
   "metadata": {
    "_uuid": "bbd660b62cc616efa33651beedc49b86045b784d"
   },
   "source": [
    "## <font size=5> <strong>Heart Disease Prediction By Shreekant Gosavi\n",
    " "
   ]
  },
  {
   "cell_type": "markdown",
   "metadata": {
    "_uuid": "e41ea25bec5928203cec544d0413fecd4b4e5555"
   },
   "source": [
    "## I. Importing essential libraries"
   ]
  },
  {
   "cell_type": "code",
   "execution_count": 10,
   "metadata": {
    "_uuid": "f571f7e57c828d45fe55f6136fe8c2e796f74d4e"
   },
   "outputs": [
    {
     "name": "stdout",
     "output_type": "stream",
     "text": [
      "['.idea', '.RData', '.Rhistory', '0004054600 (1).pdf', '0004054600.pdf', '0004414023.pdf', '008_input.pptx', '1613500234.842634.jpg', '170422B_062_LeaningTowerPisa_1080P.mp4', '2019 NYCT Bus Tables_UL.xlsx', '2019 Subway Tables_UL.xlsx', '2019-06-25_-_News_Monologue_A_-_David_Fesliyan.mp3', '2019.csv', '20201125_15027_262961.pdf', '20201125_15027_262962.pdf', '2021-08-11 (3).png', '2021-09-02.png', '2021-09-09.png', '20210514_15027_265136.pdf', '20211119_190710000_iOS.MOV', '2022-04-24 (1).png', '2022-04-24.png', '2023 Freeport TX Intern Housing.pdf', '2023 Geismar LA Intern Housing.pdf', '2023-01-Spring - Quiz 1 question list.docx', '2023-01-Spring - Quiz 2 question list (31).docx', '2484133.jpg', '251 Fall 2020 Course Calendar.pdf', '28 Bonus Portraits-55-1-0-1-1542789020.zip', '35AAF2AA-3778-4133-8521-351E3D93E3C7-2-removebg-preview.jpg', '35AAF2AA-3778-4133-8521-351E3D93E3C7-removebg-preview.jpg', '35AAF2AA-3778-4133-8521-351E3D93E3C7.jpeg', '3D Print Coat Hanger.stl', '3D Printed Keychain.stl', '3DP Coat Hanger (1).png', '3DP Coat Hanger (2).png', '3DP Coat Hanger (3).png', '3DP Coat Hanger.png', '496.76-notebook-win10-win11-64bit-international-dch-whql.exe', '58468392_20221201082754.pdf', '58468394_20221201082757.pdf', '58468395_20221201082757.pdf', '59 Portraits-55-1-0-1-1542488899.zip', '@demas Night Vibes.zip', 'abalone.data', 'abst.py', 'Academic Integrity Certificate (1).pdf', 'Academic Integrity Certificate.pdf', 'Accessing The New Career Pages.docx', 'ACCTG211 2020 FA Course Outline 15e.docx', 'ACCTG211 2020 FA Syllabus 15e (1).docx', 'ACCTG211 2020 FA Syllabus 15e (2).docx', 'ACCTG211 2020 FA Syllabus 15e (3).docx', 'ACCTG211 2020 FA Syllabus 15e.docx', 'ACCTG211 chapter 1 notes for students 15e.doc', 'activity-nuclear-reactor-template.nb (1).html', 'activity-nuclear-reactor-template.nb.html', 'activity-popular-names-template.nb (1).html', 'activity-popular-names-template.nb (2).html', 'activity-popular-names-template.nb.html', 'activity-popular-names-template.Rmd', 'activity-street-road-template-1.nb (1).html', 'activity-street-road-template-1.nb (2).html', 'activity-street-road-template-1.nb (3).html', 'activity-street-road-template-1.nb.html', 'activity-street-road-template.nb.html', 'Ad Analysis Final Draft (1).docx', 'Ad Analysis Final Draft (2).docx', 'Ad Analysis Final Draft (3).docx', 'Ad Analysis Final Draft.docx', 'Ad Analysis Final Draft.pdf', 'Ad Analysis Rough Draft.docx', 'Ad Analysis Student Sample.docx', 'Ad analysis.docx', 'Ad-Anaylsis Essay Draft.docx', 'Adobe Scan Apr 10, 2023 (1) (1).pdf', 'Adobe Scan Apr 10, 2023 (1) (2).pdf', 'Adobe Scan Apr 10, 2023 (1) (3).pdf', 'Adobe Scan Apr 10, 2023 (1).pdf', 'Adobe Scan Apr 23, 2023.pdf', 'Adobe Scan Aug 23, 2022.pdf', 'Adobe Scan Feb 14, 2023 (1) (1).pdf', 'Adobe Scan Feb 14, 2023 (1) (2).pdf', 'Adobe Scan Feb 14, 2023 (1) (3).pdf', 'Adobe Scan Feb 14, 2023 (1) (4).pdf', 'Adobe Scan Feb 14, 2023 (1).pdf', 'Adobe Scan May 2, 2023.pdf', 'Adobe Scan Sep 7, 2022.pdf', 'Advice from your Peers (1).docx', 'Advice from your Peers.docx', 'Anaconda3-2021.11-Windows-x86_64.exe', 'annotated-Ad analysis.docx (4).pdf', 'annotated-Ad%20analysis.docx (1).pdf', 'annotated-Ad%20analysis.docx (2).pdf', 'annotated-Ad%20analysis.docx (3).pdf', 'annotated-Ad%20analysis.docx (4).pdf', 'annotated-Ad%20analysis.docx.pdf', 'annotated-Ad-Anaylsis Essay Draft.docx.pdf', 'annotated-Ad-Anaylsis%20Essay%20Draft.docx.pdf', 'annotated-Exploring an Environmental Issue- Landfills.docx.pdf', 'annotated-Exploring%20an%20Environmental%20Issue-%20Landfills.docx.pdf', 'annotated-Personal Narrative RD.docx (1) (1).pdf', 'annotated-Personal Narrative RD.docx (1).pdf', 'annotated-personal narrative.docx.pdf', 'annotated-Personal%20Narrative%20RD.docx (1).pdf', 'annotated-Personal%20Narrative%20RD.docx.pdf', 'annotated-personal%20narrative.docx.pdf', 'annotated-Research%20RD.docx.pdf', 'Aphids Fungi Data 2021 Student.xlsx', 'archive (1).zip', 'archive (2).zip', 'archive (3).zip', 'archive (4).zip', 'archive.zip', 'ArmyMaritalStatusData (1).csv', 'ArmyMaritalStatusData-1.csv', 'ArmyMaritalStatusData.csv', 'Assignment1_Q5 (1).ipynb', 'Assignment1_Q5 (1).pdf', 'Assignment1_Q5 (2).ipynb', 'Assignment1_Q5.ipynb', 'Assignment1_Q5.pdf', 'Assignment2_Q7.ipynb', 'Assignment2_Q7.ipynb - Colaboratory (1).pdf', 'Assignment2_Q7.ipynb - Colaboratory.pdf', 'Assignment3_Q6.ipynb', 'Assignment3_Q6.ipynb - Colaboratory (1).pdf', 'Assignment3_Q6.ipynb - Colaboratory (2).pdf', 'Assignment3_Q6.ipynb - Colaboratory.pdf', 'Assignment4_Problem7.ipynb', 'Assignment4_Problem7.ipynb - Colaboratory (1).pdf', 'Assignment4_Problem7.ipynb - Colaboratory.pdf', 'Assignment5.pdf', 'Assignment6.pdf', 'Auditorium.1.mov', 'Aug 21  Statement -  08_30_2021-080221.pdf', 'Aug 23, Doc 1.pdf', 'baby.csv', 'bacteria.sample.relabund.phylum.txt', 'BagInCar.1.mov', 'BagOut.1.mov', 'base-R-template-1.nb.html', 'base-R-template-1.Rmd', 'base-R-template.nb.html', 'BASF Data Science PDP Intern Offer - Class of 2023.pdf', 'BASF Data Science PDP Intern Offer - Class of 2023_encrypted_ (1).pdf', 'BASF Data Science PDP Intern Offer - Class of 2023_encrypted_.pdf', 'basic-miktex-22.10-x64.exe', 'Ben-NE-9-10-2015-pass.csv', 'BibleNames.csv', 'bicycle-sharing-template-1.nb.html', 'bicycle-sharing-template.nb.html', 'Bio 110 Table 1.jpg', 'Bio 110 Table 2.jpg', 'BioBlitz Online Lab Oral Presentation_aes (1).pdf', 'BioBlitz Online Lab Oral Presentation_aes (2).pdf', 'BioBlitz Online Lab Oral Presentation_aes.pdf', 'BioBlitz Online Lab Organism List and Field Notes Template_AES (1) (1).pdf', 'BioBlitz Online Lab Organism List and Field Notes Template_AES (1)-1.pdf', 'BioBlitz Online Lab Organism List and Field Notes Template_AES (1).docx', 'BioBlitz Online Lab Organism List and Field Notes Template_AES (1).pdf', 'BioBlitz Online Lab Organism List and Field Notes Template_AES.docx', 'BioBlitz Online Lab.pdf', 'BioBlitz Peer Evaluation_aes (1) (1) (1).doc', 'BioBlitz Peer Evaluation_aes (1) (1).doc', 'BioBlitz Peer Evaluation_aes (1).doc', 'BioBlitz Peer Evaluation_aes (2)-1.doc', 'BioBlitz Peer Evaluation_aes (2).doc', 'BioBlitz Peer Evaluation_aes-1.doc', 'BioBlitz Peer Evaluation_aes.doc', 'BIOL 110 Part 2 Discovering the Structure of DNA (1).pdf', 'BIOL 110 Part 2 Discovering the Structure of DNA.pdf', 'BIOL110 Lab 11_Chordates_STUDENT (1).pdf', 'BIOL110 Lab 11_Chordates_STUDENT (2).pdf', 'BIOL110 Lab 11_Chordates_STUDENT (3).pdf', 'BIOL110 Lab 11_Chordates_STUDENT.docx', 'BIOL110 Lab 11_Chordates_STUDENT.pdf', 'BIOL110 Lab 7_worms_STUDENT_Sp2021.docx', 'BIOL110 Lab 9_TEAM_Mollusca_Arthropoda_STUDENT_Sp21.docx', 'BIOL110 Lab Porifera Cnidaria_STUDENT_Spr 2021-1 (1).pdf', 'BIOL110 Lab Porifera Cnidaria_STUDENT_Spr 2021-1 (2).pdf', 'BIOL110 Lab Porifera Cnidaria_STUDENT_Spr 2021-1 (3).pdf', 'BIOL110 Lab Porifera Cnidaria_STUDENT_Spr 2021-1 (4).pdf', 'BIOL110 Lab Porifera Cnidaria_STUDENT_Spr 2021-1 (5).pdf', 'BIOL110 Lab Porifera Cnidaria_STUDENT_Spr 2021-1.docx', 'BIOL110 Lab Porifera Cnidaria_STUDENT_Spr 2021-1.pdf', 'BIOL110 Lab Practical Problem Set #1 (1).pdf', 'BIOL110 Lab Practical Problem Set #1 (2).pdf', 'BIOL110 Lab Practical Problem Set #1.pdf', 'BIOL110 Problem Set 1 Spr 2021 STUDENT-1.docx', 'Biology Excel Lab (1).pdf', 'Biology Excel Lab (2).pdf', 'Biology Excel Lab.docx', 'Biology Excel Lab.pdf', 'bird-species-template.nb (1).html', 'bird-species-template.nb (2).html', 'bird-species-template.nb.html', 'blur-background-11.jpg', 'breast-cancer-wisconsin-data-wind.csv', 'Building a Penn State Portfolio Website (1).docx', 'Building a Penn State Portfolio Website.docx', 'Calendar Screenshot.jpg', 'Capstone Report Samples.pptx', 'capstoneproject1 (1) (1).docx', 'capstoneproject1 (1) (2).docx', 'capstoneproject1 (1).docx', 'capstoneproject1 (2).docx', 'capstoneproject1-1.docx', 'capstoneproject1.docx', 'car-assignments.csv', 'CardiacPrediction.xlsx', 'CAS100A Persuasive Speech Preparation Outline.docx', 'CAS100A Speech Topics Final.docx', 'CAS100A Speech Topics-1.docx', 'CAS100A Speech Topics-2 (1).docx', 'CAS100A Speech Topics-2 (2) (1).docx', 'CAS100A Speech Topics-2 (2).docx', 'CAS100A Speech Topics-2.docx', 'CAS100A Speech Topics.docx', 'Causal Inference.pdf', 'cc_data.csv', 'Cell Structure_Part II_Table 3_4 (1) (1).pdf', 'Cell Structure_Part II_Table 3_4 (1).pdf', 'Cell Structure_Part II_Table 3_4 Final Version (1).pdf', 'Cell Structure_Part II_Table 3_4 Final Version.pdf', 'Cell Structure_Part II_Table 3_4.pdf', 'Cell Structure_Take Two_Tables 1_2 (1).pdf', 'Cell Structure_Take Two_Tables 1_2.pdf', 'Certificate.jpg', 'CertificateOfCompletion_Diversity Inclusion and Belonging (1).pdf', 'CertificateOfCompletion_Diversity Inclusion and Belonging.pdf', 'CertificateOfCompletion_Excel Essential Training Office 365Microsoft 365 (1).pdf', 'CertificateOfCompletion_Excel Essential Training Office 365Microsoft 365.pdf', 'CertificateOfCompletion_PowerPoint Essential Training Office 365Microsoft 365 2018 (1).pdf', 'CertificateOfCompletion_PowerPoint Essential Training Office 365Microsoft 365 2018.pdf', 'CertificateOfCompletion_Word Essential Training Office 365Microsoft 365 2018 (1).pdf', 'CertificateOfCompletion_Word Essential Training Office 365Microsoft 365 2018 (2).pdf', 'CertificateOfCompletion_Word Essential Training Office 365Microsoft 365 2018 (3).pdf', 'CertificateOfCompletion_Word Essential Training Office 365Microsoft 365 2018.pdf', 'ch10-template.nb.html', 'ch10-template.Rmd', 'Ch11_LifeExperiences-1.pptx', 'CH15-Template-1.nb (1).html', 'CH15-Template-1.nb.html', 'CH15-Template.nb.html', 'Ch1_outline_Gerace.docx', 'Ch3_outline_Gerace.docx', 'ch5-ch6-template (1).Rmd', 'ch5-ch6-template (2).Rmd', 'ch5-ch6-template.nb (1).html', 'ch5-ch6-template.nb (2).html', 'ch5-ch6-template.nb (3).html', 'ch5-ch6-template.nb.html', 'ch5-ch6-template.Rmd', 'CH8-template.nb.html', 'CH8-template.Rmd', 'Chapter 13 Personality Posted Notes.pdf', 'Chapter 7(AutoRecovered).xlsx', 'Chapter 7.xlsx', 'ChromeSetup.exe', 'City-Skyline.png', 'Classwork_Hashing.pdf', 'Click HERE to start the WebNavigator Browser Installer_141730w_.exe', 'cM7yz5.jpg', 'CMPSC 131 NumPy Presentation (1).pptx', 'CMPSC 131 NumPy Presentation (2).pptx', 'CMPSC 131 NumPy Presentation.pptx', 'CMPSC 131 Pseudo Code.docx', 'CMPSC 131 StudentManagementSystem-1.docx', 'CMPSC 131 StudentManagementSystem.docx', 'CMPSC131 Homework #1 Submission.docx', 'cmpsc131-main.zip', 'CMPSC131_Quiz1_Question2.py', 'CMPSC131_Quiz1_Question3.py', 'COMM150_AFaceInTheCrowd_Clip.doc', 'COMM150_Amistad.doc', 'COMM150_Dr_Strangelove.doc', 'COMM150_Fight_Club.doc', 'COMM150_FrankCapraAndPopulistCinema_Clip.doc', 'COMM150_Goodfellas.doc', 'COMM150_JFK (1).doc', 'COMM150_JFK.doc', 'COMM150_MrSmithGoesToWashington_Clip.doc', 'COMM150_RearWindow_Clip (1).doc', 'COMM150_RearWindow_Clip.doc', 'COMM150_ThePhiladelphiaStory_Clip (1).doc', 'COMM150_ThePhiladelphiaStory_Clip.doc', 'COMM150_The_Graduate.doc', 'COMM150_VoyageToTheMoon_Clip.doc', 'ComparativeAnatomyChicken-StudentWS-CL (1).pdf', 'ComparativeAnatomyChicken-StudentWS-CL (2).pdf', 'ComparativeAnatomyChicken-StudentWS-CL.pdf', 'ConfirmationOfCoverage (1).pdf', 'ConfirmationOfCoverage.pdf', 'Confirmed - BASF Data Science PDP Summer Internship_ Assignments and Next Steps.zip', 'Consent (1).pdf', 'Consent.pdf', 'Convert_Jupyter_Notebook_To_HTML (1).ipynb', 'Convert_Jupyter_Notebook_To_HTML (2).ipynb', 'Convert_Jupyter_Notebook_To_HTML (3).ipynb', 'Convert_Jupyter_Notebook_To_HTML (4).ipynb', 'Convert_Jupyter_Notebook_To_HTML (5).ipynb', 'Convert_Jupyter_Notebook_To_HTML.ipynb', 'Copy of Attn.docx', 'Copy of DS 300 Exercise 3 - Google Docs.pdf', 'Copy of DS 300 Exercise 3.docx', 'Copy_of_DS310_Lab3_DecisionTree.ipynb', 'CountryDataExtraCredit (1).csv', 'CountryDataExtraCredit-1 (1).csv', 'CountryDataExtraCredit-1.csv', 'CountryDataExtraCredit.csv', 'COVID-19 Survey Student Responses (1).csv', 'CPI_PercentMonthlyChange (1).html', 'CPI_PercentMonthlyChange (2).html', 'CPI_PercentMonthlyChange.html', 'CPI_Trend (1).html', 'CPI_Trend (2).html', 'CPI_Trend (3).html', 'CPI_Trend.html', 'CR Chapter 1 (1).pdf', 'CR Chapter 1.pdf', 'Create a Hero.docx', 'CVD_Data.csv', 'CW001_CLR_ENG_24_41087692_1.PDF', 'D30mYw.webp', 'DATA PRIVACY Principles and Practice.pdf', 'Data Science 200 Project Outline.docx', 'data-visualization (1).pdf', 'data-visualization.pdf', 'dato.csv', 'Day in the Life of a College Student (Storyboard and Script).docx', 'DayInTheLifeFinal (1).mp4', 'DayInTheLifeFinal (2).mp4', 'DayInTheLifeFinal (3).mp4', 'DayInTheLifeFinal.mp4', 'DB.Browser.for.SQLite-3.12.2-win64.msi', 'desktop.ini', 'Diabetes Prevention Program (1).pdf', 'Diabetes Prevention Program.pdf', 'Diabetes Prevention Reflection Summary (1).docx', 'Diabetes Prevention Reflection Summary-1.docx', 'Diabetes Prevention Reflection Summary.docx', 'DiscordSetup.exe', 'DLCOA.pdf', 'dna_structure_flip_part I_II_modified_ (1).pdf', 'dna_structure_flip_part I_II_modified_.pdf', 'dolphin-x64-5.0.exe', 'donestudying.1.mov', 'donestudying.2.mov', 'Double Entry Journal .doc', 'DriversLicense.jpg', 'DS 200 Project Draft (1).pdf', 'DS 200 Project Draft (2).pdf', 'DS 200 Project Draft (3).pdf', 'DS 200 Project Draft (4).pdf', 'DS 200 Project Draft Outline (1).pdf', 'DS 200 Project Draft Outline (2).pdf', 'DS 200 Project Draft Outline (3).pdf', 'DS 200 Project Draft Outline.pdf', 'DS 200 Project Draft.pdf', 'DS 220 Final Doc (1).docx', 'DS 220 Final Doc (2).docx', 'DS 220 Final Doc.docx', 'DS 220 Homework 1.docx', 'DS 220 HW2A.drawio', 'DS 220 HW2A.drawio (1).pdf', 'DS 220 HW2A.drawio.pdf', 'DS 220 HW3.drawio', 'DS 220 HW3.drawio (1).pdf', 'DS 220 HW3.drawio (2).pdf', 'DS 220 HW3.drawio.pdf', 'DS 220 HW4 (1).docx', 'DS 220 HW4 (2).docx', 'DS 220 HW4.docx', 'DS 220 HW5 (1).docx', 'DS 220 HW5.docx', 'DS 220 HW6 (1).docx', 'DS 220 HW6.docx', 'DS 220 HW7 (1).docx', 'DS 220 HW7 (2).docx', 'DS 220 HW7 (3).docx', 'DS 220 HW7 (4).docx', 'DS 220 HW7.docx', 'DS 220 HW8 (1).docx', 'DS 220 HW8.docx', 'DS 220 Project Part 1.docx', 'DS 300 - 2023-02-Spring - Week 6.1 - 2023-2-13 (1).pptx', 'DS 300 - 2023-02-Spring - Week 6.1 - 2023-2-13.pptx', 'DS 300 - 2023-02-Spring - Week 7.1 - 2023-2-20.pptx', 'DS 300 Excercise 3 Final Ver.docx', 'DS 300 Exercise 3 (1).docx', 'DS 300 Exercise 3 - Google Docs.pdf', 'DS 300 Exercise 3 Differential Privacy  (1).docx', 'DS 300 Exercise 3 Differential Privacy  (2).docx', 'DS 300 Exercise 3 Differential Privacy (1) (1).docx', 'DS 300 Exercise 3 Differential Privacy (1).docx', 'DS 300 Exercise 3 Differential Privacy .docx', 'DS 300 Exercise 3 Differential Privacy.docx', 'DS 300 Exercise 3.docx', 'DS 310 Assignment 3 Q1-Q5 (1).pdf', 'DS 310 Assignment 3 Q1-Q5 (2).pdf', 'DS 310 Assignment 3 Q1-Q5 (3).pdf', 'DS 310 Assignment 3 Q1-Q5 (4).pdf', 'DS 310 Assignment 3 Q1-Q5.pdf', 'DS 310 Assignment 5 (1).pdf', 'DS 310 Assignment 5.pdf', 'DS 310 Assignment 6 (1).pdf', 'DS 310 Assignment 6 (2).pdf', 'DS 310 Assignment 6.pdf', 'DS 310 Assignment1_Q1-4 (1).pdf', 'DS 310 Assignment1_Q1-4 (2).pdf', 'DS 310 Assignment1_Q1-4 (3).pdf', 'DS 310 Assignment1_Q1-4.pdf', 'DS 330 Final Project Presentation.pptx', 'DS 330 Final Project Progress Report (1).pdf', 'DS 330 Final Project Progress Report.docx', 'DS 330 Final Project Progress Report.pdf', 'DS 330 HW1 (1).docx', 'DS 330 HW1.docx', 'DS 330 Introduce Yourself (1).docx', 'DS 330 Introduce Yourself (2).docx', 'DS 330 Introduce Yourself.docx', 'DS200FinalProjectDeliverable (1).html', 'DS200FinalProjectDeliverable (2).html', 'DS200FinalProjectDeliverable (3).html', 'DS200FinalProjectDeliverable.html', 'DS220 Document (1).docx', 'DS220 Document.docx', 'DS220Midterm.drawio', 'DS220Midterm.drawio (1).pdf', 'DS220Midterm.drawio.pdf', 'DS220_Understanding_Data_Relationships.pptx', 'DS300 Fair Information Practices In-Class.docx', 'DS310 Assignment Cheat Sheet.docx', 'DS310 Assignment4 Q1-6 (1).pdf', 'DS310 Assignment4 Q1-6 (2).pdf', 'DS310 Assignment4 Q1-6 (3).pdf', 'DS310 Assignment4 Q1-6 (4).pdf', 'DS310 Assignment4 Q1-6.pdf', 'DS310Lab6Data', 'DS310_Intro_to_NumPy.ipynb', 'DS310_Lab1_LinearRegression_Spring 2023 (1).pdf', 'DS310_Lab1_LinearRegression_Spring 2023 (2).pdf', 'DS310_Lab1_LinearRegression_Spring 2023.ipynb', 'DS310_Lab1_LinearRegression_Spring 2023.pdf', 'DS310_Lab1_LinearRegression_Spring_2023.ipynb', 'DS310_Lab2_LogsiticRegression_Spring2023 (1) (1).ipynb', 'DS310_Lab2_LogsiticRegression_Spring2023 (1).ipynb', 'DS310_Lab2_LogsiticRegression_Spring2023.ipynb', 'DS310_Lab2_LogsiticRegression_Spring2023.ipynb - Colaboratory (1).pdf', 'DS310_Lab2_LogsiticRegression_Spring2023.ipynb - Colaboratory.pdf', 'DS310_Lab3_DecisionTree (1) (1).ipynb', 'DS310_Lab3_DecisionTree (1).ipynb', 'DS310_Lab3_DecisionTree.ipynb', 'DS310_Lab3_DecisionTree.ipynb - Colaboratory (1).pdf', 'DS310_Lab3_DecisionTree.ipynb - Colaboratory.pdf', 'DS310_Lab4_NeuralNetworks (1).ipynb', 'DS310_Lab4_NeuralNetworks (2) (1).ipynb', 'DS310_Lab4_NeuralNetworks (2).ipynb', 'DS310_Lab4_NeuralNetworks.ipynb', 'DS310_Lab4_NeuralNetworks.ipynb - Colaboratory (1).pdf', 'DS310_Lab4_NeuralNetworks.ipynb - Colaboratory-1.pdf', 'DS310_Lab4_NeuralNetworks.ipynb - Colaboratory.pdf', 'DS310_Lab5_SupportVectorMachine_Spring2023 (1) (1).ipynb', 'DS310_Lab5_SupportVectorMachine_Spring2023 (1).ipynb', 'DS310_Lab5_SupportVectorMachine_Spring2023.ipynb', 'DS310_Lab5_SupportVectorMachine_Spring2023.ipynb - Colaboratory (1).pdf', 'DS310_Lab5_SupportVectorMachine_Spring2023.ipynb - Colaboratory.pdf', 'DS310_Lab5_utils&Data.zip', 'DS310_Lab6_Data', 'DS310_Lab6_Data (1).zip', 'DS310_Lab6_Data (2).zip', 'DS310_Lab6_Data.zip', 'DS310_Lab6_Kmeans&PCA (1).ipynb', 'DS310_Lab6_Kmeans&PCA (1).ipynb - Colaboratory (1).pdf', 'DS310_Lab6_Kmeans&PCA (1).ipynb - Colaboratory-1.pdf', 'DS310_Lab6_Kmeans&PCA (1).ipynb - Colaboratory.pdf', 'DS310_Lab6_Kmeans&PCA.ipynb', 'DS310_Lab6_Kmeans&PCA_(1).ipynb', 'DS310_LinearRegression_CostFunction_Demo.ipynb', 'DS310_LinearRegression_LearningRate_Demo.ipynb', 'DS330FinalProjectInflationAnalysis.nb.html', 'DS330HW5.docx', 'DS330TableauExercise6 - Copy (2).twb', 'DS330TableauExercise6 - Copy.twb', 'DS330TableauExercise6-1.twb', 'DS340-1_Group80-1.xlsx', 'DS402 - Lab1 (1).pdf', 'DS402 - Lab1.pdf', 'EARTH 100 - Climate Change Project (1).docx', 'EARTH 100 - Climate Change Project.docx', 'EARTH 100_Sec 001_Fall 2021 syllabus _Amin.pdf', 'EgoOrient_assessments.docx', 'embedding.js', 'End of the Progressive Era (1).docx', 'End of the Progressive Era.docx', 'ENGL 202A Annotated Bibliography.docx', 'ENGL 202A Homework (pg. 99).docx', 'ENGL 202A Hot Topic Essay.docx', 'ENGL 202A I want to be-1.docx', 'ENGL 202A I want to be.docx', 'ENGL 202A Real World Rewrite.docx', 'ENGL 202A Summary #2 (1).docx', 'ENGL 202A Summary #2 (2).docx', 'ENGL 202A Summary #2 (3).docx', 'ENGL 202A Summary #2 (4).docx', 'ENGL 202A Summary #2.docx', 'ENGL 202A Summary #3.docx', 'English 15 Article Response.docx', 'English 15 Journal Entry .docx', 'English 15 Writing Diagnostic.docx', 'English 202A Rap Essay (1).docx', 'English 202A Rap Essay (2).docx', 'English 202A Rap Essay (3).docx', 'English 202A Rap Essay.docx', 'English 202A Reaction (1).docx', 'English 202A Reaction.docx', 'Entry_Survey_DS340 (1).docx', 'Entry_Survey_DS340.docx', 'esquisse-plot.png', 'ex1data1.txt', 'ex1data2.txt', 'ex2data1.txt', 'ex2data2.txt', 'ex4data1.mat', 'ex4weights.mat', 'Exam1-2-7-22.pdf', 'Exercise 1 Data Privacy and Security.docx', 'Exercise 4 (1).docx', 'Exercise 4.docx', 'Experimental Data - Heat of Unknown.docx', 'Exploring an Environmental Issue- Landfills.docx', 'faithful.csv', 'Fall 2022 Midterm 2 Review.pdf', 'family-heights-1.csv', 'FA_2020-MXH917 (1).ics', 'FA_2020-MXH917.ics', 'FA_2021-MXH917 (1).ics', 'FA_2021-MXH917 (2).ics', 'FA_2021-MXH917.ics', \"FDR's 100 Days & the First New Deal.docx\", 'Final Essay Revision (1).docx', 'Final Essay Revision (2).docx', 'Final Essay Revision.docx', 'Final Exam.pdf', 'Final Lab 5 Fungal Diversity Individual Worksheet  (1).pdf', 'Final Lab 5 Fungal Diversity Individual Worksheet  (2).pdf', 'Final Lab 5 Fungal Diversity Individual Worksheet .pdf', 'Final Project Preliminary Presentation.pdf', 'Final Reflection Essay Questions (1).docx', 'Final Reflection Essay Questions.docx', 'Final Research Essay (1) (1).docx', 'Final Research Essay (1) (2).docx', 'Final Research Essay (1).docx', 'Final Research Essay Notes (1) (1).docx', 'Final Research Essay Notes (1).docx', 'Final Research Essay Notes.docx', 'Final Research Essay.docx', 'Final Research Essay.pdf', 'final-project-checksheet-1.nb.html', 'final-project-models (1).pdf', 'final-project-models.pdf', 'final-project-outline-1.nb (1).html', 'final-project-outline-1.nb (2).html', 'final-project-outline-1.nb.html', 'framingham.csv', 'FXN_Coverage-Flyer_50k_Cardinal-Group_2023.pdf', 'galton-notebook (1).jpg', 'galton-notebook.jpg', 'GaltonHeightMeasurementsData (1).csv', 'GaltonHeightMeasurementsData.csv', 'Gear_Rack.STL', 'gene-expression-template-1.nb.html', 'gene-expression-template.nb.html', 'Git-2.37.3-64-bit.exe', 'github-recovery-codes.txt', 'GitHub-RStudio-Config.pdf', 'GMT20210904-195420_Recording_640x360.mp4', 'GoldPriceVSCPI (1).html', 'GoldPriceVSCPI.html', 'gps.csv', 'Grades.txt', 'GrammarlyInstaller.e5250d70efxx6gi68ld90jg2.exe', 'GraphicalExploration.nb (1).html', 'GraphicalExploration.nb (2).html', 'GraphicalExploration.nb.html', 'GraphicalExploration.Rmd', 'haversine (1).R', 'haversine (2).R', 'haversine (3).R', 'haversine (4).R', 'haversine.R', 'heart.csv', 'Heart_Disease_Prediction.csv', 'Heart_disease_prediction.ipynb', 'HeightMeasurementsData.csv', 'HELPmissActivity (1).Rmd', 'HELPmissActivity-1 (1).Rmd', 'HELPmissActivity-1 (2).Rmd', 'HELPmissActivity-1.nb (1).html', 'HELPmissActivity-1.nb (2).html', 'HELPmissActivity-1.nb (3).html', 'HELPmissActivity-1.nb.html', 'HELPmissActivity-1.Rmd', 'HELPmissActivity.nb (1).html', 'HELPmissActivity.nb (2).html', 'HELPmissActivity.nb (3).html', 'HELPmissActivity.nb.html', 'HELPmissActivity.Rmd', 'Hero.docx', 'HIST 154 Final Exam (1).docx', 'HIST 154 Final Exam.docx', 'HIST 154 Final Paper (1).docx', 'HIST 154 Final Paper Assignment (1).docx', 'HIST 154 Final Paper Assignment.docx', 'HIST 154 Final Paper.docx', 'HIST 154 Final Study Guide.docx', 'HIST 154 History of Welfare and Poverty in the US.docx', 'HIST 154 Midterm Exam (1).docx', 'HIST 154 Midterm Exam (10).docx', 'HIST 154 Midterm Exam (11).docx', 'HIST 154 Midterm Exam (12).docx', 'HIST 154 Midterm Exam (13).docx', 'HIST 154 Midterm Exam (14).docx', 'HIST 154 Midterm Exam (15).docx', 'HIST 154 Midterm Exam (16).docx', 'HIST 154 Midterm Exam (2).docx', 'HIST 154 Midterm Exam (3).docx', 'HIST 154 Midterm Exam (4).docx', 'HIST 154 Midterm Exam (5).docx', 'HIST 154 Midterm Exam (6).docx', 'HIST 154 Midterm Exam (7).docx', 'HIST 154 Midterm Exam (8).docx', 'HIST 154 Midterm Exam (9).docx', 'HIST 154 Midterm Exam.docx', 'Homework 2 Problems (1).pdf', 'Homework 2 Problems.pdf', 'Homework2Problem1 (1).py', 'Homework2Problem1.py', 'Homework2Problem2.py', 'Homework3Problem1.py', 'Homework3Problem2.py', 'Homework5Problem1.py', 'Homework5Problem2 (1).py', 'Homework5Problem2.py', 'Homework6Problem1.py', 'Homework6Problem2.py', 'HR_Block_Tax_Software_Deluxe__State_2021_with_3_Refund_Bonus_Offer_Amazon_Exclusive_-_PC_Download.exe', 'Hughes, Marc 2.pdf', 'Hughes, Marc.pdf', 'Hughes_Assignment1 (1).docx', 'Hughes_Assignment1.docx', 'Hughes_Program1 (1).py', 'Hughes_Program1 (2).py', 'Hughes_Program1.py', 'Hughes_Program10.py', 'Hughes_Program2 (1).py', 'Hughes_Program2.py', 'Hughes_Program3.py', 'Hughes_Program4.py', 'Hughes_Program6.py', 'Hughes_Program7.py', 'Hughes_Program8 (1).py', 'Hughes_Program8.py', 'Hughes_Program9.py', 'HW11-template.nb.html', 'HW9-template.nb (1).html', 'HW9-template.nb.html', 'HwkCh11-template.Rmd', 'iCloud Photos (1).zip', 'iCloud Photos (10).zip', 'iCloud Photos (11).zip', 'iCloud Photos (12).zip', 'iCloud Photos (2).zip', 'iCloud Photos (3).zip', 'iCloud Photos (4).zip', 'iCloud Photos (5).zip', 'iCloud Photos (6).zip', 'iCloud Photos (7).zip', 'iCloud Photos (8).zip', 'iCloud Photos (9).zip', 'iCloud Photos.zip', 'ihAOpL.webp', 'IMDB5000movies.csv', 'IMDBReviewsSentiment.csv', 'IMG_1177.jpg', 'IMG_1181.jpg', 'IMG_3676.jpeg', 'IMG_5897.JPG', 'IMG_5935.JPEG', 'In Class Activity.docx', 'InClass Webpage.jpg', 'index (1).pdf', 'index (2).pdf', 'index (3).pdf', 'index-1.pdf', 'index-2 (1).pdf', 'index-2 (2).pdf', 'index-2 (3).pdf', 'index-2 (4).pdf', 'index-2.pdf', 'index-3 (1).pdf', 'index-3 (2).pdf', 'index-3.pdf', 'index-4.pdf', 'index-5.pdf', 'index-5e83cc45-97a0-46bf-896c-68a937642062 (1).pdf', 'index-5e83cc45-97a0-46bf-896c-68a937642062.pdf', 'index-6 (1).pdf', 'index-6.pdf', 'index-673683ef-da11-4ae7-9360-f1790ba17dc1 (1).pdf', 'index-673683ef-da11-4ae7-9360-f1790ba17dc1.pdf', 'index-6ee6f6ca-33ce-4e67-b4ef-b002f6ebe77f (1).pdf', 'index-6ee6f6ca-33ce-4e67-b4ef-b002f6ebe77f.pdf', 'index-6f4092f3-a837-499c-98aa-10f9b2a18ff4.pdf', 'index-7 (1).pdf', 'index-7 (2).pdf', 'index-7.pdf', 'index-7f37b01f-054d-4ee8-a6d6-647316c8ba0a.pdf', 'index-a25b6ea1-68d0-4fd6-8635-17df75502bed (1).pdf', 'index-a25b6ea1-68d0-4fd6-8635-17df75502bed.pdf', 'index-a2c87aea-9ca7-4d86-99d0-38922c70cc18.pdf', 'index-d243232c-1a75-45fa-a54b-d5c681cdda4a.pdf', 'index-d9e2ed66-7579-49ca-a485-9b0ee8d75ee9 (1).pdf', 'index-d9e2ed66-7579-49ca-a485-9b0ee8d75ee9.pdf', 'index.pdf', 'Inflation-data.xlsx', 'Informative Speech Preparation Outline (1).docx', 'Informative Speech Preparation Outline.docx', 'InitialEDA-1.nb.html', 'InitialEDA.nb.html', 'interaction.js', 'Intern_ Welcome Summer 2023 Interns (1).pptx', 'Intern_ Welcome Summer 2023 Interns.pptx', 'Intro and Conclusion Process Speech (1).docx', 'Intro and Conclusion Process Speech.docx', 'Invention_Strategies.pptx', 'Invoice for 30May - FIRIBZ - May 30 2023 18260903.pdf', 'Invoice for 30May - VDHXSJ - May 30 2023 21245868.pdf', 'IRAhandle_tweets_1.csv', 'IRIS.csv', 'IST 110 -Syllabus-FALL2021.docx', 'IST 230 - M01ProblemSolving (1).pdf', 'IST 230 - M01ProblemSolving.pdf', 'IST 230 Final Scratch Work.docx', 'IST 495 Peer Introduction Reflections (1).docx', 'IST 495 Peer Introduction Reflections.docx', 'IST110 -Class Schedule -Fall 2021.pdf', 'IST110 Capstone Excel Project Tracker.xlsx', 'IST110 Creative Idea PowerPoint.pptx', 'IST110 Self-Driving Car Script-1.docx', 'IST230MidtermScratchPaper (1).pdf', 'IST230MidtermScratchPaper.pdf', 'IST230MidtermZybookCheatSheet.pptx', 'IST230Modules8-11Quiz.docx', 'jazzy-abstract-beat-11254.mp3', 'jetbrains-toolbox-1.22.10970.exe', 'Job Advertisement-1.jpg', 'K-Anonymization (1).xlsx', 'K-Anonymization (2) (1).xlsx', 'K-Anonymization (2).xlsx', 'K-Anonymization.xlsx', 'Lab 1 Protists_Sp2021.docx', 'Lab 3 Plants Worksheet-1 (1).docx', 'Lab 3 Plants Worksheet-1.docx', 'Lab 4 Phylogentics Worksheet.docx', 'Lab 5 Fungi 2021_INDIVIDUAL WORKSHEET (1).docx', 'Lab 5 Fungi 2021_INDIVIDUAL WORKSHEET.docx', 'Lab 5 Fungi 2021_TEAM WORKSHEET (1).docx', 'Lab 5 Fungi 2021_TEAM WORKSHEET (2).docx', 'Lab 5 Fungi 2021_TEAM WORKSHEET (3).docx', 'Lab 5 Fungi 2021_TEAM WORKSHEET.docx', 'Lab 9 Mollusca Diversity Independent Worksheet (1).pdf', 'Lab 9 Mollusca Diversity Independent Worksheet (2).pdf', 'Lab 9 Mollusca Diversity Independent Worksheet (3).pdf', 'Lab 9 Mollusca Diversity Independent Worksheet.pdf', 'Lab 9 Mollusca_Sp2021_INDIVIDUAL WORKSHEET.docx', 'Lab pages 7-8.pdf', 'Lab-01-GettingStarted_WinLabs&Webspace.pdf', 'Lab10HughesMarc.html', 'Lab11HughesMarc (1).html', 'Lab11HughesMarc.html', 'Lab12HughesMarc (1).html', 'Lab12HughesMarc.html', 'Lab13HughesMarc.html', 'Lab1HughesMarc (1).html', 'Lab1HughesMarc (2).html', 'Lab1HughesMarc.html', 'Lab2 (1).html', 'Lab2.html', 'Lab2HughesMarc-1 (1).html', 'Lab2HughesMarc-1.html', 'Lab2HughesMarc.html', 'Lab3HughesMarc.html', 'Lab4HughesMarc.html', 'Lab5HughesMarc.html', 'Lab6HughesMarc.html', 'Lab7HughesMarc (1).html', 'Lab7HughesMarc.html', 'Lab9HughesMarc.html', 'Lancet obesity covid19.pdf', 'lbna25581enn.pdf', 'learningD3Day1.js', 'learningD3Day5.js', 'Lecture 5 - Complete.pdf', 'Lecture 6 - Complete.pdf', 'Leson3_Lab3SamplingandPopulation (1).ipynb', 'Leson3_Lab3SamplingandPopulation.ipynb', 'Lesson10_Lab10BikeTripVizulization.ipynb', 'Lesson11_Lab11HypothesisTesing.ipynb', 'Lesson12_Lab12Clustering.ipynb', 'Lesson13_Lab13_Tuning_Sentiment_Classification_DT.ipynb', 'Lesson1_Lab1_ColabNotebookTable_Slides (1).pdf', 'Lesson1_Lab1_ColabNotebookTable_Slides.pdf', 'Lesson1_Lab_1_Intro_to_Jupyter_Table (1).ipynb', 'Lesson1_Lab_1_Intro_to_Jupyter_Table.ipynb', 'Lesson2_Lab2QueriesToStructuredData (1).ipynb', 'Lesson2_Lab2QueriesToStructuredData (2).ipynb', 'Lesson2_Lab2QueriesToStructuredData.ipynb', 'Lesson4_Lab4Correlation (1).ipynb', 'Lesson4_Lab4Correlation.ipynb', 'Lesson5_Lab5TweetsGathering.ipynb', 'Lesson6_Lab_6_Train_and_Interpret_Decision_Trees_for_NFL_Prediction_and_Cancer_Diagnosis.ipynb', 'Lesson7_Lab7HyperParameterTuningforCancerDiagnosis.ipynb', 'Lesson9_Lab_9_Stratified_k_fold_CV_for_Breast_Cancer_DT_Optimization.ipynb', 'Lichen Data 2021 Student.xlsx', 'LinkedInPFP-removebg-preview (1).jpg', 'LinkedInPFP-removebg-preview (2).jpg', 'LinkedInPFP-removebg-preview (3).jpg', 'LinkedInPFP-removebg-preview.jpg', 'loyalty_data.csv', 'M03 Group Problem Solving (1).docx', 'M03 Group Problem Solving (2).docx', 'M03 Group Problem Solving.docx', 'M05 Group Problem (1).pdf', 'M05 Group Problem.pdf', 'M07 Group Problem Solving.docx', 'Macromolecule Table (1) (1).pdf', 'Macromolecule Table (1).pdf', 'Macromolecule Table (1).xlsx', 'Macromolecule Table.xlsx', 'MacSweeney et al. (2008).pdf', 'main (1).py', 'main (2).py', 'main (3).py', 'main-1 (1).py', 'main-1.py', 'main-2 (1).py', 'main-2.py', 'main-3.py', 'main.py', 'Marc Hughes 3rd-Year Resume (1).docx', 'Marc Hughes 3rd-Year Resume.pdf', 'Marc Hughes Essay Peer Review 2 (1).pdf', 'Marc Hughes Essay Peer Review 2.pdf', 'Marc Hughes Introduction Poster IST110 - Copy (1).pdf', 'Marc Hughes Introduction Poster IST110 - Copy.pdf', 'Marc Hughes IST110 Excel Assignment.xlsx', 'Marc Hughes Resume (1).pdf', 'Marc Hughes Resume (2).pdf', 'Marc Hughes Resume.pdf', 'Marc Hughes Technical Resume (1).pdf', 'Marc Hughes Technical Resume with notes.docx', 'Marc Hughes Technical Resume.docx', 'Marc Hughes Technical Resume.pdf', 'Marc Hughes Test 2 (1).xlsx', 'Marc Hughes Test 2 (2).xlsx', 'Marc Hughes Test 2 (3).xlsx', 'Marc Hughes Test 2 (4).xlsx', 'Marc Hughes Test 2.xlsx', 'Marc Hughes_DS Intern Assignment_Niederle (1).pdf', 'Marc Hughes_DS Intern Assignment_Niederle (2).pdf', 'Marc Hughes_DS Intern Assignment_Niederle.pdf', 'Marc+Hughes+3rd-Year+Resume.pdf', 'Marc-Hughes.pdf', 'MarcHughesHeadshot (1).jpg', 'MarcHughesResume (1).PDF', 'MarcHughesResume-1.PDF', 'MarcHughesResume.PDF', 'marchughes__20230221.zip', 'marchughes__20230420.zip', 'Marc_Hughes_Resume (1).PDF', 'Marc_Hughes_Resume (2).PDF', 'Marc_Hughes_Resume.PDF', 'MATH 141 Presentation 1 (1).pdf', 'MATH 141 Presentation 1.pdf', 'MATH 141 Presentation 2 (1).pdf', 'MATH 141 Presentation 2.pdf', 'MATH 220 Written Homework (1).pdf', 'MATH 220 Written Homework.pdf', 'MATH 220 Written HW 3 (1).pdf', 'MATH 220 Written HW 3 (2).pdf', 'MATH 220 Written HW 3.pdf', 'MATH141-1-Syllabus-Spring2022 (1).pdf', 'MATH141-1-Syllabus-Spring2022 (2).pdf', 'MATH141-1-Syllabus-Spring2022.pdf', 'MATH220WrittenHW4 (1).pdf', 'MATH220WrittenHW4.pdf', 'MATH220WrittenHW5 (1).pdf', 'MATH220WrittenHW5.pdf', 'MATH220WrittenHW6 (1).pdf', 'MATH220WrittenHW6.pdf', 'MATH220WrittenHW7 (1).pdf', 'MATH220WrittenHW7 (2).pdf', 'MATH220WrittenHW7 (3).pdf', 'MATH220WrittenHW7.pdf', 'MATH220WrittenHW8 (1).pdf', 'MATH220WrittenHW8.pdf', 'MC2-tourist.jpg', 'Melissa-Findley-nature-presets.zip', 'Metric Conversion Problem Set.jpg', 'Metric system practice_aes (1).docx', 'Metric system practice_aes (2).docx', 'Metric system practice_aes (3).docx', 'Metric system practice_aes (4).docx', 'Metric system practice_aes (5).docx', 'Metric system practice_aes (5).pdf', 'Metric system practice_aes.docx', 'Midterm 1 Review Notes from 9 -25.pdf', 'Midterm 1 study guide.docx', 'Midterm-Review.pdf', 'Midterm-Review.Rmd', 'miktexsetup-5.2.0+b8f430f-x64 (1).zip', 'miktexsetup-5.2.0+b8f430f-x64 (2).zip', 'miktexsetup-5.2.0+b8f430f-x64.zip', 'MilitaryFamily data.xlsx', 'Mindfulness_Tryit (1).docx', 'Mindfulness_Tryit.docx', 'Minneapolis2013.csv', 'mixed_model.rda', 'Module 3 Response Paper.docx', 'Module 4 Response Paper.docx', 'mongodb-compass-1.32.2-win32-x64 (1).exe', 'mongodb-compass-1.32.2-win32-x64.exe', 'mongodb-windows-x86_64-5.0.9-signed.msi', 'mongosh-1.5.0-win32-x64 (1)', 'mongosh-1.5.0-win32-x64 (1).zip', 'mongosh-1.5.0-win32-x64 (2).zip', 'mongosh-1.5.0-win32-x64.zip', 'Motorized Door Lock Parts (1).stl', 'Motorized Door Lock Parts.stl', 'Motorized_Door_Lock.zip', 'MUSIC7 End of Term Assignment.docx', 'MUSIC7 Jazz Concert Review.docx', 'Music_7_Syllabus_SP23_120722.pdf', 'My project-1.png', 'NBA_2016.csv', 'Nick Jones_transcript.docx', 'NickFox_FlirtyCover_Reddit.pdf', 'NoTour.1.mov', 'NoTour.2.mov', 'NSBUDownloader.exe', 'Nuclear Waste.pdf', 'NUTR 251 FALL 2020 Syllabus 8-19-20.pdf', 'nyc_temperature.csv', 'OF03707-2022071411814 (1).PDF', 'OF03707-2022071411814.PDF', 'OF06468-20230618162659 (1).PDF', 'OF06468-20230618162659 (2).PDF', 'OF06468-20230618162659 (3).PDF', 'OF06468-20230618162659.PDF', 'OF08778-202308025724.PDF', 'OF08779-202308025724 (1).PDF', 'OF08779-202308025724.PDF', 'Offer Letter Marc Hughes (1).pdf', 'Offer Letter Marc Hughes.pdf', 'OfficeSetup (1).exe', 'OfficeSetup.exe', 'OIP (1).jfif', 'OIP (2).jfif', 'OIP (3).jfif', 'OIP.jfif', 'OneDrive_1_11-16-2021.zip', 'OnlineApplication.pdf', 'Paraphrasing (1).docx', 'Paraphrasing (2).docx', 'Paraphrasing (3).docx', 'Paraphrasing (4).docx', 'Paraphrasing.docx', 'ParkingReport.PDF', 'Participation.jpg', 'ParticipationPractice10.py', 'ParticipationPractice14-1.py', 'ParticipationPractice14.py', 'ParticipationPractice2 (1).py', 'ParticipationPractice2 (2).py', 'ParticipationPractice2 (3).py', 'ParticipationPractice2.py', 'ParticipationPractice3', 'ParticipationPractice4 (1).py', 'ParticipationPractice4 (2).py', 'ParticipationPractice4.py', 'ParticipationPractice4Fin.py', 'ParticipationPractice5', 'ParticipationPractice5.docx', 'PAYMENT_RECEIPT_1550192551.pdf', 'PAYMENT_RECEIPT_1556616994.pdf', 'PAYMENT_RECEIPT_1559700109.pdf', 'PAYMENT_RECEIPT_1563996499.pdf', 'PAYMENT_RECEIPT_1569066734.pdf', 'PAYMENT_RECEIPT_1569936540.pdf', 'Peer Review Ad Analysis (1).docx', 'Peer Review Ad Analysis (2) (1).docx', 'Peer Review Ad Analysis (2).docx', 'Peer Review Ad Analysis (Marc) (1).docx', 'Peer Review Ad Analysis (Marc) (2).docx', 'Peer Review Ad Analysis (Marc) (3).docx', 'Peer Review Ad Analysis (Marc) (4).docx', 'Peer Review Ad Analysis (Marc) (5).docx', 'Peer Review Ad Analysis (Marc) (6).docx', 'Peer Review Ad Analysis (Marc).docx', 'Peer Review Ad Analysis.docx', 'Peer Review Exploring an Issue (1) (1).pdf', 'Peer Review Exploring an Issue (1).docx', 'Peer Review Exploring an Issue (1).pdf', 'Peer Review Exploring an Issue (2).docx', 'Peer Review Exploring an Issue (2).pdf', 'Peer Review Exploring an Issue (3).docx', 'Peer Review Exploring an Issue (Marc).docx', 'Peer Review Exploring an Issue.docx', 'Peer Review Personal Essay (1) (1).pdf', 'Peer Review Personal Essay (1).docx', 'Peer Review Personal Essay (1).pdf', 'Peer Review Personal Essay (2).pdf', 'Peer Review Personal Essay (Marc) (1).docx', 'Peer Review Personal Essay (Marc).docx', 'Peer Review Personal Essay.docx', 'Peer Review Personal Essay.pdf', 'PennStateWireless+Eduroam (1).MSI', 'PennStateWireless+Eduroam.MSI', 'Personal Narrative Essay   (1).docx', 'Personal Narrative Essay   (2).docx', 'Personal Narrative Essay   (3) (1).docx', 'Personal Narrative Essay   (3).docx', 'Personal Narrative Essay  .docx', 'Personal Narrative Essay.pdf', 'Personal Narrative RD.docx', 'personal narrative.docx', 'Personalized Gear.stl', 'Pivot Table Spreadsheet Copy (1).xlsx', 'Pivot Table Spreadsheet Copy.xlsx', 'Pivot Table Spreadsheet.xlsx', 'player_data.csv', 'Pollick&deWaal (2007).pdf', 'post-type-switcher.zip', 'postgresql-14.4-1-windows-x64.exe', 'PRECIP_HLY_sample_csv.csv', 'Prelab 1.pdf', 'Prelab 2.pdf', 'Prelab 3.pdf', 'Prelab 4.pdf', 'Prelab 6.pdf', 'Prelab 7.pdf', 'Presentation1 (1).pptx', 'Presentation1.pptx', 'Problem Set Excel Graph.pdf', 'Problem#1.py', 'Problem#2.py', 'Process Preparation Outline (1).docx', 'Process Preparation Outline.docx', 'ProcrastinationAssessmentScale2011 (1).doc', 'Project Proposal (1).pdf', 'Project Proposal.pdf', 'ProjectDraftDataCleaning.html', 'ProjectDraftDataCollection (1).html', 'ProjectDraftDataCollection.html', 'Psych 243 FINAL (MID PROJECT).docx', 'PSYCH 243 Midterm Article Analysis.pdf', 'PSYCH243 Try-it Talk to Strangers (1).docx', 'PSYCH243 Try-it Talk to Strangers (2).docx', 'PSYCH243 Try-it Talk to Strangers.docx', 'Psych243_Syll_Sp23.docx', 'Psych243_Syll_Sp23.pdf', 'PYSCH 243 Reflection Assignment.docx', 'python-3.10.1-amd64 (1).exe', 'python-3.10.1-amd64.exe', 'python-3.11.4-amd64.exe', 'quarto-1.2.313-win.msi', 'Quiz#1 (1).docx', 'Quiz#1 (2).docx', 'Quiz#1.docx', 'Quiz#2 (1).docx', 'Quiz#2 (2).docx', 'Quiz#2.docx', 'Quiz#3.docx', 'Quiz#4.docx', 'Quiz#5.docx', 'Quiz2Problem2.py', 'Quiz2Problem3.py', 'Quiz4Problem1.py', 'Quiz4Problem2.py', 'Quotation Analysis Homework.docx', 'R (1).jfif', 'R (2).jfif', 'R-4.2.1-win.exe', 'R-4.3.1-win.exe', 'R.jfif', 'Ramus et al(2000).pdf', 'RECEIPT.pdf', 'redis-7.0.2 (1).tar.gz', 'redis-7.0.2.tar', 'redis-7.0.2.tar 2', 'regressioin.xlsx', 'Remo-Event-Guide-for-Guests-040122 (1).pdf', 'Remo-Event-Guide-for-Guests-040122.pdf', 'REN2574898000500 (1).PDF', 'REN2574898000500 (2).PDF', 'REN2574898000500.PDF', 'REN2574898010500 (1).PDF', 'REN2574898010500.PDF', 'Review sheet for midterm 1.docx', 'Review sheet for midterm 2.docx', 'Rhetorical Analysis of Gender and King.pptx', 'RMarkdownSchedule.nb (1).html', 'RMarkdownSchedule.nb.html', 'RMarkdownSchedule.Rmd', 'RStudio-2022.07.1-554.exe', 'rtools42-5253-5107-signed.exe', 's43017-023-00431-y.pdf', 'SAA_STD_DS.pdf', 'salary_data.csv', 'Sample Activity-Log (1).docx', 'Sample Activity-Log.docx', 'Sample Article Response (1).docx', 'Sample Article Response.docx', 'sample excel test questions-1.xlsx', 'Sample process preparation outline-making money.pdf', 'Sample process preparation outline-string a fishing pole.pdf', 'Sample process preparation outline-wine making.pdf', 'sample test 4.xlsx', 'ScheduleActivity.nb.html', 'Screen Shot 2022-02-21 at 10.30.21 PM (1).png', 'Screen Shot 2022-02-21 at 10.30.21 PM.png', 'Screenshot (4).png', 'Screenshot 2023-08-25 204202.png', 'Self-Driving Car Final.edl', 'Self-RegulationQuestionnaireInfo.pdf', 'SFSalaries2011_2014.csv', 'signed_packet_file_lease_document_14162051_1639498764.pdf', 'SitesatPennStateGettingStartedGuide.pdf', 'SlackSetup (1).exe', 'SlackSetup.exe', 'SP_2023-MXH917.ics', 'SQLReview 1910.pdf', 'SQL_advanced 1911.pdf', 'stackelizabeth_6838979_87940671_Personal Narrative 1 (1).docx', 'stackelizabeth_6838979_87940671_Personal Narrative 1.docx', 'Stair.1.mov', 'STAT 100 Exam 1s21 (1).docx', 'STAT 100 Exam 1s21.docx', 'STAT 100 Exam 2S21.docx', 'STAT 100 Exam 3S21.docx', 'STAT 100 FinalC (1).docx', 'STAT 100 FinalC.docx', 'STAT 100 Quiz 1.docx', 'STAT 100 Quiz 2 (1).docx', 'STAT 100 Quiz 2.docx', 'STAT 100 Quiz 3.docx', 'STAT 100 Quiz 4a.docx', 'STAT 184 8_31 due sep 7 HeightMeasurements data - Sheet1.csv', 'STAT 184 8_31 due sep 7 HeightMeasurements data.xlsx', 'STAT 184 Activity 1.docx', 'Stat 200 Syllabus V1.0 (1).docx', 'Stat 200 Syllabus V1.0 (2).docx', 'Stat 200 Syllabus V1.0.docx', 'STAT 318 Homework 1.pdf', 'STAT 318 Homework 2 (1).pdf', 'STAT 318 Homework 2.pdf', 'STAT 318 Homework 3 (1).pdf', 'STAT 318 Homework 3.pdf', 'STAT 318 Homework 4 (1).pdf', 'STAT 318 Homework 4.pdf', 'STAT 318 HW12.pdf', 'Stat 380 Final Report (1) (1) (1).pdf', 'Stat 380 Final Report (1) (1).pdf', 'Stat 380 Final Report (1).pdf', 'Stat 380 Final Report.pdf', 'STAT184Ch10HW-1.nb (1).html', 'STAT184Ch10HW-1.nb (2).html', 'STAT184Ch10HW-1.nb.html', 'STAT184Ch10HW-1.Rmd', 'STAT184Ch10HW.nb.html', 'STAT184Ch11Hw.nb (1).html', 'STAT184Ch11Hw.nb.html', 'STAT184Ch8Hw-1 (1).Rmd', 'STAT184Ch8Hw-1.nb (1).html', 'STAT184Ch8Hw-1.nb.html', 'STAT184Ch8Hw-1.Rmd', 'STAT184Ch8Hw.nb.html', 'STAT184HW5.nb (1).html', 'STAT184HW5.nb.html', 'STAT318Homework11 (1).pdf', 'STAT318Homework11.pdf', 'STAT318HW10.pdf', 'STAT318HW5 (1).pdf', 'STAT318HW5.pdf', 'STAT318Hw6 (1).pdf', 'STAT318Hw6.pdf', 'STAT318HW7 (1).pdf', 'STAT318HW7.pdf', 'STAT318HW8 (1).pdf', 'STAT318HW8.pdf', 'STAT318HW9 (1).pdf', 'STAT318HW9 (2).pdf', 'STAT318HW9 (3).pdf', 'STAT318HW9.pdf', 'STAT318Midterm1CheatSheet.pdf', 'STAT380 Final Project NYC Ridership Prediction.pptx', 'STAT380 Notes for Jack.qmd', 'STAT380-Preliminary-Presentation (1).zip', 'STAT380-Preliminary-Presentation.zip', 'station.csv', 'Stationing_and_Dispatch.pdf', 'Stats 200 Test 1 Hughes (1).xlsx', 'Stats 200 Test 1 Hughes (2).xlsx', 'Stats 200 Test 1 Hughes (3).xlsx', 'Stats 200 Test 1 Hughes (4).xlsx', 'Stats 200 Test 1 Hughes.xlsx', 'stdev.xlsx', 'SteamSetup.exe', 'Story Board (1).pdf', 'Story Board.pdf', 'Storyboard Document (1).docx', 'Storyboard Document (2).docx', 'Storyboard Document (3).docx', 'Storyboard Document.docx', 'Storyboard Document.pdf', 'Storyboard Template.png', 'street-addresses.csv', 'StrengthsProfile-Marc-Hughes.pdf', 'Stroke_paper.ipynb', 'Student Management System Project 3 (1).pptx', 'Student Management System Project 3.pptx', 'Student Managment System (1) (1).pptx', 'Student Managment System (1).pptx', 'Student Managment System (2) (1).pptx', 'Student Managment System (2).pptx', 'Student Managment System.pptx', 'StudentManagementSystem_Fin-3.py', 'StudentManagementSystem_Fin-4.py', 'StudentManagementSystem_Fin.py', 'Study_Guide_Exam_3.doc', 'TableauDesktop-64bit-2022-3-0.exe', 'TeamsSetupx64_s_8DA4CBA61BB4872-7-0_c_w_.exe', 'TeamsSetup_c_w_.exe', 'Test 1.xlsx', 'Test 2.xlsx', 'test 4 (1).xlsm', 'test 4 (2).xlsm', 'test 4 (3).xlsm', 'test 4 (4).xlsm', 'test 4.xlsm', 'Test 5 (1).xlsm', 'Test 5.xlsm', 'Test 7.xlsm', 'Test 8.xlsm', 'The Personal Narrative (1).pptx', 'The Personal Narrative.pptx', 'the-epic-2-by-rafael-krux.mp3', 'this_message_in_html.html', 'thumbnail_IMG_0268 - Copy - Copy.jpg', 'thumbnail_IMG_0269.jpg', 'thumbnail_IMG_0270 (1).jpg', 'thumbnail_IMG_0270.jpg', 'thumbnail_IMG_0271.jpg', 'thumbnail_IMG_0272.jpg', 'thumbnail_IMG_0273.jpg', 'thumbnail_IMG_0274.jpg', 'thumbnail_IMG_0275.jpg', 'thumbnail_IMG_0276.jpg', 'thumbnail_IMG_0277.jpg', 'thumbnail_IMG_0367.jpg', 'thumbnail_IMG_0389.jpg', 'thumbnail_IMG_6267 (1).jpg', 'thumbnail_IMG_6267.jpg', 'thumbnail_IMG_6323 (1).jpg', 'thumbnail_IMG_6323.jpg', 'tidy-extra-credit-answer.csv', 'tidy-extra-credit.csv', 'titanic (1).csv', 'titanic.csv', 'ToCar.1.mov', 'Todoist-win32-8.6.0.exe', 'Transaction Report.pdf', 'trip.csv', 'Turning Back the Clock_.docx', 'uniconverter13_setup_full9657.exe', 'University Intellectual Property Agreement (1).pdf', 'University Intellectual Property Agreement (2).pdf', 'University Intellectual Property Agreement.pdf', 'unnamed.jpg', 'UnsignedDocument (1).pdf', 'UnsignedDocument.pdf', 'Urbanization in the Late 19th Century (1).docx', 'Urbanization in the Late 19th Century.docx', 'venv', 'vgsales.csv', 'vgsales.csv.zip', 'VisualStudioSetup.exe', 'VSCodeUserSetup-x64-1.70.2.exe', 'Walking.1 (1).mov', 'Walking.1.mov', 'WalkIST.1.mov', 'Week 0 - Activity Log.docx', 'Week 0 - Individual Activity Log.docx', 'weight_watcher (1).py', 'weight_watcher (2).py', 'weight_watcher (3).py', 'weight_watcher (4).py', 'weight_watcher-1 (1).py', 'weight_watcher-1.py', 'weight_watcher.py', 'Welcome_to_ENGL015.pptx', 'WMNST 106N Ad Analysis.docx', 'WMNST 106N Definition Essay.docx', 'WMNST 106N List of Characters.docx', 'WMNST 106N Wonder Woman Reaction.docx', \"Worker's Compensation.pdf\", 'Written Homework #2 (1).pdf', 'Written Homework #2.pdf', 'ZOgtbI.webp', 'Zoom Recording Instructions_aes (1).docx', 'Zoom Recording Instructions_aes.docx', 'ZoomInstaller.exe', 'Zyboooks Quiz 1-4  (1).pptx', 'Zyboooks Quiz 1-4 .pptx', '_tmp__lease_documents_20211214093449.pdf', '_tmp__lease_documents_20221201052649.pdf', '~$ 220 Final Doc (1).docx', '~$Macromolecule Table.xlsx', '~DS330TableauExercise6__38372.twbr']\n"
     ]
    }
   ],
   "source": [
    "import numpy as np\n",
    "import pandas as pd\n",
    "import matplotlib.pyplot as plt\n",
    "import seaborn as sns\n",
    "\n",
    "%matplotlib inline\n",
    "\n",
    "import os\n",
    "print(os.listdir())\n",
    "\n",
    "import warnings\n",
    "warnings.filterwarnings('ignore')"
   ]
  },
  {
   "cell_type": "markdown",
   "metadata": {
    "_uuid": "44e71221837f6fa60edc2c83b7492ddb019cc1cd"
   },
   "source": [
    "## II. Importing and understanding our dataset "
   ]
  },
  {
   "cell_type": "code",
   "execution_count": 11,
   "metadata": {
    "_uuid": "2a1a1dae64ae3c934849b2b918bc7d68cd59e3f6"
   },
   "outputs": [],
   "source": [
    "dataset = pd.read_csv(\"heart.csv\")"
   ]
  },
  {
   "cell_type": "markdown",
   "metadata": {
    "_uuid": "481fa1d160a3256ef2470535bfb0574820fbaabd"
   },
   "source": [
    "#### Verifying it as a 'dataframe' object in pandas"
   ]
  },
  {
   "cell_type": "code",
   "execution_count": 12,
   "metadata": {
    "_uuid": "86353d54a331dbf55a63874402cf13e2a72c3750"
   },
   "outputs": [
    {
     "data": {
      "text/plain": [
       "pandas.core.frame.DataFrame"
      ]
     },
     "execution_count": 12,
     "metadata": {},
     "output_type": "execute_result"
    }
   ],
   "source": [
    "type(dataset)"
   ]
  },
  {
   "cell_type": "markdown",
   "metadata": {
    "_uuid": "44649a50ce58d2e10a032f7d0e7ecf435e932481"
   },
   "source": [
    "#### Shape of dataset"
   ]
  },
  {
   "cell_type": "code",
   "execution_count": 13,
   "metadata": {
    "_uuid": "0a2396061d262bee451e61dd51be84d0bd1ac9d0"
   },
   "outputs": [
    {
     "data": {
      "text/plain": [
       "(303, 14)"
      ]
     },
     "execution_count": 13,
     "metadata": {},
     "output_type": "execute_result"
    }
   ],
   "source": [
    "dataset.shape"
   ]
  },
  {
   "cell_type": "markdown",
   "metadata": {
    "_uuid": "3e1de0c39fc28f086a5e8377cc5fbdbf91d377b3"
   },
   "source": [
    "#### Printing out a few columns"
   ]
  },
  {
   "cell_type": "code",
   "execution_count": 14,
   "metadata": {
    "_uuid": "87ebcc578e5959fe9a9c9a538c73122183454459"
   },
   "outputs": [
    {
     "data": {
      "text/html": [
       "<div>\n",
       "<style scoped>\n",
       "    .dataframe tbody tr th:only-of-type {\n",
       "        vertical-align: middle;\n",
       "    }\n",
       "\n",
       "    .dataframe tbody tr th {\n",
       "        vertical-align: top;\n",
       "    }\n",
       "\n",
       "    .dataframe thead th {\n",
       "        text-align: right;\n",
       "    }\n",
       "</style>\n",
       "<table border=\"1\" class=\"dataframe\">\n",
       "  <thead>\n",
       "    <tr style=\"text-align: right;\">\n",
       "      <th></th>\n",
       "      <th>age</th>\n",
       "      <th>sex</th>\n",
       "      <th>cp</th>\n",
       "      <th>trestbps</th>\n",
       "      <th>chol</th>\n",
       "      <th>fbs</th>\n",
       "      <th>restecg</th>\n",
       "      <th>thalach</th>\n",
       "      <th>exang</th>\n",
       "      <th>oldpeak</th>\n",
       "      <th>slope</th>\n",
       "      <th>ca</th>\n",
       "      <th>thal</th>\n",
       "      <th>target</th>\n",
       "    </tr>\n",
       "  </thead>\n",
       "  <tbody>\n",
       "    <tr>\n",
       "      <th>0</th>\n",
       "      <td>63</td>\n",
       "      <td>1</td>\n",
       "      <td>3</td>\n",
       "      <td>145</td>\n",
       "      <td>233</td>\n",
       "      <td>1</td>\n",
       "      <td>0</td>\n",
       "      <td>150</td>\n",
       "      <td>0</td>\n",
       "      <td>2.3</td>\n",
       "      <td>0</td>\n",
       "      <td>0</td>\n",
       "      <td>1</td>\n",
       "      <td>1</td>\n",
       "    </tr>\n",
       "    <tr>\n",
       "      <th>1</th>\n",
       "      <td>37</td>\n",
       "      <td>1</td>\n",
       "      <td>2</td>\n",
       "      <td>130</td>\n",
       "      <td>250</td>\n",
       "      <td>0</td>\n",
       "      <td>1</td>\n",
       "      <td>187</td>\n",
       "      <td>0</td>\n",
       "      <td>3.5</td>\n",
       "      <td>0</td>\n",
       "      <td>0</td>\n",
       "      <td>2</td>\n",
       "      <td>1</td>\n",
       "    </tr>\n",
       "    <tr>\n",
       "      <th>2</th>\n",
       "      <td>41</td>\n",
       "      <td>0</td>\n",
       "      <td>1</td>\n",
       "      <td>130</td>\n",
       "      <td>204</td>\n",
       "      <td>0</td>\n",
       "      <td>0</td>\n",
       "      <td>172</td>\n",
       "      <td>0</td>\n",
       "      <td>1.4</td>\n",
       "      <td>2</td>\n",
       "      <td>0</td>\n",
       "      <td>2</td>\n",
       "      <td>1</td>\n",
       "    </tr>\n",
       "    <tr>\n",
       "      <th>3</th>\n",
       "      <td>56</td>\n",
       "      <td>1</td>\n",
       "      <td>1</td>\n",
       "      <td>120</td>\n",
       "      <td>236</td>\n",
       "      <td>0</td>\n",
       "      <td>1</td>\n",
       "      <td>178</td>\n",
       "      <td>0</td>\n",
       "      <td>0.8</td>\n",
       "      <td>2</td>\n",
       "      <td>0</td>\n",
       "      <td>2</td>\n",
       "      <td>1</td>\n",
       "    </tr>\n",
       "    <tr>\n",
       "      <th>4</th>\n",
       "      <td>57</td>\n",
       "      <td>0</td>\n",
       "      <td>0</td>\n",
       "      <td>120</td>\n",
       "      <td>354</td>\n",
       "      <td>0</td>\n",
       "      <td>1</td>\n",
       "      <td>163</td>\n",
       "      <td>1</td>\n",
       "      <td>0.6</td>\n",
       "      <td>2</td>\n",
       "      <td>0</td>\n",
       "      <td>2</td>\n",
       "      <td>1</td>\n",
       "    </tr>\n",
       "  </tbody>\n",
       "</table>\n",
       "</div>"
      ],
      "text/plain": [
       "   age  sex  cp  trestbps  chol  fbs  restecg  thalach  exang  oldpeak  slope  \\\n",
       "0   63    1   3       145   233    1        0      150      0      2.3      0   \n",
       "1   37    1   2       130   250    0        1      187      0      3.5      0   \n",
       "2   41    0   1       130   204    0        0      172      0      1.4      2   \n",
       "3   56    1   1       120   236    0        1      178      0      0.8      2   \n",
       "4   57    0   0       120   354    0        1      163      1      0.6      2   \n",
       "\n",
       "   ca  thal  target  \n",
       "0   0     1       1  \n",
       "1   0     2       1  \n",
       "2   0     2       1  \n",
       "3   0     2       1  \n",
       "4   0     2       1  "
      ]
     },
     "execution_count": 14,
     "metadata": {},
     "output_type": "execute_result"
    }
   ],
   "source": [
    "dataset.head(5)"
   ]
  },
  {
   "cell_type": "code",
   "execution_count": 15,
   "metadata": {
    "_uuid": "5132eb43114bf99d5f857f459d0c9d2faffc9644"
   },
   "outputs": [
    {
     "data": {
      "text/html": [
       "<div>\n",
       "<style scoped>\n",
       "    .dataframe tbody tr th:only-of-type {\n",
       "        vertical-align: middle;\n",
       "    }\n",
       "\n",
       "    .dataframe tbody tr th {\n",
       "        vertical-align: top;\n",
       "    }\n",
       "\n",
       "    .dataframe thead th {\n",
       "        text-align: right;\n",
       "    }\n",
       "</style>\n",
       "<table border=\"1\" class=\"dataframe\">\n",
       "  <thead>\n",
       "    <tr style=\"text-align: right;\">\n",
       "      <th></th>\n",
       "      <th>age</th>\n",
       "      <th>sex</th>\n",
       "      <th>cp</th>\n",
       "      <th>trestbps</th>\n",
       "      <th>chol</th>\n",
       "      <th>fbs</th>\n",
       "      <th>restecg</th>\n",
       "      <th>thalach</th>\n",
       "      <th>exang</th>\n",
       "      <th>oldpeak</th>\n",
       "      <th>slope</th>\n",
       "      <th>ca</th>\n",
       "      <th>thal</th>\n",
       "      <th>target</th>\n",
       "    </tr>\n",
       "  </thead>\n",
       "  <tbody>\n",
       "    <tr>\n",
       "      <th>202</th>\n",
       "      <td>58</td>\n",
       "      <td>1</td>\n",
       "      <td>0</td>\n",
       "      <td>150</td>\n",
       "      <td>270</td>\n",
       "      <td>0</td>\n",
       "      <td>0</td>\n",
       "      <td>111</td>\n",
       "      <td>1</td>\n",
       "      <td>0.8</td>\n",
       "      <td>2</td>\n",
       "      <td>0</td>\n",
       "      <td>3</td>\n",
       "      <td>0</td>\n",
       "    </tr>\n",
       "    <tr>\n",
       "      <th>76</th>\n",
       "      <td>51</td>\n",
       "      <td>1</td>\n",
       "      <td>2</td>\n",
       "      <td>125</td>\n",
       "      <td>245</td>\n",
       "      <td>1</td>\n",
       "      <td>0</td>\n",
       "      <td>166</td>\n",
       "      <td>0</td>\n",
       "      <td>2.4</td>\n",
       "      <td>1</td>\n",
       "      <td>0</td>\n",
       "      <td>2</td>\n",
       "      <td>1</td>\n",
       "    </tr>\n",
       "    <tr>\n",
       "      <th>113</th>\n",
       "      <td>43</td>\n",
       "      <td>1</td>\n",
       "      <td>0</td>\n",
       "      <td>110</td>\n",
       "      <td>211</td>\n",
       "      <td>0</td>\n",
       "      <td>1</td>\n",
       "      <td>161</td>\n",
       "      <td>0</td>\n",
       "      <td>0.0</td>\n",
       "      <td>2</td>\n",
       "      <td>0</td>\n",
       "      <td>3</td>\n",
       "      <td>1</td>\n",
       "    </tr>\n",
       "    <tr>\n",
       "      <th>112</th>\n",
       "      <td>64</td>\n",
       "      <td>0</td>\n",
       "      <td>2</td>\n",
       "      <td>140</td>\n",
       "      <td>313</td>\n",
       "      <td>0</td>\n",
       "      <td>1</td>\n",
       "      <td>133</td>\n",
       "      <td>0</td>\n",
       "      <td>0.2</td>\n",
       "      <td>2</td>\n",
       "      <td>0</td>\n",
       "      <td>3</td>\n",
       "      <td>1</td>\n",
       "    </tr>\n",
       "    <tr>\n",
       "      <th>78</th>\n",
       "      <td>52</td>\n",
       "      <td>1</td>\n",
       "      <td>1</td>\n",
       "      <td>128</td>\n",
       "      <td>205</td>\n",
       "      <td>1</td>\n",
       "      <td>1</td>\n",
       "      <td>184</td>\n",
       "      <td>0</td>\n",
       "      <td>0.0</td>\n",
       "      <td>2</td>\n",
       "      <td>0</td>\n",
       "      <td>2</td>\n",
       "      <td>1</td>\n",
       "    </tr>\n",
       "  </tbody>\n",
       "</table>\n",
       "</div>"
      ],
      "text/plain": [
       "     age  sex  cp  trestbps  chol  fbs  restecg  thalach  exang  oldpeak  \\\n",
       "202   58    1   0       150   270    0        0      111      1      0.8   \n",
       "76    51    1   2       125   245    1        0      166      0      2.4   \n",
       "113   43    1   0       110   211    0        1      161      0      0.0   \n",
       "112   64    0   2       140   313    0        1      133      0      0.2   \n",
       "78    52    1   1       128   205    1        1      184      0      0.0   \n",
       "\n",
       "     slope  ca  thal  target  \n",
       "202      2   0     3       0  \n",
       "76       1   0     2       1  \n",
       "113      2   0     3       1  \n",
       "112      2   0     3       1  \n",
       "78       2   0     2       1  "
      ]
     },
     "execution_count": 15,
     "metadata": {},
     "output_type": "execute_result"
    }
   ],
   "source": [
    "dataset.sample(5)"
   ]
  },
  {
   "cell_type": "markdown",
   "metadata": {
    "_uuid": "1113236bec2848d33c5bfe088ff0d03246b8b7ce"
   },
   "source": [
    "#### Description"
   ]
  },
  {
   "cell_type": "code",
   "execution_count": 16,
   "metadata": {
    "_uuid": "c31619815cb0dae5586985671fdc21110b39a821"
   },
   "outputs": [
    {
     "data": {
      "text/html": [
       "<div>\n",
       "<style scoped>\n",
       "    .dataframe tbody tr th:only-of-type {\n",
       "        vertical-align: middle;\n",
       "    }\n",
       "\n",
       "    .dataframe tbody tr th {\n",
       "        vertical-align: top;\n",
       "    }\n",
       "\n",
       "    .dataframe thead th {\n",
       "        text-align: right;\n",
       "    }\n",
       "</style>\n",
       "<table border=\"1\" class=\"dataframe\">\n",
       "  <thead>\n",
       "    <tr style=\"text-align: right;\">\n",
       "      <th></th>\n",
       "      <th>age</th>\n",
       "      <th>sex</th>\n",
       "      <th>cp</th>\n",
       "      <th>trestbps</th>\n",
       "      <th>chol</th>\n",
       "      <th>fbs</th>\n",
       "      <th>restecg</th>\n",
       "      <th>thalach</th>\n",
       "      <th>exang</th>\n",
       "      <th>oldpeak</th>\n",
       "      <th>slope</th>\n",
       "      <th>ca</th>\n",
       "      <th>thal</th>\n",
       "      <th>target</th>\n",
       "    </tr>\n",
       "  </thead>\n",
       "  <tbody>\n",
       "    <tr>\n",
       "      <th>count</th>\n",
       "      <td>303.000000</td>\n",
       "      <td>303.000000</td>\n",
       "      <td>303.000000</td>\n",
       "      <td>303.000000</td>\n",
       "      <td>303.000000</td>\n",
       "      <td>303.000000</td>\n",
       "      <td>303.000000</td>\n",
       "      <td>303.000000</td>\n",
       "      <td>303.000000</td>\n",
       "      <td>303.000000</td>\n",
       "      <td>303.000000</td>\n",
       "      <td>303.000000</td>\n",
       "      <td>303.000000</td>\n",
       "      <td>303.000000</td>\n",
       "    </tr>\n",
       "    <tr>\n",
       "      <th>mean</th>\n",
       "      <td>54.366337</td>\n",
       "      <td>0.683168</td>\n",
       "      <td>0.966997</td>\n",
       "      <td>131.623762</td>\n",
       "      <td>246.264026</td>\n",
       "      <td>0.148515</td>\n",
       "      <td>0.528053</td>\n",
       "      <td>149.646865</td>\n",
       "      <td>0.326733</td>\n",
       "      <td>1.039604</td>\n",
       "      <td>1.399340</td>\n",
       "      <td>0.729373</td>\n",
       "      <td>2.313531</td>\n",
       "      <td>0.544554</td>\n",
       "    </tr>\n",
       "    <tr>\n",
       "      <th>std</th>\n",
       "      <td>9.082101</td>\n",
       "      <td>0.466011</td>\n",
       "      <td>1.032052</td>\n",
       "      <td>17.538143</td>\n",
       "      <td>51.830751</td>\n",
       "      <td>0.356198</td>\n",
       "      <td>0.525860</td>\n",
       "      <td>22.905161</td>\n",
       "      <td>0.469794</td>\n",
       "      <td>1.161075</td>\n",
       "      <td>0.616226</td>\n",
       "      <td>1.022606</td>\n",
       "      <td>0.612277</td>\n",
       "      <td>0.498835</td>\n",
       "    </tr>\n",
       "    <tr>\n",
       "      <th>min</th>\n",
       "      <td>29.000000</td>\n",
       "      <td>0.000000</td>\n",
       "      <td>0.000000</td>\n",
       "      <td>94.000000</td>\n",
       "      <td>126.000000</td>\n",
       "      <td>0.000000</td>\n",
       "      <td>0.000000</td>\n",
       "      <td>71.000000</td>\n",
       "      <td>0.000000</td>\n",
       "      <td>0.000000</td>\n",
       "      <td>0.000000</td>\n",
       "      <td>0.000000</td>\n",
       "      <td>0.000000</td>\n",
       "      <td>0.000000</td>\n",
       "    </tr>\n",
       "    <tr>\n",
       "      <th>25%</th>\n",
       "      <td>47.500000</td>\n",
       "      <td>0.000000</td>\n",
       "      <td>0.000000</td>\n",
       "      <td>120.000000</td>\n",
       "      <td>211.000000</td>\n",
       "      <td>0.000000</td>\n",
       "      <td>0.000000</td>\n",
       "      <td>133.500000</td>\n",
       "      <td>0.000000</td>\n",
       "      <td>0.000000</td>\n",
       "      <td>1.000000</td>\n",
       "      <td>0.000000</td>\n",
       "      <td>2.000000</td>\n",
       "      <td>0.000000</td>\n",
       "    </tr>\n",
       "    <tr>\n",
       "      <th>50%</th>\n",
       "      <td>55.000000</td>\n",
       "      <td>1.000000</td>\n",
       "      <td>1.000000</td>\n",
       "      <td>130.000000</td>\n",
       "      <td>240.000000</td>\n",
       "      <td>0.000000</td>\n",
       "      <td>1.000000</td>\n",
       "      <td>153.000000</td>\n",
       "      <td>0.000000</td>\n",
       "      <td>0.800000</td>\n",
       "      <td>1.000000</td>\n",
       "      <td>0.000000</td>\n",
       "      <td>2.000000</td>\n",
       "      <td>1.000000</td>\n",
       "    </tr>\n",
       "    <tr>\n",
       "      <th>75%</th>\n",
       "      <td>61.000000</td>\n",
       "      <td>1.000000</td>\n",
       "      <td>2.000000</td>\n",
       "      <td>140.000000</td>\n",
       "      <td>274.500000</td>\n",
       "      <td>0.000000</td>\n",
       "      <td>1.000000</td>\n",
       "      <td>166.000000</td>\n",
       "      <td>1.000000</td>\n",
       "      <td>1.600000</td>\n",
       "      <td>2.000000</td>\n",
       "      <td>1.000000</td>\n",
       "      <td>3.000000</td>\n",
       "      <td>1.000000</td>\n",
       "    </tr>\n",
       "    <tr>\n",
       "      <th>max</th>\n",
       "      <td>77.000000</td>\n",
       "      <td>1.000000</td>\n",
       "      <td>3.000000</td>\n",
       "      <td>200.000000</td>\n",
       "      <td>564.000000</td>\n",
       "      <td>1.000000</td>\n",
       "      <td>2.000000</td>\n",
       "      <td>202.000000</td>\n",
       "      <td>1.000000</td>\n",
       "      <td>6.200000</td>\n",
       "      <td>2.000000</td>\n",
       "      <td>4.000000</td>\n",
       "      <td>3.000000</td>\n",
       "      <td>1.000000</td>\n",
       "    </tr>\n",
       "  </tbody>\n",
       "</table>\n",
       "</div>"
      ],
      "text/plain": [
       "              age         sex          cp    trestbps        chol         fbs  \\\n",
       "count  303.000000  303.000000  303.000000  303.000000  303.000000  303.000000   \n",
       "mean    54.366337    0.683168    0.966997  131.623762  246.264026    0.148515   \n",
       "std      9.082101    0.466011    1.032052   17.538143   51.830751    0.356198   \n",
       "min     29.000000    0.000000    0.000000   94.000000  126.000000    0.000000   \n",
       "25%     47.500000    0.000000    0.000000  120.000000  211.000000    0.000000   \n",
       "50%     55.000000    1.000000    1.000000  130.000000  240.000000    0.000000   \n",
       "75%     61.000000    1.000000    2.000000  140.000000  274.500000    0.000000   \n",
       "max     77.000000    1.000000    3.000000  200.000000  564.000000    1.000000   \n",
       "\n",
       "          restecg     thalach       exang     oldpeak       slope          ca  \\\n",
       "count  303.000000  303.000000  303.000000  303.000000  303.000000  303.000000   \n",
       "mean     0.528053  149.646865    0.326733    1.039604    1.399340    0.729373   \n",
       "std      0.525860   22.905161    0.469794    1.161075    0.616226    1.022606   \n",
       "min      0.000000   71.000000    0.000000    0.000000    0.000000    0.000000   \n",
       "25%      0.000000  133.500000    0.000000    0.000000    1.000000    0.000000   \n",
       "50%      1.000000  153.000000    0.000000    0.800000    1.000000    0.000000   \n",
       "75%      1.000000  166.000000    1.000000    1.600000    2.000000    1.000000   \n",
       "max      2.000000  202.000000    1.000000    6.200000    2.000000    4.000000   \n",
       "\n",
       "             thal      target  \n",
       "count  303.000000  303.000000  \n",
       "mean     2.313531    0.544554  \n",
       "std      0.612277    0.498835  \n",
       "min      0.000000    0.000000  \n",
       "25%      2.000000    0.000000  \n",
       "50%      2.000000    1.000000  \n",
       "75%      3.000000    1.000000  \n",
       "max      3.000000    1.000000  "
      ]
     },
     "execution_count": 16,
     "metadata": {},
     "output_type": "execute_result"
    }
   ],
   "source": [
    "dataset.describe()"
   ]
  },
  {
   "cell_type": "code",
   "execution_count": 17,
   "metadata": {
    "_uuid": "718b82039841c137ab7e08a6e79e264643134642"
   },
   "outputs": [
    {
     "name": "stdout",
     "output_type": "stream",
     "text": [
      "<class 'pandas.core.frame.DataFrame'>\n",
      "RangeIndex: 303 entries, 0 to 302\n",
      "Data columns (total 14 columns):\n",
      " #   Column    Non-Null Count  Dtype  \n",
      "---  ------    --------------  -----  \n",
      " 0   age       303 non-null    int64  \n",
      " 1   sex       303 non-null    int64  \n",
      " 2   cp        303 non-null    int64  \n",
      " 3   trestbps  303 non-null    int64  \n",
      " 4   chol      303 non-null    int64  \n",
      " 5   fbs       303 non-null    int64  \n",
      " 6   restecg   303 non-null    int64  \n",
      " 7   thalach   303 non-null    int64  \n",
      " 8   exang     303 non-null    int64  \n",
      " 9   oldpeak   303 non-null    float64\n",
      " 10  slope     303 non-null    int64  \n",
      " 11  ca        303 non-null    int64  \n",
      " 12  thal      303 non-null    int64  \n",
      " 13  target    303 non-null    int64  \n",
      "dtypes: float64(1), int64(13)\n",
      "memory usage: 33.3 KB\n"
     ]
    }
   ],
   "source": [
    "dataset.info()"
   ]
  },
  {
   "cell_type": "code",
   "execution_count": 18,
   "metadata": {
    "_uuid": "99d7182ca186d37f63b1fc433fe74ad5e2bc7d2f"
   },
   "outputs": [],
   "source": [
    "###Luckily, we have no missing values"
   ]
  },
  {
   "cell_type": "markdown",
   "metadata": {
    "_uuid": "85b59fefde7c5ecdb50e3b8da0cb719f4e14630f"
   },
   "source": [
    "#### Let's understand our columns better:"
   ]
  },
  {
   "cell_type": "code",
   "execution_count": 19,
   "metadata": {
    "_uuid": "5593d1021d54aad598c21f877e57969e6b47f5a8"
   },
   "outputs": [
    {
     "name": "stdout",
     "output_type": "stream",
     "text": [
      "age:\t\t\tage\n",
      "sex:\t\t\t1: male, 0: female\n",
      "cp:\t\t\tchest pain type, 1: typical angina, 2: atypical angina, 3: non-anginal pain, 4: asymptomatic\n",
      "trestbps:\t\t\tresting blood pressure\n",
      "chol:\t\t\t serum cholestoral in mg/dl\n",
      "fbs:\t\t\tfasting blood sugar > 120 mg/dl\n",
      "restecg:\t\t\tresting electrocardiographic results (values 0,1,2)\n",
      "thalach:\t\t\t maximum heart rate achieved\n",
      "exang:\t\t\texercise induced angina\n",
      "oldpeak:\t\t\toldpeak = ST depression induced by exercise relative to rest\n",
      "slope:\t\t\tthe slope of the peak exercise ST segment\n",
      "ca:\t\t\tnumber of major vessels (0-3) colored by flourosopy\n",
      "thal:\t\t\tthal: 3 = normal; 6 = fixed defect; 7 = reversable defect\n"
     ]
    }
   ],
   "source": [
    "info = [\"age\",\"1: male, 0: female\",\"chest pain type, 1: typical angina, 2: atypical angina, 3: non-anginal pain, 4: asymptomatic\",\"resting blood pressure\",\" serum cholestoral in mg/dl\",\"fasting blood sugar > 120 mg/dl\",\"resting electrocardiographic results (values 0,1,2)\",\" maximum heart rate achieved\",\"exercise induced angina\",\"oldpeak = ST depression induced by exercise relative to rest\",\"the slope of the peak exercise ST segment\",\"number of major vessels (0-3) colored by flourosopy\",\"thal: 3 = normal; 6 = fixed defect; 7 = reversable defect\"]\n",
    "\n",
    "\n",
    "\n",
    "for i in range(len(info)):\n",
    "    print(dataset.columns[i]+\":\\t\\t\\t\"+info[i])"
   ]
  },
  {
   "cell_type": "markdown",
   "metadata": {
    "_uuid": "6a970312b67b588610a8579ecc2ba4bac0fcee04"
   },
   "source": [
    "#### Analysing the 'target' variable"
   ]
  },
  {
   "cell_type": "code",
   "execution_count": 20,
   "metadata": {
    "_uuid": "b883243919bd382193ed15e2a90f9b522bf6f1f7"
   },
   "outputs": [
    {
     "data": {
      "text/plain": [
       "count    303.000000\n",
       "mean       0.544554\n",
       "std        0.498835\n",
       "min        0.000000\n",
       "25%        0.000000\n",
       "50%        1.000000\n",
       "75%        1.000000\n",
       "max        1.000000\n",
       "Name: target, dtype: float64"
      ]
     },
     "execution_count": 20,
     "metadata": {},
     "output_type": "execute_result"
    }
   ],
   "source": [
    "dataset[\"target\"].describe()"
   ]
  },
  {
   "cell_type": "code",
   "execution_count": 21,
   "metadata": {
    "_uuid": "9c107b83e0148914826282bf1f0ab28505d577ab"
   },
   "outputs": [
    {
     "data": {
      "text/plain": [
       "array([1, 0], dtype=int64)"
      ]
     },
     "execution_count": 21,
     "metadata": {},
     "output_type": "execute_result"
    }
   ],
   "source": [
    "dataset[\"target\"].unique()"
   ]
  },
  {
   "cell_type": "markdown",
   "metadata": {
    "_uuid": "8c96e97e3f52844e8c4c6ff069f53bfe97c9982d"
   },
   "source": [
    "#### Clearly, this is a classification problem, with the target variable having values '0' and '1'"
   ]
  },
  {
   "cell_type": "markdown",
   "metadata": {
    "_uuid": "3ae0dfa26e2daf4cfc8e1c6f3b5008d0dab22ec0"
   },
   "source": [
    "### Checking correlation between columns"
   ]
  },
  {
   "cell_type": "code",
   "execution_count": 22,
   "metadata": {
    "_uuid": "3059188d3874be2e0c80e13655609ac6a6fc644f"
   },
   "outputs": [
    {
     "name": "stdout",
     "output_type": "stream",
     "text": [
      "target      1.000000\n",
      "exang       0.436757\n",
      "cp          0.433798\n",
      "oldpeak     0.430696\n",
      "thalach     0.421741\n",
      "ca          0.391724\n",
      "slope       0.345877\n",
      "thal        0.344029\n",
      "sex         0.280937\n",
      "age         0.225439\n",
      "trestbps    0.144931\n",
      "restecg     0.137230\n",
      "chol        0.085239\n",
      "fbs         0.028046\n",
      "Name: target, dtype: float64\n"
     ]
    }
   ],
   "source": [
    "print(dataset.corr()[\"target\"].abs().sort_values(ascending=False))"
   ]
  },
  {
   "cell_type": "code",
   "execution_count": 23,
   "metadata": {
    "_uuid": "6e8cf6f86952d94764c1021207fa5b383b2b84bf"
   },
   "outputs": [],
   "source": [
    "#This shows that most columns are moderately correlated with target, but 'fbs' is very weakly correlated."
   ]
  },
  {
   "cell_type": "markdown",
   "metadata": {
    "_uuid": "40b6c0a9d03bcab78b87bd41c7df3fe1b930547a"
   },
   "source": [
    "## Exploratory Data Analysis (EDA)"
   ]
  },
  {
   "cell_type": "markdown",
   "metadata": {
    "_uuid": "41da6ba94903ad6ee64b1ba6a1462815ae603536"
   },
   "source": [
    "### First, analysing the target variable:"
   ]
  },
  {
   "cell_type": "code",
   "execution_count": 24,
   "metadata": {
    "_uuid": "29aa23ccb8e6438688e16346b3474f4cc03bae13"
   },
   "outputs": [
    {
     "name": "stdout",
     "output_type": "stream",
     "text": [
      "target\n",
      "1    165\n",
      "0    138\n",
      "Name: count, dtype: int64\n"
     ]
    },
    {
     "data": {
      "image/png": "[encoded data removed]",
      "text/plain": [
       "<Figure size 640x480 with 1 Axes>"
      ]
     },
     "metadata": {},
     "output_type": "display_data"
    }
   ],
   "source": [
    "y = dataset[\"target\"]\n",
    "\n",
    "sns.countplot(y)\n",
    "\n",
    "\n",
    "target_temp = dataset.target.value_counts()\n",
    "\n",
    "print(target_temp)"
   ]
  },
  {
   "cell_type": "code",
   "execution_count": 25,
   "metadata": {
    "_uuid": "5240af8bcd12736900050cea077c713d7d9641df"
   },
   "outputs": [
    {
     "name": "stdout",
     "output_type": "stream",
     "text": [
      "Percentage of patience without heart problems: 45.54\n",
      "Percentage of patience with heart problems: 54.46\n"
     ]
    }
   ],
   "source": [
    "print(\"Percentage of patience without heart problems: \"+str(round(target_temp[0]*100/303,2)))\n",
    "print(\"Percentage of patience with heart problems: \"+str(round(target_temp[1]*100/303,2)))\n",
    "\n",
    "#Alternatively,\n",
    "# print(\"Percentage of patience with heart problems: \"+str(y.where(y==1).count()*100/303))\n",
    "# print(\"Percentage of patience with heart problems: \"+str(y.where(y==0).count()*100/303))\n",
    "\n",
    "# #Or,\n",
    "# countNoDisease = len(df[df.target == 0])\n",
    "# countHaveDisease = len(df[df.target == 1])"
   ]
  },
  {
   "cell_type": "markdown",
   "metadata": {
    "_uuid": "e7de1da221d4ee72e89c365fecfa7d4506f1b184"
   },
   "source": [
    "### We'll analyse 'sex', 'cp', 'fbs', 'restecg', 'exang', 'slope', 'ca' and 'thal' features"
   ]
  },
  {
   "cell_type": "markdown",
   "metadata": {
    "_uuid": "82f9919a1312b53f22980a0071d077e5b0288d90"
   },
   "source": [
    "### Analysing the 'Sex' feature"
   ]
  },
  {
   "cell_type": "code",
   "execution_count": 26,
   "metadata": {
    "_uuid": "07a3fb2f44b82360d0393377029851655bcdcd31"
   },
   "outputs": [
    {
     "data": {
      "text/plain": [
       "array([1, 0], dtype=int64)"
      ]
     },
     "execution_count": 26,
     "metadata": {},
     "output_type": "execute_result"
    }
   ],
   "source": [
    "dataset[\"sex\"].unique()"
   ]
  },
  {
   "cell_type": "markdown",
   "metadata": {
    "_uuid": "623fe97e454ea061942ec6d948adeb5b7026cc65"
   },
   "source": [
    "##### We notice, that as expected, the 'sex' feature has 2 unique features"
   ]
  },
  {
   "cell_type": "code",
   "execution_count": 32,
   "metadata": {
    "_uuid": "5d10e6c167251e6d3b1b82a06159da234eeef721"
   },
   "outputs": [
    {
     "data": {
      "text/plain": [
       "<Axes: xlabel='sex', ylabel='target'>"
      ]
     },
     "execution_count": 32,
     "metadata": {},
     "output_type": "execute_result"
    },
    {
     "data": {
      "image/png": "[encoded data removed]",
      "text/plain": [
       "<Figure size 640x480 with 1 Axes>"
      ]
     },
     "metadata": {},
     "output_type": "display_data"
    }
   ],
   "source": [
    "sns.barplot(x=dataset[\"sex\"], y=y)"
   ]
  },
  {
   "cell_type": "markdown",
   "metadata": {
    "_uuid": "31142d6b72ae034487a088860fe9c7ff85cf7ca2"
   },
   "source": [
    "##### We notice, that females are more likely to have heart problems than males"
   ]
  },
  {
   "cell_type": "markdown",
   "metadata": {
    "_uuid": "f7bbd747b02746eadfa2b525544509c8545ac1af"
   },
   "source": [
    "### Analysing the 'Chest Pain Type' feature"
   ]
  },
  {
   "cell_type": "code",
   "execution_count": 33,
   "metadata": {
    "_uuid": "7c795d4a86ee05d58e10a412add90065afbd4a70"
   },
   "outputs": [
    {
     "data": {
      "text/plain": [
       "array([3, 2, 1, 0], dtype=int64)"
      ]
     },
     "execution_count": 33,
     "metadata": {},
     "output_type": "execute_result"
    }
   ],
   "source": [
    "dataset[\"cp\"].unique()"
   ]
  },
  {
   "cell_type": "markdown",
   "metadata": {
    "_uuid": "4e83947e6876ffa63837c7e5ce1364a53cbfa499"
   },
   "source": [
    "##### As expected, the CP feature has values from 0 to 3"
   ]
  },
  {
   "cell_type": "code",
   "execution_count": 36,
   "metadata": {
    "_uuid": "56d6ed2b3d8d20a61814980cd459502b452d14c1"
   },
   "outputs": [
    {
     "data": {
      "text/plain": [
       "<Axes: xlabel='cp', ylabel='target'>"
      ]
     },
     "execution_count": 36,
     "metadata": {},
     "output_type": "execute_result"
    },
    {
     "data": {
      "image/png": "[encoded data removed]",
      "text/plain": [
       "<Figure size 640x480 with 1 Axes>"
      ]
     },
     "metadata": {},
     "output_type": "display_data"
    }
   ],
   "source": [
    "sns.barplot(x=dataset[\"cp\"],y=y)"
   ]
  },
  {
   "cell_type": "markdown",
   "metadata": {
    "_uuid": "510c7c3a7386a7e308cc6052025dc806fad61534"
   },
   "source": [
    "##### We notice, that chest pain of '0', i.e. the ones with typical angina are much less likely to have heart problems"
   ]
  },
  {
   "cell_type": "markdown",
   "metadata": {
    "_uuid": "bb50bd1cedd31d29683e2411439368aa1390e7ef"
   },
   "source": [
    "### Analysing the FBS feature"
   ]
  },
  {
   "cell_type": "code",
   "execution_count": 37,
   "metadata": {
    "_uuid": "55f9ca01da5294b5404f3eb14d202ae90e0ea1bf"
   },
   "outputs": [
    {
     "data": {
      "text/plain": [
       "count    303.000000\n",
       "mean       0.148515\n",
       "std        0.356198\n",
       "min        0.000000\n",
       "25%        0.000000\n",
       "50%        0.000000\n",
       "75%        0.000000\n",
       "max        1.000000\n",
       "Name: fbs, dtype: float64"
      ]
     },
     "execution_count": 37,
     "metadata": {},
     "output_type": "execute_result"
    }
   ],
   "source": [
    "dataset[\"fbs\"].describe()"
   ]
  },
  {
   "cell_type": "code",
   "execution_count": 38,
   "metadata": {
    "_uuid": "43d491d311a8b96a6a9cbecbeff87f577584cd3a"
   },
   "outputs": [
    {
     "data": {
      "text/plain": [
       "array([1, 0], dtype=int64)"
      ]
     },
     "execution_count": 38,
     "metadata": {},
     "output_type": "execute_result"
    }
   ],
   "source": [
    "dataset[\"fbs\"].unique()"
   ]
  },
  {
   "cell_type": "code",
   "execution_count": 40,
   "metadata": {
    "_uuid": "90509dcee97df858115131c771e69347a044aafb"
   },
   "outputs": [
    {
     "data": {
      "text/plain": [
       "<Axes: xlabel='fbs', ylabel='target'>"
      ]
     },
     "execution_count": 40,
     "metadata": {},
     "output_type": "execute_result"
    },
    {
     "data": {
      "image/png": "[encoded data removed]",
      "text/plain": [
       "<Figure size 640x480 with 1 Axes>"
      ]
     },
     "metadata": {},
     "output_type": "display_data"
    }
   ],
   "source": [
    "sns.barplot(x=dataset[\"fbs\"], y=y)"
   ]
  },
  {
   "cell_type": "markdown",
   "metadata": {
    "_uuid": "7ec0ef582de18e2ddd06083d4caca7f760ba3700"
   },
   "source": [
    "##### Nothing extraordinary here"
   ]
  },
  {
   "cell_type": "markdown",
   "metadata": {
    "_uuid": "5a8d6384c879ed40eddefed03b16607bc02deecf"
   },
   "source": [
    "### Analysing the restecg feature"
   ]
  },
  {
   "cell_type": "code",
   "execution_count": 41,
   "metadata": {
    "_uuid": "b12fcc535fe07bc58aa99e97ec9b4e0b01f30a8d"
   },
   "outputs": [
    {
     "data": {
      "text/plain": [
       "array([0, 1, 2], dtype=int64)"
      ]
     },
     "execution_count": 41,
     "metadata": {},
     "output_type": "execute_result"
    }
   ],
   "source": [
    "dataset[\"restecg\"].unique()"
   ]
  },
  {
   "cell_type": "code",
   "execution_count": 42,
   "metadata": {
    "_uuid": "ccae9489c2b6e63adb87cef83d367f49ef08a133"
   },
   "outputs": [
    {
     "data": {
      "text/plain": [
       "<Axes: xlabel='restecg', ylabel='target'>"
      ]
     },
     "execution_count": 42,
     "metadata": {},
     "output_type": "execute_result"
    },
    {
     "data": {
      "image/png": "[encoded data removed]",
      "text/plain": [
       "<Figure size 640x480 with 1 Axes>"
      ]
     },
     "metadata": {},
     "output_type": "display_data"
    }
   ],
   "source": [
    "sns.barplot(x=dataset[\"restecg\"], y=y)"
   ]
  },
  {
   "cell_type": "markdown",
   "metadata": {
    "_uuid": "84cf1d3ca8d3507765bbb3763834c3795380f1bf"
   },
   "source": [
    "##### We realize that people with restecg '1' and '0' are much more likely to have a heart disease than with restecg '2'"
   ]
  },
  {
   "cell_type": "markdown",
   "metadata": {
    "_uuid": "efaf4d85a6837cf43bd5b33d4eaaf193bc6fedc1"
   },
   "source": [
    "### Analysing the 'exang' feature"
   ]
  },
  {
   "cell_type": "code",
   "execution_count": 44,
   "metadata": {
    "_uuid": "53dd2985ea50aa6f9c9e5931050b4ef7b7aa609d"
   },
   "outputs": [
    {
     "data": {
      "text/plain": [
       "array([0, 1], dtype=int64)"
      ]
     },
     "execution_count": 44,
     "metadata": {},
     "output_type": "execute_result"
    }
   ],
   "source": [
    "dataset[\"exang\"].unique()"
   ]
  },
  {
   "cell_type": "code",
   "execution_count": 43,
   "metadata": {
    "_uuid": "237a60a2a11dab86e50cafcee4ec47df752876a1"
   },
   "outputs": [
    {
     "data": {
      "text/plain": [
       "<Axes: xlabel='exang', ylabel='target'>"
      ]
     },
     "execution_count": 43,
     "metadata": {},
     "output_type": "execute_result"
    },
    {
     "data": {
      "image/png": "[encoded data removed]",
      "text/plain": [
       "<Figure size 640x480 with 1 Axes>"
      ]
     },
     "metadata": {},
     "output_type": "display_data"
    }
   ],
   "source": [
    "sns.barplot(x=dataset[\"exang\"], y=y)"
   ]
  },
  {
   "cell_type": "markdown",
   "metadata": {
    "_uuid": "f442f08734344740ebc225af7a565bcb91962dca"
   },
   "source": [
    "##### People with exang=1 i.e. Exercise induced angina are much less likely to have heart problems"
   ]
  },
  {
   "cell_type": "markdown",
   "metadata": {
    "_uuid": "4ce2d649ededc2126324cd07ce430b005697e288"
   },
   "source": [
    "### Analysing the Slope feature"
   ]
  },
  {
   "cell_type": "code",
   "execution_count": 46,
   "metadata": {
    "_uuid": "e1e148d25967c36d2bb5fbfb802c70dae93f8a4f"
   },
   "outputs": [
    {
     "data": {
      "text/plain": [
       "array([0, 2, 1], dtype=int64)"
      ]
     },
     "execution_count": 46,
     "metadata": {},
     "output_type": "execute_result"
    }
   ],
   "source": [
    "dataset[\"slope\"].unique()"
   ]
  },
  {
   "cell_type": "code",
   "execution_count": 47,
   "metadata": {
    "_uuid": "beaa943c166b3c550fe357e6e937dbda46b707c9"
   },
   "outputs": [
    {
     "data": {
      "text/plain": [
       "<Axes: xlabel='slope', ylabel='target'>"
      ]
     },
     "execution_count": 47,
     "metadata": {},
     "output_type": "execute_result"
    },
    {
     "data": {
      "image/png": "[encoded data removed]",
      "text/plain": [
       "<Figure size 640x480 with 1 Axes>"
      ]
     },
     "metadata": {},
     "output_type": "display_data"
    }
   ],
   "source": [
    "sns.barplot(x=dataset[\"slope\"], y=y)"
   ]
  },
  {
   "cell_type": "markdown",
   "metadata": {
    "_uuid": "3141a4a203dd433dd7af6c02c1d0b44d048656a0"
   },
   "source": [
    "##### We observe, that Slope '2' causes heart pain much more than Slope '0' and '1'"
   ]
  },
  {
   "cell_type": "markdown",
   "metadata": {
    "_uuid": "c0b39456274f1e0f402704714494161ddc55f16a"
   },
   "source": [
    "### Analysing the 'ca' feature"
   ]
  },
  {
   "cell_type": "code",
   "execution_count": 48,
   "metadata": {
    "_uuid": "50db41d7e9ebe645bc7c6fcbaf26194176c274db"
   },
   "outputs": [],
   "source": [
    "#number of major vessels (0-3) colored by flourosopy"
   ]
  },
  {
   "cell_type": "code",
   "execution_count": 49,
   "metadata": {
    "_uuid": "a3b7ed6661d24dc399963afbca1e08d79243b431"
   },
   "outputs": [
    {
     "data": {
      "text/plain": [
       "array([0, 2, 1, 3, 4], dtype=int64)"
      ]
     },
     "execution_count": 49,
     "metadata": {},
     "output_type": "execute_result"
    }
   ],
   "source": [
    "dataset[\"ca\"].unique()"
   ]
  },
  {
   "cell_type": "code",
   "execution_count": 52,
   "metadata": {
    "_uuid": "f463859906d0287c68152ebe3cadc241e569802c"
   },
   "outputs": [
    {
     "data": {
      "text/plain": [
       "<Axes: xlabel='ca', ylabel='count'>"
      ]
     },
     "execution_count": 52,
     "metadata": {},
     "output_type": "execute_result"
    },
    {
     "data": {
      "image/png": "[encoded data removed]",
      "text/plain": [
       "<Figure size 640x480 with 1 Axes>"
      ]
     },
     "metadata": {},
     "output_type": "display_data"
    }
   ],
   "source": [
    "sns.countplot(x=dataset[\"ca\"])"
   ]
  },
  {
   "cell_type": "code",
   "execution_count": 54,
   "metadata": {
    "_uuid": "81483318bc63c7434eeb75515483c329abcf15e3"
   },
   "outputs": [
    {
     "data": {
      "text/plain": [
       "<Axes: xlabel='ca', ylabel='target'>"
      ]
     },
     "execution_count": 54,
     "metadata": {},
     "output_type": "execute_result"
    },
    {
     "data": {
      "image/png": "[encoded data removed]",
      "text/plain": [
       "<Figure size 640x480 with 1 Axes>"
      ]
     },
     "metadata": {},
     "output_type": "display_data"
    }
   ],
   "source": [
    "sns.barplot(x=dataset[\"ca\"], y=y)"
   ]
  },
  {
   "cell_type": "markdown",
   "metadata": {
    "_uuid": "87671e11e19372848af999bb17d061f577eb08b5"
   },
   "source": [
    "##### ca=4 has astonishingly large number of heart patients"
   ]
  },
  {
   "cell_type": "code",
   "execution_count": 55,
   "metadata": {
    "_uuid": "b4b057d99c7c3cdbe9e304a75b399f214f352aba"
   },
   "outputs": [],
   "source": [
    "### Analysing the 'thal' feature"
   ]
  },
  {
   "cell_type": "code",
   "execution_count": 56,
   "metadata": {
    "_uuid": "16eaf9a5f7433be2028369818aa54e2bf01e544e"
   },
   "outputs": [
    {
     "data": {
      "text/plain": [
       "array([1, 2, 3, 0], dtype=int64)"
      ]
     },
     "execution_count": 56,
     "metadata": {},
     "output_type": "execute_result"
    }
   ],
   "source": [
    "dataset[\"thal\"].unique()"
   ]
  },
  {
   "cell_type": "code",
   "execution_count": 58,
   "metadata": {
    "_uuid": "08947d9c4b05d68b2fe5ae70e33566063c44f8d4"
   },
   "outputs": [
    {
     "data": {
      "text/plain": [
       "<Axes: xlabel='thal', ylabel='target'>"
      ]
     },
     "execution_count": 58,
     "metadata": {},
     "output_type": "execute_result"
    },
    {
     "data": {
      "image/png": "[encoded data removed]",
      "text/plain": [
       "<Figure size 640x480 with 1 Axes>"
      ]
     },
     "metadata": {},
     "output_type": "display_data"
    }
   ],
   "source": [
    "sns.barplot(x=dataset[\"thal\"], y=y)"
   ]
  },
  {
   "cell_type": "code",
   "execution_count": 61,
   "metadata": {
    "_uuid": "dc84bb1643cbed20e8ac5980db59ffd54d5b581c"
   },
   "outputs": [
    {
     "data": {
      "text/plain": [
       "<Axes: ylabel='Density'>"
      ]
     },
     "execution_count": 61,
     "metadata": {},
     "output_type": "execute_result"
    },
    {
     "data": {
      "image/png": "[encoded data removed]",
      "text/plain": [
       "<Figure size 640x480 with 1 Axes>"
      ]
     },
     "metadata": {},
     "output_type": "display_data"
    }
   ],
   "source": [
    "sns.distplot(x=dataset[\"thal\"])"
   ]
  },
  {
   "cell_type": "markdown",
   "metadata": {
    "_uuid": "d1c95f2180e264978c85703ece34898dab4d522b"
   },
   "source": [
    "## IV. Train Test split"
   ]
  },
  {
   "cell_type": "code",
   "execution_count": 62,
   "metadata": {
    "_uuid": "829fcda5b63e1b9f7ecb7762e8ca617166533aca"
   },
   "outputs": [],
   "source": [
    "from sklearn.model_selection import train_test_split\n",
    "\n",
    "predictors = dataset.drop(\"target\",axis=1)\n",
    "target = dataset[\"target\"]\n",
    "\n",
    "X_train,X_test,Y_train,Y_test = train_test_split(predictors,target,test_size=0.20,random_state=0)"
   ]
  },
  {
   "cell_type": "code",
   "execution_count": 63,
   "metadata": {
    "_uuid": "7a74842015c2f193d16caa4fa25e2c4cbf1940f8"
   },
   "outputs": [
    {
     "data": {
      "text/plain": [
       "(242, 13)"
      ]
     },
     "execution_count": 63,
     "metadata": {},
     "output_type": "execute_result"
    }
   ],
   "source": [
    "X_train.shape"
   ]
  },
  {
   "cell_type": "code",
   "execution_count": 64,
   "metadata": {
    "_uuid": "1f777652df4521deb877dac4d5d635d8cd35b279"
   },
   "outputs": [
    {
     "data": {
      "text/plain": [
       "(61, 13)"
      ]
     },
     "execution_count": 64,
     "metadata": {},
     "output_type": "execute_result"
    }
   ],
   "source": [
    "X_test.shape"
   ]
  },
  {
   "cell_type": "code",
   "execution_count": 65,
   "metadata": {
    "_uuid": "028c968a076840657faf7dbc3bfee9fe7b5ca45a"
   },
   "outputs": [
    {
     "data": {
      "text/plain": [
       "(242,)"
      ]
     },
     "execution_count": 65,
     "metadata": {},
     "output_type": "execute_result"
    }
   ],
   "source": [
    "Y_train.shape"
   ]
  },
  {
   "cell_type": "code",
   "execution_count": 66,
   "metadata": {
    "_uuid": "eb6857dfc18da52dae38bec95d20106f39136e61"
   },
   "outputs": [
    {
     "data": {
      "text/plain": [
       "(61,)"
      ]
     },
     "execution_count": 66,
     "metadata": {},
     "output_type": "execute_result"
    }
   ],
   "source": [
    "Y_test.shape"
   ]
  },
  {
   "cell_type": "markdown",
   "metadata": {
    "_uuid": "3b4f28488a92917f26e9876c1880295ec9c077ed"
   },
   "source": [
    "## V. Model Fitting"
   ]
  },
  {
   "cell_type": "code",
   "execution_count": 67,
   "metadata": {
    "_uuid": "fe363c1be8335a48a4444660db5fa6bd0a24b71a"
   },
   "outputs": [],
   "source": [
    "from sklearn.metrics import accuracy_score"
   ]
  },
  {
   "cell_type": "markdown",
   "metadata": {
    "_uuid": "afa6b322cbc225f3353bd295aea24fe5fbbb78fe"
   },
   "source": [
    "### Logistic Regression"
   ]
  },
  {
   "cell_type": "code",
   "execution_count": 68,
   "metadata": {
    "_uuid": "9aea2f597203ccf38cd0d67ae58bff6e163dea1c"
   },
   "outputs": [],
   "source": [
    "from sklearn.linear_model import LogisticRegression\n",
    "\n",
    "lr = LogisticRegression()\n",
    "\n",
    "lr.fit(X_train,Y_train)\n",
    "\n",
    "Y_pred_lr = lr.predict(X_test)"
   ]
  },
  {
   "cell_type": "code",
   "execution_count": 69,
   "metadata": {
    "_uuid": "58fb833d1c74355ebdafe926968632942f377421"
   },
   "outputs": [
    {
     "data": {
      "text/plain": [
       "(61,)"
      ]
     },
     "execution_count": 69,
     "metadata": {},
     "output_type": "execute_result"
    }
   ],
   "source": [
    "Y_pred_lr.shape"
   ]
  },
  {
   "cell_type": "code",
   "execution_count": 70,
   "metadata": {
    "_uuid": "ee4cba838316adf863f8daf131d36a970d36b839"
   },
   "outputs": [
    {
     "name": "stdout",
     "output_type": "stream",
     "text": [
      "The accuracy score achieved using Logistic Regression is: 85.25 %\n"
     ]
    }
   ],
   "source": [
    "score_lr = round(accuracy_score(Y_pred_lr,Y_test)*100,2)\n",
    "\n",
    "print(\"The accuracy score achieved using Logistic Regression is: \"+str(score_lr)+\" %\")"
   ]
  },
  {
   "cell_type": "markdown",
   "metadata": {
    "_uuid": "4f92fceb9584ae03d3ab370ee11899cb287be690"
   },
   "source": [
    "### Naive Bayes"
   ]
  },
  {
   "cell_type": "code",
   "execution_count": 71,
   "metadata": {
    "_uuid": "ffcdab99b4108902547f0179a242a9757078dc68"
   },
   "outputs": [],
   "source": [
    "from sklearn.naive_bayes import GaussianNB\n",
    "\n",
    "nb = GaussianNB()\n",
    "\n",
    "nb.fit(X_train,Y_train)\n",
    "\n",
    "Y_pred_nb = nb.predict(X_test)"
   ]
  },
  {
   "cell_type": "code",
   "execution_count": 72,
   "metadata": {
    "_uuid": "9109059d06e4c92494451b3cdab0bbb5a1816072"
   },
   "outputs": [
    {
     "data": {
      "text/plain": [
       "(61,)"
      ]
     },
     "execution_count": 72,
     "metadata": {},
     "output_type": "execute_result"
    }
   ],
   "source": [
    "Y_pred_nb.shape"
   ]
  },
  {
   "cell_type": "code",
   "execution_count": 73,
   "metadata": {
    "_uuid": "e8f8f55db061ada0b669ffa46e9ecc745fcda1ae"
   },
   "outputs": [
    {
     "name": "stdout",
     "output_type": "stream",
     "text": [
      "The accuracy score achieved using Naive Bayes is: 85.25 %\n"
     ]
    }
   ],
   "source": [
    "score_nb = round(accuracy_score(Y_pred_nb,Y_test)*100,2)\n",
    "\n",
    "print(\"The accuracy score achieved using Naive Bayes is: \"+str(score_nb)+\" %\")"
   ]
  },
  {
   "cell_type": "markdown",
   "metadata": {
    "_uuid": "2af8b010893284bae0d6cccf66ccfda646e7ca58"
   },
   "source": [
    "### SVM"
   ]
  },
  {
   "cell_type": "code",
   "execution_count": 74,
   "metadata": {
    "_uuid": "f1936ece7b76b67e552758a4c80e9421bffe0bc2"
   },
   "outputs": [],
   "source": [
    "from sklearn import svm\n",
    "\n",
    "sv = svm.SVC(kernel='linear')\n",
    "\n",
    "sv.fit(X_train, Y_train)\n",
    "\n",
    "Y_pred_svm = sv.predict(X_test)"
   ]
  },
  {
   "cell_type": "code",
   "execution_count": 75,
   "metadata": {
    "_uuid": "36f60f104264d44760705b9c802504f426e15592"
   },
   "outputs": [
    {
     "data": {
      "text/plain": [
       "(61,)"
      ]
     },
     "execution_count": 75,
     "metadata": {},
     "output_type": "execute_result"
    }
   ],
   "source": [
    "Y_pred_svm.shape"
   ]
  },
  {
   "cell_type": "code",
   "execution_count": 76,
   "metadata": {
    "_uuid": "f5a73bca6721f42b3983c328fd475390ba9bc4d3"
   },
   "outputs": [
    {
     "name": "stdout",
     "output_type": "stream",
     "text": [
      "The accuracy score achieved using Linear SVM is: 81.97 %\n"
     ]
    }
   ],
   "source": [
    "score_svm = round(accuracy_score(Y_pred_svm,Y_test)*100,2)\n",
    "\n",
    "print(\"The accuracy score achieved using Linear SVM is: \"+str(score_svm)+\" %\")"
   ]
  },
  {
   "cell_type": "markdown",
   "metadata": {
    "_uuid": "4e26d165b57f3f7882570964f1c2dc4a548404de"
   },
   "source": [
    "### K Nearest Neighbors"
   ]
  },
  {
   "cell_type": "code",
   "execution_count": 77,
   "metadata": {
    "_uuid": "286352867c53d5fb7dac2fc9bf4b2ac58a466ad0"
   },
   "outputs": [],
   "source": [
    "from sklearn.neighbors import KNeighborsClassifier\n",
    "\n",
    "knn = KNeighborsClassifier(n_neighbors=7)\n",
    "knn.fit(X_train,Y_train)\n",
    "Y_pred_knn=knn.predict(X_test)"
   ]
  },
  {
   "cell_type": "code",
   "execution_count": 78,
   "metadata": {
    "_uuid": "bccb7c1fcec36dd2eb7eb222f49604029adec2b4"
   },
   "outputs": [
    {
     "data": {
      "text/plain": [
       "(61,)"
      ]
     },
     "execution_count": 78,
     "metadata": {},
     "output_type": "execute_result"
    }
   ],
   "source": [
    "Y_pred_knn.shape"
   ]
  },
  {
   "cell_type": "code",
   "execution_count": 79,
   "metadata": {
    "_uuid": "dda4e8f8f18f96557cdd38cee177de0456db5f45"
   },
   "outputs": [
    {
     "name": "stdout",
     "output_type": "stream",
     "text": [
      "The accuracy score achieved using KNN is: 67.21 %\n"
     ]
    }
   ],
   "source": [
    "score_knn = round(accuracy_score(Y_pred_knn,Y_test)*100,2)\n",
    "\n",
    "print(\"The accuracy score achieved using KNN is: \"+str(score_knn)+\" %\")"
   ]
  },
  {
   "cell_type": "markdown",
   "metadata": {
    "_uuid": "abb767170c662e4d9a8b240fd0fd7286ffb0b67f"
   },
   "source": [
    "### Decision Tree"
   ]
  },
  {
   "cell_type": "code",
   "execution_count": 80,
   "metadata": {
    "_uuid": "8c141316764dce80103d1879c9b17d853702a746"
   },
   "outputs": [],
   "source": [
    "from sklearn.tree import DecisionTreeClassifier\n",
    "\n",
    "max_accuracy = 0\n",
    "\n",
    "\n",
    "for x in range(200):\n",
    "    dt = DecisionTreeClassifier(random_state=x)\n",
    "    dt.fit(X_train,Y_train)\n",
    "    Y_pred_dt = dt.predict(X_test)\n",
    "    current_accuracy = round(accuracy_score(Y_pred_dt,Y_test)*100,2)\n",
    "    if(current_accuracy>max_accuracy):\n",
    "        max_accuracy = current_accuracy\n",
    "        best_x = x\n",
    "        \n",
    "#print(max_accuracy)\n",
    "#print(best_x)\n",
    "\n",
    "\n",
    "dt = DecisionTreeClassifier(random_state=best_x)\n",
    "dt.fit(X_train,Y_train)\n",
    "Y_pred_dt = dt.predict(X_test)"
   ]
  },
  {
   "cell_type": "code",
   "execution_count": 81,
   "metadata": {
    "_uuid": "8de0bd2d57abd24d3a97a5b020a24439eb106f2b"
   },
   "outputs": [
    {
     "name": "stdout",
     "output_type": "stream",
     "text": [
      "(61,)\n"
     ]
    }
   ],
   "source": [
    "print(Y_pred_dt.shape)"
   ]
  },
  {
   "cell_type": "code",
   "execution_count": 82,
   "metadata": {
    "_uuid": "52ab93482d3b53824e9bc2b3e4114c57253e0c5b"
   },
   "outputs": [
    {
     "name": "stdout",
     "output_type": "stream",
     "text": [
      "The accuracy score achieved using Decision Tree is: 81.97 %\n"
     ]
    }
   ],
   "source": [
    "score_dt = round(accuracy_score(Y_pred_dt,Y_test)*100,2)\n",
    "\n",
    "print(\"The accuracy score achieved using Decision Tree is: \"+str(score_dt)+\" %\")"
   ]
  },
  {
   "cell_type": "markdown",
   "metadata": {
    "_uuid": "9e663d26efb00a434751f06ad0292949eff6c358"
   },
   "source": [
    "### Random Forest"
   ]
  },
  {
   "cell_type": "code",
   "execution_count": 83,
   "metadata": {
    "_uuid": "8284f5222cf90be1bcd37887c45f91cf22ed1193"
   },
   "outputs": [],
   "source": [
    "from sklearn.ensemble import RandomForestClassifier\n",
    "\n",
    "max_accuracy = 0\n",
    "\n",
    "\n",
    "for x in range(2000):\n",
    "    rf = RandomForestClassifier(random_state=x)\n",
    "    rf.fit(X_train,Y_train)\n",
    "    Y_pred_rf = rf.predict(X_test)\n",
    "    current_accuracy = round(accuracy_score(Y_pred_rf,Y_test)*100,2)\n",
    "    if(current_accuracy>max_accuracy):\n",
    "        max_accuracy = current_accuracy\n",
    "        best_x = x\n",
    "        \n",
    "#print(max_accuracy)\n",
    "#print(best_x)\n",
    "\n",
    "rf = RandomForestClassifier(random_state=best_x)\n",
    "rf.fit(X_train,Y_train)\n",
    "Y_pred_rf = rf.predict(X_test)"
   ]
  },
  {
   "cell_type": "code",
   "execution_count": 84,
   "metadata": {
    "_uuid": "edc8e1cbb57be0aa9e9ad5f4997212d53a9a4c99"
   },
   "outputs": [
    {
     "data": {
      "text/plain": [
       "(61,)"
      ]
     },
     "execution_count": 84,
     "metadata": {},
     "output_type": "execute_result"
    }
   ],
   "source": [
    "Y_pred_rf.shape"
   ]
  },
  {
   "cell_type": "code",
   "execution_count": 85,
   "metadata": {
    "_uuid": "965228f30e05e07e7960a3375dc7dc85b49caed7"
   },
   "outputs": [
    {
     "name": "stdout",
     "output_type": "stream",
     "text": [
      "The accuracy score achieved using Decision Tree is: 90.16 %\n"
     ]
    }
   ],
   "source": [
    "score_rf = round(accuracy_score(Y_pred_rf,Y_test)*100,2)\n",
    "\n",
    "print(\"The accuracy score achieved using Decision Tree is: \"+str(score_rf)+\" %\")"
   ]
  },
  {
   "cell_type": "markdown",
   "metadata": {
    "_uuid": "6a0fc13a6c2fccd6a725a7691cfe95d74348a8ae"
   },
   "source": [
    "### XGBoost"
   ]
  },
  {
   "cell_type": "code",
   "execution_count": 86,
   "metadata": {
    "_uuid": "5a437f3c0e190887e2192ecb1844eaa6eb1d34a7"
   },
   "outputs": [],
   "source": [
    "import xgboost as xgb\n",
    "\n",
    "xgb_model = xgb.XGBClassifier(objective=\"binary:logistic\", random_state=42)\n",
    "xgb_model.fit(X_train, Y_train)\n",
    "\n",
    "Y_pred_xgb = xgb_model.predict(X_test)"
   ]
  },
  {
   "cell_type": "code",
   "execution_count": 87,
   "metadata": {
    "_uuid": "168d52cd705f2abb6763107328c984e4252c618e"
   },
   "outputs": [
    {
     "data": {
      "text/plain": [
       "(61,)"
      ]
     },
     "execution_count": 87,
     "metadata": {},
     "output_type": "execute_result"
    }
   ],
   "source": [
    "Y_pred_xgb.shape"
   ]
  },
  {
   "cell_type": "code",
   "execution_count": 88,
   "metadata": {
    "_uuid": "319c4f0d2e62b03c95a48df0ecc33b15e7fa7f39"
   },
   "outputs": [
    {
     "name": "stdout",
     "output_type": "stream",
     "text": [
      "The accuracy score achieved using XGBoost is: 78.69 %\n"
     ]
    }
   ],
   "source": [
    "score_xgb = round(accuracy_score(Y_pred_xgb,Y_test)*100,2)\n",
    "\n",
    "print(\"The accuracy score achieved using XGBoost is: \"+str(score_xgb)+\" %\")"
   ]
  },
  {
   "cell_type": "markdown",
   "metadata": {
    "_uuid": "e224ab23f275a3a56cdba6a9ccfddbd6a4d3b4fd"
   },
   "source": [
    "### Neural Network"
   ]
  },
  {
   "cell_type": "code",
   "execution_count": 92,
   "metadata": {
    "_uuid": "727b391ad6d86468a96e93dc645ade6e2da4048e"
   },
   "outputs": [],
   "source": [
    "from keras.models import Sequential\n",
    "from keras.layers import Dense"
   ]
  },
  {
   "cell_type": "code",
   "execution_count": 93,
   "metadata": {
    "_uuid": "650f1baa7db466923626c707408319fa29f22d10"
   },
   "outputs": [],
   "source": [
    "# https://stats.stackexchange.com/a/136542 helped a lot in avoiding overfitting\n",
    "\n",
    "model = Sequential()\n",
    "model.add(Dense(11,activation='relu',input_dim=13))\n",
    "model.add(Dense(1,activation='sigmoid'))\n",
    "\n",
    "model.compile(loss='binary_crossentropy',optimizer='adam',metrics=['accuracy'])"
   ]
  },
  {
   "cell_type": "code",
   "execution_count": 94,
   "metadata": {
    "_uuid": "dde4e50b5c4c24c73b03133fc7c90bf663fd6d82"
   },
   "outputs": [
    {
     "name": "stdout",
     "output_type": "stream",
     "text": [
      "Epoch 1/300\n",
      "8/8 [==============================] - 2s 4ms/step - loss: 43.5230 - accuracy: 0.5413\n",
      "Epoch 2/300\n",
      "8/8 [==============================] - 0s 3ms/step - loss: 34.1042 - accuracy: 0.5413\n",
      "Epoch 3/300\n",
      "8/8 [==============================] - 0s 3ms/step - loss: 25.2646 - accuracy: 0.5413\n",
      "Epoch 4/300\n",
      "8/8 [==============================] - 0s 3ms/step - loss: 16.5485 - accuracy: 0.5413\n",
      "Epoch 5/300\n",
      "8/8 [==============================] - 0s 4ms/step - loss: 8.4661 - accuracy: 0.5413\n",
      "Epoch 6/300\n",
      "8/8 [==============================] - 0s 4ms/step - loss: 2.3304 - accuracy: 0.5909\n",
      "Epoch 7/300\n",
      "8/8 [==============================] - 0s 4ms/step - loss: 2.5900 - accuracy: 0.5413\n",
      "Epoch 8/300\n",
      "8/8 [==============================] - 0s 3ms/step - loss: 1.9566 - accuracy: 0.5909\n",
      "Epoch 9/300\n",
      "8/8 [==============================] - 0s 3ms/step - loss: 1.5296 - accuracy: 0.6446\n",
      "Epoch 10/300\n",
      "8/8 [==============================] - 0s 5ms/step - loss: 1.5490 - accuracy: 0.6322\n",
      "Epoch 11/300\n",
      "8/8 [==============================] - 0s 4ms/step - loss: 1.4289 - accuracy: 0.6446\n",
      "Epoch 12/300\n",
      "8/8 [==============================] - 0s 4ms/step - loss: 1.4165 - accuracy: 0.6364\n",
      "Epoch 13/300\n",
      "8/8 [==============================] - 0s 4ms/step - loss: 1.3720 - accuracy: 0.6570\n",
      "Epoch 14/300\n",
      "8/8 [==============================] - 0s 4ms/step - loss: 1.3404 - accuracy: 0.6446\n",
      "Epoch 15/300\n",
      "8/8 [==============================] - 0s 3ms/step - loss: 1.3227 - accuracy: 0.6446\n",
      "Epoch 16/300\n",
      "8/8 [==============================] - 0s 4ms/step - loss: 1.2992 - accuracy: 0.6488\n",
      "Epoch 17/300\n",
      "8/8 [==============================] - 0s 4ms/step - loss: 1.2801 - accuracy: 0.6446\n",
      "Epoch 18/300\n",
      "8/8 [==============================] - 0s 3ms/step - loss: 1.2697 - accuracy: 0.6405\n",
      "Epoch 19/300\n",
      "8/8 [==============================] - 0s 3ms/step - loss: 1.2445 - accuracy: 0.6446\n",
      "Epoch 20/300\n",
      "8/8 [==============================] - 0s 2ms/step - loss: 1.2324 - accuracy: 0.6488\n",
      "Epoch 21/300\n",
      "8/8 [==============================] - 0s 2ms/step - loss: 1.2115 - accuracy: 0.6405\n",
      "Epoch 22/300\n",
      "8/8 [==============================] - 0s 3ms/step - loss: 1.2012 - accuracy: 0.6570\n",
      "Epoch 23/300\n",
      "8/8 [==============================] - 0s 2ms/step - loss: 1.1838 - accuracy: 0.6612\n",
      "Epoch 24/300\n",
      "8/8 [==============================] - 0s 3ms/step - loss: 1.1763 - accuracy: 0.6488\n",
      "Epoch 25/300\n",
      "8/8 [==============================] - 0s 2ms/step - loss: 1.1663 - accuracy: 0.6529\n",
      "Epoch 26/300\n",
      "8/8 [==============================] - 0s 2ms/step - loss: 1.1329 - accuracy: 0.6570\n",
      "Epoch 27/300\n",
      "8/8 [==============================] - 0s 2ms/step - loss: 1.1162 - accuracy: 0.6446\n",
      "Epoch 28/300\n",
      "8/8 [==============================] - 0s 3ms/step - loss: 1.1124 - accuracy: 0.6570\n",
      "Epoch 29/300\n",
      "8/8 [==============================] - 0s 2ms/step - loss: 1.0992 - accuracy: 0.6612\n",
      "Epoch 30/300\n",
      "8/8 [==============================] - 0s 2ms/step - loss: 1.0663 - accuracy: 0.6653\n",
      "Epoch 31/300\n",
      "8/8 [==============================] - 0s 2ms/step - loss: 1.0621 - accuracy: 0.6777\n",
      "Epoch 32/300\n",
      "8/8 [==============================] - 0s 2ms/step - loss: 1.1042 - accuracy: 0.6612\n",
      "Epoch 33/300\n",
      "8/8 [==============================] - 0s 3ms/step - loss: 1.0939 - accuracy: 0.6694\n",
      "Epoch 34/300\n",
      "8/8 [==============================] - 0s 3ms/step - loss: 0.9932 - accuracy: 0.6694\n",
      "Epoch 35/300\n",
      "8/8 [==============================] - 0s 4ms/step - loss: 1.0058 - accuracy: 0.6777\n",
      "Epoch 36/300\n",
      "8/8 [==============================] - 0s 5ms/step - loss: 0.9927 - accuracy: 0.6612\n",
      "Epoch 37/300\n",
      "8/8 [==============================] - 0s 5ms/step - loss: 0.9685 - accuracy: 0.6818\n",
      "Epoch 38/300\n",
      "8/8 [==============================] - 0s 7ms/step - loss: 0.9463 - accuracy: 0.6901\n",
      "Epoch 39/300\n",
      "8/8 [==============================] - 0s 5ms/step - loss: 0.9410 - accuracy: 0.6777\n",
      "Epoch 40/300\n",
      "8/8 [==============================] - 0s 8ms/step - loss: 0.9128 - accuracy: 0.6818\n",
      "Epoch 41/300\n",
      "8/8 [==============================] - 0s 6ms/step - loss: 0.9151 - accuracy: 0.6942\n",
      "Epoch 42/300\n",
      "8/8 [==============================] - 0s 6ms/step - loss: 0.8972 - accuracy: 0.6736\n",
      "Epoch 43/300\n",
      "8/8 [==============================] - 0s 6ms/step - loss: 0.8837 - accuracy: 0.6901\n",
      "Epoch 44/300\n",
      "8/8 [==============================] - 0s 8ms/step - loss: 0.8709 - accuracy: 0.6901\n",
      "Epoch 45/300\n",
      "8/8 [==============================] - 0s 7ms/step - loss: 0.8634 - accuracy: 0.6860\n",
      "Epoch 46/300\n",
      "8/8 [==============================] - 0s 6ms/step - loss: 0.8456 - accuracy: 0.6860\n",
      "Epoch 47/300\n",
      "8/8 [==============================] - 0s 7ms/step - loss: 0.8208 - accuracy: 0.7025\n",
      "Epoch 48/300\n",
      "8/8 [==============================] - 0s 4ms/step - loss: 0.8329 - accuracy: 0.6860\n",
      "Epoch 49/300\n",
      "8/8 [==============================] - 0s 3ms/step - loss: 0.7981 - accuracy: 0.6942\n",
      "Epoch 50/300\n",
      "8/8 [==============================] - 0s 4ms/step - loss: 0.7858 - accuracy: 0.6942\n",
      "Epoch 51/300\n",
      "8/8 [==============================] - 0s 2ms/step - loss: 0.7769 - accuracy: 0.6983\n",
      "Epoch 52/300\n",
      "8/8 [==============================] - 0s 3ms/step - loss: 0.7710 - accuracy: 0.6983\n",
      "Epoch 53/300\n",
      "8/8 [==============================] - 0s 7ms/step - loss: 0.7469 - accuracy: 0.6983\n",
      "Epoch 54/300\n",
      "8/8 [==============================] - 0s 6ms/step - loss: 0.7304 - accuracy: 0.7066\n",
      "Epoch 55/300\n",
      "8/8 [==============================] - 0s 7ms/step - loss: 0.7284 - accuracy: 0.7066\n",
      "Epoch 56/300\n",
      "8/8 [==============================] - 0s 8ms/step - loss: 0.7056 - accuracy: 0.7107\n",
      "Epoch 57/300\n",
      "8/8 [==============================] - 0s 4ms/step - loss: 0.7116 - accuracy: 0.7149\n",
      "Epoch 58/300\n",
      "8/8 [==============================] - 0s 4ms/step - loss: 0.6877 - accuracy: 0.7190\n",
      "Epoch 59/300\n",
      "8/8 [==============================] - 0s 5ms/step - loss: 0.6912 - accuracy: 0.7066\n",
      "Epoch 60/300\n",
      "8/8 [==============================] - 0s 6ms/step - loss: 0.6785 - accuracy: 0.7190\n",
      "Epoch 61/300\n",
      "8/8 [==============================] - 0s 7ms/step - loss: 0.6585 - accuracy: 0.7190\n",
      "Epoch 62/300\n",
      "8/8 [==============================] - 0s 8ms/step - loss: 0.6552 - accuracy: 0.7231\n",
      "Epoch 63/300\n",
      "8/8 [==============================] - 0s 6ms/step - loss: 0.6636 - accuracy: 0.7107\n",
      "Epoch 64/300\n",
      "8/8 [==============================] - 0s 6ms/step - loss: 0.6301 - accuracy: 0.7397\n",
      "Epoch 65/300\n",
      "8/8 [==============================] - 0s 5ms/step - loss: 0.6160 - accuracy: 0.7355\n",
      "Epoch 66/300\n",
      "8/8 [==============================] - 0s 5ms/step - loss: 0.6079 - accuracy: 0.7355\n",
      "Epoch 67/300\n",
      "8/8 [==============================] - 0s 6ms/step - loss: 0.6325 - accuracy: 0.7231\n",
      "Epoch 68/300\n",
      "8/8 [==============================] - 0s 6ms/step - loss: 0.6088 - accuracy: 0.7273\n",
      "Epoch 69/300\n",
      "8/8 [==============================] - 0s 6ms/step - loss: 0.5770 - accuracy: 0.7314\n",
      "Epoch 70/300\n",
      "8/8 [==============================] - 0s 6ms/step - loss: 0.5591 - accuracy: 0.7562\n",
      "Epoch 71/300\n",
      "8/8 [==============================] - 0s 6ms/step - loss: 0.5618 - accuracy: 0.7603\n",
      "Epoch 72/300\n",
      "8/8 [==============================] - 0s 3ms/step - loss: 0.5461 - accuracy: 0.7355\n",
      "Epoch 73/300\n",
      "8/8 [==============================] - 0s 5ms/step - loss: 0.5410 - accuracy: 0.7686\n",
      "Epoch 74/300\n",
      "8/8 [==============================] - 0s 5ms/step - loss: 0.5303 - accuracy: 0.7603\n",
      "Epoch 75/300\n",
      "8/8 [==============================] - 0s 4ms/step - loss: 0.5300 - accuracy: 0.7438\n",
      "Epoch 76/300\n",
      "8/8 [==============================] - 0s 3ms/step - loss: 0.5223 - accuracy: 0.7686\n",
      "Epoch 77/300\n",
      "8/8 [==============================] - 0s 2ms/step - loss: 0.5128 - accuracy: 0.7603\n",
      "Epoch 78/300\n",
      "8/8 [==============================] - 0s 2ms/step - loss: 0.5141 - accuracy: 0.7727\n",
      "Epoch 79/300\n",
      "8/8 [==============================] - 0s 3ms/step - loss: 0.5060 - accuracy: 0.7769\n",
      "Epoch 80/300\n",
      "8/8 [==============================] - 0s 5ms/step - loss: 0.4882 - accuracy: 0.7686\n",
      "Epoch 81/300\n",
      "8/8 [==============================] - 0s 5ms/step - loss: 0.4962 - accuracy: 0.7769\n",
      "Epoch 82/300\n",
      "8/8 [==============================] - 0s 5ms/step - loss: 0.4775 - accuracy: 0.7686\n",
      "Epoch 83/300\n",
      "8/8 [==============================] - 0s 6ms/step - loss: 0.4851 - accuracy: 0.7810\n",
      "Epoch 84/300\n",
      "8/8 [==============================] - 0s 4ms/step - loss: 0.5111 - accuracy: 0.7686\n",
      "Epoch 85/300\n",
      "8/8 [==============================] - 0s 9ms/step - loss: 0.5105 - accuracy: 0.7645\n",
      "Epoch 86/300\n",
      "8/8 [==============================] - 0s 6ms/step - loss: 0.4890 - accuracy: 0.7769\n",
      "Epoch 87/300\n",
      "8/8 [==============================] - 0s 6ms/step - loss: 0.4783 - accuracy: 0.7645\n",
      "Epoch 88/300\n",
      "8/8 [==============================] - 0s 4ms/step - loss: 0.4505 - accuracy: 0.8017\n",
      "Epoch 89/300\n",
      "8/8 [==============================] - 0s 3ms/step - loss: 0.4460 - accuracy: 0.7851\n",
      "Epoch 90/300\n",
      "8/8 [==============================] - 0s 3ms/step - loss: 0.4402 - accuracy: 0.7851\n",
      "Epoch 91/300\n",
      "8/8 [==============================] - 0s 3ms/step - loss: 0.4421 - accuracy: 0.7810\n",
      "Epoch 92/300\n",
      "8/8 [==============================] - 0s 2ms/step - loss: 0.4412 - accuracy: 0.8017\n",
      "Epoch 93/300\n",
      "8/8 [==============================] - 0s 3ms/step - loss: 0.4293 - accuracy: 0.8058\n",
      "Epoch 94/300\n",
      "8/8 [==============================] - 0s 3ms/step - loss: 0.4250 - accuracy: 0.8017\n",
      "Epoch 95/300\n",
      "8/8 [==============================] - 0s 2ms/step - loss: 0.4320 - accuracy: 0.8017\n",
      "Epoch 96/300\n",
      "8/8 [==============================] - 0s 1ms/step - loss: 0.4253 - accuracy: 0.7975\n",
      "Epoch 97/300\n",
      "8/8 [==============================] - 0s 2ms/step - loss: 0.4290 - accuracy: 0.8058\n",
      "Epoch 98/300\n",
      "8/8 [==============================] - 0s 2ms/step - loss: 0.4277 - accuracy: 0.8140\n",
      "Epoch 99/300\n",
      "8/8 [==============================] - 0s 2ms/step - loss: 0.4425 - accuracy: 0.8058\n",
      "Epoch 100/300\n",
      "8/8 [==============================] - 0s 2ms/step - loss: 0.4465 - accuracy: 0.8140\n",
      "Epoch 101/300\n",
      "8/8 [==============================] - 0s 3ms/step - loss: 0.4393 - accuracy: 0.7893\n",
      "Epoch 102/300\n",
      "8/8 [==============================] - 0s 4ms/step - loss: 0.4236 - accuracy: 0.7893\n",
      "Epoch 103/300\n",
      "8/8 [==============================] - 0s 4ms/step - loss: 0.4135 - accuracy: 0.8182\n",
      "Epoch 104/300\n",
      "8/8 [==============================] - 0s 2ms/step - loss: 0.4507 - accuracy: 0.7603\n",
      "Epoch 105/300\n",
      "8/8 [==============================] - 0s 1ms/step - loss: 0.4137 - accuracy: 0.8140\n",
      "Epoch 106/300\n",
      "8/8 [==============================] - 0s 2ms/step - loss: 0.4218 - accuracy: 0.8099\n",
      "Epoch 107/300\n",
      "8/8 [==============================] - 0s 2ms/step - loss: 0.3995 - accuracy: 0.8306\n",
      "Epoch 108/300\n",
      "8/8 [==============================] - 0s 2ms/step - loss: 0.4043 - accuracy: 0.8347\n",
      "Epoch 109/300\n",
      "8/8 [==============================] - 0s 2ms/step - loss: 0.4053 - accuracy: 0.8140\n",
      "Epoch 110/300\n",
      "8/8 [==============================] - 0s 2ms/step - loss: 0.4103 - accuracy: 0.8140\n",
      "Epoch 111/300\n",
      "8/8 [==============================] - 0s 2ms/step - loss: 0.3937 - accuracy: 0.8182\n",
      "Epoch 112/300\n",
      "8/8 [==============================] - 0s 2ms/step - loss: 0.3953 - accuracy: 0.8388\n",
      "Epoch 113/300\n",
      "8/8 [==============================] - 0s 2ms/step - loss: 0.3996 - accuracy: 0.8306\n",
      "Epoch 114/300\n",
      "8/8 [==============================] - 0s 2ms/step - loss: 0.4012 - accuracy: 0.8223\n",
      "Epoch 115/300\n",
      "8/8 [==============================] - 0s 2ms/step - loss: 0.3866 - accuracy: 0.8306\n",
      "Epoch 116/300\n",
      "8/8 [==============================] - 0s 3ms/step - loss: 0.3969 - accuracy: 0.8182\n",
      "Epoch 117/300\n",
      "8/8 [==============================] - 0s 2ms/step - loss: 0.3943 - accuracy: 0.8264\n",
      "Epoch 118/300\n",
      "8/8 [==============================] - 0s 1ms/step - loss: 0.4210 - accuracy: 0.8140\n",
      "Epoch 119/300\n",
      "8/8 [==============================] - 0s 2ms/step - loss: 0.4398 - accuracy: 0.7934\n",
      "Epoch 120/300\n",
      "8/8 [==============================] - 0s 2ms/step - loss: 0.4115 - accuracy: 0.8223\n",
      "Epoch 121/300\n",
      "8/8 [==============================] - 0s 2ms/step - loss: 0.3861 - accuracy: 0.8306\n",
      "Epoch 122/300\n",
      "8/8 [==============================] - 0s 2ms/step - loss: 0.3921 - accuracy: 0.8264\n",
      "Epoch 123/300\n",
      "8/8 [==============================] - 0s 2ms/step - loss: 0.4090 - accuracy: 0.8223\n",
      "Epoch 124/300\n",
      "8/8 [==============================] - 0s 2ms/step - loss: 0.3962 - accuracy: 0.8099\n",
      "Epoch 125/300\n",
      "8/8 [==============================] - 0s 2ms/step - loss: 0.3935 - accuracy: 0.8388\n",
      "Epoch 126/300\n",
      "8/8 [==============================] - 0s 2ms/step - loss: 0.4191 - accuracy: 0.8099\n",
      "Epoch 127/300\n",
      "8/8 [==============================] - 0s 2ms/step - loss: 0.3976 - accuracy: 0.8430\n",
      "Epoch 128/300\n",
      "8/8 [==============================] - 0s 2ms/step - loss: 0.4222 - accuracy: 0.7893\n",
      "Epoch 129/300\n",
      "8/8 [==============================] - 0s 1ms/step - loss: 0.4061 - accuracy: 0.8264\n",
      "Epoch 130/300\n",
      "8/8 [==============================] - 0s 3ms/step - loss: 0.3916 - accuracy: 0.8347\n",
      "Epoch 131/300\n",
      "8/8 [==============================] - 0s 2ms/step - loss: 0.3790 - accuracy: 0.8471\n",
      "Epoch 132/300\n",
      "8/8 [==============================] - 0s 1ms/step - loss: 0.4001 - accuracy: 0.8058\n",
      "Epoch 133/300\n",
      "8/8 [==============================] - 0s 2ms/step - loss: 0.3880 - accuracy: 0.8306\n",
      "Epoch 134/300\n",
      "8/8 [==============================] - 0s 2ms/step - loss: 0.3974 - accuracy: 0.8140\n",
      "Epoch 135/300\n",
      "8/8 [==============================] - 0s 3ms/step - loss: 0.3795 - accuracy: 0.8471\n",
      "Epoch 136/300\n",
      "8/8 [==============================] - 0s 1ms/step - loss: 0.3831 - accuracy: 0.8182\n",
      "Epoch 137/300\n",
      "8/8 [==============================] - 0s 1ms/step - loss: 0.4022 - accuracy: 0.8058\n",
      "Epoch 138/300\n",
      "8/8 [==============================] - 0s 2ms/step - loss: 0.3794 - accuracy: 0.8430\n",
      "Epoch 139/300\n",
      "8/8 [==============================] - 0s 2ms/step - loss: 0.3720 - accuracy: 0.8430\n",
      "Epoch 140/300\n",
      "8/8 [==============================] - 0s 2ms/step - loss: 0.4062 - accuracy: 0.8306\n",
      "Epoch 141/300\n",
      "8/8 [==============================] - 0s 3ms/step - loss: 0.4026 - accuracy: 0.8347\n",
      "Epoch 142/300\n",
      "8/8 [==============================] - 0s 2ms/step - loss: 0.4002 - accuracy: 0.8058\n",
      "Epoch 143/300\n",
      "8/8 [==============================] - 0s 2ms/step - loss: 0.4005 - accuracy: 0.8017\n",
      "Epoch 144/300\n",
      "8/8 [==============================] - 0s 3ms/step - loss: 0.3779 - accuracy: 0.8347\n",
      "Epoch 145/300\n",
      "8/8 [==============================] - 0s 2ms/step - loss: 0.3830 - accuracy: 0.8347\n",
      "Epoch 146/300\n",
      "8/8 [==============================] - 0s 2ms/step - loss: 0.3861 - accuracy: 0.8306\n",
      "Epoch 147/300\n",
      "8/8 [==============================] - 0s 3ms/step - loss: 0.3809 - accuracy: 0.8430\n",
      "Epoch 148/300\n",
      "8/8 [==============================] - 0s 3ms/step - loss: 0.3935 - accuracy: 0.8140\n",
      "Epoch 149/300\n",
      "8/8 [==============================] - 0s 3ms/step - loss: 0.4005 - accuracy: 0.8223\n",
      "Epoch 150/300\n",
      "8/8 [==============================] - 0s 3ms/step - loss: 0.3908 - accuracy: 0.8306\n",
      "Epoch 151/300\n",
      "8/8 [==============================] - 0s 3ms/step - loss: 0.4059 - accuracy: 0.8182\n",
      "Epoch 152/300\n",
      "8/8 [==============================] - 0s 5ms/step - loss: 0.3830 - accuracy: 0.8264\n",
      "Epoch 153/300\n",
      "8/8 [==============================] - 0s 4ms/step - loss: 0.3727 - accuracy: 0.8471\n",
      "Epoch 154/300\n",
      "8/8 [==============================] - 0s 5ms/step - loss: 0.3767 - accuracy: 0.8347\n",
      "Epoch 155/300\n",
      "8/8 [==============================] - 0s 3ms/step - loss: 0.3826 - accuracy: 0.8430\n",
      "Epoch 156/300\n",
      "8/8 [==============================] - 0s 5ms/step - loss: 0.3758 - accuracy: 0.8471\n",
      "Epoch 157/300\n",
      "8/8 [==============================] - 0s 6ms/step - loss: 0.3761 - accuracy: 0.8388\n",
      "Epoch 158/300\n",
      "8/8 [==============================] - 0s 3ms/step - loss: 0.3694 - accuracy: 0.8430\n",
      "Epoch 159/300\n",
      "8/8 [==============================] - 0s 4ms/step - loss: 0.3767 - accuracy: 0.8388\n",
      "Epoch 160/300\n",
      "8/8 [==============================] - 0s 5ms/step - loss: 0.3663 - accuracy: 0.8471\n",
      "Epoch 161/300\n",
      "8/8 [==============================] - 0s 4ms/step - loss: 0.3916 - accuracy: 0.8388\n",
      "Epoch 162/300\n",
      "8/8 [==============================] - 0s 5ms/step - loss: 0.4421 - accuracy: 0.7934\n",
      "Epoch 163/300\n",
      "8/8 [==============================] - 0s 5ms/step - loss: 0.4454 - accuracy: 0.7975\n",
      "Epoch 164/300\n",
      "8/8 [==============================] - 0s 4ms/step - loss: 0.3700 - accuracy: 0.8306\n",
      "Epoch 165/300\n",
      "8/8 [==============================] - 0s 3ms/step - loss: 0.3830 - accuracy: 0.8430\n",
      "Epoch 166/300\n",
      "8/8 [==============================] - 0s 2ms/step - loss: 0.4193 - accuracy: 0.8182\n",
      "Epoch 167/300\n",
      "8/8 [==============================] - 0s 2ms/step - loss: 0.3907 - accuracy: 0.8182\n",
      "Epoch 168/300\n",
      "8/8 [==============================] - 0s 2ms/step - loss: 0.3798 - accuracy: 0.8264\n",
      "Epoch 169/300\n",
      "8/8 [==============================] - 0s 3ms/step - loss: 0.3869 - accuracy: 0.8347\n",
      "Epoch 170/300\n",
      "8/8 [==============================] - 0s 4ms/step - loss: 0.3932 - accuracy: 0.8182\n",
      "Epoch 171/300\n",
      "8/8 [==============================] - 0s 4ms/step - loss: 0.3735 - accuracy: 0.8347\n",
      "Epoch 172/300\n",
      "8/8 [==============================] - 0s 4ms/step - loss: 0.3644 - accuracy: 0.8595\n",
      "Epoch 173/300\n",
      "8/8 [==============================] - 0s 2ms/step - loss: 0.3685 - accuracy: 0.8512\n",
      "Epoch 174/300\n",
      "8/8 [==============================] - 0s 2ms/step - loss: 0.3694 - accuracy: 0.8430\n",
      "Epoch 175/300\n",
      "8/8 [==============================] - 0s 2ms/step - loss: 0.3724 - accuracy: 0.8430\n",
      "Epoch 176/300\n",
      "8/8 [==============================] - 0s 3ms/step - loss: 0.3785 - accuracy: 0.8347\n",
      "Epoch 177/300\n",
      "8/8 [==============================] - 0s 14ms/step - loss: 0.3827 - accuracy: 0.8512\n",
      "Epoch 178/300\n",
      "8/8 [==============================] - 0s 5ms/step - loss: 0.3973 - accuracy: 0.8264\n",
      "Epoch 179/300\n",
      "8/8 [==============================] - 0s 3ms/step - loss: 0.3831 - accuracy: 0.8306\n",
      "Epoch 180/300\n",
      "8/8 [==============================] - 0s 2ms/step - loss: 0.4131 - accuracy: 0.8182\n",
      "Epoch 181/300\n",
      "8/8 [==============================] - 0s 2ms/step - loss: 0.3875 - accuracy: 0.8347\n",
      "Epoch 182/300\n",
      "8/8 [==============================] - 0s 4ms/step - loss: 0.4062 - accuracy: 0.8306\n",
      "Epoch 183/300\n",
      "8/8 [==============================] - 0s 4ms/step - loss: 0.4417 - accuracy: 0.7851\n",
      "Epoch 184/300\n",
      "8/8 [==============================] - 0s 5ms/step - loss: 0.4106 - accuracy: 0.8264\n",
      "Epoch 185/300\n",
      "8/8 [==============================] - 0s 5ms/step - loss: 0.3669 - accuracy: 0.8595\n",
      "Epoch 186/300\n",
      "8/8 [==============================] - 0s 6ms/step - loss: 0.3724 - accuracy: 0.8182\n",
      "Epoch 187/300\n",
      "8/8 [==============================] - 0s 4ms/step - loss: 0.3767 - accuracy: 0.8430\n",
      "Epoch 188/300\n",
      "8/8 [==============================] - 0s 5ms/step - loss: 0.3917 - accuracy: 0.8347\n",
      "Epoch 189/300\n",
      "8/8 [==============================] - 0s 3ms/step - loss: 0.4017 - accuracy: 0.8223\n",
      "Epoch 190/300\n",
      "8/8 [==============================] - 0s 3ms/step - loss: 0.3593 - accuracy: 0.8388\n",
      "Epoch 191/300\n",
      "8/8 [==============================] - 0s 1ms/step - loss: 0.3669 - accuracy: 0.8388\n",
      "Epoch 192/300\n",
      "8/8 [==============================] - 0s 3ms/step - loss: 0.3811 - accuracy: 0.8554\n",
      "Epoch 193/300\n",
      "8/8 [==============================] - 0s 5ms/step - loss: 0.3587 - accuracy: 0.8595\n",
      "Epoch 194/300\n",
      "8/8 [==============================] - 0s 2ms/step - loss: 0.3641 - accuracy: 0.8554\n",
      "Epoch 195/300\n",
      "8/8 [==============================] - 0s 3ms/step - loss: 0.3583 - accuracy: 0.8595\n",
      "Epoch 196/300\n",
      "8/8 [==============================] - 0s 2ms/step - loss: 0.3735 - accuracy: 0.8430\n",
      "Epoch 197/300\n",
      "8/8 [==============================] - 0s 4ms/step - loss: 0.3724 - accuracy: 0.8306\n",
      "Epoch 198/300\n",
      "8/8 [==============================] - 0s 4ms/step - loss: 0.3669 - accuracy: 0.8512\n",
      "Epoch 199/300\n",
      "8/8 [==============================] - 0s 2ms/step - loss: 0.3609 - accuracy: 0.8430\n",
      "Epoch 200/300\n",
      "8/8 [==============================] - 0s 4ms/step - loss: 0.3882 - accuracy: 0.8347\n",
      "Epoch 201/300\n",
      "8/8 [==============================] - 0s 4ms/step - loss: 0.3951 - accuracy: 0.8182\n",
      "Epoch 202/300\n",
      "8/8 [==============================] - 0s 4ms/step - loss: 0.4049 - accuracy: 0.8182\n",
      "Epoch 203/300\n",
      "8/8 [==============================] - 0s 4ms/step - loss: 0.3921 - accuracy: 0.8347\n",
      "Epoch 204/300\n",
      "8/8 [==============================] - 0s 3ms/step - loss: 0.3908 - accuracy: 0.8388\n",
      "Epoch 205/300\n",
      "8/8 [==============================] - 0s 3ms/step - loss: 0.4215 - accuracy: 0.7975\n",
      "Epoch 206/300\n",
      "8/8 [==============================] - 0s 3ms/step - loss: 0.3633 - accuracy: 0.8223\n",
      "Epoch 207/300\n",
      "8/8 [==============================] - 0s 5ms/step - loss: 0.3739 - accuracy: 0.8595\n",
      "Epoch 208/300\n",
      "8/8 [==============================] - 0s 5ms/step - loss: 0.3603 - accuracy: 0.8512\n",
      "Epoch 209/300\n",
      "8/8 [==============================] - 0s 5ms/step - loss: 0.3763 - accuracy: 0.8471\n",
      "Epoch 210/300\n",
      "8/8 [==============================] - 0s 4ms/step - loss: 0.3916 - accuracy: 0.8430\n",
      "Epoch 211/300\n",
      "8/8 [==============================] - 0s 3ms/step - loss: 0.3944 - accuracy: 0.8182\n",
      "Epoch 212/300\n",
      "8/8 [==============================] - 0s 2ms/step - loss: 0.3672 - accuracy: 0.8595\n",
      "Epoch 213/300\n",
      "8/8 [==============================] - 0s 1ms/step - loss: 0.3888 - accuracy: 0.8388\n",
      "Epoch 214/300\n",
      "8/8 [==============================] - 0s 3ms/step - loss: 0.4224 - accuracy: 0.8140\n",
      "Epoch 215/300\n",
      "8/8 [==============================] - 0s 3ms/step - loss: 0.3791 - accuracy: 0.8347\n",
      "Epoch 216/300\n",
      "8/8 [==============================] - 0s 3ms/step - loss: 0.3997 - accuracy: 0.8223\n",
      "Epoch 217/300\n",
      "8/8 [==============================] - 0s 5ms/step - loss: 0.3658 - accuracy: 0.8223\n",
      "Epoch 218/300\n",
      "8/8 [==============================] - 0s 3ms/step - loss: 0.3706 - accuracy: 0.8512\n",
      "Epoch 219/300\n",
      "8/8 [==============================] - 0s 5ms/step - loss: 0.3557 - accuracy: 0.8554\n",
      "Epoch 220/300\n",
      "8/8 [==============================] - 0s 9ms/step - loss: 0.3610 - accuracy: 0.8223\n",
      "Epoch 221/300\n",
      "8/8 [==============================] - 0s 5ms/step - loss: 0.3812 - accuracy: 0.8347\n",
      "Epoch 222/300\n",
      "8/8 [==============================] - 0s 7ms/step - loss: 0.3645 - accuracy: 0.8471\n",
      "Epoch 223/300\n",
      "8/8 [==============================] - 0s 4ms/step - loss: 0.3657 - accuracy: 0.8471\n",
      "Epoch 224/300\n",
      "8/8 [==============================] - 0s 4ms/step - loss: 0.3934 - accuracy: 0.8140\n",
      "Epoch 225/300\n",
      "8/8 [==============================] - 0s 3ms/step - loss: 0.3688 - accuracy: 0.8430\n",
      "Epoch 226/300\n",
      "8/8 [==============================] - 0s 4ms/step - loss: 0.3996 - accuracy: 0.8058\n",
      "Epoch 227/300\n",
      "8/8 [==============================] - 0s 4ms/step - loss: 0.4086 - accuracy: 0.8099\n",
      "Epoch 228/300\n",
      "8/8 [==============================] - 0s 2ms/step - loss: 0.3780 - accuracy: 0.8347\n",
      "Epoch 229/300\n",
      "8/8 [==============================] - 0s 3ms/step - loss: 0.3792 - accuracy: 0.8017\n",
      "Epoch 230/300\n",
      "8/8 [==============================] - 0s 2ms/step - loss: 0.4116 - accuracy: 0.8264\n",
      "Epoch 231/300\n",
      "8/8 [==============================] - 0s 3ms/step - loss: 0.3898 - accuracy: 0.8223\n",
      "Epoch 232/300\n",
      "8/8 [==============================] - 0s 2ms/step - loss: 0.3835 - accuracy: 0.8471\n",
      "Epoch 233/300\n",
      "8/8 [==============================] - 0s 2ms/step - loss: 0.3760 - accuracy: 0.8471\n",
      "Epoch 234/300\n",
      "8/8 [==============================] - 0s 2ms/step - loss: 0.3667 - accuracy: 0.8430\n",
      "Epoch 235/300\n",
      "8/8 [==============================] - 0s 3ms/step - loss: 0.3705 - accuracy: 0.8388\n",
      "Epoch 236/300\n",
      "8/8 [==============================] - 0s 3ms/step - loss: 0.3625 - accuracy: 0.8471\n",
      "Epoch 237/300\n",
      "8/8 [==============================] - 0s 2ms/step - loss: 0.3629 - accuracy: 0.8512\n",
      "Epoch 238/300\n",
      "8/8 [==============================] - 0s 2ms/step - loss: 0.3699 - accuracy: 0.8512\n",
      "Epoch 239/300\n",
      "8/8 [==============================] - 0s 3ms/step - loss: 0.3667 - accuracy: 0.8512\n",
      "Epoch 240/300\n",
      "8/8 [==============================] - 0s 3ms/step - loss: 0.4076 - accuracy: 0.8264\n",
      "Epoch 241/300\n",
      "8/8 [==============================] - 0s 2ms/step - loss: 0.4458 - accuracy: 0.8099\n",
      "Epoch 242/300\n",
      "8/8 [==============================] - 0s 2ms/step - loss: 0.4210 - accuracy: 0.8017\n",
      "Epoch 243/300\n",
      "8/8 [==============================] - 0s 3ms/step - loss: 0.3841 - accuracy: 0.8264\n",
      "Epoch 244/300\n",
      "8/8 [==============================] - 0s 4ms/step - loss: 0.3665 - accuracy: 0.8388\n",
      "Epoch 245/300\n",
      "8/8 [==============================] - 0s 2ms/step - loss: 0.3690 - accuracy: 0.8388\n",
      "Epoch 246/300\n",
      "8/8 [==============================] - 0s 6ms/step - loss: 0.3580 - accuracy: 0.8430\n",
      "Epoch 247/300\n",
      "8/8 [==============================] - 0s 5ms/step - loss: 0.3587 - accuracy: 0.8554\n",
      "Epoch 248/300\n",
      "8/8 [==============================] - 0s 7ms/step - loss: 0.3631 - accuracy: 0.8430\n",
      "Epoch 249/300\n",
      "8/8 [==============================] - 0s 4ms/step - loss: 0.3644 - accuracy: 0.8430\n",
      "Epoch 250/300\n",
      "8/8 [==============================] - 0s 4ms/step - loss: 0.3649 - accuracy: 0.8388\n",
      "Epoch 251/300\n",
      "8/8 [==============================] - 0s 4ms/step - loss: 0.3583 - accuracy: 0.8264\n",
      "Epoch 252/300\n",
      "8/8 [==============================] - 0s 3ms/step - loss: 0.3805 - accuracy: 0.8388\n",
      "Epoch 253/300\n",
      "8/8 [==============================] - 0s 2ms/step - loss: 0.3734 - accuracy: 0.8430\n",
      "Epoch 254/300\n",
      "8/8 [==============================] - 0s 3ms/step - loss: 0.3772 - accuracy: 0.8306\n",
      "Epoch 255/300\n",
      "8/8 [==============================] - 0s 2ms/step - loss: 0.3608 - accuracy: 0.8554\n",
      "Epoch 256/300\n",
      "8/8 [==============================] - 0s 3ms/step - loss: 0.3595 - accuracy: 0.8388\n",
      "Epoch 257/300\n",
      "8/8 [==============================] - 0s 2ms/step - loss: 0.3610 - accuracy: 0.8554\n",
      "Epoch 258/300\n",
      "8/8 [==============================] - 0s 3ms/step - loss: 0.3592 - accuracy: 0.8554\n",
      "Epoch 259/300\n",
      "8/8 [==============================] - 0s 3ms/step - loss: 0.3680 - accuracy: 0.8182\n",
      "Epoch 260/300\n",
      "8/8 [==============================] - 0s 2ms/step - loss: 0.4064 - accuracy: 0.8223\n",
      "Epoch 261/300\n",
      "8/8 [==============================] - 0s 2ms/step - loss: 0.3700 - accuracy: 0.8512\n",
      "Epoch 262/300\n",
      "8/8 [==============================] - 0s 4ms/step - loss: 0.3758 - accuracy: 0.8388\n",
      "Epoch 263/300\n",
      "8/8 [==============================] - 0s 5ms/step - loss: 0.3665 - accuracy: 0.8430\n",
      "Epoch 264/300\n",
      "8/8 [==============================] - 0s 4ms/step - loss: 0.3765 - accuracy: 0.8099\n",
      "Epoch 265/300\n",
      "8/8 [==============================] - 0s 5ms/step - loss: 0.3862 - accuracy: 0.8347\n",
      "Epoch 266/300\n",
      "8/8 [==============================] - 0s 6ms/step - loss: 0.3717 - accuracy: 0.8306\n",
      "Epoch 267/300\n",
      "8/8 [==============================] - 0s 4ms/step - loss: 0.3783 - accuracy: 0.8430\n",
      "Epoch 268/300\n",
      "8/8 [==============================] - 0s 2ms/step - loss: 0.3771 - accuracy: 0.8471\n",
      "Epoch 269/300\n",
      "8/8 [==============================] - 0s 3ms/step - loss: 0.3636 - accuracy: 0.8388\n",
      "Epoch 270/300\n",
      "8/8 [==============================] - 0s 2ms/step - loss: 0.3721 - accuracy: 0.8306\n",
      "Epoch 271/300\n",
      "8/8 [==============================] - 0s 2ms/step - loss: 0.3831 - accuracy: 0.8182\n",
      "Epoch 272/300\n",
      "8/8 [==============================] - 0s 2ms/step - loss: 0.3778 - accuracy: 0.8471\n",
      "Epoch 273/300\n",
      "8/8 [==============================] - 0s 4ms/step - loss: 0.3626 - accuracy: 0.8512\n",
      "Epoch 274/300\n",
      "8/8 [==============================] - 0s 2ms/step - loss: 0.4694 - accuracy: 0.7934\n",
      "Epoch 275/300\n",
      "8/8 [==============================] - 0s 3ms/step - loss: 0.3966 - accuracy: 0.7934\n",
      "Epoch 276/300\n",
      "8/8 [==============================] - 0s 3ms/step - loss: 0.3745 - accuracy: 0.8347\n",
      "Epoch 277/300\n",
      "8/8 [==============================] - 0s 3ms/step - loss: 0.4376 - accuracy: 0.7934\n",
      "Epoch 278/300\n",
      "8/8 [==============================] - 0s 2ms/step - loss: 0.4545 - accuracy: 0.7851\n",
      "Epoch 279/300\n",
      "8/8 [==============================] - 0s 4ms/step - loss: 0.3673 - accuracy: 0.8430\n",
      "Epoch 280/300\n",
      "8/8 [==============================] - 0s 3ms/step - loss: 0.3645 - accuracy: 0.8264\n",
      "Epoch 281/300\n",
      "8/8 [==============================] - 0s 3ms/step - loss: 0.3642 - accuracy: 0.8512\n",
      "Epoch 282/300\n",
      "8/8 [==============================] - 0s 2ms/step - loss: 0.3613 - accuracy: 0.8430\n",
      "Epoch 283/300\n",
      "8/8 [==============================] - 0s 3ms/step - loss: 0.3671 - accuracy: 0.8306\n",
      "Epoch 284/300\n",
      "8/8 [==============================] - 0s 3ms/step - loss: 0.4066 - accuracy: 0.8099\n",
      "Epoch 285/300\n",
      "8/8 [==============================] - 0s 3ms/step - loss: 0.3933 - accuracy: 0.8223\n",
      "Epoch 286/300\n",
      "8/8 [==============================] - 0s 3ms/step - loss: 0.3657 - accuracy: 0.8388\n",
      "Epoch 287/300\n",
      "8/8 [==============================] - 0s 4ms/step - loss: 0.3804 - accuracy: 0.8182\n",
      "Epoch 288/300\n",
      "8/8 [==============================] - 0s 4ms/step - loss: 0.3748 - accuracy: 0.8430\n",
      "Epoch 289/300\n",
      "8/8 [==============================] - 0s 5ms/step - loss: 0.3687 - accuracy: 0.8306\n",
      "Epoch 290/300\n",
      "8/8 [==============================] - 0s 5ms/step - loss: 0.3654 - accuracy: 0.8347\n",
      "Epoch 291/300\n",
      "8/8 [==============================] - 0s 5ms/step - loss: 0.3716 - accuracy: 0.8306\n",
      "Epoch 292/300\n",
      "8/8 [==============================] - 0s 6ms/step - loss: 0.3684 - accuracy: 0.8430\n",
      "Epoch 293/300\n",
      "8/8 [==============================] - 0s 4ms/step - loss: 0.3566 - accuracy: 0.8430\n",
      "Epoch 294/300\n",
      "8/8 [==============================] - 0s 5ms/step - loss: 0.3646 - accuracy: 0.8388\n",
      "Epoch 295/300\n",
      "8/8 [==============================] - 0s 3ms/step - loss: 0.3643 - accuracy: 0.8306\n",
      "Epoch 296/300\n",
      "8/8 [==============================] - 0s 3ms/step - loss: 0.3762 - accuracy: 0.8347\n",
      "Epoch 297/300\n",
      "8/8 [==============================] - 0s 4ms/step - loss: 0.3711 - accuracy: 0.8430\n",
      "Epoch 298/300\n",
      "8/8 [==============================] - 0s 2ms/step - loss: 0.3913 - accuracy: 0.8223\n",
      "Epoch 299/300\n",
      "8/8 [==============================] - 0s 4ms/step - loss: 0.3761 - accuracy: 0.8347\n",
      "Epoch 300/300\n",
      "8/8 [==============================] - 0s 9ms/step - loss: 0.3714 - accuracy: 0.8554\n"
     ]
    },
    {
     "data": {
      "text/plain": [
       "<keras.src.callbacks.History at 0x1c5e06121d0>"
      ]
     },
     "execution_count": 94,
     "metadata": {},
     "output_type": "execute_result"
    }
   ],
   "source": [
    "model.fit(X_train,Y_train,epochs=300)"
   ]
  },
  {
   "cell_type": "code",
   "execution_count": 95,
   "metadata": {
    "_uuid": "c844af4f00d40c4cce4c4e5a9a01c9a892e9533d"
   },
   "outputs": [
    {
     "name": "stdout",
     "output_type": "stream",
     "text": [
      "2/2 [==============================] - 0s 4ms/step\n"
     ]
    }
   ],
   "source": [
    "Y_pred_nn = model.predict(X_test)"
   ]
  },
  {
   "cell_type": "code",
   "execution_count": 96,
   "metadata": {
    "_uuid": "7e95c4946c0103225663862f43f31c41ed5aa2b1"
   },
   "outputs": [
    {
     "data": {
      "text/plain": [
       "(61, 1)"
      ]
     },
     "execution_count": 96,
     "metadata": {},
     "output_type": "execute_result"
    }
   ],
   "source": [
    "Y_pred_nn.shape"
   ]
  },
  {
   "cell_type": "code",
   "execution_count": 105,
   "metadata": {
    "_uuid": "66d9268e3f87b5a98066196eaa39363218a20015"
   },
   "outputs": [],
   "source": [
    "rounded = [round(x) for x in Y_pred_nn]\n",
    "\n",
    "Y_pred_nn = rounded"
   ]
  },
  {
   "cell_type": "code",
   "execution_count": 109,
   "metadata": {
    "_uuid": "888d79632c3191c2d11c1ec3da8dc750c9d95424"
   },
   "outputs": [
    {
     "name": "stdout",
     "output_type": "stream",
     "text": [
      "The accuracy score achieved using Neural Network is: 81.97 %\n"
     ]
    }
   ],
   "source": [
    "score_nn = round(accuracy_score(Y_pred_nn,Y_test)*100,2)\n",
    "\n",
    "print(\"The accuracy score achieved using Neural Network is: \"+str(score_nn)+\" %\")\n",
    "\n",
    "#Note: Accuracy of 85% can be achieved on the test set, by setting epochs=2000, and number of nodes = 11. "
   ]
  },
  {
   "cell_type": "markdown",
   "metadata": {
    "_uuid": "c634cd922d716d350f6db0244772260cc598dec4"
   },
   "source": [
    "## VI. Output final score"
   ]
  },
  {
   "cell_type": "code",
   "execution_count": 110,
   "metadata": {
    "_uuid": "101daa51242624c49bb8b3198d9d2c9f8f1c596e"
   },
   "outputs": [
    {
     "name": "stdout",
     "output_type": "stream",
     "text": [
      "The accuracy score achieved using Logistic Regression is: 85.25 %\n",
      "The accuracy score achieved using Naive Bayes is: 85.25 %\n",
      "The accuracy score achieved using Support Vector Machine is: 81.97 %\n",
      "The accuracy score achieved using K-Nearest Neighbors is: 67.21 %\n",
      "The accuracy score achieved using Decision Tree is: 81.97 %\n",
      "The accuracy score achieved using Random Forest is: 90.16 %\n",
      "The accuracy score achieved using XGBoost is: 78.69 %\n",
      "The accuracy score achieved using Neural Network is: 81.97 %\n"
     ]
    }
   ],
   "source": [
    "scores = [score_lr,score_nb,score_svm,score_knn,score_dt,score_rf,score_xgb,score_nn]\n",
    "algorithms = [\"Logistic Regression\",\"Naive Bayes\",\"Support Vector Machine\",\"K-Nearest Neighbors\",\"Decision Tree\",\"Random Forest\",\"XGBoost\",\"Neural Network\"]    \n",
    "\n",
    "for i in range(len(algorithms)):\n",
    "    print(\"The accuracy score achieved using \"+algorithms[i]+\" is: \"+str(scores[i])+\" %\")"
   ]
  },
  {
   "cell_type": "code",
   "execution_count": 112,
   "metadata": {
    "_uuid": "8060c7d426f9f7b64772f37e0a74ededca16838d"
   },
   "outputs": [
    {
     "data": {
      "text/plain": [
       "<Axes: xlabel='Algorithms', ylabel='Accuracy score'>"
      ]
     },
     "execution_count": 112,
     "metadata": {},
     "output_type": "execute_result"
    },
    {
     "data": {
      "image/png": "[encoded data removed]",
      "text/plain": [
       "<Figure size 1500x800 with 1 Axes>"
      ]
     },
     "metadata": {},
     "output_type": "display_data"
    }
   ],
   "source": [
    "sns.set(rc={'figure.figsize':(15,8)})\n",
    "plt.xlabel(\"Algorithms\")\n",
    "plt.ylabel(\"Accuracy score\")\n",
    "\n",
    "sns.barplot(x=algorithms, y=scores)"
   ]
  },
  {
   "cell_type": "markdown",
   "metadata": {
    "_uuid": "bf9c2071e0d480ab335376d8a177914a8fdca9b7"
   },
   "source": [
    "### Hey arbaaz there random forest has good result as compare to other algorithms <br> <br>"
   ]
  },
  {
   "cell_type": "markdown",
   "metadata": {
    "_uuid": "16759e71e0db7e5458cd37a19fbf7b21c24e7301"
   },
   "source": []
  }
 ],
 "metadata": {
  "kernelspec": {
   "display_name": "Python 3",
   "language": "python",
   "name": "python3"
  },
  "language_info": {
   "codemirror_mode": {
    "name": "ipython",
    "version": 3
   },
   "file_extension": ".py",
   "mimetype": "text/x-python",
   "name": "python",
   "nbconvert_exporter": "python",
   "pygments_lexer": "ipython3",
   "version": "3.11.4"
  }
 },
 "nbformat": 4,
 "nbformat_minor": 1
}
