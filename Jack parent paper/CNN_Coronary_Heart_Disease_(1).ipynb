{
  "cells": [
    {
      "cell_type": "markdown",
      "metadata": {
        "id": "IdPnhlzDdCY1"
      },
      "source": [
        "# CNN using coronary heart disease data"
      ]
    },
    {
      "cell_type": "markdown",
      "metadata": {
        "id": "YHGVM33xdCY8"
      },
      "source": [
        "This work is aiming at the design and testing of a deep neural network architecture on Coronary heart disease using Tensorflow and Keras."
      ]
    },
    {
      "cell_type": "markdown",
      "metadata": {
        "id": "W5yQu1LMdCY8"
      },
      "source": [
        "## Importing libraries"
      ]
    },
    {
      "cell_type": "code",
      "execution_count": 1,
      "metadata": {
        "id": "RlPMs2RVdCY8"
      },
      "outputs": [],
      "source": [
        "import numpy as np\n",
        "import copy\n",
        "from sklearn import preprocessing\n",
        "import tensorflow as tf\n",
        "from tensorflow import keras\n",
        "import os\n",
        "import pandas as pd\n",
        "from matplotlib import pyplot as plt\n",
        "from numpy.random import seed\n",
        "np.random.seed(2095)"
      ]
    },
    {
      "cell_type": "code",
      "source": [
        "from google.colab import drive\n",
        "drive.mount('/content/drive')"
      ],
      "metadata": {
        "colab": {
          "base_uri": "https://localhost:8080/"
        },
        "id": "W75QO7uvdFv-",
        "outputId": "d3ca0379-b587-4c5a-aceb-a0060c218ee9"
      },
      "execution_count": 2,
      "outputs": [
        {
          "output_type": "stream",
          "name": "stdout",
          "text": [
            "Mounted at /content/drive\n"
          ]
        }
      ]
    },
    {
      "cell_type": "markdown",
      "metadata": {
        "id": "l5P4vrc0dCY9"
      },
      "source": [
        "## Reading the data"
      ]
    },
    {
      "cell_type": "code",
      "execution_count": 3,
      "metadata": {
        "scrolled": false,
        "colab": {
          "base_uri": "https://localhost:8080/"
        },
        "id": "d4vZ8c0pdCY9",
        "outputId": "64d8e198-757a-4b5c-a8d4-25da57ae9bae"
      },
      "outputs": [
        {
          "output_type": "stream",
          "name": "stdout",
          "text": [
            "Index(['SEQN', 'Gender', 'Age', 'Annual-Family-Income',\n",
            "       'Ratio-Family-Income-Poverty', 'X60-sec-pulse', 'Systolic', 'Diastolic',\n",
            "       'Weight', 'Height', 'Body-Mass-Index', 'White-Blood-Cells',\n",
            "       'Lymphocyte', 'Monocyte', 'Eosinophils', 'Basophils', 'Red-Blood-Cells',\n",
            "       'Hemoglobin', 'Mean-Cell-Vol', 'Mean-Cell-Hgb-Conc.',\n",
            "       'Mean-cell-Hemoglobin', 'Platelet-count', 'Mean-Platelet-Vol',\n",
            "       'Segmented-Neutrophils', 'Hematocrit', 'Red-Cell-Distribution-Width',\n",
            "       'Albumin', 'ALP', 'AST', 'ALT', 'Cholesterol', 'Creatinine', 'Glucose',\n",
            "       'GGT', 'Iron', 'LDH', 'Phosphorus', 'Bilirubin', 'Protein', 'Uric.Acid',\n",
            "       'Triglycerides', 'Total-Cholesterol', 'HDL', 'Glycohemoglobin',\n",
            "       'Vigorous-work', 'Moderate-work', 'Health-Insurance', 'Diabetes',\n",
            "       'Blood-Rel-Diabetes', 'Blood-Rel-Stroke', 'CoronaryHeartDisease'],\n",
            "      dtype='object')\n"
          ]
        }
      ],
      "source": [
        "# read input file\n",
        "file = '/content/drive/MyDrive/Senior year/DS 340W/Parent paper 2/CardiacPrediction.xlsx'\n",
        "#ipData = pd.read_excel(file, sheet_name='Stroke')\n",
        "ipData = pd.read_excel(file, sheet_name='CoroHeartDis')\n",
        "print(ipData.columns)"
      ]
    },
    {
      "cell_type": "markdown",
      "metadata": {
        "id": "WAw-vfnKdCY9"
      },
      "source": [
        "## Drop variables"
      ]
    },
    {
      "cell_type": "code",
      "execution_count": 4,
      "metadata": {
        "id": "ry8aLuAFdCY-"
      },
      "outputs": [],
      "source": [
        "# data drop\n",
        "opLabel = np.array(ipData['CoronaryHeartDisease'])\n",
        "ipData.drop(['SEQN','CoronaryHeartDisease','Annual-Family-Income','Height','Ratio-Family-Income-Poverty','X60-sec-pulse',\n",
        "          'Health-Insurance','Lymphocyte','Monocyte','Eosinophils','Total-Cholesterol','Mean-Cell-Vol','Mean-Cell-Hgb-Conc.','Hematocrit','Segmented-Neutrophils'], axis = 1, inplace=True)\n",
        "\n",
        "\n",
        "#opLabel = np.array(ipData['Stroke'])\n",
        "#ipData.drop(['SEQN','Stroke','Annual-Family-Income','Height','Ratio-Family-Income-Poverty','X60-sec-pulse',\n",
        " #         'Health-Insurance','Lymphocyte','Monocyte','Eosinophils','Total-Cholesterol','Mean-Cell-Vol','Mean-Cell-Hgb-Conc.','Hematocrit','Segmented-Neutrophils'], axis = 1, inplace=True)\n",
        "\n"
      ]
    },
    {
      "cell_type": "code",
      "execution_count": 5,
      "metadata": {
        "id": "nGc1lVPrdCY-"
      },
      "outputs": [],
      "source": [
        "# dummy variable for categorical variables\n",
        "ipData = pd.get_dummies(ipData,columns=[\"Gender\",\"Diabetes\",\"Blood-Rel-Diabetes\",\"Blood-Rel-Stroke\",\"Vigorous-work\",\"Moderate-work\"])\n",
        "\n",
        "varb = np.array(ipData.columns)\n",
        "ipData = np.array(ipData)"
      ]
    },
    {
      "cell_type": "code",
      "execution_count": 6,
      "metadata": {
        "scrolled": true,
        "colab": {
          "base_uri": "https://localhost:8080/"
        },
        "id": "8FWVFCh2dCZw",
        "outputId": "d11c89ba-b622-4ff0-c7df-68dcdb05e54c"
      },
      "outputs": [
        {
          "output_type": "stream",
          "name": "stdout",
          "text": [
            "(37079, 45)\n",
            "['Age' 'Systolic' 'Diastolic' 'Weight' 'Body-Mass-Index'\n",
            " 'White-Blood-Cells' 'Basophils' 'Red-Blood-Cells' 'Hemoglobin'\n",
            " 'Mean-cell-Hemoglobin' 'Platelet-count' 'Mean-Platelet-Vol'\n",
            " 'Red-Cell-Distribution-Width' 'Albumin' 'ALP' 'AST' 'ALT' 'Cholesterol'\n",
            " 'Creatinine' 'Glucose' 'GGT' 'Iron' 'LDH' 'Phosphorus' 'Bilirubin'\n",
            " 'Protein' 'Uric.Acid' 'Triglycerides' 'HDL' 'Glycohemoglobin' 'Gender_1'\n",
            " 'Gender_2' 'Diabetes_1' 'Diabetes_2' 'Diabetes_3' 'Blood-Rel-Diabetes_1'\n",
            " 'Blood-Rel-Diabetes_2' 'Blood-Rel-Stroke_1' 'Blood-Rel-Stroke_2'\n",
            " 'Vigorous-work_1' 'Vigorous-work_2' 'Vigorous-work_3' 'Moderate-work_1'\n",
            " 'Moderate-work_2' 'Moderate-work_3']\n",
            "35571\n",
            "1508\n"
          ]
        }
      ],
      "source": [
        "print(ipData.shape)\n",
        "print(varb)\n",
        "print(len(opLabel[opLabel==0]))\n",
        "print(len(opLabel[opLabel==1]))"
      ]
    },
    {
      "cell_type": "markdown",
      "metadata": {
        "id": "lfX49VlTdCZx"
      },
      "source": [
        "## Feature Nomination using LASSO"
      ]
    },
    {
      "cell_type": "code",
      "execution_count": 7,
      "metadata": {
        "colab": {
          "base_uri": "https://localhost:8080/"
        },
        "id": "3KxFo4madCZx",
        "outputId": "26be33a2-cb6d-42b5-ecfb-2bddc0d67184"
      },
      "outputs": [
        {
          "output_type": "stream",
          "name": "stdout",
          "text": [
            "(45,)\n"
          ]
        }
      ],
      "source": [
        "#Data condensation using LASSO penalty\n",
        "from sklearn.linear_model import Lasso, LogisticRegression\n",
        "\n",
        "\n",
        "featureVote = np.zeros(ipData.shape[1])\n",
        "print(featureVote.shape)\n",
        "\n",
        "iteR = 100\n",
        "\n",
        "for num in range(iteR):\n",
        "    label0_indx = np.where(opLabel==0)[0]   #no coronary heart disease\n",
        "    label1_indx = np.where(opLabel==1)[0]   #coronary heart disease\n",
        "    numTrainData0 = 1300\n",
        "    numTrainData1 = 1300\n",
        "    np.random.shuffle(label0_indx)\n",
        "    np.random.shuffle(label1_indx)\n",
        "\n",
        "    label0_indx_train = label0_indx[0:numTrainData0-1]\n",
        "    label1_indx_train = label1_indx[0:numTrainData1-1]\n",
        "    label0_indx_test  = label0_indx[numTrainData0-1:]\n",
        "    label1_indx_test  = label1_indx[numTrainData1-1:]\n",
        "\n",
        "    testIndx  = np.append(label0_indx_test,label1_indx_test)\n",
        "    trainIndx = np.append(label0_indx_train,label1_indx_train)\n",
        "    trainData  =  ipData[trainIndx]\n",
        "    trainLabel =  opLabel[trainIndx]\n",
        "    testData   =  ipData[testIndx]\n",
        "    testLabel  =  opLabel[testIndx]\n",
        "\n",
        "    ##%% data standardization\n",
        "    scaler = preprocessing.StandardScaler().fit(trainData)\n",
        "    trainData_scaled = scaler.transform(trainData)\n",
        "    testData_scaled  = scaler.transform(testData)\n",
        "\n",
        "    ##%% Elastic net and Lasso from scikit\n",
        "    #regr = ElasticNet(random_state=0, alpha=1, l1_ratio=0.03, tol=0.000001, max_iter=100000)\n",
        "    regr = Lasso(random_state=0, alpha=0.006, tol=0.000001, max_iter=100000)\n",
        "    #regr = LogisticRegression(penalty='l1',random_state=0,C=100,tol=0.000001,max_iter=100,class_weight='balanced')\n",
        "    regr.fit(trainData_scaled,trainLabel)\n",
        "    cof = np.abs(regr.coef_)\n",
        "    colIndx = np.where(cof != 0)[0]\n",
        "    for col in colIndx:\n",
        "        featureVote[col]+=1\n"
      ]
    },
    {
      "cell_type": "code",
      "execution_count": 8,
      "metadata": {
        "scrolled": false,
        "colab": {
          "base_uri": "https://localhost:8080/"
        },
        "id": "ekIEJEXVdCZx",
        "outputId": "f3d93c71-c50f-4dd8-8f29-098f20b233a8"
      },
      "outputs": [
        {
          "output_type": "stream",
          "name": "stdout",
          "text": [
            "[100.  33.  82.  39.  14.  91.  50.  67.   9.  19. 100.  49. 100.  47.\n",
            "  26.  24.   9. 100.  88.  14.  36.  33. 100.  24.  47.  25. 100.  99.\n",
            "  96.  95. 100.  59.  86.  73.   5.  87.  49. 100.  60.  14.  13.  89.\n",
            "   2.  99.  64.]\n",
            "<built-in function iter>\n"
          ]
        }
      ],
      "source": [
        "print(featureVote)\n",
        "print(iter)"
      ]
    },
    {
      "cell_type": "code",
      "execution_count": 9,
      "metadata": {
        "scrolled": false,
        "colab": {
          "base_uri": "https://localhost:8080/"
        },
        "id": "9HVyjTqMdCZx",
        "outputId": "3cb15ba7-f907-4610-ec61-c1a4091af7a3"
      },
      "outputs": [
        {
          "output_type": "stream",
          "name": "stdout",
          "text": [
            "['Age' 'Systolic' 'Diastolic' 'Weight' 'Body-Mass-Index'\n",
            " 'White-Blood-Cells' 'Basophils' 'Red-Blood-Cells' 'Hemoglobin'\n",
            " 'Mean-cell-Hemoglobin' 'Platelet-count' 'Mean-Platelet-Vol'\n",
            " 'Red-Cell-Distribution-Width' 'Albumin' 'ALP' 'AST' 'ALT' 'Cholesterol'\n",
            " 'Creatinine' 'Glucose' 'GGT' 'Iron' 'LDH' 'Phosphorus' 'Bilirubin'\n",
            " 'Protein' 'Uric.Acid' 'Triglycerides' 'HDL' 'Glycohemoglobin' 'Gender_1'\n",
            " 'Gender_2' 'Diabetes_1' 'Diabetes_2' 'Diabetes_3' 'Blood-Rel-Diabetes_1'\n",
            " 'Blood-Rel-Diabetes_2' 'Blood-Rel-Stroke_1' 'Blood-Rel-Stroke_2'\n",
            " 'Vigorous-work_1' 'Vigorous-work_2' 'Vigorous-work_3' 'Moderate-work_1'\n",
            " 'Moderate-work_2' 'Moderate-work_3']\n"
          ]
        }
      ],
      "source": [
        "# feature nomination via Lasso (from feature 1 to 30)\n",
        "# We keep the dummy variables\n",
        "\n",
        "#thresH = iteR//5. Pick features occuring more than 5 times\n",
        "thresH = 0\n",
        "featureIndx = np.where(featureVote[0:30]>=thresH)[0]\n",
        "featureIndx = np.append(featureIndx, np.arange(30,ipData.shape[1]))\n",
        "print(varb[featureIndx])"
      ]
    },
    {
      "cell_type": "code",
      "execution_count": 10,
      "metadata": {
        "colab": {
          "base_uri": "https://localhost:8080/"
        },
        "id": "ZuEN8NX-dCZx",
        "outputId": "50a5e1de-281a-4e62-dba9-4fc846a0d978"
      },
      "outputs": [
        {
          "output_type": "execute_result",
          "data": {
            "text/plain": [
              "(45,)"
            ]
          },
          "metadata": {},
          "execution_count": 10
        }
      ],
      "source": [
        "featureIndx.shape"
      ]
    },
    {
      "cell_type": "code",
      "execution_count": 11,
      "metadata": {
        "scrolled": true,
        "colab": {
          "base_uri": "https://localhost:8080/"
        },
        "id": "evcT_6S4dCZx",
        "outputId": "7ce32175-4eef-4f59-cf7e-254fa6027f46"
      },
      "outputs": [
        {
          "output_type": "stream",
          "name": "stdout",
          "text": [
            "[]\n"
          ]
        }
      ],
      "source": [
        "tInx = np.arange(ipData.shape[1])\n",
        "rrInx = tInx[~np.isin(tInx,featureIndx)]\n",
        "print(varb[rrInx])"
      ]
    },
    {
      "cell_type": "markdown",
      "metadata": {
        "id": "9xmW6lfZdCZx"
      },
      "source": [
        "# Dataset reduction (Re-run every time you change the number of training data)"
      ]
    },
    {
      "cell_type": "code",
      "execution_count": 12,
      "metadata": {
        "id": "71hbXX3edCZx"
      },
      "outputs": [],
      "source": [
        "\n",
        "reduced_data = ipData[:,featureIndx]\n",
        "\n",
        "label0_indx = np.where(opLabel==0)[0]   #no cardiac arrest\n",
        "label1_indx = np.where(opLabel==1)[0]   #cardiac arrest\n",
        "numTrainData0 = 4300\n",
        "numTrainData1 = 1169\n",
        "np.random.shuffle(label0_indx)\n",
        "np.random.shuffle(label1_indx)\n",
        "\n",
        "label0_indx_train = label0_indx[0:numTrainData0]\n",
        "label1_indx_train = label1_indx[0:numTrainData1]\n",
        "label0_indx_test  = label0_indx[numTrainData0:]\n",
        "label1_indx_test  = label1_indx[numTrainData1:]\n",
        "\n",
        "testIndx  = np.append(label0_indx_test,label1_indx_test)\n",
        "trainIndx = np.append(label0_indx_train,label1_indx_train)\n",
        "x_train  =  reduced_data[trainIndx]\n",
        "y_train  =  opLabel[trainIndx]\n",
        "x_test   =  reduced_data[testIndx]\n",
        "y_test   =  opLabel[testIndx]"
      ]
    },
    {
      "cell_type": "code",
      "execution_count": 13,
      "metadata": {
        "colab": {
          "base_uri": "https://localhost:8080/"
        },
        "id": "I8w1zkaidCZx",
        "outputId": "180d129a-6ae4-495d-9ece-5eaac580d0fd"
      },
      "outputs": [
        {
          "output_type": "stream",
          "name": "stdout",
          "text": [
            "31271\n"
          ]
        }
      ],
      "source": [
        "print(len(label0_indx_test))"
      ]
    },
    {
      "cell_type": "code",
      "execution_count": 14,
      "metadata": {
        "id": "g9C7GesOdCZx"
      },
      "outputs": [],
      "source": [
        "scaler = preprocessing.StandardScaler().fit(x_train)\n",
        "x_train = scaler.transform(x_train)\n",
        "x_test  = scaler.transform(x_test)\n",
        "\n",
        "x_train_org = copy.deepcopy(x_train)\n",
        "x_test_org  = copy.deepcopy(x_test)\n",
        "y_train_org     = copy.deepcopy(y_train)\n",
        "y_test_org      = copy.deepcopy(y_test)"
      ]
    },
    {
      "cell_type": "markdown",
      "metadata": {
        "id": "uEWtr_7OdCZy"
      },
      "source": [
        "## t-SNE visualization"
      ]
    },
    {
      "cell_type": "code",
      "execution_count": 15,
      "metadata": {
        "id": "ueiTPO_VdCZy"
      },
      "outputs": [],
      "source": [
        "# t-SNE visualization\n",
        "import imblearn\n",
        "from collections import Counter\n",
        "from sklearn.manifold import TSNE\n",
        "import seaborn as sns"
      ]
    },
    {
      "cell_type": "code",
      "execution_count": 16,
      "metadata": {
        "colab": {
          "base_uri": "https://localhost:8080/"
        },
        "id": "bRC8KTzvdCZy",
        "outputId": "26b3717c-43e7-4cdf-b5a9-2632b7020a89"
      },
      "outputs": [
        {
          "output_type": "stream",
          "name": "stdout",
          "text": [
            "[t-SNE] Computing 91 nearest neighbors...\n",
            "[t-SNE] Indexed 5469 samples in 0.001s...\n",
            "[t-SNE] Computed neighbors for 5469 samples in 0.413s...\n",
            "[t-SNE] Computed conditional probabilities for sample 1000 / 5469\n",
            "[t-SNE] Computed conditional probabilities for sample 2000 / 5469\n",
            "[t-SNE] Computed conditional probabilities for sample 3000 / 5469\n",
            "[t-SNE] Computed conditional probabilities for sample 4000 / 5469\n",
            "[t-SNE] Computed conditional probabilities for sample 5000 / 5469\n",
            "[t-SNE] Computed conditional probabilities for sample 5469 / 5469\n",
            "[t-SNE] Mean sigma: 1.776332\n",
            "[t-SNE] KL divergence after 250 iterations with early exaggeration: 83.125397\n",
            "[t-SNE] KL divergence after 300 iterations: 2.375069\n"
          ]
        }
      ],
      "source": [
        "X_embedded = TSNE(n_components=3, n_iter = 300, verbose=1).fit_transform(x_train)\n"
      ]
    },
    {
      "cell_type": "code",
      "execution_count": 17,
      "metadata": {
        "colab": {
          "base_uri": "https://localhost:8080/",
          "height": 697
        },
        "id": "tlC3nqImdCZy",
        "outputId": "c64fe2d4-27b7-4558-d75d-582d510898bd"
      },
      "outputs": [
        {
          "output_type": "stream",
          "name": "stderr",
          "text": [
            "<ipython-input-17-57e647667309>:10: UserWarning: *c* argument looks like a single numeric RGB or RGBA sequence, which should be avoided as value-mapping will have precedence in case its length matches with *x* & *y*.  Please use the *color* keyword-argument or provide a 2D array with a single row if you intend to specify the same RGB or RGBA value for all points.\n",
            "  ax.scatter(0,0,0,c=cin,edgecolors='k',label='CHD')\n"
          ]
        },
        {
          "output_type": "display_data",
          "data": {
            "text/plain": [
              "<Figure size 750x750 with 1 Axes>"
            ],
            "image/png": "[encoded data removed]"
          },
          "metadata": {}
        }
      ],
      "source": [
        "from mpl_toolkits.mplot3d import Axes3D\n",
        "\n",
        "cin = sns.color_palette(\"Set1\")[1]\n",
        "edge_color = []\n",
        "fig = plt.figure()\n",
        "ax = fig.add_subplot(111, projection='3d')\n",
        "ax.set_facecolor('w')\n",
        "ax.scatter(X_embedded[:,0],X_embedded[:,1],X_embedded[:,2],c=[sns.color_palette(\"Set1\")[x] for x in y_train],\\\n",
        "           edgecolors='k',label='no-CHD')\n",
        "ax.scatter(0,0,0,c=cin,edgecolors='k',label='CHD')\n",
        "ax.azim = 20\n",
        "ax.elev = 20\n",
        "ax.set_xlabel(\"t-SNE Dim 1\", size=\"x-large\")\n",
        "ax.set_ylabel(\"t-SNE Dim 2\", size=\"x-large\")\n",
        "ax.set_zlabel(\"t-SNE Dim 3\", size=\"x-large\")\n",
        "plt.title(\"Random subsampling 3:1\",size=\"xx-large\")\n",
        "ax.legend(loc='upper left')\n",
        "fig.set_size_inches(7.5,7.5)\n",
        "fig.savefig('tSNE_RUS.png', dpi=100)"
      ]
    },
    {
      "cell_type": "code",
      "execution_count": 18,
      "metadata": {
        "id": "_3j3Qe-VdCZy"
      },
      "outputs": [],
      "source": [
        "x_train = x_train.reshape(x_train.shape[0],x_train.shape[1],1)\n",
        "x_test = x_test.reshape(x_test.shape[0],x_test.shape[1],1)"
      ]
    },
    {
      "cell_type": "code",
      "execution_count": 19,
      "metadata": {
        "id": "Po-YgO7udCZy"
      },
      "outputs": [],
      "source": [
        "#%% one-hot-encoding\n",
        "y_train = keras.utils.to_categorical(y_train,2)\n",
        "y_test  = keras.utils.to_categorical(y_test,2)"
      ]
    },
    {
      "cell_type": "code",
      "execution_count": 20,
      "metadata": {
        "colab": {
          "base_uri": "https://localhost:8080/"
        },
        "id": "MKDW67YudCZy",
        "outputId": "44df65ed-15c0-4bf5-8ca2-58685d94f614"
      },
      "outputs": [
        {
          "output_type": "execute_result",
          "data": {
            "text/plain": [
              "array([0, 0, 0, ..., 1, 1, 1])"
            ]
          },
          "metadata": {},
          "execution_count": 20
        }
      ],
      "source": [
        "#y_train.shape\n",
        "#y_train\n",
        "y_train_org"
      ]
    },
    {
      "cell_type": "markdown",
      "metadata": {
        "id": "GbyzHSK3dCZy"
      },
      "source": [
        "# Running the part above is MANDATORY for training any Network below"
      ]
    },
    {
      "cell_type": "markdown",
      "metadata": {
        "id": "0VnHQMCndCZy"
      },
      "source": [
        "## MLP only"
      ]
    },
    {
      "cell_type": "code",
      "execution_count": 21,
      "metadata": {
        "scrolled": true,
        "colab": {
          "base_uri": "https://localhost:8080/"
        },
        "id": "ffDQeVcRdCZy",
        "outputId": "393b15c1-cc3e-4f6b-874d-f5afbc3814c1"
      },
      "outputs": [
        {
          "output_type": "stream",
          "name": "stderr",
          "text": [
            "WARNING:absl:`lr` is deprecated in Keras optimizer, please use `learning_rate` or use the legacy optimizer, e.g.,tf.keras.optimizers.legacy.Adam.\n"
          ]
        },
        {
          "output_type": "stream",
          "name": "stdout",
          "text": [
            "Model: \"model\"\n",
            "_________________________________________________________________\n",
            " Layer (type)                Output Shape              Param #   \n",
            "=================================================================\n",
            " input_1 (InputLayer)        [(None, 45, 1)]           0         \n",
            "                                                                 \n",
            " reshape (Reshape)           (None, 45)                0         \n",
            "                                                                 \n",
            " dense (Dense)               (None, 512)               23552     \n",
            "                                                                 \n",
            " batch_normalization (BatchN  (None, 512)              2048      \n",
            " ormalization)                                                   \n",
            "                                                                 \n",
            " activation (Activation)     (None, 512)               0         \n",
            "                                                                 \n",
            " dropout (Dropout)           (None, 512)               0         \n",
            "                                                                 \n",
            " dense_1 (Dense)             (None, 128)               65664     \n",
            "                                                                 \n",
            " batch_normalization_1 (Batc  (None, 128)              512       \n",
            " hNormalization)                                                 \n",
            "                                                                 \n",
            " activation_1 (Activation)   (None, 128)               0         \n",
            "                                                                 \n",
            " dropout_1 (Dropout)         (None, 128)               0         \n",
            "                                                                 \n",
            " dense_2 (Dense)             (None, 2)                 258       \n",
            "                                                                 \n",
            " activation_2 (Activation)   (None, 2)                 0         \n",
            "                                                                 \n",
            "=================================================================\n",
            "Total params: 92,034\n",
            "Trainable params: 90,754\n",
            "Non-trainable params: 1,280\n",
            "_________________________________________________________________\n"
          ]
        }
      ],
      "source": [
        "# MLP -2\n",
        "inputs = keras.layers.Input(shape=(x_train.shape[1],1))\n",
        "RS0    = keras.layers.Reshape((x_train.shape[1], ))(inputs)\n",
        "FC0    = keras.layers.Dense(512, bias_initializer=keras.initializers.VarianceScaling())(RS0)\n",
        "BN0    = keras.layers.BatchNormalization(axis=-1)(FC0)\n",
        "AC0    = keras.layers.Activation('relu')(BN0)\n",
        "DP0    = keras.layers.Dropout(0.2)(AC0)\n",
        "\n",
        "FC1    = keras.layers.Dense(128, bias_initializer=keras.initializers.VarianceScaling())(DP0)\n",
        "BN1    = keras.layers.BatchNormalization(axis=-1)(FC1)\n",
        "AC1    = keras.layers.Activation('relu')(BN1)\n",
        "DP1    = keras.layers.Dropout(0.2)(AC1)\n",
        "\n",
        "\n",
        "FC2 =   keras.layers.Dense(2, bias_initializer=keras.initializers.VarianceScaling())(DP1)\n",
        "outputs = keras.layers.Activation('softmax')(FC2)\n",
        "\n",
        "myMLP = keras.Model(inputs=inputs,outputs=outputs)\n",
        "myMLP.compile(optimizer=keras.optimizers.Adam(lr=0.01),\n",
        "                 loss='categorical_crossentropy',\n",
        "                 metrics=['accuracy'])\n",
        "myMLP.summary()\n"
      ]
    },
    {
      "cell_type": "code",
      "execution_count": 22,
      "metadata": {
        "scrolled": true,
        "colab": {
          "base_uri": "https://localhost:8080/"
        },
        "id": "ml4F-DCudCZy",
        "outputId": "52d173f6-03b5-4d7d-8f90-8cf8a9fdc238"
      },
      "outputs": [
        {
          "output_type": "stream",
          "name": "stdout",
          "text": [
            "Epoch 1/50\n",
            "11/11 [==============================] - 2s 37ms/step - loss: 1.6266 - accuracy: 0.6219\n",
            "Epoch 2/50\n",
            "11/11 [==============================] - 0s 32ms/step - loss: 1.3057 - accuracy: 0.6442\n",
            "Epoch 3/50\n",
            "11/11 [==============================] - 0s 33ms/step - loss: 1.1256 - accuracy: 0.6679\n",
            "Epoch 4/50\n",
            "11/11 [==============================] - 0s 34ms/step - loss: 1.0781 - accuracy: 0.6992\n",
            "Epoch 5/50\n",
            "11/11 [==============================] - 0s 32ms/step - loss: 1.0294 - accuracy: 0.7146\n",
            "Epoch 6/50\n",
            "11/11 [==============================] - 0s 30ms/step - loss: 1.0027 - accuracy: 0.7206\n",
            "Epoch 7/50\n",
            "11/11 [==============================] - 0s 36ms/step - loss: 0.9991 - accuracy: 0.7210\n",
            "Epoch 8/50\n",
            "11/11 [==============================] - 0s 34ms/step - loss: 0.9346 - accuracy: 0.7277\n",
            "Epoch 9/50\n",
            "11/11 [==============================] - 0s 30ms/step - loss: 0.9462 - accuracy: 0.7321\n",
            "Epoch 10/50\n",
            "11/11 [==============================] - 0s 33ms/step - loss: 0.8994 - accuracy: 0.7398\n",
            "Epoch 11/50\n",
            "11/11 [==============================] - 0s 33ms/step - loss: 0.8700 - accuracy: 0.7376\n",
            "Epoch 12/50\n",
            "11/11 [==============================] - 0s 31ms/step - loss: 0.8434 - accuracy: 0.7466\n",
            "Epoch 13/50\n",
            "11/11 [==============================] - 0s 24ms/step - loss: 0.8318 - accuracy: 0.7570\n",
            "Epoch 14/50\n",
            "11/11 [==============================] - 0s 21ms/step - loss: 0.8108 - accuracy: 0.7605\n",
            "Epoch 15/50\n",
            "11/11 [==============================] - 0s 24ms/step - loss: 0.8222 - accuracy: 0.7570\n",
            "Epoch 16/50\n",
            "11/11 [==============================] - 0s 21ms/step - loss: 0.7919 - accuracy: 0.7753\n",
            "Epoch 17/50\n",
            "11/11 [==============================] - 0s 22ms/step - loss: 0.7703 - accuracy: 0.7689\n",
            "Epoch 18/50\n",
            "11/11 [==============================] - 0s 21ms/step - loss: 0.7752 - accuracy: 0.7769\n",
            "Epoch 19/50\n",
            "11/11 [==============================] - 0s 21ms/step - loss: 0.7778 - accuracy: 0.7731\n",
            "Epoch 20/50\n",
            "11/11 [==============================] - 0s 23ms/step - loss: 0.7543 - accuracy: 0.7806\n",
            "Epoch 21/50\n",
            "11/11 [==============================] - 0s 21ms/step - loss: 0.7283 - accuracy: 0.7850\n",
            "Epoch 22/50\n",
            "11/11 [==============================] - 0s 21ms/step - loss: 0.7250 - accuracy: 0.7879\n",
            "Epoch 23/50\n",
            "11/11 [==============================] - 0s 22ms/step - loss: 0.7108 - accuracy: 0.7965\n",
            "Epoch 24/50\n",
            "11/11 [==============================] - 0s 21ms/step - loss: 0.6871 - accuracy: 0.7963\n",
            "Epoch 25/50\n",
            "11/11 [==============================] - 0s 21ms/step - loss: 0.6935 - accuracy: 0.7978\n",
            "Epoch 26/50\n",
            "11/11 [==============================] - 0s 21ms/step - loss: 0.6801 - accuracy: 0.8014\n",
            "Epoch 27/50\n",
            "11/11 [==============================] - 0s 21ms/step - loss: 0.6644 - accuracy: 0.8029\n",
            "Epoch 28/50\n",
            "11/11 [==============================] - 0s 22ms/step - loss: 0.6522 - accuracy: 0.8106\n",
            "Epoch 29/50\n",
            "11/11 [==============================] - 0s 20ms/step - loss: 0.6346 - accuracy: 0.8124\n",
            "Epoch 30/50\n",
            "11/11 [==============================] - 0s 21ms/step - loss: 0.6389 - accuracy: 0.8212\n",
            "Epoch 31/50\n",
            "11/11 [==============================] - 0s 21ms/step - loss: 0.6112 - accuracy: 0.8214\n",
            "Epoch 32/50\n",
            "11/11 [==============================] - 0s 22ms/step - loss: 0.6041 - accuracy: 0.8296\n",
            "Epoch 33/50\n",
            "11/11 [==============================] - 0s 21ms/step - loss: 0.5994 - accuracy: 0.8309\n",
            "Epoch 34/50\n",
            "11/11 [==============================] - 0s 21ms/step - loss: 0.6361 - accuracy: 0.8217\n",
            "Epoch 35/50\n",
            "11/11 [==============================] - 0s 21ms/step - loss: 0.5684 - accuracy: 0.8283\n",
            "Epoch 36/50\n",
            "11/11 [==============================] - 0s 21ms/step - loss: 0.5675 - accuracy: 0.8371\n",
            "Epoch 37/50\n",
            "11/11 [==============================] - 0s 21ms/step - loss: 0.5612 - accuracy: 0.8362\n",
            "Epoch 38/50\n",
            "11/11 [==============================] - 0s 21ms/step - loss: 0.5529 - accuracy: 0.8382\n",
            "Epoch 39/50\n",
            "11/11 [==============================] - 0s 22ms/step - loss: 0.5502 - accuracy: 0.8437\n",
            "Epoch 40/50\n",
            "11/11 [==============================] - 0s 22ms/step - loss: 0.5381 - accuracy: 0.8451\n",
            "Epoch 41/50\n",
            "11/11 [==============================] - 0s 21ms/step - loss: 0.5593 - accuracy: 0.8523\n",
            "Epoch 42/50\n",
            "11/11 [==============================] - 0s 21ms/step - loss: 0.5251 - accuracy: 0.8334\n",
            "Epoch 43/50\n",
            "11/11 [==============================] - 0s 21ms/step - loss: 0.5228 - accuracy: 0.8471\n",
            "Epoch 44/50\n",
            "11/11 [==============================] - 0s 22ms/step - loss: 0.5107 - accuracy: 0.8621\n",
            "Epoch 45/50\n",
            "11/11 [==============================] - 0s 21ms/step - loss: 0.5106 - accuracy: 0.8535\n",
            "Epoch 46/50\n",
            "11/11 [==============================] - 0s 21ms/step - loss: 0.5119 - accuracy: 0.8559\n",
            "Epoch 47/50\n",
            "11/11 [==============================] - 0s 23ms/step - loss: 0.4987 - accuracy: 0.8481\n",
            "Epoch 48/50\n",
            "11/11 [==============================] - 0s 21ms/step - loss: 0.5062 - accuracy: 0.8594\n",
            "Epoch 49/50\n",
            "11/11 [==============================] - 0s 23ms/step - loss: 0.4707 - accuracy: 0.8640\n",
            "Epoch 50/50\n",
            "11/11 [==============================] - 0s 21ms/step - loss: 0.4830 - accuracy: 0.8649\n"
          ]
        },
        {
          "output_type": "execute_result",
          "data": {
            "text/plain": [
              "<keras.callbacks.History at 0x7a211e01d630>"
            ]
          },
          "metadata": {},
          "execution_count": 22
        }
      ],
      "source": [
        "class_weight = {0: 1, 1: 10}\n",
        "\n",
        "myMLP.fit(x_train,y_train,epochs=50,batch_size=500,verbose=1, class_weight=class_weight)"
      ]
    },
    {
      "cell_type": "code",
      "execution_count": 23,
      "metadata": {
        "colab": {
          "base_uri": "https://localhost:8080/"
        },
        "id": "_n7ZSXt7dCZy",
        "outputId": "48ef1805-e00b-4e19-8269-dfc5b1069fba"
      },
      "outputs": [
        {
          "output_type": "stream",
          "name": "stdout",
          "text": [
            "988/988 [==============================] - 2s 2ms/step - loss: 0.4570 - accuracy: 0.8097\n",
            "0.8097121119499207\n"
          ]
        }
      ],
      "source": [
        "test_loss,test_acc = myMLP.evaluate(x_test,y_test)\n",
        "print(test_acc)"
      ]
    },
    {
      "cell_type": "code",
      "execution_count": 24,
      "metadata": {
        "scrolled": true,
        "colab": {
          "base_uri": "https://localhost:8080/"
        },
        "id": "VBQ-lg-JdCZy",
        "outputId": "603c4401-6bba-4c57-9032-5feadb936d38"
      },
      "outputs": [
        {
          "output_type": "stream",
          "name": "stdout",
          "text": [
            "988/988 [==============================] - 2s 2ms/step\n",
            "[[25357  5914]\n",
            " [  101   238]]\n"
          ]
        }
      ],
      "source": [
        "from sklearn import metrics\n",
        "predlabel = myMLP.predict(x_test)\n",
        "f = np.argmax(predlabel,axis=1)\n",
        "confMat = metrics.confusion_matrix(np.argmax(y_test,axis=1),f)\n",
        "print(confMat)"
      ]
    },
    {
      "cell_type": "markdown",
      "metadata": {
        "id": "5BlGCOzLdCZy"
      },
      "source": [
        "## MLP with additional layers"
      ]
    },
    {
      "cell_type": "code",
      "execution_count": 25,
      "metadata": {
        "colab": {
          "base_uri": "https://localhost:8080/"
        },
        "id": "FQSFYzLWdCZy",
        "outputId": "c626ac65-3c9e-49c0-f4d3-68a3eea3e77e"
      },
      "outputs": [
        {
          "output_type": "stream",
          "name": "stderr",
          "text": [
            "WARNING:absl:`lr` is deprecated in Keras optimizer, please use `learning_rate` or use the legacy optimizer, e.g.,tf.keras.optimizers.legacy.Adam.\n"
          ]
        },
        {
          "output_type": "stream",
          "name": "stdout",
          "text": [
            "Model: \"model_1\"\n",
            "_________________________________________________________________\n",
            " Layer (type)                Output Shape              Param #   \n",
            "=================================================================\n",
            " input_2 (InputLayer)        [(None, 45, 1)]           0         \n",
            "                                                                 \n",
            " reshape_1 (Reshape)         (None, 45)                0         \n",
            "                                                                 \n",
            " dense_3 (Dense)             (None, 64)                2944      \n",
            "                                                                 \n",
            " batch_normalization_2 (Batc  (None, 64)               256       \n",
            " hNormalization)                                                 \n",
            "                                                                 \n",
            " activation_3 (Activation)   (None, 64)                0         \n",
            "                                                                 \n",
            " dropout_2 (Dropout)         (None, 64)                0         \n",
            "                                                                 \n",
            " dense_4 (Dense)             (None, 128)               8320      \n",
            "                                                                 \n",
            " batch_normalization_3 (Batc  (None, 128)              512       \n",
            " hNormalization)                                                 \n",
            "                                                                 \n",
            " activation_4 (Activation)   (None, 128)               0         \n",
            "                                                                 \n",
            " dropout_3 (Dropout)         (None, 128)               0         \n",
            "                                                                 \n",
            " dense_5 (Dense)             (None, 256)               33024     \n",
            "                                                                 \n",
            " batch_normalization_4 (Batc  (None, 256)              1024      \n",
            " hNormalization)                                                 \n",
            "                                                                 \n",
            " activation_5 (Activation)   (None, 256)               0         \n",
            "                                                                 \n",
            " dense_6 (Dense)             (None, 2)                 514       \n",
            "                                                                 \n",
            " activation_6 (Activation)   (None, 2)                 0         \n",
            "                                                                 \n",
            "=================================================================\n",
            "Total params: 46,594\n",
            "Trainable params: 45,698\n",
            "Non-trainable params: 896\n",
            "_________________________________________________________________\n"
          ]
        }
      ],
      "source": [
        "# MLP -3 :: Input => Hidden(64) => Hidden(128) => Hidden(256)\n",
        "inputs = keras.layers.Input(shape=(x_train.shape[1],1))\n",
        "RS0    = keras.layers.Reshape((x_train.shape[1], ))(inputs)\n",
        "FC0    = keras.layers.Dense(64, bias_initializer=keras.initializers.VarianceScaling())(RS0)\n",
        "BN0    = keras.layers.BatchNormalization(axis=-1)(FC0)\n",
        "AC0    = keras.layers.Activation('relu')(BN0)\n",
        "DP0    = keras.layers.Dropout(0.2)(AC0)\n",
        "\n",
        "FC1    = keras.layers.Dense(128, bias_initializer=keras.initializers.VarianceScaling())(DP0)\n",
        "BN1    = keras.layers.BatchNormalization(axis=-1)(FC1)\n",
        "AC1    = keras.layers.Activation('relu')(BN1)\n",
        "DP1    = keras.layers.Dropout(0.2)(AC1)\n",
        "\n",
        "FC2    = keras.layers.Dense(256, bias_initializer=keras.initializers.VarianceScaling())(DP1)\n",
        "BN2    = keras.layers.BatchNormalization(axis=-1)(FC2)\n",
        "AC2    = keras.layers.Activation('relu')(BN2)\n",
        "#DP2    = keras.layers.Dropout(0.2)(AC2)\n",
        "\n",
        "\n",
        "FC3 =   keras.layers.Dense(2, bias_initializer=keras.initializers.VarianceScaling())(AC2)\n",
        "outputs = keras.layers.Activation('softmax')(FC3)\n",
        "\n",
        "myMLP3 = keras.Model(inputs=inputs,outputs=outputs)\n",
        "myMLP3.compile(optimizer=keras.optimizers.Adam(lr=0.01),\n",
        "                 loss='categorical_crossentropy',\n",
        "                 metrics=['accuracy'])\n",
        "myMLP3.summary()"
      ]
    },
    {
      "cell_type": "code",
      "execution_count": 26,
      "metadata": {
        "scrolled": true,
        "colab": {
          "base_uri": "https://localhost:8080/"
        },
        "id": "R6xdXZxxdCZy",
        "outputId": "98ac9888-8dad-4f67-e539-66a49d5c1e57"
      },
      "outputs": [
        {
          "output_type": "stream",
          "name": "stdout",
          "text": [
            "171/171 [==============================] - 3s 4ms/step - loss: 0.7417 - accuracy: 0.7400\n"
          ]
        },
        {
          "output_type": "execute_result",
          "data": {
            "text/plain": [
              "<keras.callbacks.History at 0x7a211c082050>"
            ]
          },
          "metadata": {},
          "execution_count": 26
        }
      ],
      "source": [
        "class_weight = {0: 1, 1: 2.2}\n",
        "\n",
        "myMLP3.fit(x_train,y_train,epochs=1,verbose=1, class_weight=class_weight)"
      ]
    },
    {
      "cell_type": "code",
      "execution_count": 27,
      "metadata": {
        "colab": {
          "base_uri": "https://localhost:8080/"
        },
        "id": "NyBIZhN8dCZy",
        "outputId": "8515fffa-afa2-4515-f68f-e951c9599f8a"
      },
      "outputs": [
        {
          "output_type": "stream",
          "name": "stdout",
          "text": [
            "988/988 [==============================] - 2s 2ms/step - loss: 0.5765 - accuracy: 0.6885\n",
            "0.6885479092597961\n"
          ]
        }
      ],
      "source": [
        "test_loss,test_acc = myMLP3.evaluate(x_test,y_test)\n",
        "print(test_acc)"
      ]
    },
    {
      "cell_type": "code",
      "execution_count": 28,
      "metadata": {
        "colab": {
          "base_uri": "https://localhost:8080/"
        },
        "id": "GKB6RrU4dCZz",
        "outputId": "3f3366be-d33f-4a22-f58e-45727eed72fa"
      },
      "outputs": [
        {
          "output_type": "stream",
          "name": "stdout",
          "text": [
            "988/988 [==============================] - 2s 2ms/step\n",
            "[[21476  9795]\n",
            " [   50   289]]\n"
          ]
        }
      ],
      "source": [
        "from sklearn import metrics\n",
        "predlabel = myMLP3.predict(x_test)\n",
        "f = np.argmax(predlabel,axis=1)\n",
        "confMat = metrics.confusion_matrix(np.argmax(y_test,axis=1),f)\n",
        "print(confMat)"
      ]
    },
    {
      "cell_type": "markdown",
      "metadata": {
        "id": "TrP9XtUndCZz"
      },
      "source": [
        "# Introducing convolutional layers"
      ]
    },
    {
      "cell_type": "markdown",
      "metadata": {
        "id": "yPDuH8mydCZz"
      },
      "source": [
        "## MLP+Conv :: Input => Hidden(128)  => Conv(4) => Output (2)"
      ]
    },
    {
      "cell_type": "code",
      "execution_count": 29,
      "metadata": {
        "colab": {
          "base_uri": "https://localhost:8080/"
        },
        "id": "DzbHzZ8OdCZz",
        "outputId": "7a5cf334-5ab8-4127-aae4-401dfba033a6"
      },
      "outputs": [
        {
          "output_type": "stream",
          "name": "stdout",
          "text": [
            "Model: \"model_2\"\n",
            "_________________________________________________________________\n",
            " Layer (type)                Output Shape              Param #   \n",
            "=================================================================\n",
            " input_3 (InputLayer)        [(None, 45, 1)]           0         \n",
            "                                                                 \n",
            " reshape_2 (Reshape)         (None, 45)                0         \n",
            "                                                                 \n",
            " dense_7 (Dense)             (None, 128)               5888      \n",
            "                                                                 \n",
            " batch_normalization_5 (Batc  (None, 128)              512       \n",
            " hNormalization)                                                 \n",
            "                                                                 \n",
            " activation_7 (Activation)   (None, 128)               0         \n",
            "                                                                 \n",
            " dropout_4 (Dropout)         (None, 128)               0         \n",
            "                                                                 \n",
            " reshape_3 (Reshape)         (None, 128, 1)            0         \n",
            "                                                                 \n",
            " conv1d (Conv1D)             (None, 126, 4)            16        \n",
            "                                                                 \n",
            " batch_normalization_6 (Batc  (None, 126, 4)           16        \n",
            " hNormalization)                                                 \n",
            "                                                                 \n",
            " activation_8 (Activation)   (None, 126, 4)            0         \n",
            "                                                                 \n",
            " max_pooling1d (MaxPooling1D  (None, 63, 4)            0         \n",
            " )                                                               \n",
            "                                                                 \n",
            " flatten (Flatten)           (None, 252)               0         \n",
            "                                                                 \n",
            " dense_8 (Dense)             (None, 2)                 506       \n",
            "                                                                 \n",
            " activation_9 (Activation)   (None, 2)                 0         \n",
            "                                                                 \n",
            "=================================================================\n",
            "Total params: 6,938\n",
            "Trainable params: 6,674\n",
            "Non-trainable params: 264\n",
            "_________________________________________________________________\n"
          ]
        }
      ],
      "source": [
        "\n",
        "inputs = keras.layers.Input(shape=(x_train.shape[1],1))\n",
        "RS0    = keras.layers.Reshape((x_train.shape[1], ))(inputs)\n",
        "FC0    = keras.layers.Dense(128, bias_initializer=keras.initializers.VarianceScaling())(RS0)\n",
        "BN0    = keras.layers.BatchNormalization(axis=-1)(FC0)\n",
        "AC0    = keras.layers.Activation('relu')(BN0)\n",
        "DP0    = keras.layers.Dropout(0.2)(AC0)\n",
        "\n",
        "RS1    = keras.layers.Reshape((128,1))(DP0)\n",
        "FC1    = keras.layers.Conv1D(4,3,strides=1)(RS1)\n",
        "BN1    = keras.layers.BatchNormalization(axis=-1)(FC1)\n",
        "AC1    = keras.layers.Activation('relu')(BN1)\n",
        "Pool1 = keras.layers.MaxPool1D(pool_size=2)(AC1)\n",
        "FL1   = keras.layers.Flatten()(Pool1)\n",
        "\n",
        "FC3 =   keras.layers.Dense(2, bias_initializer=keras.initializers.VarianceScaling())(FL1)\n",
        "outputs = keras.layers.Activation('softmax')(FC3)\n",
        "\n",
        "myCNN1D1 = keras.Model(inputs=inputs,outputs=outputs)\n",
        "myCNN1D1.compile(optimizer=keras.optimizers.Adam(),\n",
        "                 loss='categorical_crossentropy',\n",
        "                 metrics=['accuracy'])\n",
        "\n",
        "myCNN1D1.summary()\n"
      ]
    },
    {
      "cell_type": "code",
      "execution_count": 30,
      "metadata": {
        "scrolled": true,
        "colab": {
          "base_uri": "https://localhost:8080/"
        },
        "id": "C6zJqr0zdCZz",
        "outputId": "418c474c-7faf-4664-a5fb-4bb57557bc3e"
      },
      "outputs": [
        {
          "output_type": "stream",
          "name": "stdout",
          "text": [
            "171/171 [==============================] - 2s 5ms/step - loss: 0.9973 - accuracy: 0.6729\n"
          ]
        },
        {
          "output_type": "execute_result",
          "data": {
            "text/plain": [
              "<keras.callbacks.History at 0x7a211fe73340>"
            ]
          },
          "metadata": {},
          "execution_count": 30
        }
      ],
      "source": [
        "class_weight = {0: 1, 1: 4}\n",
        "\n",
        "myCNN1D1.fit(x_train,y_train,epochs=1,verbose=1, class_weight=class_weight)"
      ]
    },
    {
      "cell_type": "code",
      "execution_count": 31,
      "metadata": {
        "colab": {
          "base_uri": "https://localhost:8080/"
        },
        "id": "sJy8rCOIdCZz",
        "outputId": "18821d74-ff1f-4166-c30f-c2775d7afbf9"
      },
      "outputs": [
        {
          "output_type": "stream",
          "name": "stdout",
          "text": [
            "988/988 [==============================] - 3s 2ms/step - loss: 0.5683 - accuracy: 0.7332\n",
            "0.7331540584564209\n"
          ]
        }
      ],
      "source": [
        "test_loss,test_acc = myCNN1D1.evaluate(x_test,y_test)\n",
        "print(test_acc)"
      ]
    },
    {
      "cell_type": "code",
      "execution_count": 32,
      "metadata": {
        "colab": {
          "base_uri": "https://localhost:8080/"
        },
        "id": "6id2M42ydCZz",
        "outputId": "bb0ff831-f033-4d2f-b2d3-5d443dc6e958"
      },
      "outputs": [
        {
          "output_type": "stream",
          "name": "stdout",
          "text": [
            "988/988 [==============================] - 2s 2ms/step\n",
            "[[22901  8370]\n",
            " [   65   274]]\n"
          ]
        }
      ],
      "source": [
        "from sklearn import metrics\n",
        "predlabel = myCNN1D1.predict(x_test)\n",
        "f = np.argmax(predlabel,axis=1)\n",
        "confMat = metrics.confusion_matrix(np.argmax(y_test,axis=1),f)\n",
        "print(confMat)"
      ]
    },
    {
      "cell_type": "markdown",
      "metadata": {
        "id": "QKqxGlXjdCZz"
      },
      "source": [
        "##  MLP+CONV: Input => Hidden(128)  => Conv(4) => Conv(8) => Output (2)"
      ]
    },
    {
      "cell_type": "code",
      "execution_count": 33,
      "metadata": {
        "colab": {
          "base_uri": "https://localhost:8080/"
        },
        "id": "IjrvgmkndCZz",
        "outputId": "6d25ca5a-022d-48da-b876-a32b9f718c49"
      },
      "outputs": [
        {
          "output_type": "stream",
          "name": "stdout",
          "text": [
            "Model: \"model_3\"\n",
            "_________________________________________________________________\n",
            " Layer (type)                Output Shape              Param #   \n",
            "=================================================================\n",
            " input_4 (InputLayer)        [(None, 45, 1)]           0         \n",
            "                                                                 \n",
            " reshape_4 (Reshape)         (None, 45)                0         \n",
            "                                                                 \n",
            " dense_9 (Dense)             (None, 128)               5888      \n",
            "                                                                 \n",
            " batch_normalization_7 (Batc  (None, 128)              512       \n",
            " hNormalization)                                                 \n",
            "                                                                 \n",
            " activation_10 (Activation)  (None, 128)               0         \n",
            "                                                                 \n",
            " dropout_5 (Dropout)         (None, 128)               0         \n",
            "                                                                 \n",
            " reshape_5 (Reshape)         (None, 128, 1)            0         \n",
            "                                                                 \n",
            " conv1d_1 (Conv1D)           (None, 126, 4)            16        \n",
            "                                                                 \n",
            " batch_normalization_8 (Batc  (None, 126, 4)           16        \n",
            " hNormalization)                                                 \n",
            "                                                                 \n",
            " activation_11 (Activation)  (None, 126, 4)            0         \n",
            "                                                                 \n",
            " average_pooling1d (AverageP  (None, 63, 4)            0         \n",
            " ooling1D)                                                       \n",
            "                                                                 \n",
            " conv1d_2 (Conv1D)           (None, 59, 8)             168       \n",
            "                                                                 \n",
            " batch_normalization_9 (Batc  (None, 59, 8)            32        \n",
            " hNormalization)                                                 \n",
            "                                                                 \n",
            " activation_12 (Activation)  (None, 59, 8)             0         \n",
            "                                                                 \n",
            " average_pooling1d_1 (Averag  (None, 29, 8)            0         \n",
            " ePooling1D)                                                     \n",
            "                                                                 \n",
            " flatten_1 (Flatten)         (None, 232)               0         \n",
            "                                                                 \n",
            " dense_10 (Dense)            (None, 2)                 466       \n",
            "                                                                 \n",
            " activation_13 (Activation)  (None, 2)                 0         \n",
            "                                                                 \n",
            "=================================================================\n",
            "Total params: 7,098\n",
            "Trainable params: 6,818\n",
            "Non-trainable params: 280\n",
            "_________________________________________________________________\n"
          ]
        }
      ],
      "source": [
        "inputs = keras.layers.Input(shape=(x_train.shape[1],1))\n",
        "RS0    = keras.layers.Reshape((x_train.shape[1], ))(inputs)\n",
        "FC0    = keras.layers.Dense(128, bias_initializer=keras.initializers.VarianceScaling())(RS0)\n",
        "BN0    = keras.layers.BatchNormalization(axis=-1)(FC0)\n",
        "AC0    = keras.layers.Activation('relu')(BN0)\n",
        "DP0    = keras.layers.Dropout(0.2)(AC0)\n",
        "\n",
        "RS1    = keras.layers.Reshape((128,1))(DP0)\n",
        "FC1    = keras.layers.Conv1D(4,3,strides=1)(RS1)\n",
        "BN1    = keras.layers.BatchNormalization(axis=-1)(FC1)\n",
        "AC1    = keras.layers.Activation('relu')(BN1)\n",
        "Pool1 = keras.layers.AveragePooling1D(pool_size=2)(AC1)\n",
        "\n",
        "FC2    = keras.layers.Conv1D(8,5,strides=1)(Pool1)\n",
        "BN2    = keras.layers.BatchNormalization(axis=-1)(FC2)\n",
        "AC2    = keras.layers.Activation('relu')(BN2)\n",
        "Pool2 = keras.layers.AveragePooling1D(pool_size=2)(AC2)\n",
        "\n",
        "FL1   = keras.layers.Flatten()(Pool2)\n",
        "\n",
        "FC3 =   keras.layers.Dense(2, bias_initializer=keras.initializers.VarianceScaling())(FL1)\n",
        "outputs = keras.layers.Activation('softmax')(FC3)\n",
        "\n",
        "myCNN1D2 = keras.Model(inputs=inputs,outputs=outputs)\n",
        "myCNN1D2.compile(optimizer=keras.optimizers.Adam(),\n",
        "                 loss='categorical_crossentropy',\n",
        "                 metrics=['accuracy'])\n",
        "\n",
        "myCNN1D2.summary()"
      ]
    },
    {
      "cell_type": "code",
      "execution_count": 34,
      "metadata": {
        "scrolled": false,
        "colab": {
          "base_uri": "https://localhost:8080/"
        },
        "id": "jxkVCBCpdCZz",
        "outputId": "13372a13-2e82-4982-b0d8-bf127951a048"
      },
      "outputs": [
        {
          "output_type": "stream",
          "name": "stdout",
          "text": [
            "171/171 [==============================] - 4s 7ms/step - loss: 1.0600 - accuracy: 0.6449\n"
          ]
        },
        {
          "output_type": "execute_result",
          "data": {
            "text/plain": [
              "<keras.callbacks.History at 0x7a211ebd76d0>"
            ]
          },
          "metadata": {},
          "execution_count": 34
        }
      ],
      "source": [
        "class_weight = {0: 1, 1: 4.5}\n",
        "\n",
        "myCNN1D2.fit(x_train,y_train,epochs=1,verbose=1, class_weight=class_weight)"
      ]
    },
    {
      "cell_type": "code",
      "execution_count": 35,
      "metadata": {
        "scrolled": true,
        "colab": {
          "base_uri": "https://localhost:8080/"
        },
        "id": "_Rz_ZiOrdCZz",
        "outputId": "d04732ac-7ff0-4ef3-c38a-d27e84a2399e"
      },
      "outputs": [
        {
          "output_type": "stream",
          "name": "stdout",
          "text": [
            "988/988 [==============================] - 4s 4ms/step - loss: 0.5291 - accuracy: 0.7705\n",
            "0.7704523801803589\n"
          ]
        }
      ],
      "source": [
        "test_loss,test_acc = myCNN1D2.evaluate(x_test,y_test)\n",
        "print(test_acc)"
      ]
    },
    {
      "cell_type": "code",
      "execution_count": 36,
      "metadata": {
        "colab": {
          "base_uri": "https://localhost:8080/"
        },
        "id": "Ez6bUInDdCZz",
        "outputId": "3b78f3f6-ce00-468c-edf5-b4097e48a2d9"
      },
      "outputs": [
        {
          "output_type": "stream",
          "name": "stdout",
          "text": [
            "988/988 [==============================] - 3s 3ms/step\n",
            "[[24103  7168]\n",
            " [   88   251]]\n"
          ]
        }
      ],
      "source": [
        "from sklearn import metrics\n",
        "predlabel = myCNN1D2.predict(x_test)\n",
        "f = np.argmax(predlabel,axis=1)\n",
        "confMat = metrics.confusion_matrix(np.argmax(y_test,axis=1),f)\n",
        "print(confMat)"
      ]
    },
    {
      "cell_type": "markdown",
      "metadata": {
        "id": "Kb4zJALddCZz"
      },
      "source": [
        "## MLP+Conv :: Input => Hidden(64) => Conv(2) => Hidden(512)  "
      ]
    },
    {
      "cell_type": "code",
      "execution_count": 37,
      "metadata": {
        "scrolled": true,
        "colab": {
          "base_uri": "https://localhost:8080/"
        },
        "id": "0E3d_kLrdCZz",
        "outputId": "61925b00-4fab-4297-be69-fd6aa70b72cb"
      },
      "outputs": [
        {
          "output_type": "stream",
          "name": "stdout",
          "text": [
            "Model: \"model_4\"\n",
            "_________________________________________________________________\n",
            " Layer (type)                Output Shape              Param #   \n",
            "=================================================================\n",
            " input_5 (InputLayer)        [(None, 45, 1)]           0         \n",
            "                                                                 \n",
            " reshape_6 (Reshape)         (None, 45)                0         \n",
            "                                                                 \n",
            " dense_11 (Dense)            (None, 32)                1472      \n",
            "                                                                 \n",
            " batch_normalization_10 (Bat  (None, 32)               128       \n",
            " chNormalization)                                                \n",
            "                                                                 \n",
            " activation_14 (Activation)  (None, 32)                0         \n",
            "                                                                 \n",
            " dropout_6 (Dropout)         (None, 32)                0         \n",
            "                                                                 \n",
            " reshape_7 (Reshape)         (None, 32, 1)             0         \n",
            "                                                                 \n",
            " conv1d_3 (Conv1D)           (None, 30, 2)             8         \n",
            "                                                                 \n",
            " batch_normalization_11 (Bat  (None, 30, 2)            8         \n",
            " chNormalization)                                                \n",
            "                                                                 \n",
            " activation_15 (Activation)  (None, 30, 2)             0         \n",
            "                                                                 \n",
            " max_pooling1d_1 (MaxPooling  (None, 15, 2)            0         \n",
            " 1D)                                                             \n",
            "                                                                 \n",
            " flatten_2 (Flatten)         (None, 30)                0         \n",
            "                                                                 \n",
            " dense_12 (Dense)            (None, 512)               15872     \n",
            "                                                                 \n",
            " batch_normalization_12 (Bat  (None, 512)              2048      \n",
            " chNormalization)                                                \n",
            "                                                                 \n",
            " activation_16 (Activation)  (None, 512)               0         \n",
            "                                                                 \n",
            " dense_13 (Dense)            (None, 2)                 1026      \n",
            "                                                                 \n",
            " activation_17 (Activation)  (None, 2)                 0         \n",
            "                                                                 \n",
            "=================================================================\n",
            "Total params: 20,562\n",
            "Trainable params: 19,470\n",
            "Non-trainable params: 1,092\n",
            "_________________________________________________________________\n"
          ]
        }
      ],
      "source": [
        "\n",
        "inputs = keras.layers.Input(shape=(x_train.shape[1],1))\n",
        "RS0    = keras.layers.Reshape((x_train.shape[1], ))(inputs)\n",
        "FC0    = keras.layers.Dense(32, bias_initializer=keras.initializers.VarianceScaling())(RS0)\n",
        "BN0    = keras.layers.BatchNormalization(axis=-1)(FC0)\n",
        "AC0    = keras.layers.Activation('relu')(BN0)\n",
        "DP0    = keras.layers.Dropout(0.2)(AC0)\n",
        "\n",
        "RS1    = keras.layers.Reshape((32,1))(DP0)\n",
        "FC1    = keras.layers.Conv1D(2,3,strides=1)(RS1)\n",
        "BN1    = keras.layers.BatchNormalization(axis=-1)(FC1)\n",
        "AC1    = keras.layers.Activation('relu')(BN1)\n",
        "Pool1 = keras.layers.MaxPool1D(pool_size=2)(AC1)\n",
        "FL1   = keras.layers.Flatten()(Pool1)\n",
        "\n",
        "FC2    = keras.layers.Dense(512, bias_initializer=keras.initializers.VarianceScaling())(FL1)\n",
        "BN2    = keras.layers.BatchNormalization(axis=-1)(FC2)\n",
        "AC2    = keras.layers.Activation('relu')(BN2)\n",
        "#DP2    = keras.layers.Dropout(0.2)(AC2)\n",
        "\n",
        "\n",
        "FC3 =   keras.layers.Dense(2, bias_initializer=keras.initializers.VarianceScaling())(AC2)\n",
        "outputs = keras.layers.Activation('softmax')(FC3)\n",
        "\n",
        "myCNN1D3 = keras.Model(inputs=inputs,outputs=outputs)\n",
        "myCNN1D3.compile(optimizer=keras.optimizers.Adam(),\n",
        "                 loss='categorical_crossentropy',\n",
        "                 metrics=['accuracy'])\n",
        "myCNN1D3.summary()"
      ]
    },
    {
      "cell_type": "code",
      "execution_count": 38,
      "metadata": {
        "scrolled": true,
        "colab": {
          "base_uri": "https://localhost:8080/"
        },
        "id": "rlNuuA5DdCZ0",
        "outputId": "21700e7a-5fc3-4085-c841-41e9261ee6dd"
      },
      "outputs": [
        {
          "output_type": "stream",
          "name": "stdout",
          "text": [
            "Epoch 1/5\n",
            "171/171 [==============================] - 4s 6ms/step - loss: 3.4130 - accuracy: 0.2368\n",
            "Epoch 2/5\n",
            "171/171 [==============================] - 1s 5ms/step - loss: 2.6503 - accuracy: 0.2514\n",
            "Epoch 3/5\n",
            "171/171 [==============================] - 1s 6ms/step - loss: 2.4793 - accuracy: 0.3172\n",
            "Epoch 4/5\n",
            "171/171 [==============================] - 1s 4ms/step - loss: 2.3401 - accuracy: 0.3456\n",
            "Epoch 5/5\n",
            "171/171 [==============================] - 1s 4ms/step - loss: 2.2894 - accuracy: 0.3575\n"
          ]
        },
        {
          "output_type": "execute_result",
          "data": {
            "text/plain": [
              "<keras.callbacks.History at 0x7a211ceff9a0>"
            ]
          },
          "metadata": {},
          "execution_count": 38
        }
      ],
      "source": [
        "class_weight = {0: 1, 1: 50}\n",
        "\n",
        "myCNN1D3.fit(x_train,y_train,epochs=5,verbose=1, class_weight=class_weight)"
      ]
    },
    {
      "cell_type": "code",
      "execution_count": 39,
      "metadata": {
        "scrolled": true,
        "colab": {
          "base_uri": "https://localhost:8080/"
        },
        "id": "-TDMwnv_dCZ0",
        "outputId": "2309c34a-74de-47de-d8bd-ed55905c77e6"
      },
      "outputs": [
        {
          "output_type": "stream",
          "name": "stdout",
          "text": [
            "988/988 [==============================] - 2s 2ms/step - loss: 1.7761 - accuracy: 0.2358\n",
            "0.23577982187271118\n"
          ]
        }
      ],
      "source": [
        "test_loss,test_acc = myCNN1D3.evaluate(x_test,y_test)\n",
        "print(test_acc)"
      ]
    },
    {
      "cell_type": "code",
      "execution_count": 40,
      "metadata": {
        "scrolled": true,
        "colab": {
          "base_uri": "https://localhost:8080/"
        },
        "id": "WfczXPHbdCZ0",
        "outputId": "5975ac1c-a2ce-45cd-a6df-ff496b596b35"
      },
      "outputs": [
        {
          "output_type": "stream",
          "name": "stdout",
          "text": [
            "988/988 [==============================] - 2s 2ms/step\n",
            "[[ 7116 24155]\n",
            " [    2   337]]\n"
          ]
        }
      ],
      "source": [
        "from sklearn import metrics\n",
        "predlabel = myCNN1D3.predict(x_test)\n",
        "f = np.argmax(predlabel,axis=1)\n",
        "confMat = metrics.confusion_matrix(np.argmax(y_test,axis=1),f)\n",
        "print(confMat)"
      ]
    },
    {
      "cell_type": "markdown",
      "metadata": {
        "id": "tzXnGbMzdCZ0"
      },
      "source": [
        "## MLP+ CONV: Input => Dense(64) => Conv(2) => Conv(4) = Dense(512) => Dense (2) [Best model]"
      ]
    },
    {
      "cell_type": "code",
      "execution_count": 43,
      "metadata": {
        "colab": {
          "base_uri": "https://localhost:8080/"
        },
        "id": "ycYoLrLsdCZ0",
        "outputId": "8af85128-e5c3-4977-a5f2-3e4bfbd006e1"
      },
      "outputs": [
        {
          "output_type": "stream",
          "name": "stdout",
          "text": [
            "Model: \"model_6\"\n",
            "_________________________________________________________________\n",
            " Layer (type)                Output Shape              Param #   \n",
            "=================================================================\n",
            " input_7 (InputLayer)        [(None, 45, 1)]           0         \n",
            "                                                                 \n",
            " reshape_10 (Reshape)        (None, 45)                0         \n",
            "                                                                 \n",
            " dense_17 (Dense)            (None, 64)                2944      \n",
            "                                                                 \n",
            " batch_normalization_17 (Bat  (None, 64)               256       \n",
            " chNormalization)                                                \n",
            "                                                                 \n",
            " activation_23 (Activation)  (None, 64)                0         \n",
            "                                                                 \n",
            " dropout_9 (Dropout)         (None, 64)                0         \n",
            "                                                                 \n",
            " reshape_11 (Reshape)        (None, 64, 1)             0         \n",
            "                                                                 \n",
            " conv1d_6 (Conv1D)           (None, 62, 2)             8         \n",
            "                                                                 \n",
            " batch_normalization_18 (Bat  (None, 62, 2)            8         \n",
            " chNormalization)                                                \n",
            "                                                                 \n",
            " activation_24 (Activation)  (None, 62, 2)             0         \n",
            "                                                                 \n",
            " average_pooling1d_4 (Averag  (None, 31, 2)            0         \n",
            " ePooling1D)                                                     \n",
            "                                                                 \n",
            " conv1d_7 (Conv1D)           (None, 27, 4)             44        \n",
            "                                                                 \n",
            " batch_normalization_19 (Bat  (None, 27, 4)            16        \n",
            " chNormalization)                                                \n",
            "                                                                 \n",
            " activation_25 (Activation)  (None, 27, 4)             0         \n",
            "                                                                 \n",
            " average_pooling1d_5 (Averag  (None, 13, 4)            0         \n",
            " ePooling1D)                                                     \n",
            "                                                                 \n",
            " flatten_4 (Flatten)         (None, 52)                0         \n",
            "                                                                 \n",
            " dense_18 (Dense)            (None, 512)               27136     \n",
            "                                                                 \n",
            " batch_normalization_20 (Bat  (None, 512)              2048      \n",
            " chNormalization)                                                \n",
            "                                                                 \n",
            " activation_26 (Activation)  (None, 512)               0         \n",
            "                                                                 \n",
            " dropout_10 (Dropout)        (None, 512)               0         \n",
            "                                                                 \n",
            " dense_19 (Dense)            (None, 2)                 1026      \n",
            "                                                                 \n",
            " activation_27 (Activation)  (None, 2)                 0         \n",
            "                                                                 \n",
            "=================================================================\n",
            "Total params: 33,486\n",
            "Trainable params: 32,322\n",
            "Non-trainable params: 1,164\n",
            "_________________________________________________________________\n"
          ]
        }
      ],
      "source": [
        "inputs = keras.layers.Input(shape=(x_train.shape[1],1))\n",
        "RS0    = keras.layers.Reshape((x_train.shape[1], ))(inputs)\n",
        "FC0    = keras.layers.Dense(64, bias_initializer=keras.initializers.VarianceScaling())(RS0)\n",
        "BN0    = keras.layers.BatchNormalization(axis=-1)(FC0)\n",
        "AC0    = keras.layers.Activation('relu')(BN0)\n",
        "DP0    = keras.layers.Dropout(0.2)(AC0)\n",
        "\n",
        "RS1    = keras.layers.Reshape((64,1))(DP0)\n",
        "FC1    = keras.layers.Conv1D(2,3,strides=1)(RS1)\n",
        "BN1    = keras.layers.BatchNormalization(axis=-1)(FC1)\n",
        "AC1    = keras.layers.Activation('relu')(BN1)\n",
        "Pool1  = keras.layers.AveragePooling1D(pool_size=2)(AC1)\n",
        "\n",
        "FC2    = keras.layers.Conv1D(4,5,strides=1)(Pool1)\n",
        "BN2    = keras.layers.BatchNormalization(axis=-1)(FC2)\n",
        "AC2    = keras.layers.Activation('relu')(BN2)\n",
        "Pool2  = keras.layers.AveragePooling1D(pool_size=2)(AC2)\n",
        "\n",
        "FL1    = keras.layers.Flatten()(Pool2)\n",
        "\n",
        "FC3    = keras.layers.Dense(512, bias_initializer=keras.initializers.VarianceScaling())(FL1)\n",
        "BN3    = keras.layers.BatchNormalization(axis=-1)(FC3)\n",
        "AC3    = keras.layers.Activation('relu')(BN3)\n",
        "DP3    = keras.layers.Dropout(0.2)(AC3)\n",
        "\n",
        "\n",
        "FC4    = keras.layers.Dense(2)(DP3)\n",
        "outputs = keras.layers.Activation('softmax')(FC4)\n",
        "\n",
        "myCNN1D4 = keras.Model(inputs=inputs,outputs=outputs)\n",
        "myCNN1D4.compile(optimizer=keras.optimizers.Adam(),\n",
        "                 loss='categorical_crossentropy',\n",
        "                 metrics=['accuracy'])\n",
        "\n",
        "myCNN1D4.summary()"
      ]
    },
    {
      "cell_type": "code",
      "execution_count": 44,
      "metadata": {
        "scrolled": true,
        "colab": {
          "base_uri": "https://localhost:8080/"
        },
        "id": "L-MwODQmdCZ0",
        "outputId": "e0be2b41-d131-4b83-f05e-6b631bdd7443"
      },
      "outputs": [
        {
          "output_type": "stream",
          "name": "stdout",
          "text": [
            "171/171 [==============================] - 4s 7ms/step - loss: 0.9207 - accuracy: 0.7016\n"
          ]
        },
        {
          "output_type": "execute_result",
          "data": {
            "text/plain": [
              "<keras.callbacks.History at 0x7a211ead2320>"
            ]
          },
          "metadata": {},
          "execution_count": 44
        }
      ],
      "source": [
        "class_weight = {0: 1, 1: 2.9}\n",
        "\n",
        "myCNN1D4.fit(x_train,y_train,epochs=1,verbose=1, class_weight=class_weight)"
      ]
    },
    {
      "cell_type": "code",
      "execution_count": 45,
      "metadata": {
        "scrolled": true,
        "colab": {
          "base_uri": "https://localhost:8080/"
        },
        "id": "sUdT24nNdCZ0",
        "outputId": "51cd3928-bf02-41c5-c3b4-d566412f7fe7"
      },
      "outputs": [
        {
          "output_type": "stream",
          "name": "stdout",
          "text": [
            "988/988 [==============================] - 4s 4ms/step - loss: 0.4725 - accuracy: 0.8829\n",
            "0.8829168081283569\n"
          ]
        }
      ],
      "source": [
        "test_loss,test_acc = myCNN1D4.evaluate(x_test,y_test)\n",
        "print(test_acc)"
      ]
    },
    {
      "cell_type": "code",
      "execution_count": 46,
      "metadata": {
        "scrolled": true,
        "colab": {
          "base_uri": "https://localhost:8080/"
        },
        "id": "5jWUxvY2dCZ0",
        "outputId": "813f00ff-b850-4846-b018-d4396c145d95"
      },
      "outputs": [
        {
          "output_type": "stream",
          "name": "stdout",
          "text": [
            "988/988 [==============================] - 3s 3ms/step\n",
            "[[27751  3520]\n",
            " [  181   158]]\n"
          ]
        }
      ],
      "source": [
        "from sklearn import metrics\n",
        "predlabel = myCNN1D4.predict(x_test)\n",
        "f = np.argmax(predlabel,axis=1)\n",
        "confMat = metrics.confusion_matrix(np.argmax(y_test,axis=1),f)\n",
        "print(confMat)"
      ]
    },
    {
      "cell_type": "code",
      "execution_count": 49,
      "metadata": {
        "colab": {
          "base_uri": "https://localhost:8080/"
        },
        "id": "L_iqgaZkdCZ0",
        "outputId": "a419d73e-89b7-4329-95b1-42d4e2ec392f"
      },
      "outputs": [
        {
          "output_type": "execute_result",
          "data": {
            "text/plain": [
              "0.024390243902439025"
            ]
          },
          "metadata": {},
          "execution_count": 49
        }
      ],
      "source": [
        "y_train @ np.transpose(np.array([0, 1]))\n",
        "1/41"
      ]
    },
    {
      "cell_type": "markdown",
      "metadata": {
        "id": "5swZ3M5tdCZ0"
      },
      "source": [
        "## Input => Dense(64) => Conv(2) => Conv(4) = Conv(8) => Dense (2)"
      ]
    },
    {
      "cell_type": "code",
      "execution_count": 48,
      "metadata": {
        "colab": {
          "base_uri": "https://localhost:8080/"
        },
        "id": "AitsYCusdCZ1",
        "outputId": "5953d82b-49c3-4e55-d8c4-9d477aebedc5"
      },
      "outputs": [
        {
          "output_type": "stream",
          "name": "stdout",
          "text": [
            "Model: \"model_7\"\n",
            "_________________________________________________________________\n",
            " Layer (type)                Output Shape              Param #   \n",
            "=================================================================\n",
            " input_8 (InputLayer)        [(None, 45, 1)]           0         \n",
            "                                                                 \n",
            " reshape_12 (Reshape)        (None, 45)                0         \n",
            "                                                                 \n",
            " dense_20 (Dense)            (None, 64)                2944      \n",
            "                                                                 \n",
            " batch_normalization_21 (Bat  (None, 64)               256       \n",
            " chNormalization)                                                \n",
            "                                                                 \n",
            " activation_28 (Activation)  (None, 64)                0         \n",
            "                                                                 \n",
            " dropout_11 (Dropout)        (None, 64)                0         \n",
            "                                                                 \n",
            " reshape_13 (Reshape)        (None, 64, 1)             0         \n",
            "                                                                 \n",
            " conv1d_8 (Conv1D)           (None, 62, 2)             8         \n",
            "                                                                 \n",
            " batch_normalization_22 (Bat  (None, 62, 2)            8         \n",
            " chNormalization)                                                \n",
            "                                                                 \n",
            " activation_29 (Activation)  (None, 62, 2)             0         \n",
            "                                                                 \n",
            " average_pooling1d_6 (Averag  (None, 31, 2)            0         \n",
            " ePooling1D)                                                     \n",
            "                                                                 \n",
            " conv1d_9 (Conv1D)           (None, 27, 4)             44        \n",
            "                                                                 \n",
            " batch_normalization_23 (Bat  (None, 27, 4)            16        \n",
            " chNormalization)                                                \n",
            "                                                                 \n",
            " activation_30 (Activation)  (None, 27, 4)             0         \n",
            "                                                                 \n",
            " average_pooling1d_7 (Averag  (None, 13, 4)            0         \n",
            " ePooling1D)                                                     \n",
            "                                                                 \n",
            " conv1d_10 (Conv1D)          (None, 7, 6)              174       \n",
            "                                                                 \n",
            " batch_normalization_24 (Bat  (None, 7, 6)             24        \n",
            " chNormalization)                                                \n",
            "                                                                 \n",
            " activation_31 (Activation)  (None, 7, 6)              0         \n",
            "                                                                 \n",
            " average_pooling1d_8 (Averag  (None, 3, 6)             0         \n",
            " ePooling1D)                                                     \n",
            "                                                                 \n",
            " flatten_5 (Flatten)         (None, 18)                0         \n",
            "                                                                 \n",
            " dense_21 (Dense)            (None, 2)                 38        \n",
            "                                                                 \n",
            " activation_32 (Activation)  (None, 2)                 0         \n",
            "                                                                 \n",
            "=================================================================\n",
            "Total params: 3,512\n",
            "Trainable params: 3,360\n",
            "Non-trainable params: 152\n",
            "_________________________________________________________________\n"
          ]
        }
      ],
      "source": [
        "inputs = keras.layers.Input(shape=(x_train.shape[1],1))\n",
        "RS0    = keras.layers.Reshape((x_train.shape[1], ))(inputs)\n",
        "FC0    = keras.layers.Dense(64, bias_initializer=keras.initializers.VarianceScaling())(RS0)\n",
        "BN0    = keras.layers.BatchNormalization(axis=-1)(FC0)\n",
        "AC0    = keras.layers.Activation('relu')(BN0)\n",
        "DP0    = keras.layers.Dropout(0.2)(AC0)\n",
        "\n",
        "RS1    = keras.layers.Reshape((64,1))(DP0)\n",
        "FC1    = keras.layers.Conv1D(2,3,strides=1)(RS1)\n",
        "BN1    = keras.layers.BatchNormalization(axis=-1)(FC1)\n",
        "AC1    = keras.layers.Activation('relu')(BN1)\n",
        "Pool1  = keras.layers.AveragePooling1D(pool_size=2)(AC1)\n",
        "\n",
        "FC2    = keras.layers.Conv1D(4,5,strides=1)(Pool1)\n",
        "BN2    = keras.layers.BatchNormalization(axis=-1)(FC2)\n",
        "AC2    = keras.layers.Activation('relu')(BN2)\n",
        "Pool2  = keras.layers.AveragePooling1D(pool_size=2)(AC2)\n",
        "\n",
        "\n",
        "FC3    = keras.layers.Conv1D(6,7,strides=1)(Pool2)\n",
        "BN3    = keras.layers.BatchNormalization(axis=-1)(FC3)\n",
        "AC3    = keras.layers.Activation('relu')(BN3)\n",
        "Pool3  = keras.layers.AveragePooling1D(pool_size=2)(AC3)\n",
        "\n",
        "\n",
        "\n",
        "\n",
        "FL1    = keras.layers.Flatten()(Pool3)\n",
        "\n",
        "#FC3    = keras.layers.Dense(512, bias_initializer=keras.initializers.VarianceScaling())(FL1)\n",
        "#BN3    = keras.layers.BatchNormalization(axis=-1)(FC3)\n",
        "#AC3    = keras.layers.Activation('relu')(BN3)\n",
        "#DP3    = keras.layers.Dropout(0.2)(AC3)\n",
        "\n",
        "\n",
        "FC4    = keras.layers.Dense(2)(FL1)\n",
        "outputs = keras.layers.Activation('softmax')(FC4)\n",
        "\n",
        "myCNN5D4 = keras.Model(inputs=inputs,outputs=outputs)\n",
        "myCNN5D4.compile(optimizer=keras.optimizers.Adam(),\n",
        "                 loss='categorical_crossentropy',\n",
        "                 metrics=['accuracy'])\n",
        "\n",
        "myCNN5D4.summary()\n"
      ]
    },
    {
      "cell_type": "code",
      "execution_count": 50,
      "metadata": {
        "colab": {
          "base_uri": "https://localhost:8080/"
        },
        "id": "K7nUkhwXdCZ2",
        "outputId": "e8b32280-8921-4f79-e4ab-3eadd701ad78"
      },
      "outputs": [
        {
          "output_type": "stream",
          "name": "stdout",
          "text": [
            "171/171 [==============================] - 4s 8ms/step - loss: 0.8755 - accuracy: 0.7305\n"
          ]
        },
        {
          "output_type": "execute_result",
          "data": {
            "text/plain": [
              "<keras.callbacks.History at 0x7a211d98fbe0>"
            ]
          },
          "metadata": {},
          "execution_count": 50
        }
      ],
      "source": [
        "class_weight = {0: 1, 1: 3.0}\n",
        "\n",
        "myCNN5D4.fit(x_train,y_train,epochs=1,verbose=1, class_weight=class_weight)"
      ]
    },
    {
      "cell_type": "code",
      "execution_count": 51,
      "metadata": {
        "colab": {
          "base_uri": "https://localhost:8080/"
        },
        "id": "rbrK1lOJdCZ2",
        "outputId": "b0e8a07b-6e62-4c84-d34e-334b412178a1"
      },
      "outputs": [
        {
          "output_type": "stream",
          "name": "stdout",
          "text": [
            "988/988 [==============================] - 3s 3ms/step - loss: 0.5247 - accuracy: 0.8185\n",
            "0.8185384273529053\n"
          ]
        }
      ],
      "source": [
        "test_loss,test_acc = myCNN5D4.evaluate(x_test,y_test)\n",
        "print(test_acc)"
      ]
    },
    {
      "cell_type": "code",
      "execution_count": 52,
      "metadata": {
        "colab": {
          "base_uri": "https://localhost:8080/"
        },
        "id": "eAjGr4VvdCZ2",
        "outputId": "d36a0115-57c5-43a1-e1ca-d5820a9192b9"
      },
      "outputs": [
        {
          "output_type": "stream",
          "name": "stdout",
          "text": [
            "988/988 [==============================] - 3s 3ms/step\n",
            "[[25662  5609]\n",
            " [  127   212]]\n"
          ]
        }
      ],
      "source": [
        "from sklearn import metrics\n",
        "predlabel = myCNN5D4.predict(x_test)\n",
        "f = np.argmax(predlabel,axis=1)\n",
        "confMat = metrics.confusion_matrix(np.argmax(y_test,axis=1),f)\n",
        "print(confMat)"
      ]
    },
    {
      "cell_type": "markdown",
      "metadata": {
        "id": "9rXow8MkdCZ2"
      },
      "source": [
        "## Input => Dense(64) => Conv(2) => Dense (128) = Conv(4) => Dense (2)"
      ]
    },
    {
      "cell_type": "code",
      "execution_count": 53,
      "metadata": {
        "colab": {
          "base_uri": "https://localhost:8080/"
        },
        "id": "opF6hFnDdCZ2",
        "outputId": "74fbbd97-78bd-4b15-ee8b-6e87b62e1a45"
      },
      "outputs": [
        {
          "output_type": "stream",
          "name": "stdout",
          "text": [
            "Model: \"model_8\"\n",
            "_________________________________________________________________\n",
            " Layer (type)                Output Shape              Param #   \n",
            "=================================================================\n",
            " input_9 (InputLayer)        [(None, 45, 1)]           0         \n",
            "                                                                 \n",
            " reshape_14 (Reshape)        (None, 45)                0         \n",
            "                                                                 \n",
            " dense_22 (Dense)            (None, 64)                2944      \n",
            "                                                                 \n",
            " batch_normalization_25 (Bat  (None, 64)               256       \n",
            " chNormalization)                                                \n",
            "                                                                 \n",
            " activation_33 (Activation)  (None, 64)                0         \n",
            "                                                                 \n",
            " dropout_12 (Dropout)        (None, 64)                0         \n",
            "                                                                 \n",
            " reshape_15 (Reshape)        (None, 64, 1)             0         \n",
            "                                                                 \n",
            " conv1d_11 (Conv1D)          (None, 62, 2)             8         \n",
            "                                                                 \n",
            " batch_normalization_26 (Bat  (None, 62, 2)            8         \n",
            " chNormalization)                                                \n",
            "                                                                 \n",
            " activation_34 (Activation)  (None, 62, 2)             0         \n",
            "                                                                 \n",
            " average_pooling1d_9 (Averag  (None, 31, 2)            0         \n",
            " ePooling1D)                                                     \n",
            "                                                                 \n",
            " flatten_6 (Flatten)         (None, 62)                0         \n",
            "                                                                 \n",
            " dense_23 (Dense)            (None, 128)               8064      \n",
            "                                                                 \n",
            " batch_normalization_27 (Bat  (None, 128)              512       \n",
            " chNormalization)                                                \n",
            "                                                                 \n",
            " activation_35 (Activation)  (None, 128)               0         \n",
            "                                                                 \n",
            " dropout_13 (Dropout)        (None, 128)               0         \n",
            "                                                                 \n",
            " reshape_16 (Reshape)        (None, 128, 1)            0         \n",
            "                                                                 \n",
            " conv1d_12 (Conv1D)          (None, 124, 4)            24        \n",
            "                                                                 \n",
            " batch_normalization_28 (Bat  (None, 124, 4)           16        \n",
            " chNormalization)                                                \n",
            "                                                                 \n",
            " activation_36 (Activation)  (None, 124, 4)            0         \n",
            "                                                                 \n",
            " average_pooling1d_10 (Avera  (None, 62, 4)            0         \n",
            " gePooling1D)                                                    \n",
            "                                                                 \n",
            " flatten_7 (Flatten)         (None, 248)               0         \n",
            "                                                                 \n",
            " dense_24 (Dense)            (None, 2)                 498       \n",
            "                                                                 \n",
            " activation_37 (Activation)  (None, 2)                 0         \n",
            "                                                                 \n",
            "=================================================================\n",
            "Total params: 12,330\n",
            "Trainable params: 11,934\n",
            "Non-trainable params: 396\n",
            "_________________________________________________________________\n"
          ]
        }
      ],
      "source": [
        "inputs = keras.layers.Input(shape=(x_train.shape[1],1))\n",
        "RS0    = keras.layers.Reshape((x_train.shape[1], ))(inputs)\n",
        "FC0    = keras.layers.Dense(64, bias_initializer=keras.initializers.VarianceScaling())(RS0)\n",
        "BN0    = keras.layers.BatchNormalization(axis=-1)(FC0)\n",
        "AC0    = keras.layers.Activation('relu')(BN0)\n",
        "DP0    = keras.layers.Dropout(0.2)(AC0)\n",
        "\n",
        "RS1    = keras.layers.Reshape((64,1))(DP0)\n",
        "FC1    = keras.layers.Conv1D(2,3,strides=1)(RS1)\n",
        "BN1    = keras.layers.BatchNormalization(axis=-1)(FC1)\n",
        "AC1    = keras.layers.Activation('relu')(BN1)\n",
        "Pool1  = keras.layers.AveragePooling1D(pool_size=2)(AC1)\n",
        "\n",
        "FL0 = keras.layers.Flatten()(Pool1)\n",
        "\n",
        "AA1 = keras.layers.Dense(128, bias_initializer=keras.initializers.VarianceScaling())(FL0)\n",
        "BB1 = keras.layers.BatchNormalization(axis=-1)(AA1)\n",
        "CC1 = keras.layers.Activation('relu')(BB1)\n",
        "Pool2 = keras.layers.Dropout(0.2)(CC1)\n",
        "\n",
        "\n",
        "RS2    = keras.layers.Reshape((128,1))(Pool2)\n",
        "FC2    = keras.layers.Conv1D(4,5,strides=1)(RS2)\n",
        "BN2    = keras.layers.BatchNormalization(axis=-1)(FC2)\n",
        "AC2    = keras.layers.Activation('relu')(BN2)\n",
        "Pool3  = keras.layers.AveragePooling1D(pool_size=2)(AC2)\n",
        "\n",
        "\n",
        "\n",
        "FL1    = keras.layers.Flatten()(Pool3)\n",
        "\n",
        "#FC3    = keras.layers.Dense(512, bias_initializer=keras.initializers.VarianceScaling())(FL1)\n",
        "#BN3    = keras.layers.BatchNormalization(axis=-1)(FC3)\n",
        "#AC3    = keras.layers.Activation('relu')(BN3)\n",
        "#DP3    = keras.layers.Dropout(0.2)(AC3)\n",
        "\n",
        "\n",
        "FC4    = keras.layers.Dense(2)(FL1)\n",
        "outputs = keras.layers.Activation('softmax')(FC4)\n",
        "\n",
        "myCNN5D4 = keras.Model(inputs=inputs,outputs=outputs)\n",
        "myCNN5D4.compile(optimizer=keras.optimizers.Adam(),\n",
        "                 loss='categorical_crossentropy',\n",
        "                 metrics=['accuracy'])\n",
        "\n",
        "myCNN5D4.summary()"
      ]
    },
    {
      "cell_type": "code",
      "execution_count": 54,
      "metadata": {
        "scrolled": true,
        "colab": {
          "base_uri": "https://localhost:8080/"
        },
        "id": "FjfWQV-ZdCZ2",
        "outputId": "0e9f541e-e181-4240-c50f-c2eba1999dac"
      },
      "outputs": [
        {
          "output_type": "stream",
          "name": "stdout",
          "text": [
            "171/171 [==============================] - 4s 7ms/step - loss: 0.7660 - accuracy: 0.7436\n"
          ]
        },
        {
          "output_type": "execute_result",
          "data": {
            "text/plain": [
              "<keras.callbacks.History at 0x7a211dc6a050>"
            ]
          },
          "metadata": {},
          "execution_count": 54
        }
      ],
      "source": [
        "class_weight = {0: 1, 1: 2.5}\n",
        "\n",
        "myCNN5D4.fit(x_train,y_train,epochs=1,verbose=1, class_weight=class_weight)"
      ]
    },
    {
      "cell_type": "code",
      "execution_count": 55,
      "metadata": {
        "colab": {
          "base_uri": "https://localhost:8080/"
        },
        "id": "AtCEY6K3dCZ2",
        "outputId": "3d6c58e6-8305-459c-a64a-b962d8115831"
      },
      "outputs": [
        {
          "output_type": "stream",
          "name": "stdout",
          "text": [
            "988/988 [==============================] - 5s 5ms/step - loss: 0.3865 - accuracy: 0.9472\n",
            "0.9472002387046814\n"
          ]
        }
      ],
      "source": [
        "test_loss,test_acc = myCNN5D4.evaluate(x_test,y_test)\n",
        "print(test_acc)"
      ]
    },
    {
      "cell_type": "code",
      "execution_count": 56,
      "metadata": {
        "colab": {
          "base_uri": "https://localhost:8080/"
        },
        "id": "fcYGWnNHdCZ2",
        "outputId": "e60c58db-00f6-4848-963e-b361c1957b3f"
      },
      "outputs": [
        {
          "output_type": "stream",
          "name": "stdout",
          "text": [
            "988/988 [==============================] - 3s 3ms/step\n",
            "[[29841  1430]\n",
            " [  239   100]]\n"
          ]
        }
      ],
      "source": [
        "from sklearn import metrics\n",
        "predlabel = myCNN5D4.predict(x_test)\n",
        "f = np.argmax(predlabel,axis=1)\n",
        "confMat = metrics.confusion_matrix(np.argmax(y_test,axis=1),f)\n",
        "print(confMat)"
      ]
    },
    {
      "cell_type": "code",
      "execution_count": null,
      "metadata": {
        "id": "1Rxd3_09dCZ2"
      },
      "outputs": [],
      "source": []
    },
    {
      "cell_type": "markdown",
      "metadata": {
        "id": "qOCgnmGXdCZ2"
      },
      "source": [
        "# Running SVM on the subsampled data"
      ]
    },
    {
      "cell_type": "code",
      "execution_count": 68,
      "metadata": {
        "colab": {
          "base_uri": "https://localhost:8080/"
        },
        "id": "bubLFkZ_dCZ2",
        "outputId": "5e50232f-2505-4583-9ec6-e5447e550f4d"
      },
      "outputs": [
        {
          "output_type": "stream",
          "name": "stdout",
          "text": [
            "[[22274  8997]\n",
            " [   57   282]]\n"
          ]
        }
      ],
      "source": [
        "from sklearn.svm import SVC\n",
        "from sklearn import metrics\n",
        "\n",
        "svcCAD = SVC(C= 0.05, gamma=1/41, kernel='rbf', class_weight='balanced')\n",
        "svcCAD.fit(x_train_org,y_train_org)\n",
        "predlabel = svcCAD.predict(x_test_org)\n",
        "confMat = metrics.confusion_matrix(y_test_org,predlabel)\n",
        "print(confMat)"
      ]
    },
    {
      "cell_type": "markdown",
      "metadata": {
        "id": "R-ZNPc4GdCZ2"
      },
      "source": [
        "# Running random forest and adaboost"
      ]
    },
    {
      "cell_type": "code",
      "execution_count": 63,
      "metadata": {
        "scrolled": true,
        "colab": {
          "base_uri": "https://localhost:8080/"
        },
        "id": "jqLclT-vdCZ2",
        "outputId": "2fd19825-ab34-4674-b745-fce93da2c5d4"
      },
      "outputs": [
        {
          "output_type": "stream",
          "name": "stdout",
          "text": [
            "[[28348  2923]\n",
            " [  179   160]]\n"
          ]
        }
      ],
      "source": [
        "from sklearn.ensemble import RandomForestClassifier, AdaBoostClassifier\n",
        "class_weight = {0: 1, 1: 3}\n",
        "adaboostCAD = AdaBoostClassifier(n_estimators=1000, random_state=0)\n",
        "adaboostCAD.fit(x_train_org,y_train_org)\n",
        "predlabel = adaboostCAD.predict(x_test_org)\n",
        "confMat = metrics.confusion_matrix(y_test_org,predlabel)\n",
        "print(confMat)"
      ]
    },
    {
      "cell_type": "code",
      "execution_count": 64,
      "metadata": {
        "colab": {
          "base_uri": "https://localhost:8080/",
          "height": 118
        },
        "id": "7EIAviLWdCZ2",
        "outputId": "bb1eed41-576b-4a52-84bd-fae02bbab186"
      },
      "outputs": [
        {
          "output_type": "execute_result",
          "data": {
            "text/plain": [
              "GridSearchCV(cv=5,\n",
              "             estimator=RandomForestClassifier(class_weight='balanced_subsample',\n",
              "                                              random_state=0),\n",
              "             param_grid={'max_depth': (2, 3),\n",
              "                         'n_estimators': (10, 30, 50, 100, 130, 160, 200)})"
            ],
            "text/html": [
              "<style>#sk-container-id-2 {color: black;background-color: white;}#sk-container-id-2 pre{padding: 0;}#sk-container-id-2 div.sk-toggleable {background-color: white;}#sk-container-id-2 label.sk-toggleable__label {cursor: pointer;display: block;width: 100%;margin-bottom: 0;padding: 0.3em;box-sizing: border-box;text-align: center;}#sk-container-id-2 label.sk-toggleable__label-arrow:before {content: \"▸\";float: left;margin-right: 0.25em;color: #696969;}#sk-container-id-2 label.sk-toggleable__label-arrow:hover:before {color: black;}#sk-container-id-2 div.sk-estimator:hover label.sk-toggleable__label-arrow:before {color: black;}#sk-container-id-2 div.sk-toggleable__content {max-height: 0;max-width: 0;overflow: hidden;text-align: left;background-color: #f0f8ff;}#sk-container-id-2 div.sk-toggleable__content pre {margin: 0.2em;color: black;border-radius: 0.25em;background-color: #f0f8ff;}#sk-container-id-2 input.sk-toggleable__control:checked~div.sk-toggleable__content {max-height: 200px;max-width: 100%;overflow: auto;}#sk-container-id-2 input.sk-toggleable__control:checked~label.sk-toggleable__label-arrow:before {content: \"▾\";}#sk-container-id-2 div.sk-estimator input.sk-toggleable__control:checked~label.sk-toggleable__label {background-color: #d4ebff;}#sk-container-id-2 div.sk-label input.sk-toggleable__control:checked~label.sk-toggleable__label {background-color: #d4ebff;}#sk-container-id-2 input.sk-hidden--visually {border: 0;clip: rect(1px 1px 1px 1px);clip: rect(1px, 1px, 1px, 1px);height: 1px;margin: -1px;overflow: hidden;padding: 0;position: absolute;width: 1px;}#sk-container-id-2 div.sk-estimator {font-family: monospace;background-color: #f0f8ff;border: 1px dotted black;border-radius: 0.25em;box-sizing: border-box;margin-bottom: 0.5em;}#sk-container-id-2 div.sk-estimator:hover {background-color: #d4ebff;}#sk-container-id-2 div.sk-parallel-item::after {content: \"\";width: 100%;border-bottom: 1px solid gray;flex-grow: 1;}#sk-container-id-2 div.sk-label:hover label.sk-toggleable__label {background-color: #d4ebff;}#sk-container-id-2 div.sk-serial::before {content: \"\";position: absolute;border-left: 1px solid gray;box-sizing: border-box;top: 0;bottom: 0;left: 50%;z-index: 0;}#sk-container-id-2 div.sk-serial {display: flex;flex-direction: column;align-items: center;background-color: white;padding-right: 0.2em;padding-left: 0.2em;position: relative;}#sk-container-id-2 div.sk-item {position: relative;z-index: 1;}#sk-container-id-2 div.sk-parallel {display: flex;align-items: stretch;justify-content: center;background-color: white;position: relative;}#sk-container-id-2 div.sk-item::before, #sk-container-id-2 div.sk-parallel-item::before {content: \"\";position: absolute;border-left: 1px solid gray;box-sizing: border-box;top: 0;bottom: 0;left: 50%;z-index: -1;}#sk-container-id-2 div.sk-parallel-item {display: flex;flex-direction: column;z-index: 1;position: relative;background-color: white;}#sk-container-id-2 div.sk-parallel-item:first-child::after {align-self: flex-end;width: 50%;}#sk-container-id-2 div.sk-parallel-item:last-child::after {align-self: flex-start;width: 50%;}#sk-container-id-2 div.sk-parallel-item:only-child::after {width: 0;}#sk-container-id-2 div.sk-dashed-wrapped {border: 1px dashed gray;margin: 0 0.4em 0.5em 0.4em;box-sizing: border-box;padding-bottom: 0.4em;background-color: white;}#sk-container-id-2 div.sk-label label {font-family: monospace;font-weight: bold;display: inline-block;line-height: 1.2em;}#sk-container-id-2 div.sk-label-container {text-align: center;}#sk-container-id-2 div.sk-container {/* jupyter's `normalize.less` sets `[hidden] { display: none; }` but bootstrap.min.css set `[hidden] { display: none !important; }` so we also need the `!important` here to be able to override the default hidden behavior on the sphinx rendered scikit-learn.org. See: https://github.com/scikit-learn/scikit-learn/issues/21755 */display: inline-block !important;position: relative;}#sk-container-id-2 div.sk-text-repr-fallback {display: none;}</style><div id=\"sk-container-id-2\" class=\"sk-top-container\"><div class=\"sk-text-repr-fallback\"><pre>GridSearchCV(cv=5,\n",
              "             estimator=RandomForestClassifier(class_weight=&#x27;balanced_subsample&#x27;,\n",
              "                                              random_state=0),\n",
              "             param_grid={&#x27;max_depth&#x27;: (2, 3),\n",
              "                         &#x27;n_estimators&#x27;: (10, 30, 50, 100, 130, 160, 200)})</pre><b>In a Jupyter environment, please rerun this cell to show the HTML representation or trust the notebook. <br />On GitHub, the HTML representation is unable to render, please try loading this page with nbviewer.org.</b></div><div class=\"sk-container\" hidden><div class=\"sk-item sk-dashed-wrapped\"><div class=\"sk-label-container\"><div class=\"sk-label sk-toggleable\"><input class=\"sk-toggleable__control sk-hidden--visually\" id=\"sk-estimator-id-4\" type=\"checkbox\" ><label for=\"sk-estimator-id-4\" class=\"sk-toggleable__label sk-toggleable__label-arrow\">GridSearchCV</label><div class=\"sk-toggleable__content\"><pre>GridSearchCV(cv=5,\n",
              "             estimator=RandomForestClassifier(class_weight=&#x27;balanced_subsample&#x27;,\n",
              "                                              random_state=0),\n",
              "             param_grid={&#x27;max_depth&#x27;: (2, 3),\n",
              "                         &#x27;n_estimators&#x27;: (10, 30, 50, 100, 130, 160, 200)})</pre></div></div></div><div class=\"sk-parallel\"><div class=\"sk-parallel-item\"><div class=\"sk-item\"><div class=\"sk-label-container\"><div class=\"sk-label sk-toggleable\"><input class=\"sk-toggleable__control sk-hidden--visually\" id=\"sk-estimator-id-5\" type=\"checkbox\" ><label for=\"sk-estimator-id-5\" class=\"sk-toggleable__label sk-toggleable__label-arrow\">estimator: RandomForestClassifier</label><div class=\"sk-toggleable__content\"><pre>RandomForestClassifier(class_weight=&#x27;balanced_subsample&#x27;, random_state=0)</pre></div></div></div><div class=\"sk-serial\"><div class=\"sk-item\"><div class=\"sk-estimator sk-toggleable\"><input class=\"sk-toggleable__control sk-hidden--visually\" id=\"sk-estimator-id-6\" type=\"checkbox\" ><label for=\"sk-estimator-id-6\" class=\"sk-toggleable__label sk-toggleable__label-arrow\">RandomForestClassifier</label><div class=\"sk-toggleable__content\"><pre>RandomForestClassifier(class_weight=&#x27;balanced_subsample&#x27;, random_state=0)</pre></div></div></div></div></div></div></div></div></div></div>"
            ]
          },
          "metadata": {},
          "execution_count": 64
        }
      ],
      "source": [
        "from sklearn.ensemble import RandomForestClassifier\n",
        "from sklearn.model_selection import GridSearchCV\n",
        "\n",
        "#randomforestCAD = RandomForestClassifier(max_depth=3, random_state=0, class_weight='balanced_subsample')\n",
        "\n",
        "parameters = {'n_estimators': (10,30,50,100,130,160,200), 'max_depth': (2, 3)}\n",
        "randomforestCAD = GridSearchCV(RandomForestClassifier(random_state=0, class_weight='balanced_subsample'),\n",
        "                               parameters, cv=5)\n",
        "\n",
        "\n",
        "\n",
        "randomforestCAD.fit(x_train_org,y_train_org)\n",
        "#predlabel = randomforestCAD.predict(x_test_org)\n",
        "#confMat = metrics.confusion_matrix(y_test_org,predlabel)\n",
        "#print(confMat)\n"
      ]
    },
    {
      "cell_type": "code",
      "execution_count": 65,
      "metadata": {
        "colab": {
          "base_uri": "https://localhost:8080/"
        },
        "id": "A7wxzELydCZ3",
        "outputId": "126b7490-dc55-4609-df63-9ae1b79d9f84"
      },
      "outputs": [
        {
          "output_type": "stream",
          "name": "stdout",
          "text": [
            "{'mean_fit_time': array([0.05220814, 0.15446668, 0.24695148, 0.73069839, 0.68132243,\n",
            "       0.77916837, 1.14205489, 0.09145408, 0.25260282, 0.287602  ,\n",
            "       0.55741043, 0.71545048, 1.17927127, 1.10703812]), 'std_fit_time': array([0.00348983, 0.00959232, 0.00676161, 0.04743228, 0.10968164,\n",
            "       0.01713793, 0.22512366, 0.00248883, 0.01720394, 0.01708035,\n",
            "       0.01297322, 0.00563671, 0.24904334, 0.03553399]), 'mean_score_time': array([0.00261774, 0.00511575, 0.00787921, 0.02045698, 0.01735725,\n",
            "       0.02077441, 0.02897115, 0.00393271, 0.00675697, 0.00850568,\n",
            "       0.01434054, 0.02063742, 0.02838082, 0.02809944]), 'std_score_time': array([0.00012868, 0.00025205, 0.00081223, 0.002174  , 0.00059723,\n",
            "       0.00040653, 0.00441806, 0.00028482, 0.00074924, 0.00098622,\n",
            "       0.00030407, 0.00325995, 0.00512023, 0.00135751]), 'param_max_depth': masked_array(data=[2, 2, 2, 2, 2, 2, 2, 3, 3, 3, 3, 3, 3, 3],\n",
            "             mask=[False, False, False, False, False, False, False, False,\n",
            "                   False, False, False, False, False, False],\n",
            "       fill_value='?',\n",
            "            dtype=object), 'param_n_estimators': masked_array(data=[10, 30, 50, 100, 130, 160, 200, 10, 30, 50, 100, 130,\n",
            "                   160, 200],\n",
            "             mask=[False, False, False, False, False, False, False, False,\n",
            "                   False, False, False, False, False, False],\n",
            "       fill_value='?',\n",
            "            dtype=object), 'params': [{'max_depth': 2, 'n_estimators': 10}, {'max_depth': 2, 'n_estimators': 30}, {'max_depth': 2, 'n_estimators': 50}, {'max_depth': 2, 'n_estimators': 100}, {'max_depth': 2, 'n_estimators': 130}, {'max_depth': 2, 'n_estimators': 160}, {'max_depth': 2, 'n_estimators': 200}, {'max_depth': 3, 'n_estimators': 10}, {'max_depth': 3, 'n_estimators': 30}, {'max_depth': 3, 'n_estimators': 50}, {'max_depth': 3, 'n_estimators': 100}, {'max_depth': 3, 'n_estimators': 130}, {'max_depth': 3, 'n_estimators': 160}, {'max_depth': 3, 'n_estimators': 200}], 'split0_test_score': array([0.7440585 , 0.75137112, 0.74954296, 0.75411335, 0.74862888,\n",
            "       0.75502742, 0.75411335, 0.75411335, 0.75411335, 0.7559415 ,\n",
            "       0.75685558, 0.75411335, 0.7559415 , 0.75411335]), 'split1_test_score': array([0.78793419, 0.78427788, 0.78702011, 0.78884826, 0.78793419,\n",
            "       0.78884826, 0.7833638 , 0.79250457, 0.7797075 , 0.78427788,\n",
            "       0.78793419, 0.78427788, 0.78244973, 0.78244973]), 'split2_test_score': array([0.74771481, 0.7559415 , 0.74497258, 0.74588665, 0.74223035,\n",
            "       0.74131627, 0.74314442, 0.75502742, 0.75045704, 0.74862888,\n",
            "       0.75137112, 0.75045704, 0.74771481, 0.74771481]), 'split3_test_score': array([0.74862888, 0.73491773, 0.73674589, 0.74497258, 0.75319927,\n",
            "       0.74862888, 0.75045704, 0.74223035, 0.74954296, 0.73765996,\n",
            "       0.74497258, 0.74131627, 0.74131627, 0.74223035]), 'split4_test_score': array([0.7483989 , 0.74199451, 0.73559012, 0.7483989 , 0.74565416,\n",
            "       0.74473925, 0.74748399, 0.75754803, 0.77218664, 0.75663312,\n",
            "       0.75663312, 0.75937786, 0.75297347, 0.75388838]), 'mean_test_score': array([0.75534706, 0.75370055, 0.75077433, 0.75644395, 0.75552937,\n",
            "       0.75571202, 0.75571252, 0.76028474, 0.7612015 , 0.75662827,\n",
            "       0.75955332, 0.75790848, 0.75607915, 0.75607932]), 'std_test_score': array([0.0163769 , 0.01694253, 0.01884829, 0.01651207, 0.0165982 ,\n",
            "       0.01718307, 0.01428591, 0.01695461, 0.01236731, 0.0154192 ,\n",
            "       0.01483796, 0.01444114, 0.01409238, 0.01389836]), 'rank_test_score': array([12, 13, 14,  6, 11, 10,  9,  2,  1,  5,  3,  4,  8,  7],\n",
            "      dtype=int32)}\n",
            "RandomForestClassifier(class_weight='balanced_subsample', max_depth=3,\n",
            "                       n_estimators=30, random_state=0)\n"
          ]
        }
      ],
      "source": [
        "print(randomforestCAD.cv_results_)\n",
        "print(randomforestCAD.best_estimator_)"
      ]
    },
    {
      "cell_type": "code",
      "execution_count": 66,
      "metadata": {
        "colab": {
          "base_uri": "https://localhost:8080/"
        },
        "id": "SvXv3F2hdCZ3",
        "outputId": "50c36076-8a17-4e45-97f3-b0fcca536d15"
      },
      "outputs": [
        {
          "output_type": "stream",
          "name": "stderr",
          "text": [
            "/usr/local/lib/python3.10/dist-packages/sklearn/ensemble/_forest.py:424: FutureWarning: `max_features='auto'` has been deprecated in 1.1 and will be removed in 1.3. To keep the past behaviour, explicitly set `max_features='sqrt'` or remove this parameter as it is also the default value for RandomForestClassifiers and ExtraTreesClassifiers.\n",
            "  warn(\n"
          ]
        },
        {
          "output_type": "stream",
          "name": "stdout",
          "text": [
            "[[23638  7633]\n",
            " [   84   255]]\n"
          ]
        }
      ],
      "source": [
        "randomforestCADopt = RandomForestClassifier(bootstrap=True, class_weight='balanced_subsample',\n",
        "            criterion='gini', max_depth=2, max_features='auto',\n",
        "            max_leaf_nodes=None, min_impurity_decrease=0.0,\n",
        "            min_samples_leaf=1,\n",
        "            min_samples_split=2, min_weight_fraction_leaf=0.0,\n",
        "            n_estimators=50, n_jobs=None, oob_score=False, random_state=0,\n",
        "            verbose=0, warm_start=False)\n",
        "\n",
        "randomforestCADopt.fit(x_train_org,y_train_org)\n",
        "predlabel = randomforestCADopt.predict(x_test_org)\n",
        "confMat = metrics.confusion_matrix(y_test_org,predlabel)\n",
        "print(confMat)\n"
      ]
    },
    {
      "cell_type": "markdown",
      "metadata": {
        "id": "iVP-l_hKdCZ3"
      },
      "source": [
        "# The following section shows the result when 70% of data are used for training"
      ]
    },
    {
      "cell_type": "code",
      "execution_count": 69,
      "metadata": {
        "id": "GzD0pkTkdCZ3"
      },
      "outputs": [],
      "source": [
        "# With train-test split\n",
        "from sklearn.model_selection import train_test_split\n",
        "X_train, X_test, Y_train, Y_test = train_test_split(reduced_data, opLabel, test_size = 0.3, random_state = 24)"
      ]
    },
    {
      "cell_type": "code",
      "execution_count": 70,
      "metadata": {
        "id": "rGPdpth-dCZ3"
      },
      "outputs": [],
      "source": [
        "scaler = preprocessing.StandardScaler().fit(X_train)\n",
        "X_train = scaler.transform(X_train)\n",
        "X_test  = scaler.transform(X_test)\n",
        "X_train = X_train.reshape(X_train.shape[0],X_train.shape[1],1)\n",
        "X_test = X_test.reshape(X_test.shape[0],X_test.shape[1],1)"
      ]
    },
    {
      "cell_type": "code",
      "execution_count": 71,
      "metadata": {
        "id": "n3msNb8cdCZ3"
      },
      "outputs": [],
      "source": [
        "#%% one-hot-encoding\n",
        "Y_train = keras.utils.to_categorical(Y_train,2)\n",
        "Y_test  = keras.utils.to_categorical(Y_test,2)"
      ]
    },
    {
      "cell_type": "code",
      "execution_count": 72,
      "metadata": {
        "colab": {
          "base_uri": "https://localhost:8080/"
        },
        "id": "3fHRk7DIdCZ3",
        "outputId": "ba4d6b6a-0f25-40ef-a5cb-37222b459401"
      },
      "outputs": [
        {
          "output_type": "stream",
          "name": "stderr",
          "text": [
            "WARNING:absl:`lr` is deprecated in Keras optimizer, please use `learning_rate` or use the legacy optimizer, e.g.,tf.keras.optimizers.legacy.Adam.\n"
          ]
        },
        {
          "output_type": "stream",
          "name": "stdout",
          "text": [
            "Model: \"model_9\"\n",
            "_________________________________________________________________\n",
            " Layer (type)                Output Shape              Param #   \n",
            "=================================================================\n",
            " input_10 (InputLayer)       [(None, 45, 1)]           0         \n",
            "                                                                 \n",
            " reshape_17 (Reshape)        (None, 45)                0         \n",
            "                                                                 \n",
            " dense_25 (Dense)            (None, 512)               23552     \n",
            "                                                                 \n",
            " batch_normalization_29 (Bat  (None, 512)              2048      \n",
            " chNormalization)                                                \n",
            "                                                                 \n",
            " activation_38 (Activation)  (None, 512)               0         \n",
            "                                                                 \n",
            " dropout_14 (Dropout)        (None, 512)               0         \n",
            "                                                                 \n",
            " dense_26 (Dense)            (None, 128)               65664     \n",
            "                                                                 \n",
            " batch_normalization_30 (Bat  (None, 128)              512       \n",
            " chNormalization)                                                \n",
            "                                                                 \n",
            " activation_39 (Activation)  (None, 128)               0         \n",
            "                                                                 \n",
            " dropout_15 (Dropout)        (None, 128)               0         \n",
            "                                                                 \n",
            " dense_27 (Dense)            (None, 2)                 258       \n",
            "                                                                 \n",
            " activation_40 (Activation)  (None, 2)                 0         \n",
            "                                                                 \n",
            "=================================================================\n",
            "Total params: 92,034\n",
            "Trainable params: 90,754\n",
            "Non-trainable params: 1,280\n",
            "_________________________________________________________________\n"
          ]
        }
      ],
      "source": [
        "# MLP -2\n",
        "inputs = keras.layers.Input(shape=(x_train.shape[1],1))\n",
        "RS0    = keras.layers.Reshape((x_train.shape[1], ))(inputs)\n",
        "FC0    = keras.layers.Dense(512, bias_initializer=keras.initializers.VarianceScaling())(RS0)\n",
        "BN0    = keras.layers.BatchNormalization(axis=-1)(FC0)\n",
        "AC0    = keras.layers.Activation('relu')(BN0)\n",
        "DP0    = keras.layers.Dropout(0.2)(AC0)\n",
        "\n",
        "FC1    = keras.layers.Dense(128, bias_initializer=keras.initializers.VarianceScaling())(DP0)\n",
        "BN1    = keras.layers.BatchNormalization(axis=-1)(FC1)\n",
        "AC1    = keras.layers.Activation('relu')(BN1)\n",
        "DP1    = keras.layers.Dropout(0.2)(AC1)\n",
        "\n",
        "\n",
        "FC2 =   keras.layers.Dense(2, bias_initializer=keras.initializers.VarianceScaling())(DP1)\n",
        "outputs = keras.layers.Activation('softmax')(FC2)\n",
        "\n",
        "myMLP = keras.Model(inputs=inputs,outputs=outputs)\n",
        "myMLP.compile(optimizer=keras.optimizers.Adam(lr=0.01),\n",
        "                 loss='categorical_crossentropy',\n",
        "                 metrics=['accuracy'])\n",
        "myMLP.summary()\n"
      ]
    },
    {
      "cell_type": "code",
      "execution_count": 73,
      "metadata": {
        "colab": {
          "base_uri": "https://localhost:8080/"
        },
        "id": "usnxyDENdCZ3",
        "outputId": "b3a1e509-7b64-4826-c194-dcf5cdb638bb"
      },
      "outputs": [
        {
          "output_type": "execute_result",
          "data": {
            "text/plain": [
              "(25955,)"
            ]
          },
          "metadata": {},
          "execution_count": 73
        }
      ],
      "source": [
        "np.where(Y_train==0)[0].shape\n",
        "np.where(Y_train==1)[0].shape\n"
      ]
    },
    {
      "cell_type": "code",
      "execution_count": 74,
      "metadata": {
        "scrolled": true,
        "colab": {
          "base_uri": "https://localhost:8080/"
        },
        "id": "fJCMqq8IdCZ3",
        "outputId": "be65d5e1-8aa7-46fd-b870-c8aa196371bb"
      },
      "outputs": [
        {
          "output_type": "stream",
          "name": "stdout",
          "text": [
            "Epoch 1/10\n",
            "22/22 [==============================] - 2s 41ms/step - loss: 1.4615 - accuracy: 0.5605\n",
            "Epoch 2/10\n",
            "22/22 [==============================] - 1s 40ms/step - loss: 1.1673 - accuracy: 0.6967\n",
            "Epoch 3/10\n",
            "22/22 [==============================] - 1s 40ms/step - loss: 1.0692 - accuracy: 0.6955\n",
            "Epoch 4/10\n",
            "22/22 [==============================] - 1s 39ms/step - loss: 1.0283 - accuracy: 0.7211\n",
            "Epoch 5/10\n",
            "22/22 [==============================] - 1s 40ms/step - loss: 0.9904 - accuracy: 0.7212\n",
            "Epoch 6/10\n",
            "22/22 [==============================] - 1s 40ms/step - loss: 0.9763 - accuracy: 0.7192\n",
            "Epoch 7/10\n",
            "22/22 [==============================] - 1s 40ms/step - loss: 0.9271 - accuracy: 0.7414\n",
            "Epoch 8/10\n",
            "22/22 [==============================] - 1s 38ms/step - loss: 0.8892 - accuracy: 0.7435\n",
            "Epoch 9/10\n",
            "22/22 [==============================] - 1s 40ms/step - loss: 0.8677 - accuracy: 0.7360\n",
            "Epoch 10/10\n",
            "22/22 [==============================] - 1s 43ms/step - loss: 0.8600 - accuracy: 0.7546\n"
          ]
        },
        {
          "output_type": "execute_result",
          "data": {
            "text/plain": [
              "<keras.callbacks.History at 0x7a21183dc310>"
            ]
          },
          "metadata": {},
          "execution_count": 74
        }
      ],
      "source": [
        "class_weight = {0: 1, 1: 40}\n",
        "\n",
        "myMLP.fit(X_train,Y_train,epochs=10,batch_size=1200,verbose=1, class_weight=class_weight)"
      ]
    },
    {
      "cell_type": "code",
      "execution_count": 75,
      "metadata": {
        "colab": {
          "base_uri": "https://localhost:8080/"
        },
        "id": "xgYE_v5IdCZ3",
        "outputId": "00af2d2b-e580-4766-e23e-02ffa05b8647"
      },
      "outputs": [
        {
          "output_type": "stream",
          "name": "stdout",
          "text": [
            "348/348 [==============================] - 1s 2ms/step - loss: 0.4984 - accuracy: 0.7402\n",
            "0.7402013540267944\n"
          ]
        }
      ],
      "source": [
        "test_loss,test_acc = myMLP.evaluate(X_test,Y_test)\n",
        "print(test_acc)"
      ]
    },
    {
      "cell_type": "code",
      "execution_count": 76,
      "metadata": {
        "colab": {
          "base_uri": "https://localhost:8080/"
        },
        "id": "0Z_bBA4mdCZ3",
        "outputId": "41b24e01-ad78-45bc-b3b8-c807a357f742"
      },
      "outputs": [
        {
          "output_type": "stream",
          "name": "stdout",
          "text": [
            "348/348 [==============================] - 1s 2ms/step\n",
            "[[7839 2820]\n",
            " [  70  395]]\n"
          ]
        }
      ],
      "source": [
        "from sklearn import metrics\n",
        "predlabel = myMLP.predict(X_test)\n",
        "f = np.argmax(predlabel,axis=1)\n",
        "confMat = metrics.confusion_matrix(np.argmax(Y_test,axis=1),f)\n",
        "print(confMat)"
      ]
    },
    {
      "cell_type": "markdown",
      "metadata": {
        "id": "pghQvKb3dCZ3"
      },
      "source": [
        "## Logistic Regression"
      ]
    },
    {
      "cell_type": "code",
      "execution_count": 77,
      "metadata": {
        "id": "1Ck0AnBodCZ3"
      },
      "outputs": [],
      "source": [
        "from sklearn.linear_model import LogisticRegression\n",
        "clf = LogisticRegression(solver = 'lbfgs',max_iter=100000,\n",
        "                           class_weight= {0:1, 1:3.0}, verbose=1, random_state = 2)\n",
        "model = clf.fit(x_train_org,y_train_org)"
      ]
    },
    {
      "cell_type": "code",
      "execution_count": 78,
      "metadata": {
        "id": "vHCHKyjJdCZ3"
      },
      "outputs": [],
      "source": [
        "predlabel = model.predict(x_test_org)\n",
        "confMat = metrics.confusion_matrix(y_test_org,predlabel)"
      ]
    },
    {
      "cell_type": "code",
      "execution_count": 79,
      "metadata": {
        "colab": {
          "base_uri": "https://localhost:8080/"
        },
        "id": "tqq6MbsBdCZ3",
        "outputId": "3eb1d718-aae3-4994-f51f-c652ea95349e"
      },
      "outputs": [
        {
          "output_type": "stream",
          "name": "stdout",
          "text": [
            "[[24944  6327]\n",
            " [   77   262]]\n"
          ]
        }
      ],
      "source": [
        "print(confMat)"
      ]
    },
    {
      "cell_type": "code",
      "execution_count": null,
      "metadata": {
        "id": "9d62xuTSdCZ3"
      },
      "outputs": [],
      "source": []
    }
  ],
  "metadata": {
    "kernelspec": {
      "display_name": "Python 3",
      "language": "python",
      "name": "python3"
    },
    "language_info": {
      "codemirror_mode": {
        "name": "ipython",
        "version": 3
      },
      "file_extension": ".py",
      "mimetype": "text/x-python",
      "name": "python",
      "nbconvert_exporter": "python",
      "pygments_lexer": "ipython3",
      "version": "3.7.4"
    },
    "toc": {
      "base_numbering": 1,
      "nav_menu": {},
      "number_sections": true,
      "sideBar": true,
      "skip_h1_title": false,
      "title_cell": "Table of Contents",
      "title_sidebar": "Contents",
      "toc_cell": false,
      "toc_position": {},
      "toc_section_display": true,
      "toc_window_display": true
    },
    "colab": {
      "provenance": []
    }
  },
  "nbformat": 4,
  "nbformat_minor": 0
}